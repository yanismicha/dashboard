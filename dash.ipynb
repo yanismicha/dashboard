{
 "cells": [
  {
   "cell_type": "code",
   "execution_count": 6,
   "id": "e290d7f6-a0e1-4355-afb1-7ede5f63cc3b",
   "metadata": {},
   "outputs": [],
   "source": [
    "import dash \n",
    "from dash import Dash,dcc,html,callback,Input,Output\n",
    "import pandas as pd \n",
    "import plotly.express as px\n",
    "import plotly.graph_objects as go"
   ]
  },
  {
   "cell_type": "code",
   "execution_count": 24,
   "id": "1f7b5e6c-149d-4582-b1f8-a695d8849b7d",
   "metadata": {},
   "outputs": [],
   "source": [
    "data= pd.read_csv(\"accidents-velos_clean.csv\",low_memory=False)\n",
    "regions_name= pd.read_csv(\"departements-region.csv\")\n",
    "data= pd.merge(data, regions_name[['num_dep','region_name']], left_on='dep', right_on='num_dep',how='right')"
   ]
  },
  {
   "cell_type": "markdown",
   "id": "9fe111c9-499a-4b6d-a52f-622508c2ee7c",
   "metadata": {},
   "source": [
    "# contenu de l'appli\n",
    "ici on stocke tout les graphiques que l'on souhaite afficher dans notre appli"
   ]
  },
  {
   "cell_type": "markdown",
   "id": "4c2d6b56-5b97-4afd-886b-e98786ca6ed1",
   "metadata": {},
   "source": [
    "### 1)"
   ]
  },
  {
   "cell_type": "code",
   "execution_count": 35,
   "id": "a161c18f-cfc5-44bd-a7bd-b0695b98f5f8",
   "metadata": {},
   "outputs": [
    {
     "data": {
      "application/vnd.plotly.v1+json": {
       "config": {
        "plotlyServerURL": "https://plot.ly"
       },
       "data": [
        {
         "customdata": [
          [
           2005,
           6772
          ],
          [
           2006,
           7004
          ],
          [
           2007,
           6871
          ],
          [
           2008,
           6357
          ],
          [
           2009,
           6132
          ],
          [
           2010,
           5665
          ],
          [
           2011,
           5979
          ],
          [
           2012,
           5441
          ],
          [
           2013,
           5424
          ],
          [
           2014,
           5769
          ],
          [
           2015,
           5794
          ],
          [
           2016,
           5848
          ],
          [
           2017,
           6002
          ],
          [
           2018,
           3572
          ],
          [
           2019,
           3853
          ],
          [
           2020,
           3360
          ],
          [
           2021,
           3890
          ]
         ],
         "hovertemplate": "Année : %{customdata[0]}<br>Nombre d'accidents : %{customdata[1]}",
         "legendgroup": "",
         "line": {
          "color": "#636efa",
          "dash": "solid"
         },
         "marker": {
          "symbol": "circle"
         },
         "mode": "lines+markers",
         "name": "",
         "orientation": "v",
         "showlegend": false,
         "type": "scatter",
         "x": [
          2005,
          2006,
          2007,
          2008,
          2009,
          2010,
          2011,
          2012,
          2013,
          2014,
          2015,
          2016,
          2017,
          2018,
          2019,
          2020,
          2021
         ],
         "xaxis": "x",
         "y": [
          6772,
          7004,
          6871,
          6357,
          6132,
          5665,
          5979,
          5441,
          5424,
          5769,
          5794,
          5848,
          6002,
          3572,
          3853,
          3360,
          3890
         ],
         "yaxis": "y"
        }
       ],
       "layout": {
        "height": 500,
        "legend": {
         "tracegroupgap": 0
        },
        "margin": {
         "b": 0,
         "l": 0,
         "r": 0,
         "t": 30
        },
        "template": {
         "data": {
          "bar": [
           {
            "error_x": {
             "color": "#2a3f5f"
            },
            "error_y": {
             "color": "#2a3f5f"
            },
            "marker": {
             "line": {
              "color": "#E5ECF6",
              "width": 0.5
             },
             "pattern": {
              "fillmode": "overlay",
              "size": 10,
              "solidity": 0.2
             }
            },
            "type": "bar"
           }
          ],
          "barpolar": [
           {
            "marker": {
             "line": {
              "color": "#E5ECF6",
              "width": 0.5
             },
             "pattern": {
              "fillmode": "overlay",
              "size": 10,
              "solidity": 0.2
             }
            },
            "type": "barpolar"
           }
          ],
          "carpet": [
           {
            "aaxis": {
             "endlinecolor": "#2a3f5f",
             "gridcolor": "white",
             "linecolor": "white",
             "minorgridcolor": "white",
             "startlinecolor": "#2a3f5f"
            },
            "baxis": {
             "endlinecolor": "#2a3f5f",
             "gridcolor": "white",
             "linecolor": "white",
             "minorgridcolor": "white",
             "startlinecolor": "#2a3f5f"
            },
            "type": "carpet"
           }
          ],
          "choropleth": [
           {
            "colorbar": {
             "outlinewidth": 0,
             "ticks": ""
            },
            "type": "choropleth"
           }
          ],
          "contour": [
           {
            "colorbar": {
             "outlinewidth": 0,
             "ticks": ""
            },
            "colorscale": [
             [
              0,
              "#0d0887"
             ],
             [
              0.1111111111111111,
              "#46039f"
             ],
             [
              0.2222222222222222,
              "#7201a8"
             ],
             [
              0.3333333333333333,
              "#9c179e"
             ],
             [
              0.4444444444444444,
              "#bd3786"
             ],
             [
              0.5555555555555556,
              "#d8576b"
             ],
             [
              0.6666666666666666,
              "#ed7953"
             ],
             [
              0.7777777777777778,
              "#fb9f3a"
             ],
             [
              0.8888888888888888,
              "#fdca26"
             ],
             [
              1,
              "#f0f921"
             ]
            ],
            "type": "contour"
           }
          ],
          "contourcarpet": [
           {
            "colorbar": {
             "outlinewidth": 0,
             "ticks": ""
            },
            "type": "contourcarpet"
           }
          ],
          "heatmap": [
           {
            "colorbar": {
             "outlinewidth": 0,
             "ticks": ""
            },
            "colorscale": [
             [
              0,
              "#0d0887"
             ],
             [
              0.1111111111111111,
              "#46039f"
             ],
             [
              0.2222222222222222,
              "#7201a8"
             ],
             [
              0.3333333333333333,
              "#9c179e"
             ],
             [
              0.4444444444444444,
              "#bd3786"
             ],
             [
              0.5555555555555556,
              "#d8576b"
             ],
             [
              0.6666666666666666,
              "#ed7953"
             ],
             [
              0.7777777777777778,
              "#fb9f3a"
             ],
             [
              0.8888888888888888,
              "#fdca26"
             ],
             [
              1,
              "#f0f921"
             ]
            ],
            "type": "heatmap"
           }
          ],
          "heatmapgl": [
           {
            "colorbar": {
             "outlinewidth": 0,
             "ticks": ""
            },
            "colorscale": [
             [
              0,
              "#0d0887"
             ],
             [
              0.1111111111111111,
              "#46039f"
             ],
             [
              0.2222222222222222,
              "#7201a8"
             ],
             [
              0.3333333333333333,
              "#9c179e"
             ],
             [
              0.4444444444444444,
              "#bd3786"
             ],
             [
              0.5555555555555556,
              "#d8576b"
             ],
             [
              0.6666666666666666,
              "#ed7953"
             ],
             [
              0.7777777777777778,
              "#fb9f3a"
             ],
             [
              0.8888888888888888,
              "#fdca26"
             ],
             [
              1,
              "#f0f921"
             ]
            ],
            "type": "heatmapgl"
           }
          ],
          "histogram": [
           {
            "marker": {
             "pattern": {
              "fillmode": "overlay",
              "size": 10,
              "solidity": 0.2
             }
            },
            "type": "histogram"
           }
          ],
          "histogram2d": [
           {
            "colorbar": {
             "outlinewidth": 0,
             "ticks": ""
            },
            "colorscale": [
             [
              0,
              "#0d0887"
             ],
             [
              0.1111111111111111,
              "#46039f"
             ],
             [
              0.2222222222222222,
              "#7201a8"
             ],
             [
              0.3333333333333333,
              "#9c179e"
             ],
             [
              0.4444444444444444,
              "#bd3786"
             ],
             [
              0.5555555555555556,
              "#d8576b"
             ],
             [
              0.6666666666666666,
              "#ed7953"
             ],
             [
              0.7777777777777778,
              "#fb9f3a"
             ],
             [
              0.8888888888888888,
              "#fdca26"
             ],
             [
              1,
              "#f0f921"
             ]
            ],
            "type": "histogram2d"
           }
          ],
          "histogram2dcontour": [
           {
            "colorbar": {
             "outlinewidth": 0,
             "ticks": ""
            },
            "colorscale": [
             [
              0,
              "#0d0887"
             ],
             [
              0.1111111111111111,
              "#46039f"
             ],
             [
              0.2222222222222222,
              "#7201a8"
             ],
             [
              0.3333333333333333,
              "#9c179e"
             ],
             [
              0.4444444444444444,
              "#bd3786"
             ],
             [
              0.5555555555555556,
              "#d8576b"
             ],
             [
              0.6666666666666666,
              "#ed7953"
             ],
             [
              0.7777777777777778,
              "#fb9f3a"
             ],
             [
              0.8888888888888888,
              "#fdca26"
             ],
             [
              1,
              "#f0f921"
             ]
            ],
            "type": "histogram2dcontour"
           }
          ],
          "mesh3d": [
           {
            "colorbar": {
             "outlinewidth": 0,
             "ticks": ""
            },
            "type": "mesh3d"
           }
          ],
          "parcoords": [
           {
            "line": {
             "colorbar": {
              "outlinewidth": 0,
              "ticks": ""
             }
            },
            "type": "parcoords"
           }
          ],
          "pie": [
           {
            "automargin": true,
            "type": "pie"
           }
          ],
          "scatter": [
           {
            "fillpattern": {
             "fillmode": "overlay",
             "size": 10,
             "solidity": 0.2
            },
            "type": "scatter"
           }
          ],
          "scatter3d": [
           {
            "line": {
             "colorbar": {
              "outlinewidth": 0,
              "ticks": ""
             }
            },
            "marker": {
             "colorbar": {
              "outlinewidth": 0,
              "ticks": ""
             }
            },
            "type": "scatter3d"
           }
          ],
          "scattercarpet": [
           {
            "marker": {
             "colorbar": {
              "outlinewidth": 0,
              "ticks": ""
             }
            },
            "type": "scattercarpet"
           }
          ],
          "scattergeo": [
           {
            "marker": {
             "colorbar": {
              "outlinewidth": 0,
              "ticks": ""
             }
            },
            "type": "scattergeo"
           }
          ],
          "scattergl": [
           {
            "marker": {
             "colorbar": {
              "outlinewidth": 0,
              "ticks": ""
             }
            },
            "type": "scattergl"
           }
          ],
          "scattermapbox": [
           {
            "marker": {
             "colorbar": {
              "outlinewidth": 0,
              "ticks": ""
             }
            },
            "type": "scattermapbox"
           }
          ],
          "scatterpolar": [
           {
            "marker": {
             "colorbar": {
              "outlinewidth": 0,
              "ticks": ""
             }
            },
            "type": "scatterpolar"
           }
          ],
          "scatterpolargl": [
           {
            "marker": {
             "colorbar": {
              "outlinewidth": 0,
              "ticks": ""
             }
            },
            "type": "scatterpolargl"
           }
          ],
          "scatterternary": [
           {
            "marker": {
             "colorbar": {
              "outlinewidth": 0,
              "ticks": ""
             }
            },
            "type": "scatterternary"
           }
          ],
          "surface": [
           {
            "colorbar": {
             "outlinewidth": 0,
             "ticks": ""
            },
            "colorscale": [
             [
              0,
              "#0d0887"
             ],
             [
              0.1111111111111111,
              "#46039f"
             ],
             [
              0.2222222222222222,
              "#7201a8"
             ],
             [
              0.3333333333333333,
              "#9c179e"
             ],
             [
              0.4444444444444444,
              "#bd3786"
             ],
             [
              0.5555555555555556,
              "#d8576b"
             ],
             [
              0.6666666666666666,
              "#ed7953"
             ],
             [
              0.7777777777777778,
              "#fb9f3a"
             ],
             [
              0.8888888888888888,
              "#fdca26"
             ],
             [
              1,
              "#f0f921"
             ]
            ],
            "type": "surface"
           }
          ],
          "table": [
           {
            "cells": {
             "fill": {
              "color": "#EBF0F8"
             },
             "line": {
              "color": "white"
             }
            },
            "header": {
             "fill": {
              "color": "#C8D4E3"
             },
             "line": {
              "color": "white"
             }
            },
            "type": "table"
           }
          ]
         },
         "layout": {
          "annotationdefaults": {
           "arrowcolor": "#2a3f5f",
           "arrowhead": 0,
           "arrowwidth": 1
          },
          "autotypenumbers": "strict",
          "coloraxis": {
           "colorbar": {
            "outlinewidth": 0,
            "ticks": ""
           }
          },
          "colorscale": {
           "diverging": [
            [
             0,
             "#8e0152"
            ],
            [
             0.1,
             "#c51b7d"
            ],
            [
             0.2,
             "#de77ae"
            ],
            [
             0.3,
             "#f1b6da"
            ],
            [
             0.4,
             "#fde0ef"
            ],
            [
             0.5,
             "#f7f7f7"
            ],
            [
             0.6,
             "#e6f5d0"
            ],
            [
             0.7,
             "#b8e186"
            ],
            [
             0.8,
             "#7fbc41"
            ],
            [
             0.9,
             "#4d9221"
            ],
            [
             1,
             "#276419"
            ]
           ],
           "sequential": [
            [
             0,
             "#0d0887"
            ],
            [
             0.1111111111111111,
             "#46039f"
            ],
            [
             0.2222222222222222,
             "#7201a8"
            ],
            [
             0.3333333333333333,
             "#9c179e"
            ],
            [
             0.4444444444444444,
             "#bd3786"
            ],
            [
             0.5555555555555556,
             "#d8576b"
            ],
            [
             0.6666666666666666,
             "#ed7953"
            ],
            [
             0.7777777777777778,
             "#fb9f3a"
            ],
            [
             0.8888888888888888,
             "#fdca26"
            ],
            [
             1,
             "#f0f921"
            ]
           ],
           "sequentialminus": [
            [
             0,
             "#0d0887"
            ],
            [
             0.1111111111111111,
             "#46039f"
            ],
            [
             0.2222222222222222,
             "#7201a8"
            ],
            [
             0.3333333333333333,
             "#9c179e"
            ],
            [
             0.4444444444444444,
             "#bd3786"
            ],
            [
             0.5555555555555556,
             "#d8576b"
            ],
            [
             0.6666666666666666,
             "#ed7953"
            ],
            [
             0.7777777777777778,
             "#fb9f3a"
            ],
            [
             0.8888888888888888,
             "#fdca26"
            ],
            [
             1,
             "#f0f921"
            ]
           ]
          },
          "colorway": [
           "#636efa",
           "#EF553B",
           "#00cc96",
           "#ab63fa",
           "#FFA15A",
           "#19d3f3",
           "#FF6692",
           "#B6E880",
           "#FF97FF",
           "#FECB52"
          ],
          "font": {
           "color": "#2a3f5f"
          },
          "geo": {
           "bgcolor": "white",
           "lakecolor": "white",
           "landcolor": "#E5ECF6",
           "showlakes": true,
           "showland": true,
           "subunitcolor": "white"
          },
          "hoverlabel": {
           "align": "left"
          },
          "hovermode": "closest",
          "mapbox": {
           "style": "light"
          },
          "paper_bgcolor": "white",
          "plot_bgcolor": "#E5ECF6",
          "polar": {
           "angularaxis": {
            "gridcolor": "white",
            "linecolor": "white",
            "ticks": ""
           },
           "bgcolor": "#E5ECF6",
           "radialaxis": {
            "gridcolor": "white",
            "linecolor": "white",
            "ticks": ""
           }
          },
          "scene": {
           "xaxis": {
            "backgroundcolor": "#E5ECF6",
            "gridcolor": "white",
            "gridwidth": 2,
            "linecolor": "white",
            "showbackground": true,
            "ticks": "",
            "zerolinecolor": "white"
           },
           "yaxis": {
            "backgroundcolor": "#E5ECF6",
            "gridcolor": "white",
            "gridwidth": 2,
            "linecolor": "white",
            "showbackground": true,
            "ticks": "",
            "zerolinecolor": "white"
           },
           "zaxis": {
            "backgroundcolor": "#E5ECF6",
            "gridcolor": "white",
            "gridwidth": 2,
            "linecolor": "white",
            "showbackground": true,
            "ticks": "",
            "zerolinecolor": "white"
           }
          },
          "shapedefaults": {
           "line": {
            "color": "#2a3f5f"
           }
          },
          "ternary": {
           "aaxis": {
            "gridcolor": "white",
            "linecolor": "white",
            "ticks": ""
           },
           "baxis": {
            "gridcolor": "white",
            "linecolor": "white",
            "ticks": ""
           },
           "bgcolor": "#E5ECF6",
           "caxis": {
            "gridcolor": "white",
            "linecolor": "white",
            "ticks": ""
           }
          },
          "title": {
           "x": 0.05
          },
          "xaxis": {
           "automargin": true,
           "gridcolor": "white",
           "linecolor": "white",
           "ticks": "",
           "title": {
            "standoff": 15
           },
           "zerolinecolor": "white",
           "zerolinewidth": 2
          },
          "yaxis": {
           "automargin": true,
           "gridcolor": "white",
           "linecolor": "white",
           "ticks": "",
           "title": {
            "standoff": 15
           },
           "zerolinecolor": "white",
           "zerolinewidth": 2
          }
         }
        },
        "title": {
         "font": {
          "color": "black",
          "family": "Arial, sans-serif",
          "size": 20
         },
         "text": "<b>Évolution du nombre d'accidents de vélos par année sur le territoire français</b>",
         "x": 0.5,
         "xanchor": "center",
         "y": 0.98,
         "yanchor": "top"
        },
        "width": 800,
        "xaxis": {
         "anchor": "y",
         "autorange": true,
         "domain": [
          0,
          1
         ],
         "range": [
          2004.0104213864975,
          2021.9895786135025
         ],
         "title": {
          "text": "Année"
         },
         "type": "linear"
        },
        "yaxis": {
         "anchor": "x",
         "autorange": true,
         "domain": [
          0,
          1
         ],
         "range": [
          3117.546772068511,
          7246.453227931489
         ],
         "title": {
          "text": "Nombre d'accidents"
         },
         "type": "linear"
        }
       }
      },
      "image/png": "[encoded data removed]",
      "text/html": [
       "<div>                            <div id=\"505628b3-cfad-4ad5-94eb-d600038cffd7\" class=\"plotly-graph-div\" style=\"height:500px; width:800px;\"></div>            <script type=\"text/javascript\">                require([\"plotly\"], function(Plotly) {                    window.PLOTLYENV=window.PLOTLYENV || {};                                    if (document.getElementById(\"505628b3-cfad-4ad5-94eb-d600038cffd7\")) {                    Plotly.newPlot(                        \"505628b3-cfad-4ad5-94eb-d600038cffd7\",                        [{\"customdata\":[[2005,6772],[2006,7004],[2007,6871],[2008,6357],[2009,6132],[2010,5665],[2011,5979],[2012,5441],[2013,5424],[2014,5769],[2015,5794],[2016,5848],[2017,6002],[2018,3572],[2019,3853],[2020,3360],[2021,3890]],\"hovertemplate\":\"Ann\\u00e9e : %{customdata[0]}\\u003cbr\\u003eNombre d'accidents : %{customdata[1]}\",\"legendgroup\":\"\",\"line\":{\"color\":\"#636efa\",\"dash\":\"solid\"},\"marker\":{\"symbol\":\"circle\"},\"mode\":\"lines+markers\",\"name\":\"\",\"orientation\":\"v\",\"showlegend\":false,\"x\":[2005,2006,2007,2008,2009,2010,2011,2012,2013,2014,2015,2016,2017,2018,2019,2020,2021],\"xaxis\":\"x\",\"y\":[6772,7004,6871,6357,6132,5665,5979,5441,5424,5769,5794,5848,6002,3572,3853,3360,3890],\"yaxis\":\"y\",\"type\":\"scatter\"}],                        {\"template\":{\"data\":{\"histogram2dcontour\":[{\"type\":\"histogram2dcontour\",\"colorbar\":{\"outlinewidth\":0,\"ticks\":\"\"},\"colorscale\":[[0.0,\"#0d0887\"],[0.1111111111111111,\"#46039f\"],[0.2222222222222222,\"#7201a8\"],[0.3333333333333333,\"#9c179e\"],[0.4444444444444444,\"#bd3786\"],[0.5555555555555556,\"#d8576b\"],[0.6666666666666666,\"#ed7953\"],[0.7777777777777778,\"#fb9f3a\"],[0.8888888888888888,\"#fdca26\"],[1.0,\"#f0f921\"]]}],\"choropleth\":[{\"type\":\"choropleth\",\"colorbar\":{\"outlinewidth\":0,\"ticks\":\"\"}}],\"histogram2d\":[{\"type\":\"histogram2d\",\"colorbar\":{\"outlinewidth\":0,\"ticks\":\"\"},\"colorscale\":[[0.0,\"#0d0887\"],[0.1111111111111111,\"#46039f\"],[0.2222222222222222,\"#7201a8\"],[0.3333333333333333,\"#9c179e\"],[0.4444444444444444,\"#bd3786\"],[0.5555555555555556,\"#d8576b\"],[0.6666666666666666,\"#ed7953\"],[0.7777777777777778,\"#fb9f3a\"],[0.8888888888888888,\"#fdca26\"],[1.0,\"#f0f921\"]]}],\"heatmap\":[{\"type\":\"heatmap\",\"colorbar\":{\"outlinewidth\":0,\"ticks\":\"\"},\"colorscale\":[[0.0,\"#0d0887\"],[0.1111111111111111,\"#46039f\"],[0.2222222222222222,\"#7201a8\"],[0.3333333333333333,\"#9c179e\"],[0.4444444444444444,\"#bd3786\"],[0.5555555555555556,\"#d8576b\"],[0.6666666666666666,\"#ed7953\"],[0.7777777777777778,\"#fb9f3a\"],[0.8888888888888888,\"#fdca26\"],[1.0,\"#f0f921\"]]}],\"heatmapgl\":[{\"type\":\"heatmapgl\",\"colorbar\":{\"outlinewidth\":0,\"ticks\":\"\"},\"colorscale\":[[0.0,\"#0d0887\"],[0.1111111111111111,\"#46039f\"],[0.2222222222222222,\"#7201a8\"],[0.3333333333333333,\"#9c179e\"],[0.4444444444444444,\"#bd3786\"],[0.5555555555555556,\"#d8576b\"],[0.6666666666666666,\"#ed7953\"],[0.7777777777777778,\"#fb9f3a\"],[0.8888888888888888,\"#fdca26\"],[1.0,\"#f0f921\"]]}],\"contourcarpet\":[{\"type\":\"contourcarpet\",\"colorbar\":{\"outlinewidth\":0,\"ticks\":\"\"}}],\"contour\":[{\"type\":\"contour\",\"colorbar\":{\"outlinewidth\":0,\"ticks\":\"\"},\"colorscale\":[[0.0,\"#0d0887\"],[0.1111111111111111,\"#46039f\"],[0.2222222222222222,\"#7201a8\"],[0.3333333333333333,\"#9c179e\"],[0.4444444444444444,\"#bd3786\"],[0.5555555555555556,\"#d8576b\"],[0.6666666666666666,\"#ed7953\"],[0.7777777777777778,\"#fb9f3a\"],[0.8888888888888888,\"#fdca26\"],[1.0,\"#f0f921\"]]}],\"surface\":[{\"type\":\"surface\",\"colorbar\":{\"outlinewidth\":0,\"ticks\":\"\"},\"colorscale\":[[0.0,\"#0d0887\"],[0.1111111111111111,\"#46039f\"],[0.2222222222222222,\"#7201a8\"],[0.3333333333333333,\"#9c179e\"],[0.4444444444444444,\"#bd3786\"],[0.5555555555555556,\"#d8576b\"],[0.6666666666666666,\"#ed7953\"],[0.7777777777777778,\"#fb9f3a\"],[0.8888888888888888,\"#fdca26\"],[1.0,\"#f0f921\"]]}],\"mesh3d\":[{\"type\":\"mesh3d\",\"colorbar\":{\"outlinewidth\":0,\"ticks\":\"\"}}],\"scatter\":[{\"fillpattern\":{\"fillmode\":\"overlay\",\"size\":10,\"solidity\":0.2},\"type\":\"scatter\"}],\"parcoords\":[{\"type\":\"parcoords\",\"line\":{\"colorbar\":{\"outlinewidth\":0,\"ticks\":\"\"}}}],\"scatterpolargl\":[{\"type\":\"scatterpolargl\",\"marker\":{\"colorbar\":{\"outlinewidth\":0,\"ticks\":\"\"}}}],\"bar\":[{\"error_x\":{\"color\":\"#2a3f5f\"},\"error_y\":{\"color\":\"#2a3f5f\"},\"marker\":{\"line\":{\"color\":\"#E5ECF6\",\"width\":0.5},\"pattern\":{\"fillmode\":\"overlay\",\"size\":10,\"solidity\":0.2}},\"type\":\"bar\"}],\"scattergeo\":[{\"type\":\"scattergeo\",\"marker\":{\"colorbar\":{\"outlinewidth\":0,\"ticks\":\"\"}}}],\"scatterpolar\":[{\"type\":\"scatterpolar\",\"marker\":{\"colorbar\":{\"outlinewidth\":0,\"ticks\":\"\"}}}],\"histogram\":[{\"marker\":{\"pattern\":{\"fillmode\":\"overlay\",\"size\":10,\"solidity\":0.2}},\"type\":\"histogram\"}],\"scattergl\":[{\"type\":\"scattergl\",\"marker\":{\"colorbar\":{\"outlinewidth\":0,\"ticks\":\"\"}}}],\"scatter3d\":[{\"type\":\"scatter3d\",\"line\":{\"colorbar\":{\"outlinewidth\":0,\"ticks\":\"\"}},\"marker\":{\"colorbar\":{\"outlinewidth\":0,\"ticks\":\"\"}}}],\"scattermapbox\":[{\"type\":\"scattermapbox\",\"marker\":{\"colorbar\":{\"outlinewidth\":0,\"ticks\":\"\"}}}],\"scatterternary\":[{\"type\":\"scatterternary\",\"marker\":{\"colorbar\":{\"outlinewidth\":0,\"ticks\":\"\"}}}],\"scattercarpet\":[{\"type\":\"scattercarpet\",\"marker\":{\"colorbar\":{\"outlinewidth\":0,\"ticks\":\"\"}}}],\"carpet\":[{\"aaxis\":{\"endlinecolor\":\"#2a3f5f\",\"gridcolor\":\"white\",\"linecolor\":\"white\",\"minorgridcolor\":\"white\",\"startlinecolor\":\"#2a3f5f\"},\"baxis\":{\"endlinecolor\":\"#2a3f5f\",\"gridcolor\":\"white\",\"linecolor\":\"white\",\"minorgridcolor\":\"white\",\"startlinecolor\":\"#2a3f5f\"},\"type\":\"carpet\"}],\"table\":[{\"cells\":{\"fill\":{\"color\":\"#EBF0F8\"},\"line\":{\"color\":\"white\"}},\"header\":{\"fill\":{\"color\":\"#C8D4E3\"},\"line\":{\"color\":\"white\"}},\"type\":\"table\"}],\"barpolar\":[{\"marker\":{\"line\":{\"color\":\"#E5ECF6\",\"width\":0.5},\"pattern\":{\"fillmode\":\"overlay\",\"size\":10,\"solidity\":0.2}},\"type\":\"barpolar\"}],\"pie\":[{\"automargin\":true,\"type\":\"pie\"}]},\"layout\":{\"autotypenumbers\":\"strict\",\"colorway\":[\"#636efa\",\"#EF553B\",\"#00cc96\",\"#ab63fa\",\"#FFA15A\",\"#19d3f3\",\"#FF6692\",\"#B6E880\",\"#FF97FF\",\"#FECB52\"],\"font\":{\"color\":\"#2a3f5f\"},\"hovermode\":\"closest\",\"hoverlabel\":{\"align\":\"left\"},\"paper_bgcolor\":\"white\",\"plot_bgcolor\":\"#E5ECF6\",\"polar\":{\"bgcolor\":\"#E5ECF6\",\"angularaxis\":{\"gridcolor\":\"white\",\"linecolor\":\"white\",\"ticks\":\"\"},\"radialaxis\":{\"gridcolor\":\"white\",\"linecolor\":\"white\",\"ticks\":\"\"}},\"ternary\":{\"bgcolor\":\"#E5ECF6\",\"aaxis\":{\"gridcolor\":\"white\",\"linecolor\":\"white\",\"ticks\":\"\"},\"baxis\":{\"gridcolor\":\"white\",\"linecolor\":\"white\",\"ticks\":\"\"},\"caxis\":{\"gridcolor\":\"white\",\"linecolor\":\"white\",\"ticks\":\"\"}},\"coloraxis\":{\"colorbar\":{\"outlinewidth\":0,\"ticks\":\"\"}},\"colorscale\":{\"sequential\":[[0.0,\"#0d0887\"],[0.1111111111111111,\"#46039f\"],[0.2222222222222222,\"#7201a8\"],[0.3333333333333333,\"#9c179e\"],[0.4444444444444444,\"#bd3786\"],[0.5555555555555556,\"#d8576b\"],[0.6666666666666666,\"#ed7953\"],[0.7777777777777778,\"#fb9f3a\"],[0.8888888888888888,\"#fdca26\"],[1.0,\"#f0f921\"]],\"sequentialminus\":[[0.0,\"#0d0887\"],[0.1111111111111111,\"#46039f\"],[0.2222222222222222,\"#7201a8\"],[0.3333333333333333,\"#9c179e\"],[0.4444444444444444,\"#bd3786\"],[0.5555555555555556,\"#d8576b\"],[0.6666666666666666,\"#ed7953\"],[0.7777777777777778,\"#fb9f3a\"],[0.8888888888888888,\"#fdca26\"],[1.0,\"#f0f921\"]],\"diverging\":[[0,\"#8e0152\"],[0.1,\"#c51b7d\"],[0.2,\"#de77ae\"],[0.3,\"#f1b6da\"],[0.4,\"#fde0ef\"],[0.5,\"#f7f7f7\"],[0.6,\"#e6f5d0\"],[0.7,\"#b8e186\"],[0.8,\"#7fbc41\"],[0.9,\"#4d9221\"],[1,\"#276419\"]]},\"xaxis\":{\"gridcolor\":\"white\",\"linecolor\":\"white\",\"ticks\":\"\",\"title\":{\"standoff\":15},\"zerolinecolor\":\"white\",\"automargin\":true,\"zerolinewidth\":2},\"yaxis\":{\"gridcolor\":\"white\",\"linecolor\":\"white\",\"ticks\":\"\",\"title\":{\"standoff\":15},\"zerolinecolor\":\"white\",\"automargin\":true,\"zerolinewidth\":2},\"scene\":{\"xaxis\":{\"backgroundcolor\":\"#E5ECF6\",\"gridcolor\":\"white\",\"linecolor\":\"white\",\"showbackground\":true,\"ticks\":\"\",\"zerolinecolor\":\"white\",\"gridwidth\":2},\"yaxis\":{\"backgroundcolor\":\"#E5ECF6\",\"gridcolor\":\"white\",\"linecolor\":\"white\",\"showbackground\":true,\"ticks\":\"\",\"zerolinecolor\":\"white\",\"gridwidth\":2},\"zaxis\":{\"backgroundcolor\":\"#E5ECF6\",\"gridcolor\":\"white\",\"linecolor\":\"white\",\"showbackground\":true,\"ticks\":\"\",\"zerolinecolor\":\"white\",\"gridwidth\":2}},\"shapedefaults\":{\"line\":{\"color\":\"#2a3f5f\"}},\"annotationdefaults\":{\"arrowcolor\":\"#2a3f5f\",\"arrowhead\":0,\"arrowwidth\":1},\"geo\":{\"bgcolor\":\"white\",\"landcolor\":\"#E5ECF6\",\"subunitcolor\":\"white\",\"showland\":true,\"showlakes\":true,\"lakecolor\":\"white\"},\"title\":{\"x\":0.05},\"mapbox\":{\"style\":\"light\"}}},\"xaxis\":{\"anchor\":\"y\",\"domain\":[0.0,1.0],\"title\":{\"text\":\"Ann\\u00e9e\"}},\"yaxis\":{\"anchor\":\"x\",\"domain\":[0.0,1.0],\"title\":{\"text\":\"Nombre d'accidents\"}},\"legend\":{\"tracegroupgap\":0},\"margin\":{\"t\":30,\"r\":0,\"l\":0,\"b\":0},\"width\":800,\"height\":500,\"title\":{\"font\":{\"size\":20,\"family\":\"Arial, sans-serif\",\"color\":\"black\"},\"text\":\"\\u003cb\\u003e\\u00c9volution du nombre d'accidents de v\\u00e9los par ann\\u00e9e sur le territoire fran\\u00e7ais\\u003c\\u002fb\\u003e\",\"y\":0.98,\"x\":0.5,\"xanchor\":\"center\",\"yanchor\":\"top\"}},                        {\"responsive\": true}                    ).then(function(){\n",
       "                            \n",
       "var gd = document.getElementById('505628b3-cfad-4ad5-94eb-d600038cffd7');\n",
       "var x = new MutationObserver(function (mutations, observer) {{\n",
       "        var display = window.getComputedStyle(gd).display;\n",
       "        if (!display || display === 'none') {{\n",
       "            console.log([gd, 'removed!']);\n",
       "            Plotly.purge(gd);\n",
       "            observer.disconnect();\n",
       "        }}\n",
       "}});\n",
       "\n",
       "// Listen for the removal of the full notebook cells\n",
       "var notebookContainer = gd.closest('#notebook-container');\n",
       "if (notebookContainer) {{\n",
       "    x.observe(notebookContainer, {childList: true});\n",
       "}}\n",
       "\n",
       "// Listen for the clearing of the current output cell\n",
       "var outputEl = gd.closest('.output');\n",
       "if (outputEl) {{\n",
       "    x.observe(outputEl, {childList: true});\n",
       "}}\n",
       "\n",
       "                        })                };                });            </script>        </div>"
      ]
     },
     "metadata": {},
     "output_type": "display_data"
    }
   ],
   "source": [
    "# on calcul les occurences des accidents par année\n",
    "accidents_par_annee = data.groupby('an').size().reset_index(name='Nombre_d_accidents')\n",
    "# Créer le lineplot pour la courbe évolutive\n",
    "fig = px.line(accidents_par_annee, x=\"an\", y=\"Nombre_d_accidents\",\n",
    "              markers=True,\n",
    "             custom_data= ['an','Nombre_d_accidents'])\n",
    "# taille de la figure (largeur, hauteur)\n",
    "fig.update_layout(width=800, height=500)\n",
    "#  ajout titre et axes\n",
    "fig.update_layout(\n",
    "                  xaxis_title=\"Année\",\n",
    "                  yaxis_title=\"Nombre d'accidents\")\n",
    "fig.update_layout(margin = {\"r\":0,\"t\":30,\"l\":0,\"b\":0},\n",
    "                 title={\n",
    "        'text': \"<b>Évolution du nombre d\\'accidents de vélos par année sur le territoire français</b>\",\n",
    "        'y': 0.98,\n",
    "        'x': 0.5,\n",
    "        'xanchor': 'center',\n",
    "        'yanchor': 'top',\n",
    "        'font': {'size': 20,'family': 'Arial, sans-serif', 'color': 'black'} \n",
    "    })\n",
    "\n",
    "# Personnalisation du popup\n",
    "fig.update_traces(hovertemplate=\"<br>\".join([\"Année : %{customdata[0]}\",\n",
    "                                             \"Nombre d'accidents : %{customdata[1]}\"\n",
    "                                             ]),selector= 0)\n",
    "\n",
    "# Afficher le graphique interactif\n",
    "fig.show()"
   ]
  },
  {
   "cell_type": "markdown",
   "id": "f988a8b3-5fdd-4bd6-93c4-52287460ca95",
   "metadata": {},
   "source": [
    "## OU"
   ]
  },
  {
   "cell_type": "code",
   "execution_count": 32,
   "id": "a33ac7f4-bf26-4e15-8842-3bae014a7839",
   "metadata": {},
   "outputs": [
    {
     "data": {
      "application/vnd.plotly.v1+json": {
       "config": {
        "plotlyServerURL": "https://plot.ly"
       },
       "data": [
        {
         "customdata": [
          [
           2005,
           "Auvergne-Rhône-Alpes",
           768
          ],
          [
           2006,
           "Auvergne-Rhône-Alpes",
           762
          ],
          [
           2007,
           "Auvergne-Rhône-Alpes",
           610
          ],
          [
           2008,
           "Auvergne-Rhône-Alpes",
           594
          ],
          [
           2009,
           "Auvergne-Rhône-Alpes",
           542
          ],
          [
           2010,
           "Auvergne-Rhône-Alpes",
           521
          ],
          [
           2011,
           "Auvergne-Rhône-Alpes",
           559
          ],
          [
           2012,
           "Auvergne-Rhône-Alpes",
           568
          ],
          [
           2013,
           "Auvergne-Rhône-Alpes",
           551
          ],
          [
           2014,
           "Auvergne-Rhône-Alpes",
           583
          ],
          [
           2015,
           "Auvergne-Rhône-Alpes",
           593
          ],
          [
           2016,
           "Auvergne-Rhône-Alpes",
           568
          ],
          [
           2017,
           "Auvergne-Rhône-Alpes",
           735
          ],
          [
           2018,
           "Auvergne-Rhône-Alpes",
           538
          ],
          [
           2019,
           "Auvergne-Rhône-Alpes",
           339
          ],
          [
           2020,
           "Auvergne-Rhône-Alpes",
           332
          ],
          [
           2021,
           "Auvergne-Rhône-Alpes",
           504
          ]
         ],
         "hovertemplate": "Année : %{customdata[0]}<br>Région : %{customdata[1]}<br>Nombre d'accidents : %{customdata[2]}",
         "legendgroup": "Auvergne-Rhône-Alpes",
         "line": {
          "color": "#636efa",
          "dash": "solid"
         },
         "marker": {
          "symbol": "circle"
         },
         "mode": "lines+markers",
         "name": "Auvergne-Rhône-Alpes",
         "orientation": "v",
         "showlegend": true,
         "type": "scatter",
         "visible": true,
         "x": [
          2005,
          2006,
          2007,
          2008,
          2009,
          2010,
          2011,
          2012,
          2013,
          2014,
          2015,
          2016,
          2017,
          2018,
          2019,
          2020,
          2021
         ],
         "xaxis": "x",
         "y": [
          768,
          762,
          610,
          594,
          542,
          521,
          559,
          568,
          551,
          583,
          593,
          568,
          735,
          538,
          339,
          332,
          504
         ],
         "yaxis": "y"
        },
        {
         "customdata": [
          [
           2005,
           "Bourgogne-Franche-Comté",
           528
          ],
          [
           2006,
           "Bourgogne-Franche-Comté",
           339
          ],
          [
           2007,
           "Bourgogne-Franche-Comté",
           434
          ],
          [
           2008,
           "Bourgogne-Franche-Comté",
           284
          ],
          [
           2009,
           "Bourgogne-Franche-Comté",
           291
          ],
          [
           2010,
           "Bourgogne-Franche-Comté",
           217
          ],
          [
           2011,
           "Bourgogne-Franche-Comté",
           228
          ],
          [
           2012,
           "Bourgogne-Franche-Comté",
           158
          ],
          [
           2013,
           "Bourgogne-Franche-Comté",
           159
          ],
          [
           2014,
           "Bourgogne-Franche-Comté",
           208
          ],
          [
           2015,
           "Bourgogne-Franche-Comté",
           241
          ],
          [
           2016,
           "Bourgogne-Franche-Comté",
           176
          ],
          [
           2017,
           "Bourgogne-Franche-Comté",
           172
          ],
          [
           2018,
           "Bourgogne-Franche-Comté",
           156
          ],
          [
           2019,
           "Bourgogne-Franche-Comté",
           253
          ],
          [
           2020,
           "Bourgogne-Franche-Comté",
           170
          ],
          [
           2021,
           "Bourgogne-Franche-Comté",
           196
          ]
         ],
         "hovertemplate": "Année : %{customdata[0]}<br>Région : %{customdata[1]}<br>Nombre d'accidents : %{customdata[2]}",
         "legendgroup": "Bourgogne-Franche-Comté",
         "line": {
          "color": "#EF553B",
          "dash": "dot"
         },
         "marker": {
          "symbol": "circle"
         },
         "mode": "lines+markers",
         "name": "Bourgogne-Franche-Comté",
         "orientation": "v",
         "showlegend": true,
         "type": "scatter",
         "visible": true,
         "x": [
          2005,
          2006,
          2007,
          2008,
          2009,
          2010,
          2011,
          2012,
          2013,
          2014,
          2015,
          2016,
          2017,
          2018,
          2019,
          2020,
          2021
         ],
         "xaxis": "x",
         "y": [
          528,
          339,
          434,
          284,
          291,
          217,
          228,
          158,
          159,
          208,
          241,
          176,
          172,
          156,
          253,
          170,
          196
         ],
         "yaxis": "y"
        },
        {
         "customdata": [
          [
           2005,
           "Bretagne",
           231
          ],
          [
           2006,
           "Bretagne",
           272
          ],
          [
           2007,
           "Bretagne",
           247
          ],
          [
           2008,
           "Bretagne",
           326
          ],
          [
           2009,
           "Bretagne",
           189
          ],
          [
           2010,
           "Bretagne",
           270
          ],
          [
           2011,
           "Bretagne",
           316
          ],
          [
           2012,
           "Bretagne",
           305
          ],
          [
           2013,
           "Bretagne",
           227
          ],
          [
           2014,
           "Bretagne",
           241
          ],
          [
           2015,
           "Bretagne",
           298
          ],
          [
           2016,
           "Bretagne",
           324
          ],
          [
           2017,
           "Bretagne",
           366
          ],
          [
           2018,
           "Bretagne",
           202
          ],
          [
           2019,
           "Bretagne",
           256
          ],
          [
           2020,
           "Bretagne",
           239
          ],
          [
           2021,
           "Bretagne",
           248
          ]
         ],
         "hovertemplate": "Année : %{customdata[0]}<br>Région : %{customdata[1]}<br>Nombre d'accidents : %{customdata[2]}",
         "legendgroup": "Bretagne",
         "line": {
          "color": "#00cc96",
          "dash": "dash"
         },
         "marker": {
          "symbol": "circle"
         },
         "mode": "lines+markers",
         "name": "Bretagne",
         "orientation": "v",
         "showlegend": true,
         "type": "scatter",
         "visible": true,
         "x": [
          2005,
          2006,
          2007,
          2008,
          2009,
          2010,
          2011,
          2012,
          2013,
          2014,
          2015,
          2016,
          2017,
          2018,
          2019,
          2020,
          2021
         ],
         "xaxis": "x",
         "y": [
          231,
          272,
          247,
          326,
          189,
          270,
          316,
          305,
          227,
          241,
          298,
          324,
          366,
          202,
          256,
          239,
          248
         ],
         "yaxis": "y"
        },
        {
         "customdata": [
          [
           2005,
           "Centre-Val de Loire",
           171
          ],
          [
           2006,
           "Centre-Val de Loire",
           211
          ],
          [
           2007,
           "Centre-Val de Loire",
           196
          ],
          [
           2008,
           "Centre-Val de Loire",
           142
          ],
          [
           2009,
           "Centre-Val de Loire",
           290
          ],
          [
           2010,
           "Centre-Val de Loire",
           216
          ],
          [
           2011,
           "Centre-Val de Loire",
           230
          ],
          [
           2012,
           "Centre-Val de Loire",
           216
          ],
          [
           2013,
           "Centre-Val de Loire",
           267
          ],
          [
           2014,
           "Centre-Val de Loire",
           207
          ],
          [
           2015,
           "Centre-Val de Loire",
           223
          ],
          [
           2016,
           "Centre-Val de Loire",
           185
          ],
          [
           2017,
           "Centre-Val de Loire",
           238
          ],
          [
           2018,
           "Centre-Val de Loire",
           203
          ],
          [
           2019,
           "Centre-Val de Loire",
           143
          ],
          [
           2020,
           "Centre-Val de Loire",
           146
          ],
          [
           2021,
           "Centre-Val de Loire",
           97
          ]
         ],
         "hovertemplate": "Année : %{customdata[0]}<br>Région : %{customdata[1]}<br>Nombre d'accidents : %{customdata[2]}",
         "legendgroup": "Centre-Val de Loire",
         "line": {
          "color": "#ab63fa",
          "dash": "longdash"
         },
         "marker": {
          "symbol": "circle"
         },
         "mode": "lines+markers",
         "name": "Centre-Val de Loire",
         "orientation": "v",
         "showlegend": true,
         "type": "scatter",
         "visible": true,
         "x": [
          2005,
          2006,
          2007,
          2008,
          2009,
          2010,
          2011,
          2012,
          2013,
          2014,
          2015,
          2016,
          2017,
          2018,
          2019,
          2020,
          2021
         ],
         "xaxis": "x",
         "y": [
          171,
          211,
          196,
          142,
          290,
          216,
          230,
          216,
          267,
          207,
          223,
          185,
          238,
          203,
          143,
          146,
          97
         ],
         "yaxis": "y"
        },
        {
         "customdata": [
          [
           2005,
           "Corse",
           18
          ],
          [
           2006,
           "Corse",
           10
          ],
          [
           2007,
           "Corse",
           17
          ],
          [
           2008,
           "Corse",
           6
          ],
          [
           2009,
           "Corse",
           9
          ],
          [
           2010,
           "Corse",
           5
          ],
          [
           2011,
           "Corse",
           7
          ],
          [
           2012,
           "Corse",
           15
          ],
          [
           2013,
           "Corse",
           11
          ],
          [
           2014,
           "Corse",
           12
          ],
          [
           2015,
           "Corse",
           10
          ],
          [
           2016,
           "Corse",
           17
          ],
          [
           2017,
           "Corse",
           23
          ],
          [
           2018,
           "Corse",
           8
          ],
          [
           2019,
           "Corse",
           11
          ],
          [
           2020,
           "Corse",
           12
          ],
          [
           2021,
           "Corse",
           11
          ]
         ],
         "hovertemplate": "Année : %{customdata[0]}<br>Région : %{customdata[1]}<br>Nombre d'accidents : %{customdata[2]}",
         "legendgroup": "Corse",
         "line": {
          "color": "#FFA15A",
          "dash": "dashdot"
         },
         "marker": {
          "symbol": "circle"
         },
         "mode": "lines+markers",
         "name": "Corse",
         "orientation": "v",
         "showlegend": true,
         "type": "scatter",
         "visible": true,
         "x": [
          2005,
          2006,
          2007,
          2008,
          2009,
          2010,
          2011,
          2012,
          2013,
          2014,
          2015,
          2016,
          2017,
          2018,
          2019,
          2020,
          2021
         ],
         "xaxis": "x",
         "y": [
          18,
          10,
          17,
          6,
          9,
          5,
          7,
          15,
          11,
          12,
          10,
          17,
          23,
          8,
          11,
          12,
          11
         ],
         "yaxis": "y"
        },
        {
         "customdata": [
          [
           2005,
           "Grand Est",
           664
          ],
          [
           2006,
           "Grand Est",
           636
          ],
          [
           2007,
           "Grand Est",
           603
          ],
          [
           2008,
           "Grand Est",
           688
          ],
          [
           2009,
           "Grand Est",
           600
          ],
          [
           2010,
           "Grand Est",
           506
          ],
          [
           2011,
           "Grand Est",
           501
          ],
          [
           2012,
           "Grand Est",
           422
          ],
          [
           2013,
           "Grand Est",
           450
          ],
          [
           2014,
           "Grand Est",
           492
          ],
          [
           2015,
           "Grand Est",
           578
          ],
          [
           2016,
           "Grand Est",
           571
          ],
          [
           2017,
           "Grand Est",
           575
          ],
          [
           2018,
           "Grand Est",
           374
          ],
          [
           2019,
           "Grand Est",
           353
          ],
          [
           2020,
           "Grand Est",
           232
          ],
          [
           2021,
           "Grand Est",
           343
          ]
         ],
         "hovertemplate": "Année : %{customdata[0]}<br>Région : %{customdata[1]}<br>Nombre d'accidents : %{customdata[2]}",
         "legendgroup": "Grand Est",
         "line": {
          "color": "#19d3f3",
          "dash": "longdashdot"
         },
         "marker": {
          "symbol": "circle"
         },
         "mode": "lines+markers",
         "name": "Grand Est",
         "orientation": "v",
         "showlegend": true,
         "type": "scatter",
         "visible": true,
         "x": [
          2005,
          2006,
          2007,
          2008,
          2009,
          2010,
          2011,
          2012,
          2013,
          2014,
          2015,
          2016,
          2017,
          2018,
          2019,
          2020,
          2021
         ],
         "xaxis": "x",
         "y": [
          664,
          636,
          603,
          688,
          600,
          506,
          501,
          422,
          450,
          492,
          578,
          571,
          575,
          374,
          353,
          232,
          343
         ],
         "yaxis": "y"
        },
        {
         "customdata": [
          [
           2005,
           "Guadeloupe",
           35
          ],
          [
           2006,
           "Guadeloupe",
           29
          ],
          [
           2007,
           "Guadeloupe",
           32
          ],
          [
           2008,
           "Guadeloupe",
           37
          ],
          [
           2009,
           "Guadeloupe",
           42
          ],
          [
           2010,
           "Guadeloupe",
           37
          ],
          [
           2011,
           "Guadeloupe",
           30
          ],
          [
           2012,
           "Guadeloupe",
           32
          ],
          [
           2013,
           "Guadeloupe",
           24
          ],
          [
           2014,
           "Guadeloupe",
           19
          ],
          [
           2015,
           "Guadeloupe",
           33
          ],
          [
           2016,
           "Guadeloupe",
           20
          ],
          [
           2017,
           "Guadeloupe",
           18
          ],
          [
           2018,
           "Guadeloupe",
           23
          ],
          [
           2019,
           "Guadeloupe",
           19
          ],
          [
           2020,
           "Guadeloupe",
           19
          ],
          [
           2021,
           "Guadeloupe",
           12
          ]
         ],
         "hovertemplate": "Année : %{customdata[0]}<br>Région : %{customdata[1]}<br>Nombre d'accidents : %{customdata[2]}",
         "legendgroup": "Guadeloupe",
         "line": {
          "color": "#FF6692",
          "dash": "solid"
         },
         "marker": {
          "symbol": "circle"
         },
         "mode": "lines+markers",
         "name": "Guadeloupe",
         "orientation": "v",
         "showlegend": true,
         "type": "scatter",
         "visible": true,
         "x": [
          2005,
          2006,
          2007,
          2008,
          2009,
          2010,
          2011,
          2012,
          2013,
          2014,
          2015,
          2016,
          2017,
          2018,
          2019,
          2020,
          2021
         ],
         "xaxis": "x",
         "y": [
          35,
          29,
          32,
          37,
          42,
          37,
          30,
          32,
          24,
          19,
          33,
          20,
          18,
          23,
          19,
          19,
          12
         ],
         "yaxis": "y"
        },
        {
         "customdata": [
          [
           2005,
           "Guyane",
           65
          ],
          [
           2006,
           "Guyane",
           75
          ],
          [
           2007,
           "Guyane",
           84
          ],
          [
           2008,
           "Guyane",
           61
          ],
          [
           2009,
           "Guyane",
           65
          ],
          [
           2010,
           "Guyane",
           38
          ],
          [
           2011,
           "Guyane",
           34
          ],
          [
           2012,
           "Guyane",
           52
          ],
          [
           2013,
           "Guyane",
           31
          ],
          [
           2014,
           "Guyane",
           35
          ],
          [
           2015,
           "Guyane",
           52
          ],
          [
           2016,
           "Guyane",
           69
          ],
          [
           2017,
           "Guyane",
           54
          ],
          [
           2018,
           "Guyane",
           27
          ],
          [
           2019,
           "Guyane",
           32
          ],
          [
           2020,
           "Guyane",
           17
          ],
          [
           2021,
           "Guyane",
           14
          ]
         ],
         "hovertemplate": "Année : %{customdata[0]}<br>Région : %{customdata[1]}<br>Nombre d'accidents : %{customdata[2]}",
         "legendgroup": "Guyane",
         "line": {
          "color": "#B6E880",
          "dash": "dot"
         },
         "marker": {
          "symbol": "circle"
         },
         "mode": "lines+markers",
         "name": "Guyane",
         "orientation": "v",
         "showlegend": true,
         "type": "scatter",
         "visible": true,
         "x": [
          2005,
          2006,
          2007,
          2008,
          2009,
          2010,
          2011,
          2012,
          2013,
          2014,
          2015,
          2016,
          2017,
          2018,
          2019,
          2020,
          2021
         ],
         "xaxis": "x",
         "y": [
          65,
          75,
          84,
          61,
          65,
          38,
          34,
          52,
          31,
          35,
          52,
          69,
          54,
          27,
          32,
          17,
          14
         ],
         "yaxis": "y"
        },
        {
         "customdata": [
          [
           2005,
           "Hauts-de-France",
           605
          ],
          [
           2006,
           "Hauts-de-France",
           577
          ],
          [
           2007,
           "Hauts-de-France",
           556
          ],
          [
           2008,
           "Hauts-de-France",
           462
          ],
          [
           2009,
           "Hauts-de-France",
           445
          ],
          [
           2010,
           "Hauts-de-France",
           413
          ],
          [
           2011,
           "Hauts-de-France",
           502
          ],
          [
           2012,
           "Hauts-de-France",
           449
          ],
          [
           2013,
           "Hauts-de-France",
           418
          ],
          [
           2014,
           "Hauts-de-France",
           316
          ],
          [
           2015,
           "Hauts-de-France",
           370
          ],
          [
           2016,
           "Hauts-de-France",
           306
          ],
          [
           2017,
           "Hauts-de-France",
           245
          ],
          [
           2018,
           "Hauts-de-France",
           135
          ],
          [
           2019,
           "Hauts-de-France",
           232
          ],
          [
           2020,
           "Hauts-de-France",
           221
          ],
          [
           2021,
           "Hauts-de-France",
           145
          ]
         ],
         "hovertemplate": "Année : %{customdata[0]}<br>Région : %{customdata[1]}<br>Nombre d'accidents : %{customdata[2]}",
         "legendgroup": "Hauts-de-France",
         "line": {
          "color": "#FF97FF",
          "dash": "dash"
         },
         "marker": {
          "symbol": "circle"
         },
         "mode": "lines+markers",
         "name": "Hauts-de-France",
         "orientation": "v",
         "showlegend": true,
         "type": "scatter",
         "visible": true,
         "x": [
          2005,
          2006,
          2007,
          2008,
          2009,
          2010,
          2011,
          2012,
          2013,
          2014,
          2015,
          2016,
          2017,
          2018,
          2019,
          2020,
          2021
         ],
         "xaxis": "x",
         "y": [
          605,
          577,
          556,
          462,
          445,
          413,
          502,
          449,
          418,
          316,
          370,
          306,
          245,
          135,
          232,
          221,
          145
         ],
         "yaxis": "y"
        },
        {
         "customdata": [
          [
           2005,
           "La Réunion",
           82
          ],
          [
           2006,
           "La Réunion",
           90
          ],
          [
           2007,
           "La Réunion",
           94
          ],
          [
           2008,
           "La Réunion",
           83
          ],
          [
           2009,
           "La Réunion",
           87
          ],
          [
           2010,
           "La Réunion",
           77
          ],
          [
           2011,
           "La Réunion",
           107
          ],
          [
           2012,
           "La Réunion",
           105
          ],
          [
           2013,
           "La Réunion",
           77
          ],
          [
           2014,
           "La Réunion",
           79
          ],
          [
           2015,
           "La Réunion",
           69
          ],
          [
           2016,
           "La Réunion",
           47
          ],
          [
           2017,
           "La Réunion",
           49
          ],
          [
           2018,
           "La Réunion",
           52
          ],
          [
           2019,
           "La Réunion",
           45
          ],
          [
           2020,
           "La Réunion",
           31
          ],
          [
           2021,
           "La Réunion",
           34
          ]
         ],
         "hovertemplate": "Année : %{customdata[0]}<br>Région : %{customdata[1]}<br>Nombre d'accidents : %{customdata[2]}",
         "legendgroup": "La Réunion",
         "line": {
          "color": "#FECB52",
          "dash": "longdash"
         },
         "marker": {
          "symbol": "circle"
         },
         "mode": "lines+markers",
         "name": "La Réunion",
         "orientation": "v",
         "showlegend": true,
         "type": "scatter",
         "visible": true,
         "x": [
          2005,
          2006,
          2007,
          2008,
          2009,
          2010,
          2011,
          2012,
          2013,
          2014,
          2015,
          2016,
          2017,
          2018,
          2019,
          2020,
          2021
         ],
         "xaxis": "x",
         "y": [
          82,
          90,
          94,
          83,
          87,
          77,
          107,
          105,
          77,
          79,
          69,
          47,
          49,
          52,
          45,
          31,
          34
         ],
         "yaxis": "y"
        },
        {
         "customdata": [
          [
           2005,
           "Martinique",
           30
          ],
          [
           2006,
           "Martinique",
           27
          ],
          [
           2007,
           "Martinique",
           39
          ],
          [
           2008,
           "Martinique",
           25
          ],
          [
           2009,
           "Martinique",
           29
          ],
          [
           2010,
           "Martinique",
           7
          ],
          [
           2011,
           "Martinique",
           18
          ],
          [
           2012,
           "Martinique",
           15
          ],
          [
           2013,
           "Martinique",
           6
          ],
          [
           2014,
           "Martinique",
           11
          ],
          [
           2015,
           "Martinique",
           23
          ],
          [
           2016,
           "Martinique",
           25
          ],
          [
           2017,
           "Martinique",
           17
          ],
          [
           2018,
           "Martinique",
           10
          ],
          [
           2019,
           "Martinique",
           5
          ],
          [
           2020,
           "Martinique",
           8
          ],
          [
           2021,
           "Martinique",
           6
          ]
         ],
         "hovertemplate": "Année : %{customdata[0]}<br>Région : %{customdata[1]}<br>Nombre d'accidents : %{customdata[2]}",
         "legendgroup": "Martinique",
         "line": {
          "color": "#636efa",
          "dash": "dashdot"
         },
         "marker": {
          "symbol": "circle"
         },
         "mode": "lines+markers",
         "name": "Martinique",
         "orientation": "v",
         "showlegend": true,
         "type": "scatter",
         "visible": true,
         "x": [
          2005,
          2006,
          2007,
          2008,
          2009,
          2010,
          2011,
          2012,
          2013,
          2014,
          2015,
          2016,
          2017,
          2018,
          2019,
          2020,
          2021
         ],
         "xaxis": "x",
         "y": [
          30,
          27,
          39,
          25,
          29,
          7,
          18,
          15,
          6,
          11,
          23,
          25,
          17,
          10,
          5,
          8,
          6
         ],
         "yaxis": "y"
        },
        {
         "customdata": [
          [
           2005,
           "Normandie",
           452
          ],
          [
           2006,
           "Normandie",
           475
          ],
          [
           2007,
           "Normandie",
           310
          ],
          [
           2008,
           "Normandie",
           330
          ],
          [
           2009,
           "Normandie",
           408
          ],
          [
           2010,
           "Normandie",
           376
          ],
          [
           2011,
           "Normandie",
           233
          ],
          [
           2012,
           "Normandie",
           262
          ],
          [
           2013,
           "Normandie",
           322
          ],
          [
           2014,
           "Normandie",
           441
          ],
          [
           2015,
           "Normandie",
           316
          ],
          [
           2016,
           "Normandie",
           456
          ],
          [
           2017,
           "Normandie",
           403
          ],
          [
           2018,
           "Normandie",
           108
          ],
          [
           2019,
           "Normandie",
           255
          ],
          [
           2020,
           "Normandie",
           152
          ],
          [
           2021,
           "Normandie",
           234
          ]
         ],
         "hovertemplate": "Année : %{customdata[0]}<br>Région : %{customdata[1]}<br>Nombre d'accidents : %{customdata[2]}",
         "legendgroup": "Normandie",
         "line": {
          "color": "#EF553B",
          "dash": "longdashdot"
         },
         "marker": {
          "symbol": "circle"
         },
         "mode": "lines+markers",
         "name": "Normandie",
         "orientation": "v",
         "showlegend": true,
         "type": "scatter",
         "visible": true,
         "x": [
          2005,
          2006,
          2007,
          2008,
          2009,
          2010,
          2011,
          2012,
          2013,
          2014,
          2015,
          2016,
          2017,
          2018,
          2019,
          2020,
          2021
         ],
         "xaxis": "x",
         "y": [
          452,
          475,
          310,
          330,
          408,
          376,
          233,
          262,
          322,
          441,
          316,
          456,
          403,
          108,
          255,
          152,
          234
         ],
         "yaxis": "y"
        },
        {
         "customdata": [
          [
           2005,
           "Nouvelle-Aquitaine",
           718
          ],
          [
           2006,
           "Nouvelle-Aquitaine",
           674
          ],
          [
           2007,
           "Nouvelle-Aquitaine",
           755
          ],
          [
           2008,
           "Nouvelle-Aquitaine",
           765
          ],
          [
           2009,
           "Nouvelle-Aquitaine",
           641
          ],
          [
           2010,
           "Nouvelle-Aquitaine",
           655
          ],
          [
           2011,
           "Nouvelle-Aquitaine",
           657
          ],
          [
           2012,
           "Nouvelle-Aquitaine",
           633
          ],
          [
           2013,
           "Nouvelle-Aquitaine",
           581
          ],
          [
           2014,
           "Nouvelle-Aquitaine",
           572
          ],
          [
           2015,
           "Nouvelle-Aquitaine",
           679
          ],
          [
           2016,
           "Nouvelle-Aquitaine",
           657
          ],
          [
           2017,
           "Nouvelle-Aquitaine",
           734
          ],
          [
           2018,
           "Nouvelle-Aquitaine",
           407
          ],
          [
           2019,
           "Nouvelle-Aquitaine",
           383
          ],
          [
           2020,
           "Nouvelle-Aquitaine",
           141
          ],
          [
           2021,
           "Nouvelle-Aquitaine",
           280
          ]
         ],
         "hovertemplate": "Année : %{customdata[0]}<br>Région : %{customdata[1]}<br>Nombre d'accidents : %{customdata[2]}",
         "legendgroup": "Nouvelle-Aquitaine",
         "line": {
          "color": "#00cc96",
          "dash": "solid"
         },
         "marker": {
          "symbol": "circle"
         },
         "mode": "lines+markers",
         "name": "Nouvelle-Aquitaine",
         "orientation": "v",
         "showlegend": true,
         "type": "scatter",
         "visible": true,
         "x": [
          2005,
          2006,
          2007,
          2008,
          2009,
          2010,
          2011,
          2012,
          2013,
          2014,
          2015,
          2016,
          2017,
          2018,
          2019,
          2020,
          2021
         ],
         "xaxis": "x",
         "y": [
          718,
          674,
          755,
          765,
          641,
          655,
          657,
          633,
          581,
          572,
          679,
          657,
          734,
          407,
          383,
          141,
          280
         ],
         "yaxis": "y"
        },
        {
         "customdata": [
          [
           2005,
           "Occitanie",
           426
          ],
          [
           2006,
           "Occitanie",
           712
          ],
          [
           2007,
           "Occitanie",
           483
          ],
          [
           2008,
           "Occitanie",
           433
          ],
          [
           2009,
           "Occitanie",
           434
          ],
          [
           2010,
           "Occitanie",
           400
          ],
          [
           2011,
           "Occitanie",
           443
          ],
          [
           2012,
           "Occitanie",
           389
          ],
          [
           2013,
           "Occitanie",
           358
          ],
          [
           2014,
           "Occitanie",
           451
          ],
          [
           2015,
           "Occitanie",
           311
          ],
          [
           2016,
           "Occitanie",
           358
          ],
          [
           2017,
           "Occitanie",
           347
          ],
          [
           2018,
           "Occitanie",
           291
          ],
          [
           2019,
           "Occitanie",
           278
          ],
          [
           2020,
           "Occitanie",
           216
          ],
          [
           2021,
           "Occitanie",
           299
          ]
         ],
         "hovertemplate": "Année : %{customdata[0]}<br>Région : %{customdata[1]}<br>Nombre d'accidents : %{customdata[2]}",
         "legendgroup": "Occitanie",
         "line": {
          "color": "#ab63fa",
          "dash": "dot"
         },
         "marker": {
          "symbol": "circle"
         },
         "mode": "lines+markers",
         "name": "Occitanie",
         "orientation": "v",
         "showlegend": true,
         "type": "scatter",
         "visible": true,
         "x": [
          2005,
          2006,
          2007,
          2008,
          2009,
          2010,
          2011,
          2012,
          2013,
          2014,
          2015,
          2016,
          2017,
          2018,
          2019,
          2020,
          2021
         ],
         "xaxis": "x",
         "y": [
          426,
          712,
          483,
          433,
          434,
          400,
          443,
          389,
          358,
          451,
          311,
          358,
          347,
          291,
          278,
          216,
          299
         ],
         "yaxis": "y"
        },
        {
         "customdata": [
          [
           2005,
           "Pays de la Loire",
           352
          ],
          [
           2006,
           "Pays de la Loire",
           356
          ],
          [
           2007,
           "Pays de la Loire",
           381
          ],
          [
           2008,
           "Pays de la Loire",
           330
          ],
          [
           2009,
           "Pays de la Loire",
           298
          ],
          [
           2010,
           "Pays de la Loire",
           323
          ],
          [
           2011,
           "Pays de la Loire",
           406
          ],
          [
           2012,
           "Pays de la Loire",
           243
          ],
          [
           2013,
           "Pays de la Loire",
           266
          ],
          [
           2014,
           "Pays de la Loire",
           284
          ],
          [
           2015,
           "Pays de la Loire",
           277
          ],
          [
           2016,
           "Pays de la Loire",
           322
          ],
          [
           2017,
           "Pays de la Loire",
           345
          ],
          [
           2018,
           "Pays de la Loire",
           186
          ],
          [
           2019,
           "Pays de la Loire",
           181
          ],
          [
           2020,
           "Pays de la Loire",
           105
          ],
          [
           2021,
           "Pays de la Loire",
           125
          ]
         ],
         "hovertemplate": "Année : %{customdata[0]}<br>Région : %{customdata[1]}<br>Nombre d'accidents : %{customdata[2]}",
         "legendgroup": "Pays de la Loire",
         "line": {
          "color": "#FFA15A",
          "dash": "dash"
         },
         "marker": {
          "symbol": "circle"
         },
         "mode": "lines+markers",
         "name": "Pays de la Loire",
         "orientation": "v",
         "showlegend": true,
         "type": "scatter",
         "visible": true,
         "x": [
          2005,
          2006,
          2007,
          2008,
          2009,
          2010,
          2011,
          2012,
          2013,
          2014,
          2015,
          2016,
          2017,
          2018,
          2019,
          2020,
          2021
         ],
         "xaxis": "x",
         "y": [
          352,
          356,
          381,
          330,
          298,
          323,
          406,
          243,
          266,
          284,
          277,
          322,
          345,
          186,
          181,
          105,
          125
         ],
         "yaxis": "y"
        },
        {
         "customdata": [
          [
           2005,
           "Provence-Alpes-Côte d'Azur",
           439
          ],
          [
           2006,
           "Provence-Alpes-Côte d'Azur",
           392
          ],
          [
           2007,
           "Provence-Alpes-Côte d'Azur",
           376
          ],
          [
           2008,
           "Provence-Alpes-Côte d'Azur",
           329
          ],
          [
           2009,
           "Provence-Alpes-Côte d'Azur",
           297
          ],
          [
           2010,
           "Provence-Alpes-Côte d'Azur",
           308
          ],
          [
           2011,
           "Provence-Alpes-Côte d'Azur",
           285
          ],
          [
           2012,
           "Provence-Alpes-Côte d'Azur",
           246
          ],
          [
           2013,
           "Provence-Alpes-Côte d'Azur",
           296
          ],
          [
           2014,
           "Provence-Alpes-Côte d'Azur",
           287
          ],
          [
           2015,
           "Provence-Alpes-Côte d'Azur",
           293
          ],
          [
           2016,
           "Provence-Alpes-Côte d'Azur",
           286
          ],
          [
           2017,
           "Provence-Alpes-Côte d'Azur",
           288
          ],
          [
           2018,
           "Provence-Alpes-Côte d'Azur",
           148
          ],
          [
           2019,
           "Provence-Alpes-Côte d'Azur",
           87
          ],
          [
           2020,
           "Provence-Alpes-Côte d'Azur",
           128
          ],
          [
           2021,
           "Provence-Alpes-Côte d'Azur",
           182
          ]
         ],
         "hovertemplate": "Année : %{customdata[0]}<br>Région : %{customdata[1]}<br>Nombre d'accidents : %{customdata[2]}",
         "legendgroup": "Provence-Alpes-Côte d'Azur",
         "line": {
          "color": "#19d3f3",
          "dash": "longdash"
         },
         "marker": {
          "symbol": "circle"
         },
         "mode": "lines+markers",
         "name": "Provence-Alpes-Côte d'Azur",
         "orientation": "v",
         "showlegend": true,
         "type": "scatter",
         "visible": true,
         "x": [
          2005,
          2006,
          2007,
          2008,
          2009,
          2010,
          2011,
          2012,
          2013,
          2014,
          2015,
          2016,
          2017,
          2018,
          2019,
          2020,
          2021
         ],
         "xaxis": "x",
         "y": [
          439,
          392,
          376,
          329,
          297,
          308,
          285,
          246,
          296,
          287,
          293,
          286,
          288,
          148,
          87,
          128,
          182
         ],
         "yaxis": "y"
        },
        {
         "customdata": [
          [
           2005,
           "Île-de-France",
           1188
          ],
          [
           2006,
           "Île-de-France",
           1367
          ],
          [
           2007,
           "Île-de-France",
           1654
          ],
          [
           2008,
           "Île-de-France",
           1462
          ],
          [
           2009,
           "Île-de-France",
           1465
          ],
          [
           2010,
           "Île-de-France",
           1296
          ],
          [
           2011,
           "Île-de-France",
           1423
          ],
          [
           2012,
           "Île-de-France",
           1328
          ],
          [
           2013,
           "Île-de-France",
           1380
          ],
          [
           2014,
           "Île-de-France",
           1529
          ],
          [
           2015,
           "Île-de-France",
           1418
          ],
          [
           2016,
           "Île-de-France",
           1445
          ],
          [
           2017,
           "Île-de-France",
           1386
          ],
          [
           2018,
           "Île-de-France",
           697
          ],
          [
           2019,
           "Île-de-France",
           980
          ],
          [
           2020,
           "Île-de-France",
           1186
          ],
          [
           2021,
           "Île-de-France",
           1159
          ]
         ],
         "hovertemplate": "Année : %{customdata[0]}<br>Région : %{customdata[1]}<br>Nombre d'accidents : %{customdata[2]}",
         "legendgroup": "Île-de-France",
         "line": {
          "color": "#FF6692",
          "dash": "dashdot"
         },
         "marker": {
          "symbol": "circle"
         },
         "mode": "lines+markers",
         "name": "Île-de-France",
         "orientation": "v",
         "showlegend": true,
         "type": "scatter",
         "visible": true,
         "x": [
          2005,
          2006,
          2007,
          2008,
          2009,
          2010,
          2011,
          2012,
          2013,
          2014,
          2015,
          2016,
          2017,
          2018,
          2019,
          2020,
          2021
         ],
         "xaxis": "x",
         "y": [
          1188,
          1367,
          1654,
          1462,
          1465,
          1296,
          1423,
          1328,
          1380,
          1529,
          1418,
          1445,
          1386,
          697,
          980,
          1186,
          1159
         ],
         "yaxis": "y"
        },
        {
         "customdata": [
          [
           2012,
           "Mayotte",
           3
          ],
          [
           2014,
           "Mayotte",
           2
          ],
          [
           2015,
           "Mayotte",
           10
          ],
          [
           2016,
           "Mayotte",
           16
          ],
          [
           2017,
           "Mayotte",
           7
          ],
          [
           2018,
           "Mayotte",
           7
          ],
          [
           2019,
           "Mayotte",
           1
          ],
          [
           2020,
           "Mayotte",
           5
          ],
          [
           2021,
           "Mayotte",
           1
          ]
         ],
         "hovertemplate": "Année : %{customdata[0]}<br>Région : %{customdata[1]}<br>Nombre d'accidents : %{customdata[2]}",
         "legendgroup": "Mayotte",
         "line": {
          "color": "#B6E880",
          "dash": "longdashdot"
         },
         "marker": {
          "symbol": "circle"
         },
         "mode": "lines+markers",
         "name": "Mayotte",
         "orientation": "v",
         "showlegend": true,
         "type": "scatter",
         "visible": true,
         "x": [
          2012,
          2014,
          2015,
          2016,
          2017,
          2018,
          2019,
          2020,
          2021
         ],
         "xaxis": "x",
         "y": [
          3,
          2,
          10,
          16,
          7,
          7,
          1,
          5,
          1
         ],
         "yaxis": "y"
        }
       ],
       "layout": {
        "height": 500,
        "legend": {
         "title": {
          "text": "region_name"
         },
         "tracegroupgap": 0
        },
        "margin": {
         "b": 0,
         "l": 0,
         "r": 0,
         "t": 30
        },
        "template": {
         "data": {
          "bar": [
           {
            "error_x": {
             "color": "#2a3f5f"
            },
            "error_y": {
             "color": "#2a3f5f"
            },
            "marker": {
             "line": {
              "color": "#E5ECF6",
              "width": 0.5
             },
             "pattern": {
              "fillmode": "overlay",
              "size": 10,
              "solidity": 0.2
             }
            },
            "type": "bar"
           }
          ],
          "barpolar": [
           {
            "marker": {
             "line": {
              "color": "#E5ECF6",
              "width": 0.5
             },
             "pattern": {
              "fillmode": "overlay",
              "size": 10,
              "solidity": 0.2
             }
            },
            "type": "barpolar"
           }
          ],
          "carpet": [
           {
            "aaxis": {
             "endlinecolor": "#2a3f5f",
             "gridcolor": "white",
             "linecolor": "white",
             "minorgridcolor": "white",
             "startlinecolor": "#2a3f5f"
            },
            "baxis": {
             "endlinecolor": "#2a3f5f",
             "gridcolor": "white",
             "linecolor": "white",
             "minorgridcolor": "white",
             "startlinecolor": "#2a3f5f"
            },
            "type": "carpet"
           }
          ],
          "choropleth": [
           {
            "colorbar": {
             "outlinewidth": 0,
             "ticks": ""
            },
            "type": "choropleth"
           }
          ],
          "contour": [
           {
            "colorbar": {
             "outlinewidth": 0,
             "ticks": ""
            },
            "colorscale": [
             [
              0,
              "#0d0887"
             ],
             [
              0.1111111111111111,
              "#46039f"
             ],
             [
              0.2222222222222222,
              "#7201a8"
             ],
             [
              0.3333333333333333,
              "#9c179e"
             ],
             [
              0.4444444444444444,
              "#bd3786"
             ],
             [
              0.5555555555555556,
              "#d8576b"
             ],
             [
              0.6666666666666666,
              "#ed7953"
             ],
             [
              0.7777777777777778,
              "#fb9f3a"
             ],
             [
              0.8888888888888888,
              "#fdca26"
             ],
             [
              1,
              "#f0f921"
             ]
            ],
            "type": "contour"
           }
          ],
          "contourcarpet": [
           {
            "colorbar": {
             "outlinewidth": 0,
             "ticks": ""
            },
            "type": "contourcarpet"
           }
          ],
          "heatmap": [
           {
            "colorbar": {
             "outlinewidth": 0,
             "ticks": ""
            },
            "colorscale": [
             [
              0,
              "#0d0887"
             ],
             [
              0.1111111111111111,
              "#46039f"
             ],
             [
              0.2222222222222222,
              "#7201a8"
             ],
             [
              0.3333333333333333,
              "#9c179e"
             ],
             [
              0.4444444444444444,
              "#bd3786"
             ],
             [
              0.5555555555555556,
              "#d8576b"
             ],
             [
              0.6666666666666666,
              "#ed7953"
             ],
             [
              0.7777777777777778,
              "#fb9f3a"
             ],
             [
              0.8888888888888888,
              "#fdca26"
             ],
             [
              1,
              "#f0f921"
             ]
            ],
            "type": "heatmap"
           }
          ],
          "heatmapgl": [
           {
            "colorbar": {
             "outlinewidth": 0,
             "ticks": ""
            },
            "colorscale": [
             [
              0,
              "#0d0887"
             ],
             [
              0.1111111111111111,
              "#46039f"
             ],
             [
              0.2222222222222222,
              "#7201a8"
             ],
             [
              0.3333333333333333,
              "#9c179e"
             ],
             [
              0.4444444444444444,
              "#bd3786"
             ],
             [
              0.5555555555555556,
              "#d8576b"
             ],
             [
              0.6666666666666666,
              "#ed7953"
             ],
             [
              0.7777777777777778,
              "#fb9f3a"
             ],
             [
              0.8888888888888888,
              "#fdca26"
             ],
             [
              1,
              "#f0f921"
             ]
            ],
            "type": "heatmapgl"
           }
          ],
          "histogram": [
           {
            "marker": {
             "pattern": {
              "fillmode": "overlay",
              "size": 10,
              "solidity": 0.2
             }
            },
            "type": "histogram"
           }
          ],
          "histogram2d": [
           {
            "colorbar": {
             "outlinewidth": 0,
             "ticks": ""
            },
            "colorscale": [
             [
              0,
              "#0d0887"
             ],
             [
              0.1111111111111111,
              "#46039f"
             ],
             [
              0.2222222222222222,
              "#7201a8"
             ],
             [
              0.3333333333333333,
              "#9c179e"
             ],
             [
              0.4444444444444444,
              "#bd3786"
             ],
             [
              0.5555555555555556,
              "#d8576b"
             ],
             [
              0.6666666666666666,
              "#ed7953"
             ],
             [
              0.7777777777777778,
              "#fb9f3a"
             ],
             [
              0.8888888888888888,
              "#fdca26"
             ],
             [
              1,
              "#f0f921"
             ]
            ],
            "type": "histogram2d"
           }
          ],
          "histogram2dcontour": [
           {
            "colorbar": {
             "outlinewidth": 0,
             "ticks": ""
            },
            "colorscale": [
             [
              0,
              "#0d0887"
             ],
             [
              0.1111111111111111,
              "#46039f"
             ],
             [
              0.2222222222222222,
              "#7201a8"
             ],
             [
              0.3333333333333333,
              "#9c179e"
             ],
             [
              0.4444444444444444,
              "#bd3786"
             ],
             [
              0.5555555555555556,
              "#d8576b"
             ],
             [
              0.6666666666666666,
              "#ed7953"
             ],
             [
              0.7777777777777778,
              "#fb9f3a"
             ],
             [
              0.8888888888888888,
              "#fdca26"
             ],
             [
              1,
              "#f0f921"
             ]
            ],
            "type": "histogram2dcontour"
           }
          ],
          "mesh3d": [
           {
            "colorbar": {
             "outlinewidth": 0,
             "ticks": ""
            },
            "type": "mesh3d"
           }
          ],
          "parcoords": [
           {
            "line": {
             "colorbar": {
              "outlinewidth": 0,
              "ticks": ""
             }
            },
            "type": "parcoords"
           }
          ],
          "pie": [
           {
            "automargin": true,
            "type": "pie"
           }
          ],
          "scatter": [
           {
            "fillpattern": {
             "fillmode": "overlay",
             "size": 10,
             "solidity": 0.2
            },
            "type": "scatter"
           }
          ],
          "scatter3d": [
           {
            "line": {
             "colorbar": {
              "outlinewidth": 0,
              "ticks": ""
             }
            },
            "marker": {
             "colorbar": {
              "outlinewidth": 0,
              "ticks": ""
             }
            },
            "type": "scatter3d"
           }
          ],
          "scattercarpet": [
           {
            "marker": {
             "colorbar": {
              "outlinewidth": 0,
              "ticks": ""
             }
            },
            "type": "scattercarpet"
           }
          ],
          "scattergeo": [
           {
            "marker": {
             "colorbar": {
              "outlinewidth": 0,
              "ticks": ""
             }
            },
            "type": "scattergeo"
           }
          ],
          "scattergl": [
           {
            "marker": {
             "colorbar": {
              "outlinewidth": 0,
              "ticks": ""
             }
            },
            "type": "scattergl"
           }
          ],
          "scattermapbox": [
           {
            "marker": {
             "colorbar": {
              "outlinewidth": 0,
              "ticks": ""
             }
            },
            "type": "scattermapbox"
           }
          ],
          "scatterpolar": [
           {
            "marker": {
             "colorbar": {
              "outlinewidth": 0,
              "ticks": ""
             }
            },
            "type": "scatterpolar"
           }
          ],
          "scatterpolargl": [
           {
            "marker": {
             "colorbar": {
              "outlinewidth": 0,
              "ticks": ""
             }
            },
            "type": "scatterpolargl"
           }
          ],
          "scatterternary": [
           {
            "marker": {
             "colorbar": {
              "outlinewidth": 0,
              "ticks": ""
             }
            },
            "type": "scatterternary"
           }
          ],
          "surface": [
           {
            "colorbar": {
             "outlinewidth": 0,
             "ticks": ""
            },
            "colorscale": [
             [
              0,
              "#0d0887"
             ],
             [
              0.1111111111111111,
              "#46039f"
             ],
             [
              0.2222222222222222,
              "#7201a8"
             ],
             [
              0.3333333333333333,
              "#9c179e"
             ],
             [
              0.4444444444444444,
              "#bd3786"
             ],
             [
              0.5555555555555556,
              "#d8576b"
             ],
             [
              0.6666666666666666,
              "#ed7953"
             ],
             [
              0.7777777777777778,
              "#fb9f3a"
             ],
             [
              0.8888888888888888,
              "#fdca26"
             ],
             [
              1,
              "#f0f921"
             ]
            ],
            "type": "surface"
           }
          ],
          "table": [
           {
            "cells": {
             "fill": {
              "color": "#EBF0F8"
             },
             "line": {
              "color": "white"
             }
            },
            "header": {
             "fill": {
              "color": "#C8D4E3"
             },
             "line": {
              "color": "white"
             }
            },
            "type": "table"
           }
          ]
         },
         "layout": {
          "annotationdefaults": {
           "arrowcolor": "#2a3f5f",
           "arrowhead": 0,
           "arrowwidth": 1
          },
          "autotypenumbers": "strict",
          "coloraxis": {
           "colorbar": {
            "outlinewidth": 0,
            "ticks": ""
           }
          },
          "colorscale": {
           "diverging": [
            [
             0,
             "#8e0152"
            ],
            [
             0.1,
             "#c51b7d"
            ],
            [
             0.2,
             "#de77ae"
            ],
            [
             0.3,
             "#f1b6da"
            ],
            [
             0.4,
             "#fde0ef"
            ],
            [
             0.5,
             "#f7f7f7"
            ],
            [
             0.6,
             "#e6f5d0"
            ],
            [
             0.7,
             "#b8e186"
            ],
            [
             0.8,
             "#7fbc41"
            ],
            [
             0.9,
             "#4d9221"
            ],
            [
             1,
             "#276419"
            ]
           ],
           "sequential": [
            [
             0,
             "#0d0887"
            ],
            [
             0.1111111111111111,
             "#46039f"
            ],
            [
             0.2222222222222222,
             "#7201a8"
            ],
            [
             0.3333333333333333,
             "#9c179e"
            ],
            [
             0.4444444444444444,
             "#bd3786"
            ],
            [
             0.5555555555555556,
             "#d8576b"
            ],
            [
             0.6666666666666666,
             "#ed7953"
            ],
            [
             0.7777777777777778,
             "#fb9f3a"
            ],
            [
             0.8888888888888888,
             "#fdca26"
            ],
            [
             1,
             "#f0f921"
            ]
           ],
           "sequentialminus": [
            [
             0,
             "#0d0887"
            ],
            [
             0.1111111111111111,
             "#46039f"
            ],
            [
             0.2222222222222222,
             "#7201a8"
            ],
            [
             0.3333333333333333,
             "#9c179e"
            ],
            [
             0.4444444444444444,
             "#bd3786"
            ],
            [
             0.5555555555555556,
             "#d8576b"
            ],
            [
             0.6666666666666666,
             "#ed7953"
            ],
            [
             0.7777777777777778,
             "#fb9f3a"
            ],
            [
             0.8888888888888888,
             "#fdca26"
            ],
            [
             1,
             "#f0f921"
            ]
           ]
          },
          "colorway": [
           "#636efa",
           "#EF553B",
           "#00cc96",
           "#ab63fa",
           "#FFA15A",
           "#19d3f3",
           "#FF6692",
           "#B6E880",
           "#FF97FF",
           "#FECB52"
          ],
          "font": {
           "color": "#2a3f5f"
          },
          "geo": {
           "bgcolor": "white",
           "lakecolor": "white",
           "landcolor": "#E5ECF6",
           "showlakes": true,
           "showland": true,
           "subunitcolor": "white"
          },
          "hoverlabel": {
           "align": "left"
          },
          "hovermode": "closest",
          "mapbox": {
           "style": "light"
          },
          "paper_bgcolor": "white",
          "plot_bgcolor": "#E5ECF6",
          "polar": {
           "angularaxis": {
            "gridcolor": "white",
            "linecolor": "white",
            "ticks": ""
           },
           "bgcolor": "#E5ECF6",
           "radialaxis": {
            "gridcolor": "white",
            "linecolor": "white",
            "ticks": ""
           }
          },
          "scene": {
           "xaxis": {
            "backgroundcolor": "#E5ECF6",
            "gridcolor": "white",
            "gridwidth": 2,
            "linecolor": "white",
            "showbackground": true,
            "ticks": "",
            "zerolinecolor": "white"
           },
           "yaxis": {
            "backgroundcolor": "#E5ECF6",
            "gridcolor": "white",
            "gridwidth": 2,
            "linecolor": "white",
            "showbackground": true,
            "ticks": "",
            "zerolinecolor": "white"
           },
           "zaxis": {
            "backgroundcolor": "#E5ECF6",
            "gridcolor": "white",
            "gridwidth": 2,
            "linecolor": "white",
            "showbackground": true,
            "ticks": "",
            "zerolinecolor": "white"
           }
          },
          "shapedefaults": {
           "line": {
            "color": "#2a3f5f"
           }
          },
          "ternary": {
           "aaxis": {
            "gridcolor": "white",
            "linecolor": "white",
            "ticks": ""
           },
           "baxis": {
            "gridcolor": "white",
            "linecolor": "white",
            "ticks": ""
           },
           "bgcolor": "#E5ECF6",
           "caxis": {
            "gridcolor": "white",
            "linecolor": "white",
            "ticks": ""
           }
          },
          "title": {
           "x": 0.05
          },
          "xaxis": {
           "automargin": true,
           "gridcolor": "white",
           "linecolor": "white",
           "ticks": "",
           "title": {
            "standoff": 15
           },
           "zerolinecolor": "white",
           "zerolinewidth": 2
          },
          "yaxis": {
           "automargin": true,
           "gridcolor": "white",
           "linecolor": "white",
           "ticks": "",
           "title": {
            "standoff": 15
           },
           "zerolinecolor": "white",
           "zerolinewidth": 2
          }
         }
        },
        "title": {
         "font": {
          "color": "black",
          "family": "Arial, sans-serif",
          "size": 20
         },
         "text": "<b>Évolution du nombre d'accidents de vélos</b>",
         "x": 0.4,
         "xanchor": "center",
         "y": 0.98,
         "yanchor": "top"
        },
        "width": 800,
        "xaxis": {
         "anchor": "y",
         "autorange": true,
         "domain": [
          0,
          1
         ],
         "range": [
          2003.9663409337677,
          2022.0336590662323
         ],
         "title": {
          "text": "Année"
         },
         "type": "linear"
        },
        "yaxis": {
         "anchor": "x",
         "autorange": true,
         "domain": [
          0,
          1
         ],
         "range": [
          -108.98221343873517,
          1763.9822134387352
         ],
         "title": {
          "text": "Nombre d'accidents"
         },
         "type": "linear"
        }
       }
      },
      "image/png": "[encoded data removed]",
      "text/html": [
       "<div>                            <div id=\"513d3694-eaf9-4a08-a558-18f8f75b345b\" class=\"plotly-graph-div\" style=\"height:500px; width:800px;\"></div>            <script type=\"text/javascript\">                require([\"plotly\"], function(Plotly) {                    window.PLOTLYENV=window.PLOTLYENV || {};                                    if (document.getElementById(\"513d3694-eaf9-4a08-a558-18f8f75b345b\")) {                    Plotly.newPlot(                        \"513d3694-eaf9-4a08-a558-18f8f75b345b\",                        [{\"customdata\":[[2005,\"Auvergne-Rh\\u00f4ne-Alpes\",768],[2006,\"Auvergne-Rh\\u00f4ne-Alpes\",762],[2007,\"Auvergne-Rh\\u00f4ne-Alpes\",610],[2008,\"Auvergne-Rh\\u00f4ne-Alpes\",594],[2009,\"Auvergne-Rh\\u00f4ne-Alpes\",542],[2010,\"Auvergne-Rh\\u00f4ne-Alpes\",521],[2011,\"Auvergne-Rh\\u00f4ne-Alpes\",559],[2012,\"Auvergne-Rh\\u00f4ne-Alpes\",568],[2013,\"Auvergne-Rh\\u00f4ne-Alpes\",551],[2014,\"Auvergne-Rh\\u00f4ne-Alpes\",583],[2015,\"Auvergne-Rh\\u00f4ne-Alpes\",593],[2016,\"Auvergne-Rh\\u00f4ne-Alpes\",568],[2017,\"Auvergne-Rh\\u00f4ne-Alpes\",735],[2018,\"Auvergne-Rh\\u00f4ne-Alpes\",538],[2019,\"Auvergne-Rh\\u00f4ne-Alpes\",339],[2020,\"Auvergne-Rh\\u00f4ne-Alpes\",332],[2021,\"Auvergne-Rh\\u00f4ne-Alpes\",504]],\"hovertemplate\":\"Ann\\u00e9e : %{customdata[0]}\\u003cbr\\u003eR\\u00e9gion : %{customdata[1]}\\u003cbr\\u003eNombre d'accidents : %{customdata[2]}\",\"legendgroup\":\"Auvergne-Rh\\u00f4ne-Alpes\",\"line\":{\"color\":\"#636efa\",\"dash\":\"solid\"},\"marker\":{\"symbol\":\"circle\"},\"mode\":\"lines+markers\",\"name\":\"Auvergne-Rh\\u00f4ne-Alpes\",\"orientation\":\"v\",\"showlegend\":true,\"x\":[2005,2006,2007,2008,2009,2010,2011,2012,2013,2014,2015,2016,2017,2018,2019,2020,2021],\"xaxis\":\"x\",\"y\":[768,762,610,594,542,521,559,568,551,583,593,568,735,538,339,332,504],\"yaxis\":\"y\",\"type\":\"scatter\"},{\"customdata\":[[2005,\"Bourgogne-Franche-Comt\\u00e9\",528],[2006,\"Bourgogne-Franche-Comt\\u00e9\",339],[2007,\"Bourgogne-Franche-Comt\\u00e9\",434],[2008,\"Bourgogne-Franche-Comt\\u00e9\",284],[2009,\"Bourgogne-Franche-Comt\\u00e9\",291],[2010,\"Bourgogne-Franche-Comt\\u00e9\",217],[2011,\"Bourgogne-Franche-Comt\\u00e9\",228],[2012,\"Bourgogne-Franche-Comt\\u00e9\",158],[2013,\"Bourgogne-Franche-Comt\\u00e9\",159],[2014,\"Bourgogne-Franche-Comt\\u00e9\",208],[2015,\"Bourgogne-Franche-Comt\\u00e9\",241],[2016,\"Bourgogne-Franche-Comt\\u00e9\",176],[2017,\"Bourgogne-Franche-Comt\\u00e9\",172],[2018,\"Bourgogne-Franche-Comt\\u00e9\",156],[2019,\"Bourgogne-Franche-Comt\\u00e9\",253],[2020,\"Bourgogne-Franche-Comt\\u00e9\",170],[2021,\"Bourgogne-Franche-Comt\\u00e9\",196]],\"hovertemplate\":\"Ann\\u00e9e : %{customdata[0]}\\u003cbr\\u003eR\\u00e9gion : %{customdata[1]}\\u003cbr\\u003eNombre d'accidents : %{customdata[2]}\",\"legendgroup\":\"Bourgogne-Franche-Comt\\u00e9\",\"line\":{\"color\":\"#EF553B\",\"dash\":\"dot\"},\"marker\":{\"symbol\":\"circle\"},\"mode\":\"lines+markers\",\"name\":\"Bourgogne-Franche-Comt\\u00e9\",\"orientation\":\"v\",\"showlegend\":true,\"x\":[2005,2006,2007,2008,2009,2010,2011,2012,2013,2014,2015,2016,2017,2018,2019,2020,2021],\"xaxis\":\"x\",\"y\":[528,339,434,284,291,217,228,158,159,208,241,176,172,156,253,170,196],\"yaxis\":\"y\",\"type\":\"scatter\"},{\"customdata\":[[2005,\"Bretagne\",231],[2006,\"Bretagne\",272],[2007,\"Bretagne\",247],[2008,\"Bretagne\",326],[2009,\"Bretagne\",189],[2010,\"Bretagne\",270],[2011,\"Bretagne\",316],[2012,\"Bretagne\",305],[2013,\"Bretagne\",227],[2014,\"Bretagne\",241],[2015,\"Bretagne\",298],[2016,\"Bretagne\",324],[2017,\"Bretagne\",366],[2018,\"Bretagne\",202],[2019,\"Bretagne\",256],[2020,\"Bretagne\",239],[2021,\"Bretagne\",248]],\"hovertemplate\":\"Ann\\u00e9e : %{customdata[0]}\\u003cbr\\u003eR\\u00e9gion : %{customdata[1]}\\u003cbr\\u003eNombre d'accidents : %{customdata[2]}\",\"legendgroup\":\"Bretagne\",\"line\":{\"color\":\"#00cc96\",\"dash\":\"dash\"},\"marker\":{\"symbol\":\"circle\"},\"mode\":\"lines+markers\",\"name\":\"Bretagne\",\"orientation\":\"v\",\"showlegend\":true,\"x\":[2005,2006,2007,2008,2009,2010,2011,2012,2013,2014,2015,2016,2017,2018,2019,2020,2021],\"xaxis\":\"x\",\"y\":[231,272,247,326,189,270,316,305,227,241,298,324,366,202,256,239,248],\"yaxis\":\"y\",\"type\":\"scatter\"},{\"customdata\":[[2005,\"Centre-Val de Loire\",171],[2006,\"Centre-Val de Loire\",211],[2007,\"Centre-Val de Loire\",196],[2008,\"Centre-Val de Loire\",142],[2009,\"Centre-Val de Loire\",290],[2010,\"Centre-Val de Loire\",216],[2011,\"Centre-Val de Loire\",230],[2012,\"Centre-Val de Loire\",216],[2013,\"Centre-Val de Loire\",267],[2014,\"Centre-Val de Loire\",207],[2015,\"Centre-Val de Loire\",223],[2016,\"Centre-Val de Loire\",185],[2017,\"Centre-Val de Loire\",238],[2018,\"Centre-Val de Loire\",203],[2019,\"Centre-Val de Loire\",143],[2020,\"Centre-Val de Loire\",146],[2021,\"Centre-Val de Loire\",97]],\"hovertemplate\":\"Ann\\u00e9e : %{customdata[0]}\\u003cbr\\u003eR\\u00e9gion : %{customdata[1]}\\u003cbr\\u003eNombre d'accidents : %{customdata[2]}\",\"legendgroup\":\"Centre-Val de Loire\",\"line\":{\"color\":\"#ab63fa\",\"dash\":\"longdash\"},\"marker\":{\"symbol\":\"circle\"},\"mode\":\"lines+markers\",\"name\":\"Centre-Val de Loire\",\"orientation\":\"v\",\"showlegend\":true,\"x\":[2005,2006,2007,2008,2009,2010,2011,2012,2013,2014,2015,2016,2017,2018,2019,2020,2021],\"xaxis\":\"x\",\"y\":[171,211,196,142,290,216,230,216,267,207,223,185,238,203,143,146,97],\"yaxis\":\"y\",\"type\":\"scatter\"},{\"customdata\":[[2005,\"Corse\",18],[2006,\"Corse\",10],[2007,\"Corse\",17],[2008,\"Corse\",6],[2009,\"Corse\",9],[2010,\"Corse\",5],[2011,\"Corse\",7],[2012,\"Corse\",15],[2013,\"Corse\",11],[2014,\"Corse\",12],[2015,\"Corse\",10],[2016,\"Corse\",17],[2017,\"Corse\",23],[2018,\"Corse\",8],[2019,\"Corse\",11],[2020,\"Corse\",12],[2021,\"Corse\",11]],\"hovertemplate\":\"Ann\\u00e9e : %{customdata[0]}\\u003cbr\\u003eR\\u00e9gion : %{customdata[1]}\\u003cbr\\u003eNombre d'accidents : %{customdata[2]}\",\"legendgroup\":\"Corse\",\"line\":{\"color\":\"#FFA15A\",\"dash\":\"dashdot\"},\"marker\":{\"symbol\":\"circle\"},\"mode\":\"lines+markers\",\"name\":\"Corse\",\"orientation\":\"v\",\"showlegend\":true,\"x\":[2005,2006,2007,2008,2009,2010,2011,2012,2013,2014,2015,2016,2017,2018,2019,2020,2021],\"xaxis\":\"x\",\"y\":[18,10,17,6,9,5,7,15,11,12,10,17,23,8,11,12,11],\"yaxis\":\"y\",\"type\":\"scatter\"},{\"customdata\":[[2005,\"Grand Est\",664],[2006,\"Grand Est\",636],[2007,\"Grand Est\",603],[2008,\"Grand Est\",688],[2009,\"Grand Est\",600],[2010,\"Grand Est\",506],[2011,\"Grand Est\",501],[2012,\"Grand Est\",422],[2013,\"Grand Est\",450],[2014,\"Grand Est\",492],[2015,\"Grand Est\",578],[2016,\"Grand Est\",571],[2017,\"Grand Est\",575],[2018,\"Grand Est\",374],[2019,\"Grand Est\",353],[2020,\"Grand Est\",232],[2021,\"Grand Est\",343]],\"hovertemplate\":\"Ann\\u00e9e : %{customdata[0]}\\u003cbr\\u003eR\\u00e9gion : %{customdata[1]}\\u003cbr\\u003eNombre d'accidents : %{customdata[2]}\",\"legendgroup\":\"Grand Est\",\"line\":{\"color\":\"#19d3f3\",\"dash\":\"longdashdot\"},\"marker\":{\"symbol\":\"circle\"},\"mode\":\"lines+markers\",\"name\":\"Grand Est\",\"orientation\":\"v\",\"showlegend\":true,\"x\":[2005,2006,2007,2008,2009,2010,2011,2012,2013,2014,2015,2016,2017,2018,2019,2020,2021],\"xaxis\":\"x\",\"y\":[664,636,603,688,600,506,501,422,450,492,578,571,575,374,353,232,343],\"yaxis\":\"y\",\"type\":\"scatter\"},{\"customdata\":[[2005,\"Guadeloupe\",35],[2006,\"Guadeloupe\",29],[2007,\"Guadeloupe\",32],[2008,\"Guadeloupe\",37],[2009,\"Guadeloupe\",42],[2010,\"Guadeloupe\",37],[2011,\"Guadeloupe\",30],[2012,\"Guadeloupe\",32],[2013,\"Guadeloupe\",24],[2014,\"Guadeloupe\",19],[2015,\"Guadeloupe\",33],[2016,\"Guadeloupe\",20],[2017,\"Guadeloupe\",18],[2018,\"Guadeloupe\",23],[2019,\"Guadeloupe\",19],[2020,\"Guadeloupe\",19],[2021,\"Guadeloupe\",12]],\"hovertemplate\":\"Ann\\u00e9e : %{customdata[0]}\\u003cbr\\u003eR\\u00e9gion : %{customdata[1]}\\u003cbr\\u003eNombre d'accidents : %{customdata[2]}\",\"legendgroup\":\"Guadeloupe\",\"line\":{\"color\":\"#FF6692\",\"dash\":\"solid\"},\"marker\":{\"symbol\":\"circle\"},\"mode\":\"lines+markers\",\"name\":\"Guadeloupe\",\"orientation\":\"v\",\"showlegend\":true,\"x\":[2005,2006,2007,2008,2009,2010,2011,2012,2013,2014,2015,2016,2017,2018,2019,2020,2021],\"xaxis\":\"x\",\"y\":[35,29,32,37,42,37,30,32,24,19,33,20,18,23,19,19,12],\"yaxis\":\"y\",\"type\":\"scatter\"},{\"customdata\":[[2005,\"Guyane\",65],[2006,\"Guyane\",75],[2007,\"Guyane\",84],[2008,\"Guyane\",61],[2009,\"Guyane\",65],[2010,\"Guyane\",38],[2011,\"Guyane\",34],[2012,\"Guyane\",52],[2013,\"Guyane\",31],[2014,\"Guyane\",35],[2015,\"Guyane\",52],[2016,\"Guyane\",69],[2017,\"Guyane\",54],[2018,\"Guyane\",27],[2019,\"Guyane\",32],[2020,\"Guyane\",17],[2021,\"Guyane\",14]],\"hovertemplate\":\"Ann\\u00e9e : %{customdata[0]}\\u003cbr\\u003eR\\u00e9gion : %{customdata[1]}\\u003cbr\\u003eNombre d'accidents : %{customdata[2]}\",\"legendgroup\":\"Guyane\",\"line\":{\"color\":\"#B6E880\",\"dash\":\"dot\"},\"marker\":{\"symbol\":\"circle\"},\"mode\":\"lines+markers\",\"name\":\"Guyane\",\"orientation\":\"v\",\"showlegend\":true,\"x\":[2005,2006,2007,2008,2009,2010,2011,2012,2013,2014,2015,2016,2017,2018,2019,2020,2021],\"xaxis\":\"x\",\"y\":[65,75,84,61,65,38,34,52,31,35,52,69,54,27,32,17,14],\"yaxis\":\"y\",\"type\":\"scatter\"},{\"customdata\":[[2005,\"Hauts-de-France\",605],[2006,\"Hauts-de-France\",577],[2007,\"Hauts-de-France\",556],[2008,\"Hauts-de-France\",462],[2009,\"Hauts-de-France\",445],[2010,\"Hauts-de-France\",413],[2011,\"Hauts-de-France\",502],[2012,\"Hauts-de-France\",449],[2013,\"Hauts-de-France\",418],[2014,\"Hauts-de-France\",316],[2015,\"Hauts-de-France\",370],[2016,\"Hauts-de-France\",306],[2017,\"Hauts-de-France\",245],[2018,\"Hauts-de-France\",135],[2019,\"Hauts-de-France\",232],[2020,\"Hauts-de-France\",221],[2021,\"Hauts-de-France\",145]],\"hovertemplate\":\"Ann\\u00e9e : %{customdata[0]}\\u003cbr\\u003eR\\u00e9gion : %{customdata[1]}\\u003cbr\\u003eNombre d'accidents : %{customdata[2]}\",\"legendgroup\":\"Hauts-de-France\",\"line\":{\"color\":\"#FF97FF\",\"dash\":\"dash\"},\"marker\":{\"symbol\":\"circle\"},\"mode\":\"lines+markers\",\"name\":\"Hauts-de-France\",\"orientation\":\"v\",\"showlegend\":true,\"x\":[2005,2006,2007,2008,2009,2010,2011,2012,2013,2014,2015,2016,2017,2018,2019,2020,2021],\"xaxis\":\"x\",\"y\":[605,577,556,462,445,413,502,449,418,316,370,306,245,135,232,221,145],\"yaxis\":\"y\",\"type\":\"scatter\"},{\"customdata\":[[2005,\"La R\\u00e9union\",82],[2006,\"La R\\u00e9union\",90],[2007,\"La R\\u00e9union\",94],[2008,\"La R\\u00e9union\",83],[2009,\"La R\\u00e9union\",87],[2010,\"La R\\u00e9union\",77],[2011,\"La R\\u00e9union\",107],[2012,\"La R\\u00e9union\",105],[2013,\"La R\\u00e9union\",77],[2014,\"La R\\u00e9union\",79],[2015,\"La R\\u00e9union\",69],[2016,\"La R\\u00e9union\",47],[2017,\"La R\\u00e9union\",49],[2018,\"La R\\u00e9union\",52],[2019,\"La R\\u00e9union\",45],[2020,\"La R\\u00e9union\",31],[2021,\"La R\\u00e9union\",34]],\"hovertemplate\":\"Ann\\u00e9e : %{customdata[0]}\\u003cbr\\u003eR\\u00e9gion : %{customdata[1]}\\u003cbr\\u003eNombre d'accidents : %{customdata[2]}\",\"legendgroup\":\"La R\\u00e9union\",\"line\":{\"color\":\"#FECB52\",\"dash\":\"longdash\"},\"marker\":{\"symbol\":\"circle\"},\"mode\":\"lines+markers\",\"name\":\"La R\\u00e9union\",\"orientation\":\"v\",\"showlegend\":true,\"x\":[2005,2006,2007,2008,2009,2010,2011,2012,2013,2014,2015,2016,2017,2018,2019,2020,2021],\"xaxis\":\"x\",\"y\":[82,90,94,83,87,77,107,105,77,79,69,47,49,52,45,31,34],\"yaxis\":\"y\",\"type\":\"scatter\"},{\"customdata\":[[2005,\"Martinique\",30],[2006,\"Martinique\",27],[2007,\"Martinique\",39],[2008,\"Martinique\",25],[2009,\"Martinique\",29],[2010,\"Martinique\",7],[2011,\"Martinique\",18],[2012,\"Martinique\",15],[2013,\"Martinique\",6],[2014,\"Martinique\",11],[2015,\"Martinique\",23],[2016,\"Martinique\",25],[2017,\"Martinique\",17],[2018,\"Martinique\",10],[2019,\"Martinique\",5],[2020,\"Martinique\",8],[2021,\"Martinique\",6]],\"hovertemplate\":\"Ann\\u00e9e : %{customdata[0]}\\u003cbr\\u003eR\\u00e9gion : %{customdata[1]}\\u003cbr\\u003eNombre d'accidents : %{customdata[2]}\",\"legendgroup\":\"Martinique\",\"line\":{\"color\":\"#636efa\",\"dash\":\"dashdot\"},\"marker\":{\"symbol\":\"circle\"},\"mode\":\"lines+markers\",\"name\":\"Martinique\",\"orientation\":\"v\",\"showlegend\":true,\"x\":[2005,2006,2007,2008,2009,2010,2011,2012,2013,2014,2015,2016,2017,2018,2019,2020,2021],\"xaxis\":\"x\",\"y\":[30,27,39,25,29,7,18,15,6,11,23,25,17,10,5,8,6],\"yaxis\":\"y\",\"type\":\"scatter\"},{\"customdata\":[[2005,\"Normandie\",452],[2006,\"Normandie\",475],[2007,\"Normandie\",310],[2008,\"Normandie\",330],[2009,\"Normandie\",408],[2010,\"Normandie\",376],[2011,\"Normandie\",233],[2012,\"Normandie\",262],[2013,\"Normandie\",322],[2014,\"Normandie\",441],[2015,\"Normandie\",316],[2016,\"Normandie\",456],[2017,\"Normandie\",403],[2018,\"Normandie\",108],[2019,\"Normandie\",255],[2020,\"Normandie\",152],[2021,\"Normandie\",234]],\"hovertemplate\":\"Ann\\u00e9e : %{customdata[0]}\\u003cbr\\u003eR\\u00e9gion : %{customdata[1]}\\u003cbr\\u003eNombre d'accidents : %{customdata[2]}\",\"legendgroup\":\"Normandie\",\"line\":{\"color\":\"#EF553B\",\"dash\":\"longdashdot\"},\"marker\":{\"symbol\":\"circle\"},\"mode\":\"lines+markers\",\"name\":\"Normandie\",\"orientation\":\"v\",\"showlegend\":true,\"x\":[2005,2006,2007,2008,2009,2010,2011,2012,2013,2014,2015,2016,2017,2018,2019,2020,2021],\"xaxis\":\"x\",\"y\":[452,475,310,330,408,376,233,262,322,441,316,456,403,108,255,152,234],\"yaxis\":\"y\",\"type\":\"scatter\"},{\"customdata\":[[2005,\"Nouvelle-Aquitaine\",718],[2006,\"Nouvelle-Aquitaine\",674],[2007,\"Nouvelle-Aquitaine\",755],[2008,\"Nouvelle-Aquitaine\",765],[2009,\"Nouvelle-Aquitaine\",641],[2010,\"Nouvelle-Aquitaine\",655],[2011,\"Nouvelle-Aquitaine\",657],[2012,\"Nouvelle-Aquitaine\",633],[2013,\"Nouvelle-Aquitaine\",581],[2014,\"Nouvelle-Aquitaine\",572],[2015,\"Nouvelle-Aquitaine\",679],[2016,\"Nouvelle-Aquitaine\",657],[2017,\"Nouvelle-Aquitaine\",734],[2018,\"Nouvelle-Aquitaine\",407],[2019,\"Nouvelle-Aquitaine\",383],[2020,\"Nouvelle-Aquitaine\",141],[2021,\"Nouvelle-Aquitaine\",280]],\"hovertemplate\":\"Ann\\u00e9e : %{customdata[0]}\\u003cbr\\u003eR\\u00e9gion : %{customdata[1]}\\u003cbr\\u003eNombre d'accidents : %{customdata[2]}\",\"legendgroup\":\"Nouvelle-Aquitaine\",\"line\":{\"color\":\"#00cc96\",\"dash\":\"solid\"},\"marker\":{\"symbol\":\"circle\"},\"mode\":\"lines+markers\",\"name\":\"Nouvelle-Aquitaine\",\"orientation\":\"v\",\"showlegend\":true,\"x\":[2005,2006,2007,2008,2009,2010,2011,2012,2013,2014,2015,2016,2017,2018,2019,2020,2021],\"xaxis\":\"x\",\"y\":[718,674,755,765,641,655,657,633,581,572,679,657,734,407,383,141,280],\"yaxis\":\"y\",\"type\":\"scatter\"},{\"customdata\":[[2005,\"Occitanie\",426],[2006,\"Occitanie\",712],[2007,\"Occitanie\",483],[2008,\"Occitanie\",433],[2009,\"Occitanie\",434],[2010,\"Occitanie\",400],[2011,\"Occitanie\",443],[2012,\"Occitanie\",389],[2013,\"Occitanie\",358],[2014,\"Occitanie\",451],[2015,\"Occitanie\",311],[2016,\"Occitanie\",358],[2017,\"Occitanie\",347],[2018,\"Occitanie\",291],[2019,\"Occitanie\",278],[2020,\"Occitanie\",216],[2021,\"Occitanie\",299]],\"hovertemplate\":\"Ann\\u00e9e : %{customdata[0]}\\u003cbr\\u003eR\\u00e9gion : %{customdata[1]}\\u003cbr\\u003eNombre d'accidents : %{customdata[2]}\",\"legendgroup\":\"Occitanie\",\"line\":{\"color\":\"#ab63fa\",\"dash\":\"dot\"},\"marker\":{\"symbol\":\"circle\"},\"mode\":\"lines+markers\",\"name\":\"Occitanie\",\"orientation\":\"v\",\"showlegend\":true,\"x\":[2005,2006,2007,2008,2009,2010,2011,2012,2013,2014,2015,2016,2017,2018,2019,2020,2021],\"xaxis\":\"x\",\"y\":[426,712,483,433,434,400,443,389,358,451,311,358,347,291,278,216,299],\"yaxis\":\"y\",\"type\":\"scatter\"},{\"customdata\":[[2005,\"Pays de la Loire\",352],[2006,\"Pays de la Loire\",356],[2007,\"Pays de la Loire\",381],[2008,\"Pays de la Loire\",330],[2009,\"Pays de la Loire\",298],[2010,\"Pays de la Loire\",323],[2011,\"Pays de la Loire\",406],[2012,\"Pays de la Loire\",243],[2013,\"Pays de la Loire\",266],[2014,\"Pays de la Loire\",284],[2015,\"Pays de la Loire\",277],[2016,\"Pays de la Loire\",322],[2017,\"Pays de la Loire\",345],[2018,\"Pays de la Loire\",186],[2019,\"Pays de la Loire\",181],[2020,\"Pays de la Loire\",105],[2021,\"Pays de la Loire\",125]],\"hovertemplate\":\"Ann\\u00e9e : %{customdata[0]}\\u003cbr\\u003eR\\u00e9gion : %{customdata[1]}\\u003cbr\\u003eNombre d'accidents : %{customdata[2]}\",\"legendgroup\":\"Pays de la Loire\",\"line\":{\"color\":\"#FFA15A\",\"dash\":\"dash\"},\"marker\":{\"symbol\":\"circle\"},\"mode\":\"lines+markers\",\"name\":\"Pays de la Loire\",\"orientation\":\"v\",\"showlegend\":true,\"x\":[2005,2006,2007,2008,2009,2010,2011,2012,2013,2014,2015,2016,2017,2018,2019,2020,2021],\"xaxis\":\"x\",\"y\":[352,356,381,330,298,323,406,243,266,284,277,322,345,186,181,105,125],\"yaxis\":\"y\",\"type\":\"scatter\"},{\"customdata\":[[2005,\"Provence-Alpes-C\\u00f4te d'Azur\",439],[2006,\"Provence-Alpes-C\\u00f4te d'Azur\",392],[2007,\"Provence-Alpes-C\\u00f4te d'Azur\",376],[2008,\"Provence-Alpes-C\\u00f4te d'Azur\",329],[2009,\"Provence-Alpes-C\\u00f4te d'Azur\",297],[2010,\"Provence-Alpes-C\\u00f4te d'Azur\",308],[2011,\"Provence-Alpes-C\\u00f4te d'Azur\",285],[2012,\"Provence-Alpes-C\\u00f4te d'Azur\",246],[2013,\"Provence-Alpes-C\\u00f4te d'Azur\",296],[2014,\"Provence-Alpes-C\\u00f4te d'Azur\",287],[2015,\"Provence-Alpes-C\\u00f4te d'Azur\",293],[2016,\"Provence-Alpes-C\\u00f4te d'Azur\",286],[2017,\"Provence-Alpes-C\\u00f4te d'Azur\",288],[2018,\"Provence-Alpes-C\\u00f4te d'Azur\",148],[2019,\"Provence-Alpes-C\\u00f4te d'Azur\",87],[2020,\"Provence-Alpes-C\\u00f4te d'Azur\",128],[2021,\"Provence-Alpes-C\\u00f4te d'Azur\",182]],\"hovertemplate\":\"Ann\\u00e9e : %{customdata[0]}\\u003cbr\\u003eR\\u00e9gion : %{customdata[1]}\\u003cbr\\u003eNombre d'accidents : %{customdata[2]}\",\"legendgroup\":\"Provence-Alpes-C\\u00f4te d'Azur\",\"line\":{\"color\":\"#19d3f3\",\"dash\":\"longdash\"},\"marker\":{\"symbol\":\"circle\"},\"mode\":\"lines+markers\",\"name\":\"Provence-Alpes-C\\u00f4te d'Azur\",\"orientation\":\"v\",\"showlegend\":true,\"x\":[2005,2006,2007,2008,2009,2010,2011,2012,2013,2014,2015,2016,2017,2018,2019,2020,2021],\"xaxis\":\"x\",\"y\":[439,392,376,329,297,308,285,246,296,287,293,286,288,148,87,128,182],\"yaxis\":\"y\",\"type\":\"scatter\"},{\"customdata\":[[2005,\"\\u00cele-de-France\",1188],[2006,\"\\u00cele-de-France\",1367],[2007,\"\\u00cele-de-France\",1654],[2008,\"\\u00cele-de-France\",1462],[2009,\"\\u00cele-de-France\",1465],[2010,\"\\u00cele-de-France\",1296],[2011,\"\\u00cele-de-France\",1423],[2012,\"\\u00cele-de-France\",1328],[2013,\"\\u00cele-de-France\",1380],[2014,\"\\u00cele-de-France\",1529],[2015,\"\\u00cele-de-France\",1418],[2016,\"\\u00cele-de-France\",1445],[2017,\"\\u00cele-de-France\",1386],[2018,\"\\u00cele-de-France\",697],[2019,\"\\u00cele-de-France\",980],[2020,\"\\u00cele-de-France\",1186],[2021,\"\\u00cele-de-France\",1159]],\"hovertemplate\":\"Ann\\u00e9e : %{customdata[0]}\\u003cbr\\u003eR\\u00e9gion : %{customdata[1]}\\u003cbr\\u003eNombre d'accidents : %{customdata[2]}\",\"legendgroup\":\"\\u00cele-de-France\",\"line\":{\"color\":\"#FF6692\",\"dash\":\"dashdot\"},\"marker\":{\"symbol\":\"circle\"},\"mode\":\"lines+markers\",\"name\":\"\\u00cele-de-France\",\"orientation\":\"v\",\"showlegend\":true,\"x\":[2005,2006,2007,2008,2009,2010,2011,2012,2013,2014,2015,2016,2017,2018,2019,2020,2021],\"xaxis\":\"x\",\"y\":[1188,1367,1654,1462,1465,1296,1423,1328,1380,1529,1418,1445,1386,697,980,1186,1159],\"yaxis\":\"y\",\"type\":\"scatter\"},{\"customdata\":[[2012,\"Mayotte\",3],[2014,\"Mayotte\",2],[2015,\"Mayotte\",10],[2016,\"Mayotte\",16],[2017,\"Mayotte\",7],[2018,\"Mayotte\",7],[2019,\"Mayotte\",1],[2020,\"Mayotte\",5],[2021,\"Mayotte\",1]],\"hovertemplate\":\"Ann\\u00e9e : %{customdata[0]}\\u003cbr\\u003eR\\u00e9gion : %{customdata[1]}\\u003cbr\\u003eNombre d'accidents : %{customdata[2]}\",\"legendgroup\":\"Mayotte\",\"line\":{\"color\":\"#B6E880\",\"dash\":\"longdashdot\"},\"marker\":{\"symbol\":\"circle\"},\"mode\":\"lines+markers\",\"name\":\"Mayotte\",\"orientation\":\"v\",\"showlegend\":true,\"x\":[2012,2014,2015,2016,2017,2018,2019,2020,2021],\"xaxis\":\"x\",\"y\":[3,2,10,16,7,7,1,5,1],\"yaxis\":\"y\",\"type\":\"scatter\"}],                        {\"template\":{\"data\":{\"histogram2dcontour\":[{\"type\":\"histogram2dcontour\",\"colorbar\":{\"outlinewidth\":0,\"ticks\":\"\"},\"colorscale\":[[0.0,\"#0d0887\"],[0.1111111111111111,\"#46039f\"],[0.2222222222222222,\"#7201a8\"],[0.3333333333333333,\"#9c179e\"],[0.4444444444444444,\"#bd3786\"],[0.5555555555555556,\"#d8576b\"],[0.6666666666666666,\"#ed7953\"],[0.7777777777777778,\"#fb9f3a\"],[0.8888888888888888,\"#fdca26\"],[1.0,\"#f0f921\"]]}],\"choropleth\":[{\"type\":\"choropleth\",\"colorbar\":{\"outlinewidth\":0,\"ticks\":\"\"}}],\"histogram2d\":[{\"type\":\"histogram2d\",\"colorbar\":{\"outlinewidth\":0,\"ticks\":\"\"},\"colorscale\":[[0.0,\"#0d0887\"],[0.1111111111111111,\"#46039f\"],[0.2222222222222222,\"#7201a8\"],[0.3333333333333333,\"#9c179e\"],[0.4444444444444444,\"#bd3786\"],[0.5555555555555556,\"#d8576b\"],[0.6666666666666666,\"#ed7953\"],[0.7777777777777778,\"#fb9f3a\"],[0.8888888888888888,\"#fdca26\"],[1.0,\"#f0f921\"]]}],\"heatmap\":[{\"type\":\"heatmap\",\"colorbar\":{\"outlinewidth\":0,\"ticks\":\"\"},\"colorscale\":[[0.0,\"#0d0887\"],[0.1111111111111111,\"#46039f\"],[0.2222222222222222,\"#7201a8\"],[0.3333333333333333,\"#9c179e\"],[0.4444444444444444,\"#bd3786\"],[0.5555555555555556,\"#d8576b\"],[0.6666666666666666,\"#ed7953\"],[0.7777777777777778,\"#fb9f3a\"],[0.8888888888888888,\"#fdca26\"],[1.0,\"#f0f921\"]]}],\"heatmapgl\":[{\"type\":\"heatmapgl\",\"colorbar\":{\"outlinewidth\":0,\"ticks\":\"\"},\"colorscale\":[[0.0,\"#0d0887\"],[0.1111111111111111,\"#46039f\"],[0.2222222222222222,\"#7201a8\"],[0.3333333333333333,\"#9c179e\"],[0.4444444444444444,\"#bd3786\"],[0.5555555555555556,\"#d8576b\"],[0.6666666666666666,\"#ed7953\"],[0.7777777777777778,\"#fb9f3a\"],[0.8888888888888888,\"#fdca26\"],[1.0,\"#f0f921\"]]}],\"contourcarpet\":[{\"type\":\"contourcarpet\",\"colorbar\":{\"outlinewidth\":0,\"ticks\":\"\"}}],\"contour\":[{\"type\":\"contour\",\"colorbar\":{\"outlinewidth\":0,\"ticks\":\"\"},\"colorscale\":[[0.0,\"#0d0887\"],[0.1111111111111111,\"#46039f\"],[0.2222222222222222,\"#7201a8\"],[0.3333333333333333,\"#9c179e\"],[0.4444444444444444,\"#bd3786\"],[0.5555555555555556,\"#d8576b\"],[0.6666666666666666,\"#ed7953\"],[0.7777777777777778,\"#fb9f3a\"],[0.8888888888888888,\"#fdca26\"],[1.0,\"#f0f921\"]]}],\"surface\":[{\"type\":\"surface\",\"colorbar\":{\"outlinewidth\":0,\"ticks\":\"\"},\"colorscale\":[[0.0,\"#0d0887\"],[0.1111111111111111,\"#46039f\"],[0.2222222222222222,\"#7201a8\"],[0.3333333333333333,\"#9c179e\"],[0.4444444444444444,\"#bd3786\"],[0.5555555555555556,\"#d8576b\"],[0.6666666666666666,\"#ed7953\"],[0.7777777777777778,\"#fb9f3a\"],[0.8888888888888888,\"#fdca26\"],[1.0,\"#f0f921\"]]}],\"mesh3d\":[{\"type\":\"mesh3d\",\"colorbar\":{\"outlinewidth\":0,\"ticks\":\"\"}}],\"scatter\":[{\"fillpattern\":{\"fillmode\":\"overlay\",\"size\":10,\"solidity\":0.2},\"type\":\"scatter\"}],\"parcoords\":[{\"type\":\"parcoords\",\"line\":{\"colorbar\":{\"outlinewidth\":0,\"ticks\":\"\"}}}],\"scatterpolargl\":[{\"type\":\"scatterpolargl\",\"marker\":{\"colorbar\":{\"outlinewidth\":0,\"ticks\":\"\"}}}],\"bar\":[{\"error_x\":{\"color\":\"#2a3f5f\"},\"error_y\":{\"color\":\"#2a3f5f\"},\"marker\":{\"line\":{\"color\":\"#E5ECF6\",\"width\":0.5},\"pattern\":{\"fillmode\":\"overlay\",\"size\":10,\"solidity\":0.2}},\"type\":\"bar\"}],\"scattergeo\":[{\"type\":\"scattergeo\",\"marker\":{\"colorbar\":{\"outlinewidth\":0,\"ticks\":\"\"}}}],\"scatterpolar\":[{\"type\":\"scatterpolar\",\"marker\":{\"colorbar\":{\"outlinewidth\":0,\"ticks\":\"\"}}}],\"histogram\":[{\"marker\":{\"pattern\":{\"fillmode\":\"overlay\",\"size\":10,\"solidity\":0.2}},\"type\":\"histogram\"}],\"scattergl\":[{\"type\":\"scattergl\",\"marker\":{\"colorbar\":{\"outlinewidth\":0,\"ticks\":\"\"}}}],\"scatter3d\":[{\"type\":\"scatter3d\",\"line\":{\"colorbar\":{\"outlinewidth\":0,\"ticks\":\"\"}},\"marker\":{\"colorbar\":{\"outlinewidth\":0,\"ticks\":\"\"}}}],\"scattermapbox\":[{\"type\":\"scattermapbox\",\"marker\":{\"colorbar\":{\"outlinewidth\":0,\"ticks\":\"\"}}}],\"scatterternary\":[{\"type\":\"scatterternary\",\"marker\":{\"colorbar\":{\"outlinewidth\":0,\"ticks\":\"\"}}}],\"scattercarpet\":[{\"type\":\"scattercarpet\",\"marker\":{\"colorbar\":{\"outlinewidth\":0,\"ticks\":\"\"}}}],\"carpet\":[{\"aaxis\":{\"endlinecolor\":\"#2a3f5f\",\"gridcolor\":\"white\",\"linecolor\":\"white\",\"minorgridcolor\":\"white\",\"startlinecolor\":\"#2a3f5f\"},\"baxis\":{\"endlinecolor\":\"#2a3f5f\",\"gridcolor\":\"white\",\"linecolor\":\"white\",\"minorgridcolor\":\"white\",\"startlinecolor\":\"#2a3f5f\"},\"type\":\"carpet\"}],\"table\":[{\"cells\":{\"fill\":{\"color\":\"#EBF0F8\"},\"line\":{\"color\":\"white\"}},\"header\":{\"fill\":{\"color\":\"#C8D4E3\"},\"line\":{\"color\":\"white\"}},\"type\":\"table\"}],\"barpolar\":[{\"marker\":{\"line\":{\"color\":\"#E5ECF6\",\"width\":0.5},\"pattern\":{\"fillmode\":\"overlay\",\"size\":10,\"solidity\":0.2}},\"type\":\"barpolar\"}],\"pie\":[{\"automargin\":true,\"type\":\"pie\"}]},\"layout\":{\"autotypenumbers\":\"strict\",\"colorway\":[\"#636efa\",\"#EF553B\",\"#00cc96\",\"#ab63fa\",\"#FFA15A\",\"#19d3f3\",\"#FF6692\",\"#B6E880\",\"#FF97FF\",\"#FECB52\"],\"font\":{\"color\":\"#2a3f5f\"},\"hovermode\":\"closest\",\"hoverlabel\":{\"align\":\"left\"},\"paper_bgcolor\":\"white\",\"plot_bgcolor\":\"#E5ECF6\",\"polar\":{\"bgcolor\":\"#E5ECF6\",\"angularaxis\":{\"gridcolor\":\"white\",\"linecolor\":\"white\",\"ticks\":\"\"},\"radialaxis\":{\"gridcolor\":\"white\",\"linecolor\":\"white\",\"ticks\":\"\"}},\"ternary\":{\"bgcolor\":\"#E5ECF6\",\"aaxis\":{\"gridcolor\":\"white\",\"linecolor\":\"white\",\"ticks\":\"\"},\"baxis\":{\"gridcolor\":\"white\",\"linecolor\":\"white\",\"ticks\":\"\"},\"caxis\":{\"gridcolor\":\"white\",\"linecolor\":\"white\",\"ticks\":\"\"}},\"coloraxis\":{\"colorbar\":{\"outlinewidth\":0,\"ticks\":\"\"}},\"colorscale\":{\"sequential\":[[0.0,\"#0d0887\"],[0.1111111111111111,\"#46039f\"],[0.2222222222222222,\"#7201a8\"],[0.3333333333333333,\"#9c179e\"],[0.4444444444444444,\"#bd3786\"],[0.5555555555555556,\"#d8576b\"],[0.6666666666666666,\"#ed7953\"],[0.7777777777777778,\"#fb9f3a\"],[0.8888888888888888,\"#fdca26\"],[1.0,\"#f0f921\"]],\"sequentialminus\":[[0.0,\"#0d0887\"],[0.1111111111111111,\"#46039f\"],[0.2222222222222222,\"#7201a8\"],[0.3333333333333333,\"#9c179e\"],[0.4444444444444444,\"#bd3786\"],[0.5555555555555556,\"#d8576b\"],[0.6666666666666666,\"#ed7953\"],[0.7777777777777778,\"#fb9f3a\"],[0.8888888888888888,\"#fdca26\"],[1.0,\"#f0f921\"]],\"diverging\":[[0,\"#8e0152\"],[0.1,\"#c51b7d\"],[0.2,\"#de77ae\"],[0.3,\"#f1b6da\"],[0.4,\"#fde0ef\"],[0.5,\"#f7f7f7\"],[0.6,\"#e6f5d0\"],[0.7,\"#b8e186\"],[0.8,\"#7fbc41\"],[0.9,\"#4d9221\"],[1,\"#276419\"]]},\"xaxis\":{\"gridcolor\":\"white\",\"linecolor\":\"white\",\"ticks\":\"\",\"title\":{\"standoff\":15},\"zerolinecolor\":\"white\",\"automargin\":true,\"zerolinewidth\":2},\"yaxis\":{\"gridcolor\":\"white\",\"linecolor\":\"white\",\"ticks\":\"\",\"title\":{\"standoff\":15},\"zerolinecolor\":\"white\",\"automargin\":true,\"zerolinewidth\":2},\"scene\":{\"xaxis\":{\"backgroundcolor\":\"#E5ECF6\",\"gridcolor\":\"white\",\"linecolor\":\"white\",\"showbackground\":true,\"ticks\":\"\",\"zerolinecolor\":\"white\",\"gridwidth\":2},\"yaxis\":{\"backgroundcolor\":\"#E5ECF6\",\"gridcolor\":\"white\",\"linecolor\":\"white\",\"showbackground\":true,\"ticks\":\"\",\"zerolinecolor\":\"white\",\"gridwidth\":2},\"zaxis\":{\"backgroundcolor\":\"#E5ECF6\",\"gridcolor\":\"white\",\"linecolor\":\"white\",\"showbackground\":true,\"ticks\":\"\",\"zerolinecolor\":\"white\",\"gridwidth\":2}},\"shapedefaults\":{\"line\":{\"color\":\"#2a3f5f\"}},\"annotationdefaults\":{\"arrowcolor\":\"#2a3f5f\",\"arrowhead\":0,\"arrowwidth\":1},\"geo\":{\"bgcolor\":\"white\",\"landcolor\":\"#E5ECF6\",\"subunitcolor\":\"white\",\"showland\":true,\"showlakes\":true,\"lakecolor\":\"white\"},\"title\":{\"x\":0.05},\"mapbox\":{\"style\":\"light\"}}},\"xaxis\":{\"anchor\":\"y\",\"domain\":[0.0,1.0],\"title\":{\"text\":\"Ann\\u00e9e\"}},\"yaxis\":{\"anchor\":\"x\",\"domain\":[0.0,1.0],\"title\":{\"text\":\"Nombre d'accidents\"}},\"legend\":{\"title\":{\"text\":\"region_name\"},\"tracegroupgap\":0},\"margin\":{\"t\":30,\"r\":0,\"l\":0,\"b\":0},\"width\":800,\"height\":500,\"title\":{\"font\":{\"size\":20,\"family\":\"Arial, sans-serif\",\"color\":\"black\"},\"text\":\"\\u003cb\\u003e\\u00c9volution du nombre d'accidents de v\\u00e9los\\u003c\\u002fb\\u003e\",\"y\":0.98,\"x\":0.4,\"xanchor\":\"center\",\"yanchor\":\"top\"}},                        {\"responsive\": true}                    ).then(function(){\n",
       "                            \n",
       "var gd = document.getElementById('513d3694-eaf9-4a08-a558-18f8f75b345b');\n",
       "var x = new MutationObserver(function (mutations, observer) {{\n",
       "        var display = window.getComputedStyle(gd).display;\n",
       "        if (!display || display === 'none') {{\n",
       "            console.log([gd, 'removed!']);\n",
       "            Plotly.purge(gd);\n",
       "            observer.disconnect();\n",
       "        }}\n",
       "}});\n",
       "\n",
       "// Listen for the removal of the full notebook cells\n",
       "var notebookContainer = gd.closest('#notebook-container');\n",
       "if (notebookContainer) {{\n",
       "    x.observe(notebookContainer, {childList: true});\n",
       "}}\n",
       "\n",
       "// Listen for the clearing of the current output cell\n",
       "var outputEl = gd.closest('.output');\n",
       "if (outputEl) {{\n",
       "    x.observe(outputEl, {childList: true});\n",
       "}}\n",
       "\n",
       "                        })                };                });            </script>        </div>"
      ]
     },
     "metadata": {},
     "output_type": "display_data"
    }
   ],
   "source": [
    "\n",
    "# On calcule les occurrences des accidents par année et par région\n",
    "accidents_par_annee_region = data.groupby(['an', 'region_name']).size().reset_index(name='Nombre_d_accidents')\n",
    "# Créer le lineplot pour la courbe évolutive par région\n",
    "fig = px.line(accidents_par_annee_region, x=\"an\", y=\"Nombre_d_accidents\",\n",
    "              color=\"region_name\",\n",
    "              markers=True,\n",
    "              line_dash=\"region_name\",\n",
    "              custom_data=['an', 'region_name', 'Nombre_d_accidents'])\n",
    "\n",
    "# Taille de la figure (largeur, hauteur)\n",
    "fig.update_layout(width=800, height=500)\n",
    "\n",
    "# Ajout titre et axes\n",
    "fig.update_layout(\n",
    "    xaxis_title=\"Année\",\n",
    "    yaxis_title=\"Nombre d'accidents\"\n",
    ")\n",
    "\n",
    "fig.update_layout(margin={\"r\": 0, \"t\": 30, \"l\": 0, \"b\": 0},\n",
    "                  title={\n",
    "                      'text': \"<b>Évolution du nombre d'accidents de vélos</b>\",\n",
    "                      'y': 0.98,\n",
    "                      'x': 0.4,\n",
    "                      'xanchor': 'center',\n",
    "                      'yanchor': 'top',\n",
    "                      'font': {'size': 20, 'family': 'Arial, sans-serif', 'color': 'black'}\n",
    "                  })\n",
    "\n",
    "# Personnalisation du popup\n",
    "fig.update_traces(hovertemplate=\"<br>\".join([\"Année : %{customdata[0]}\",\n",
    "                                             \"Région : %{customdata[1]}\",\n",
    "                                             \"Nombre d'accidents : %{customdata[2]}\"\n",
    "                                             ]))\n",
    "\n",
    "# Afficher le graphique interactif\n",
    "fig.show()"
   ]
  },
  {
   "cell_type": "code",
   "execution_count": 9,
   "id": "dc6f228d-d4ba-4021-a047-77efa934a1f4",
   "metadata": {},
   "outputs": [
    {
     "data": {
      "application/vnd.plotly.v1+json": {
       "config": {
        "plotlyServerURL": "https://plot.ly"
       },
       "data": [
        {
         "customdata": [
          [
           2005,
           6772
          ],
          [
           2006,
           7004
          ],
          [
           2007,
           6871
          ],
          [
           2008,
           6357
          ],
          [
           2009,
           6132
          ],
          [
           2010,
           5665
          ],
          [
           2011,
           5979
          ],
          [
           2012,
           5441
          ],
          [
           2013,
           5424
          ],
          [
           2014,
           5769
          ],
          [
           2015,
           5794
          ],
          [
           2016,
           5848
          ],
          [
           2017,
           6002
          ],
          [
           2018,
           3572
          ],
          [
           2019,
           4072
          ],
          [
           2020,
           3403
          ],
          [
           2021,
           3944
          ]
         ],
         "hovertemplate": "Année : %{customdata[0]}<br>Nombre d'accidents : %{customdata[1]}",
         "legendgroup": "",
         "line": {
          "color": "#636efa",
          "dash": "solid"
         },
         "marker": {
          "symbol": "circle"
         },
         "mode": "lines+markers",
         "name": "",
         "orientation": "v",
         "showlegend": false,
         "type": "scatter",
         "x": [
          2005,
          2006,
          2007,
          2008,
          2009,
          2010,
          2011,
          2012,
          2013,
          2014,
          2015,
          2016,
          2017,
          2018,
          2019,
          2020,
          2021
         ],
         "xaxis": "x",
         "y": [
          6772,
          7004,
          6871,
          6357,
          6132,
          5665,
          5979,
          5441,
          5424,
          5769,
          5794,
          5848,
          6002,
          3572,
          4072,
          3403,
          3944
         ],
         "yaxis": "y"
        }
       ],
       "layout": {
        "height": 500,
        "legend": {
         "tracegroupgap": 0
        },
        "margin": {
         "b": 0,
         "l": 0,
         "r": 0,
         "t": 30
        },
        "template": {
         "data": {
          "bar": [
           {
            "error_x": {
             "color": "#2a3f5f"
            },
            "error_y": {
             "color": "#2a3f5f"
            },
            "marker": {
             "line": {
              "color": "#E5ECF6",
              "width": 0.5
             },
             "pattern": {
              "fillmode": "overlay",
              "size": 10,
              "solidity": 0.2
             }
            },
            "type": "bar"
           }
          ],
          "barpolar": [
           {
            "marker": {
             "line": {
              "color": "#E5ECF6",
              "width": 0.5
             },
             "pattern": {
              "fillmode": "overlay",
              "size": 10,
              "solidity": 0.2
             }
            },
            "type": "barpolar"
           }
          ],
          "carpet": [
           {
            "aaxis": {
             "endlinecolor": "#2a3f5f",
             "gridcolor": "white",
             "linecolor": "white",
             "minorgridcolor": "white",
             "startlinecolor": "#2a3f5f"
            },
            "baxis": {
             "endlinecolor": "#2a3f5f",
             "gridcolor": "white",
             "linecolor": "white",
             "minorgridcolor": "white",
             "startlinecolor": "#2a3f5f"
            },
            "type": "carpet"
           }
          ],
          "choropleth": [
           {
            "colorbar": {
             "outlinewidth": 0,
             "ticks": ""
            },
            "type": "choropleth"
           }
          ],
          "contour": [
           {
            "colorbar": {
             "outlinewidth": 0,
             "ticks": ""
            },
            "colorscale": [
             [
              0,
              "#0d0887"
             ],
             [
              0.1111111111111111,
              "#46039f"
             ],
             [
              0.2222222222222222,
              "#7201a8"
             ],
             [
              0.3333333333333333,
              "#9c179e"
             ],
             [
              0.4444444444444444,
              "#bd3786"
             ],
             [
              0.5555555555555556,
              "#d8576b"
             ],
             [
              0.6666666666666666,
              "#ed7953"
             ],
             [
              0.7777777777777778,
              "#fb9f3a"
             ],
             [
              0.8888888888888888,
              "#fdca26"
             ],
             [
              1,
              "#f0f921"
             ]
            ],
            "type": "contour"
           }
          ],
          "contourcarpet": [
           {
            "colorbar": {
             "outlinewidth": 0,
             "ticks": ""
            },
            "type": "contourcarpet"
           }
          ],
          "heatmap": [
           {
            "colorbar": {
             "outlinewidth": 0,
             "ticks": ""
            },
            "colorscale": [
             [
              0,
              "#0d0887"
             ],
             [
              0.1111111111111111,
              "#46039f"
             ],
             [
              0.2222222222222222,
              "#7201a8"
             ],
             [
              0.3333333333333333,
              "#9c179e"
             ],
             [
              0.4444444444444444,
              "#bd3786"
             ],
             [
              0.5555555555555556,
              "#d8576b"
             ],
             [
              0.6666666666666666,
              "#ed7953"
             ],
             [
              0.7777777777777778,
              "#fb9f3a"
             ],
             [
              0.8888888888888888,
              "#fdca26"
             ],
             [
              1,
              "#f0f921"
             ]
            ],
            "type": "heatmap"
           }
          ],
          "heatmapgl": [
           {
            "colorbar": {
             "outlinewidth": 0,
             "ticks": ""
            },
            "colorscale": [
             [
              0,
              "#0d0887"
             ],
             [
              0.1111111111111111,
              "#46039f"
             ],
             [
              0.2222222222222222,
              "#7201a8"
             ],
             [
              0.3333333333333333,
              "#9c179e"
             ],
             [
              0.4444444444444444,
              "#bd3786"
             ],
             [
              0.5555555555555556,
              "#d8576b"
             ],
             [
              0.6666666666666666,
              "#ed7953"
             ],
             [
              0.7777777777777778,
              "#fb9f3a"
             ],
             [
              0.8888888888888888,
              "#fdca26"
             ],
             [
              1,
              "#f0f921"
             ]
            ],
            "type": "heatmapgl"
           }
          ],
          "histogram": [
           {
            "marker": {
             "pattern": {
              "fillmode": "overlay",
              "size": 10,
              "solidity": 0.2
             }
            },
            "type": "histogram"
           }
          ],
          "histogram2d": [
           {
            "colorbar": {
             "outlinewidth": 0,
             "ticks": ""
            },
            "colorscale": [
             [
              0,
              "#0d0887"
             ],
             [
              0.1111111111111111,
              "#46039f"
             ],
             [
              0.2222222222222222,
              "#7201a8"
             ],
             [
              0.3333333333333333,
              "#9c179e"
             ],
             [
              0.4444444444444444,
              "#bd3786"
             ],
             [
              0.5555555555555556,
              "#d8576b"
             ],
             [
              0.6666666666666666,
              "#ed7953"
             ],
             [
              0.7777777777777778,
              "#fb9f3a"
             ],
             [
              0.8888888888888888,
              "#fdca26"
             ],
             [
              1,
              "#f0f921"
             ]
            ],
            "type": "histogram2d"
           }
          ],
          "histogram2dcontour": [
           {
            "colorbar": {
             "outlinewidth": 0,
             "ticks": ""
            },
            "colorscale": [
             [
              0,
              "#0d0887"
             ],
             [
              0.1111111111111111,
              "#46039f"
             ],
             [
              0.2222222222222222,
              "#7201a8"
             ],
             [
              0.3333333333333333,
              "#9c179e"
             ],
             [
              0.4444444444444444,
              "#bd3786"
             ],
             [
              0.5555555555555556,
              "#d8576b"
             ],
             [
              0.6666666666666666,
              "#ed7953"
             ],
             [
              0.7777777777777778,
              "#fb9f3a"
             ],
             [
              0.8888888888888888,
              "#fdca26"
             ],
             [
              1,
              "#f0f921"
             ]
            ],
            "type": "histogram2dcontour"
           }
          ],
          "mesh3d": [
           {
            "colorbar": {
             "outlinewidth": 0,
             "ticks": ""
            },
            "type": "mesh3d"
           }
          ],
          "parcoords": [
           {
            "line": {
             "colorbar": {
              "outlinewidth": 0,
              "ticks": ""
             }
            },
            "type": "parcoords"
           }
          ],
          "pie": [
           {
            "automargin": true,
            "type": "pie"
           }
          ],
          "scatter": [
           {
            "fillpattern": {
             "fillmode": "overlay",
             "size": 10,
             "solidity": 0.2
            },
            "type": "scatter"
           }
          ],
          "scatter3d": [
           {
            "line": {
             "colorbar": {
              "outlinewidth": 0,
              "ticks": ""
             }
            },
            "marker": {
             "colorbar": {
              "outlinewidth": 0,
              "ticks": ""
             }
            },
            "type": "scatter3d"
           }
          ],
          "scattercarpet": [
           {
            "marker": {
             "colorbar": {
              "outlinewidth": 0,
              "ticks": ""
             }
            },
            "type": "scattercarpet"
           }
          ],
          "scattergeo": [
           {
            "marker": {
             "colorbar": {
              "outlinewidth": 0,
              "ticks": ""
             }
            },
            "type": "scattergeo"
           }
          ],
          "scattergl": [
           {
            "marker": {
             "colorbar": {
              "outlinewidth": 0,
              "ticks": ""
             }
            },
            "type": "scattergl"
           }
          ],
          "scattermapbox": [
           {
            "marker": {
             "colorbar": {
              "outlinewidth": 0,
              "ticks": ""
             }
            },
            "type": "scattermapbox"
           }
          ],
          "scatterpolar": [
           {
            "marker": {
             "colorbar": {
              "outlinewidth": 0,
              "ticks": ""
             }
            },
            "type": "scatterpolar"
           }
          ],
          "scatterpolargl": [
           {
            "marker": {
             "colorbar": {
              "outlinewidth": 0,
              "ticks": ""
             }
            },
            "type": "scatterpolargl"
           }
          ],
          "scatterternary": [
           {
            "marker": {
             "colorbar": {
              "outlinewidth": 0,
              "ticks": ""
             }
            },
            "type": "scatterternary"
           }
          ],
          "surface": [
           {
            "colorbar": {
             "outlinewidth": 0,
             "ticks": ""
            },
            "colorscale": [
             [
              0,
              "#0d0887"
             ],
             [
              0.1111111111111111,
              "#46039f"
             ],
             [
              0.2222222222222222,
              "#7201a8"
             ],
             [
              0.3333333333333333,
              "#9c179e"
             ],
             [
              0.4444444444444444,
              "#bd3786"
             ],
             [
              0.5555555555555556,
              "#d8576b"
             ],
             [
              0.6666666666666666,
              "#ed7953"
             ],
             [
              0.7777777777777778,
              "#fb9f3a"
             ],
             [
              0.8888888888888888,
              "#fdca26"
             ],
             [
              1,
              "#f0f921"
             ]
            ],
            "type": "surface"
           }
          ],
          "table": [
           {
            "cells": {
             "fill": {
              "color": "#EBF0F8"
             },
             "line": {
              "color": "white"
             }
            },
            "header": {
             "fill": {
              "color": "#C8D4E3"
             },
             "line": {
              "color": "white"
             }
            },
            "type": "table"
           }
          ]
         },
         "layout": {
          "annotationdefaults": {
           "arrowcolor": "#2a3f5f",
           "arrowhead": 0,
           "arrowwidth": 1
          },
          "autotypenumbers": "strict",
          "coloraxis": {
           "colorbar": {
            "outlinewidth": 0,
            "ticks": ""
           }
          },
          "colorscale": {
           "diverging": [
            [
             0,
             "#8e0152"
            ],
            [
             0.1,
             "#c51b7d"
            ],
            [
             0.2,
             "#de77ae"
            ],
            [
             0.3,
             "#f1b6da"
            ],
            [
             0.4,
             "#fde0ef"
            ],
            [
             0.5,
             "#f7f7f7"
            ],
            [
             0.6,
             "#e6f5d0"
            ],
            [
             0.7,
             "#b8e186"
            ],
            [
             0.8,
             "#7fbc41"
            ],
            [
             0.9,
             "#4d9221"
            ],
            [
             1,
             "#276419"
            ]
           ],
           "sequential": [
            [
             0,
             "#0d0887"
            ],
            [
             0.1111111111111111,
             "#46039f"
            ],
            [
             0.2222222222222222,
             "#7201a8"
            ],
            [
             0.3333333333333333,
             "#9c179e"
            ],
            [
             0.4444444444444444,
             "#bd3786"
            ],
            [
             0.5555555555555556,
             "#d8576b"
            ],
            [
             0.6666666666666666,
             "#ed7953"
            ],
            [
             0.7777777777777778,
             "#fb9f3a"
            ],
            [
             0.8888888888888888,
             "#fdca26"
            ],
            [
             1,
             "#f0f921"
            ]
           ],
           "sequentialminus": [
            [
             0,
             "#0d0887"
            ],
            [
             0.1111111111111111,
             "#46039f"
            ],
            [
             0.2222222222222222,
             "#7201a8"
            ],
            [
             0.3333333333333333,
             "#9c179e"
            ],
            [
             0.4444444444444444,
             "#bd3786"
            ],
            [
             0.5555555555555556,
             "#d8576b"
            ],
            [
             0.6666666666666666,
             "#ed7953"
            ],
            [
             0.7777777777777778,
             "#fb9f3a"
            ],
            [
             0.8888888888888888,
             "#fdca26"
            ],
            [
             1,
             "#f0f921"
            ]
           ]
          },
          "colorway": [
           "#636efa",
           "#EF553B",
           "#00cc96",
           "#ab63fa",
           "#FFA15A",
           "#19d3f3",
           "#FF6692",
           "#B6E880",
           "#FF97FF",
           "#FECB52"
          ],
          "font": {
           "color": "#2a3f5f"
          },
          "geo": {
           "bgcolor": "white",
           "lakecolor": "white",
           "landcolor": "#E5ECF6",
           "showlakes": true,
           "showland": true,
           "subunitcolor": "white"
          },
          "hoverlabel": {
           "align": "left"
          },
          "hovermode": "closest",
          "mapbox": {
           "style": "light"
          },
          "paper_bgcolor": "white",
          "plot_bgcolor": "#E5ECF6",
          "polar": {
           "angularaxis": {
            "gridcolor": "white",
            "linecolor": "white",
            "ticks": ""
           },
           "bgcolor": "#E5ECF6",
           "radialaxis": {
            "gridcolor": "white",
            "linecolor": "white",
            "ticks": ""
           }
          },
          "scene": {
           "xaxis": {
            "backgroundcolor": "#E5ECF6",
            "gridcolor": "white",
            "gridwidth": 2,
            "linecolor": "white",
            "showbackground": true,
            "ticks": "",
            "zerolinecolor": "white"
           },
           "yaxis": {
            "backgroundcolor": "#E5ECF6",
            "gridcolor": "white",
            "gridwidth": 2,
            "linecolor": "white",
            "showbackground": true,
            "ticks": "",
            "zerolinecolor": "white"
           },
           "zaxis": {
            "backgroundcolor": "#E5ECF6",
            "gridcolor": "white",
            "gridwidth": 2,
            "linecolor": "white",
            "showbackground": true,
            "ticks": "",
            "zerolinecolor": "white"
           }
          },
          "shapedefaults": {
           "line": {
            "color": "#2a3f5f"
           }
          },
          "ternary": {
           "aaxis": {
            "gridcolor": "white",
            "linecolor": "white",
            "ticks": ""
           },
           "baxis": {
            "gridcolor": "white",
            "linecolor": "white",
            "ticks": ""
           },
           "bgcolor": "#E5ECF6",
           "caxis": {
            "gridcolor": "white",
            "linecolor": "white",
            "ticks": ""
           }
          },
          "title": {
           "x": 0.05
          },
          "xaxis": {
           "automargin": true,
           "gridcolor": "white",
           "linecolor": "white",
           "ticks": "",
           "title": {
            "standoff": 15
           },
           "zerolinecolor": "white",
           "zerolinewidth": 2
          },
          "yaxis": {
           "automargin": true,
           "gridcolor": "white",
           "linecolor": "white",
           "ticks": "",
           "title": {
            "standoff": 15
           },
           "zerolinecolor": "white",
           "zerolinewidth": 2
          }
         }
        },
        "title": {
         "font": {
          "color": "black",
          "family": "Arial, sans-serif",
          "size": 20
         },
         "text": "<b>Évolution du nombre d'accidents de vélos par année sur le territoire français</b>",
         "x": 0.5,
         "xanchor": "center",
         "y": 0.98,
         "yanchor": "top"
        },
        "width": 800,
        "xaxis": {
         "anchor": "y",
         "autorange": true,
         "domain": [
          0,
          1
         ],
         "range": [
          2004.0104213864975,
          2021.9895786135025
         ],
         "title": {
          "text": "Année"
         },
         "type": "linear"
        },
        "yaxis": {
         "anchor": "x",
         "autorange": true,
         "domain": [
          0,
          1
         ],
         "range": [
          3163.407773386034,
          7243.592226613966
         ],
         "title": {
          "text": "Nombre d'accidents"
         },
         "type": "linear"
        }
       }
      },
      "image/png": "[encoded data removed]",
      "text/html": [
       "<div>                            <div id=\"36c24e44-3498-4ecc-aa63-5364c3abeb10\" class=\"plotly-graph-div\" style=\"height:500px; width:800px;\"></div>            <script type=\"text/javascript\">                require([\"plotly\"], function(Plotly) {                    window.PLOTLYENV=window.PLOTLYENV || {};                                    if (document.getElementById(\"36c24e44-3498-4ecc-aa63-5364c3abeb10\")) {                    Plotly.newPlot(                        \"36c24e44-3498-4ecc-aa63-5364c3abeb10\",                        [{\"customdata\":[[2005,6772],[2006,7004],[2007,6871],[2008,6357],[2009,6132],[2010,5665],[2011,5979],[2012,5441],[2013,5424],[2014,5769],[2015,5794],[2016,5848],[2017,6002],[2018,3572],[2019,4072],[2020,3403],[2021,3944]],\"hovertemplate\":\"Ann\\u00e9e : %{customdata[0]}\\u003cbr\\u003eNombre d'accidents : %{customdata[1]}\",\"legendgroup\":\"\",\"line\":{\"color\":\"#636efa\",\"dash\":\"solid\"},\"marker\":{\"symbol\":\"circle\"},\"mode\":\"lines+markers\",\"name\":\"\",\"orientation\":\"v\",\"showlegend\":false,\"x\":[2005,2006,2007,2008,2009,2010,2011,2012,2013,2014,2015,2016,2017,2018,2019,2020,2021],\"xaxis\":\"x\",\"y\":[6772,7004,6871,6357,6132,5665,5979,5441,5424,5769,5794,5848,6002,3572,4072,3403,3944],\"yaxis\":\"y\",\"type\":\"scatter\"}],                        {\"template\":{\"data\":{\"histogram2dcontour\":[{\"type\":\"histogram2dcontour\",\"colorbar\":{\"outlinewidth\":0,\"ticks\":\"\"},\"colorscale\":[[0.0,\"#0d0887\"],[0.1111111111111111,\"#46039f\"],[0.2222222222222222,\"#7201a8\"],[0.3333333333333333,\"#9c179e\"],[0.4444444444444444,\"#bd3786\"],[0.5555555555555556,\"#d8576b\"],[0.6666666666666666,\"#ed7953\"],[0.7777777777777778,\"#fb9f3a\"],[0.8888888888888888,\"#fdca26\"],[1.0,\"#f0f921\"]]}],\"choropleth\":[{\"type\":\"choropleth\",\"colorbar\":{\"outlinewidth\":0,\"ticks\":\"\"}}],\"histogram2d\":[{\"type\":\"histogram2d\",\"colorbar\":{\"outlinewidth\":0,\"ticks\":\"\"},\"colorscale\":[[0.0,\"#0d0887\"],[0.1111111111111111,\"#46039f\"],[0.2222222222222222,\"#7201a8\"],[0.3333333333333333,\"#9c179e\"],[0.4444444444444444,\"#bd3786\"],[0.5555555555555556,\"#d8576b\"],[0.6666666666666666,\"#ed7953\"],[0.7777777777777778,\"#fb9f3a\"],[0.8888888888888888,\"#fdca26\"],[1.0,\"#f0f921\"]]}],\"heatmap\":[{\"type\":\"heatmap\",\"colorbar\":{\"outlinewidth\":0,\"ticks\":\"\"},\"colorscale\":[[0.0,\"#0d0887\"],[0.1111111111111111,\"#46039f\"],[0.2222222222222222,\"#7201a8\"],[0.3333333333333333,\"#9c179e\"],[0.4444444444444444,\"#bd3786\"],[0.5555555555555556,\"#d8576b\"],[0.6666666666666666,\"#ed7953\"],[0.7777777777777778,\"#fb9f3a\"],[0.8888888888888888,\"#fdca26\"],[1.0,\"#f0f921\"]]}],\"heatmapgl\":[{\"type\":\"heatmapgl\",\"colorbar\":{\"outlinewidth\":0,\"ticks\":\"\"},\"colorscale\":[[0.0,\"#0d0887\"],[0.1111111111111111,\"#46039f\"],[0.2222222222222222,\"#7201a8\"],[0.3333333333333333,\"#9c179e\"],[0.4444444444444444,\"#bd3786\"],[0.5555555555555556,\"#d8576b\"],[0.6666666666666666,\"#ed7953\"],[0.7777777777777778,\"#fb9f3a\"],[0.8888888888888888,\"#fdca26\"],[1.0,\"#f0f921\"]]}],\"contourcarpet\":[{\"type\":\"contourcarpet\",\"colorbar\":{\"outlinewidth\":0,\"ticks\":\"\"}}],\"contour\":[{\"type\":\"contour\",\"colorbar\":{\"outlinewidth\":0,\"ticks\":\"\"},\"colorscale\":[[0.0,\"#0d0887\"],[0.1111111111111111,\"#46039f\"],[0.2222222222222222,\"#7201a8\"],[0.3333333333333333,\"#9c179e\"],[0.4444444444444444,\"#bd3786\"],[0.5555555555555556,\"#d8576b\"],[0.6666666666666666,\"#ed7953\"],[0.7777777777777778,\"#fb9f3a\"],[0.8888888888888888,\"#fdca26\"],[1.0,\"#f0f921\"]]}],\"surface\":[{\"type\":\"surface\",\"colorbar\":{\"outlinewidth\":0,\"ticks\":\"\"},\"colorscale\":[[0.0,\"#0d0887\"],[0.1111111111111111,\"#46039f\"],[0.2222222222222222,\"#7201a8\"],[0.3333333333333333,\"#9c179e\"],[0.4444444444444444,\"#bd3786\"],[0.5555555555555556,\"#d8576b\"],[0.6666666666666666,\"#ed7953\"],[0.7777777777777778,\"#fb9f3a\"],[0.8888888888888888,\"#fdca26\"],[1.0,\"#f0f921\"]]}],\"mesh3d\":[{\"type\":\"mesh3d\",\"colorbar\":{\"outlinewidth\":0,\"ticks\":\"\"}}],\"scatter\":[{\"fillpattern\":{\"fillmode\":\"overlay\",\"size\":10,\"solidity\":0.2},\"type\":\"scatter\"}],\"parcoords\":[{\"type\":\"parcoords\",\"line\":{\"colorbar\":{\"outlinewidth\":0,\"ticks\":\"\"}}}],\"scatterpolargl\":[{\"type\":\"scatterpolargl\",\"marker\":{\"colorbar\":{\"outlinewidth\":0,\"ticks\":\"\"}}}],\"bar\":[{\"error_x\":{\"color\":\"#2a3f5f\"},\"error_y\":{\"color\":\"#2a3f5f\"},\"marker\":{\"line\":{\"color\":\"#E5ECF6\",\"width\":0.5},\"pattern\":{\"fillmode\":\"overlay\",\"size\":10,\"solidity\":0.2}},\"type\":\"bar\"}],\"scattergeo\":[{\"type\":\"scattergeo\",\"marker\":{\"colorbar\":{\"outlinewidth\":0,\"ticks\":\"\"}}}],\"scatterpolar\":[{\"type\":\"scatterpolar\",\"marker\":{\"colorbar\":{\"outlinewidth\":0,\"ticks\":\"\"}}}],\"histogram\":[{\"marker\":{\"pattern\":{\"fillmode\":\"overlay\",\"size\":10,\"solidity\":0.2}},\"type\":\"histogram\"}],\"scattergl\":[{\"type\":\"scattergl\",\"marker\":{\"colorbar\":{\"outlinewidth\":0,\"ticks\":\"\"}}}],\"scatter3d\":[{\"type\":\"scatter3d\",\"line\":{\"colorbar\":{\"outlinewidth\":0,\"ticks\":\"\"}},\"marker\":{\"colorbar\":{\"outlinewidth\":0,\"ticks\":\"\"}}}],\"scattermapbox\":[{\"type\":\"scattermapbox\",\"marker\":{\"colorbar\":{\"outlinewidth\":0,\"ticks\":\"\"}}}],\"scatterternary\":[{\"type\":\"scatterternary\",\"marker\":{\"colorbar\":{\"outlinewidth\":0,\"ticks\":\"\"}}}],\"scattercarpet\":[{\"type\":\"scattercarpet\",\"marker\":{\"colorbar\":{\"outlinewidth\":0,\"ticks\":\"\"}}}],\"carpet\":[{\"aaxis\":{\"endlinecolor\":\"#2a3f5f\",\"gridcolor\":\"white\",\"linecolor\":\"white\",\"minorgridcolor\":\"white\",\"startlinecolor\":\"#2a3f5f\"},\"baxis\":{\"endlinecolor\":\"#2a3f5f\",\"gridcolor\":\"white\",\"linecolor\":\"white\",\"minorgridcolor\":\"white\",\"startlinecolor\":\"#2a3f5f\"},\"type\":\"carpet\"}],\"table\":[{\"cells\":{\"fill\":{\"color\":\"#EBF0F8\"},\"line\":{\"color\":\"white\"}},\"header\":{\"fill\":{\"color\":\"#C8D4E3\"},\"line\":{\"color\":\"white\"}},\"type\":\"table\"}],\"barpolar\":[{\"marker\":{\"line\":{\"color\":\"#E5ECF6\",\"width\":0.5},\"pattern\":{\"fillmode\":\"overlay\",\"size\":10,\"solidity\":0.2}},\"type\":\"barpolar\"}],\"pie\":[{\"automargin\":true,\"type\":\"pie\"}]},\"layout\":{\"autotypenumbers\":\"strict\",\"colorway\":[\"#636efa\",\"#EF553B\",\"#00cc96\",\"#ab63fa\",\"#FFA15A\",\"#19d3f3\",\"#FF6692\",\"#B6E880\",\"#FF97FF\",\"#FECB52\"],\"font\":{\"color\":\"#2a3f5f\"},\"hovermode\":\"closest\",\"hoverlabel\":{\"align\":\"left\"},\"paper_bgcolor\":\"white\",\"plot_bgcolor\":\"#E5ECF6\",\"polar\":{\"bgcolor\":\"#E5ECF6\",\"angularaxis\":{\"gridcolor\":\"white\",\"linecolor\":\"white\",\"ticks\":\"\"},\"radialaxis\":{\"gridcolor\":\"white\",\"linecolor\":\"white\",\"ticks\":\"\"}},\"ternary\":{\"bgcolor\":\"#E5ECF6\",\"aaxis\":{\"gridcolor\":\"white\",\"linecolor\":\"white\",\"ticks\":\"\"},\"baxis\":{\"gridcolor\":\"white\",\"linecolor\":\"white\",\"ticks\":\"\"},\"caxis\":{\"gridcolor\":\"white\",\"linecolor\":\"white\",\"ticks\":\"\"}},\"coloraxis\":{\"colorbar\":{\"outlinewidth\":0,\"ticks\":\"\"}},\"colorscale\":{\"sequential\":[[0.0,\"#0d0887\"],[0.1111111111111111,\"#46039f\"],[0.2222222222222222,\"#7201a8\"],[0.3333333333333333,\"#9c179e\"],[0.4444444444444444,\"#bd3786\"],[0.5555555555555556,\"#d8576b\"],[0.6666666666666666,\"#ed7953\"],[0.7777777777777778,\"#fb9f3a\"],[0.8888888888888888,\"#fdca26\"],[1.0,\"#f0f921\"]],\"sequentialminus\":[[0.0,\"#0d0887\"],[0.1111111111111111,\"#46039f\"],[0.2222222222222222,\"#7201a8\"],[0.3333333333333333,\"#9c179e\"],[0.4444444444444444,\"#bd3786\"],[0.5555555555555556,\"#d8576b\"],[0.6666666666666666,\"#ed7953\"],[0.7777777777777778,\"#fb9f3a\"],[0.8888888888888888,\"#fdca26\"],[1.0,\"#f0f921\"]],\"diverging\":[[0,\"#8e0152\"],[0.1,\"#c51b7d\"],[0.2,\"#de77ae\"],[0.3,\"#f1b6da\"],[0.4,\"#fde0ef\"],[0.5,\"#f7f7f7\"],[0.6,\"#e6f5d0\"],[0.7,\"#b8e186\"],[0.8,\"#7fbc41\"],[0.9,\"#4d9221\"],[1,\"#276419\"]]},\"xaxis\":{\"gridcolor\":\"white\",\"linecolor\":\"white\",\"ticks\":\"\",\"title\":{\"standoff\":15},\"zerolinecolor\":\"white\",\"automargin\":true,\"zerolinewidth\":2},\"yaxis\":{\"gridcolor\":\"white\",\"linecolor\":\"white\",\"ticks\":\"\",\"title\":{\"standoff\":15},\"zerolinecolor\":\"white\",\"automargin\":true,\"zerolinewidth\":2},\"scene\":{\"xaxis\":{\"backgroundcolor\":\"#E5ECF6\",\"gridcolor\":\"white\",\"linecolor\":\"white\",\"showbackground\":true,\"ticks\":\"\",\"zerolinecolor\":\"white\",\"gridwidth\":2},\"yaxis\":{\"backgroundcolor\":\"#E5ECF6\",\"gridcolor\":\"white\",\"linecolor\":\"white\",\"showbackground\":true,\"ticks\":\"\",\"zerolinecolor\":\"white\",\"gridwidth\":2},\"zaxis\":{\"backgroundcolor\":\"#E5ECF6\",\"gridcolor\":\"white\",\"linecolor\":\"white\",\"showbackground\":true,\"ticks\":\"\",\"zerolinecolor\":\"white\",\"gridwidth\":2}},\"shapedefaults\":{\"line\":{\"color\":\"#2a3f5f\"}},\"annotationdefaults\":{\"arrowcolor\":\"#2a3f5f\",\"arrowhead\":0,\"arrowwidth\":1},\"geo\":{\"bgcolor\":\"white\",\"landcolor\":\"#E5ECF6\",\"subunitcolor\":\"white\",\"showland\":true,\"showlakes\":true,\"lakecolor\":\"white\"},\"title\":{\"x\":0.05},\"mapbox\":{\"style\":\"light\"}}},\"xaxis\":{\"anchor\":\"y\",\"domain\":[0.0,1.0],\"title\":{\"text\":\"Ann\\u00e9e\"}},\"yaxis\":{\"anchor\":\"x\",\"domain\":[0.0,1.0],\"title\":{\"text\":\"Nombre d'accidents\"}},\"legend\":{\"tracegroupgap\":0},\"margin\":{\"t\":30,\"r\":0,\"l\":0,\"b\":0},\"width\":800,\"height\":500,\"title\":{\"font\":{\"size\":20,\"family\":\"Arial, sans-serif\",\"color\":\"black\"},\"text\":\"\\u003cb\\u003e\\u00c9volution du nombre d'accidents de v\\u00e9los par ann\\u00e9e sur le territoire fran\\u00e7ais\\u003c\\u002fb\\u003e\",\"y\":0.98,\"x\":0.5,\"xanchor\":\"center\",\"yanchor\":\"top\"}},                        {\"responsive\": true}                    ).then(function(){\n",
       "                            \n",
       "var gd = document.getElementById('36c24e44-3498-4ecc-aa63-5364c3abeb10');\n",
       "var x = new MutationObserver(function (mutations, observer) {{\n",
       "        var display = window.getComputedStyle(gd).display;\n",
       "        if (!display || display === 'none') {{\n",
       "            console.log([gd, 'removed!']);\n",
       "            Plotly.purge(gd);\n",
       "            observer.disconnect();\n",
       "        }}\n",
       "}});\n",
       "\n",
       "// Listen for the removal of the full notebook cells\n",
       "var notebookContainer = gd.closest('#notebook-container');\n",
       "if (notebookContainer) {{\n",
       "    x.observe(notebookContainer, {childList: true});\n",
       "}}\n",
       "\n",
       "// Listen for the clearing of the current output cell\n",
       "var outputEl = gd.closest('.output');\n",
       "if (outputEl) {{\n",
       "    x.observe(outputEl, {childList: true});\n",
       "}}\n",
       "\n",
       "                        })                };                });            </script>        </div>"
      ]
     },
     "metadata": {},
     "output_type": "display_data"
    }
   ],
   "source": [
    "# on calcul les occurences des accidents par année\n",
    "accidents_par_annee = data.groupby('an').size().reset_index(name='Nombre_d_accidents')\n",
    "# Créer le lineplot pour la courbe évolutive\n",
    "fig = px.line(accidents_par_annee, x=\"an\", y=\"Nombre_d_accidents\",\n",
    "              markers=True,\n",
    "             custom_data= ['an','Nombre_d_accidents'])\n",
    "# taille de la figure (largeur, hauteur)\n",
    "fig.update_layout(width=800, height=500)\n",
    "#  ajout titre et axes\n",
    "fig.update_layout(\n",
    "                  xaxis_title=\"Année\",\n",
    "                  yaxis_title=\"Nombre d'accidents\")\n",
    "fig.update_layout(margin = {\"r\":0,\"t\":30,\"l\":0,\"b\":0},\n",
    "                 title={\n",
    "        'text': \"<b>Évolution du nombre d\\'accidents de vélos en Auvergne rhône-alpes</b>\",\n",
    "        'y': 0.98,\n",
    "        'x': 0.5,\n",
    "        'xanchor': 'center',\n",
    "        'yanchor': 'top',\n",
    "        'font': {'size': 20,'family': 'Arial, sans-serif', 'color': 'black'} \n",
    "    })\n",
    "\n",
    "# Personnalisation du popup\n",
    "fig.update_traces(hovertemplate=\"<br>\".join([\"Année : %{customdata[0]}\",\n",
    "                                             \"Nombre d'accidents : %{customdata[1]}\"\n",
    "                                             ]),selector= 0)\n",
    "\n",
    "# Afficher le graphique interactif\n",
    "fig.show()"
   ]
  },
  {
   "cell_type": "markdown",
   "id": "14d2ec81-46ad-4d26-b34c-123a3de149d2",
   "metadata": {},
   "source": [
    "### 2)"
   ]
  },
  {
   "cell_type": "code",
   "execution_count": 33,
   "id": "8b889d39-b623-47bd-b59b-c61253408607",
   "metadata": {
    "scrolled": true
   },
   "outputs": [
    {
     "data": {
      "application/vnd.plotly.v1+json": {
       "config": {
        "plotlyServerURL": "https://plot.ly"
       },
       "data": [
        {
         "customdata": [
          [
           2005,
           "janvier",
           384
          ],
          [
           2005,
           "février",
           259
          ],
          [
           2005,
           "mars",
           408
          ],
          [
           2005,
           "avril",
           467
          ],
          [
           2005,
           "mai",
           738
          ],
          [
           2005,
           "juin",
           871
          ],
          [
           2005,
           "juillet",
           701
          ],
          [
           2005,
           "août",
           696
          ],
          [
           2005,
           "septembre",
           696
          ],
          [
           2005,
           "octobre",
           692
          ],
          [
           2005,
           "novembre",
           459
          ],
          [
           2005,
           "décembre",
           401
          ]
         ],
         "hovertemplate": "Année : %{customdata[0]}<br>Mois : %{customdata[1]}<br>Nombre d'accidents : %{customdata[2]}",
         "legendgroup": "",
         "line": {
          "color": "#636efa",
          "dash": "solid"
         },
         "marker": {
          "symbol": "circle"
         },
         "mode": "lines+markers",
         "name": "",
         "orientation": "v",
         "showlegend": false,
         "type": "scatter",
         "x": [
          "janvier",
          "février",
          "mars",
          "avril",
          "mai",
          "juin",
          "juillet",
          "août",
          "septembre",
          "octobre",
          "novembre",
          "décembre"
         ],
         "xaxis": "x",
         "y": [
          384,
          259,
          408,
          467,
          738,
          871,
          701,
          696,
          696,
          692,
          459,
          401
         ],
         "yaxis": "y"
        }
       ],
       "frames": [
        {
         "data": [
          {
           "customdata": [
            [
             2005,
             "janvier",
             384
            ],
            [
             2005,
             "février",
             259
            ],
            [
             2005,
             "mars",
             408
            ],
            [
             2005,
             "avril",
             467
            ],
            [
             2005,
             "mai",
             738
            ],
            [
             2005,
             "juin",
             871
            ],
            [
             2005,
             "juillet",
             701
            ],
            [
             2005,
             "août",
             696
            ],
            [
             2005,
             "septembre",
             696
            ],
            [
             2005,
             "octobre",
             692
            ],
            [
             2005,
             "novembre",
             459
            ],
            [
             2005,
             "décembre",
             401
            ]
           ],
           "hovertemplate": "an=2005<br>mois=%{x}<br>Nombre_d_accidents=%{y}<extra></extra>",
           "legendgroup": "",
           "line": {
            "color": "#636efa",
            "dash": "solid"
           },
           "marker": {
            "symbol": "circle"
           },
           "mode": "lines+markers",
           "name": "",
           "orientation": "v",
           "showlegend": false,
           "type": "scatter",
           "x": [
            "janvier",
            "février",
            "mars",
            "avril",
            "mai",
            "juin",
            "juillet",
            "août",
            "septembre",
            "octobre",
            "novembre",
            "décembre"
           ],
           "xaxis": "x",
           "y": [
            384,
            259,
            408,
            467,
            738,
            871,
            701,
            696,
            696,
            692,
            459,
            401
           ],
           "yaxis": "y"
          }
         ],
         "name": "2005"
        },
        {
         "data": [
          {
           "customdata": [
            [
             2006,
             "janvier",
             377
            ],
            [
             2006,
             "février",
             245
            ],
            [
             2006,
             "mars",
             370
            ],
            [
             2006,
             "avril",
             555
            ],
            [
             2006,
             "mai",
             634
            ],
            [
             2006,
             "juin",
             796
            ],
            [
             2006,
             "juillet",
             814
            ],
            [
             2006,
             "août",
             521
            ],
            [
             2006,
             "septembre",
             937
            ],
            [
             2006,
             "octobre",
             741
            ],
            [
             2006,
             "novembre",
             499
            ],
            [
             2006,
             "décembre",
             515
            ]
           ],
           "hovertemplate": "an=2006<br>mois=%{x}<br>Nombre_d_accidents=%{y}<extra></extra>",
           "legendgroup": "",
           "line": {
            "color": "#636efa",
            "dash": "solid"
           },
           "marker": {
            "symbol": "circle"
           },
           "mode": "lines+markers",
           "name": "",
           "orientation": "v",
           "showlegend": false,
           "type": "scatter",
           "x": [
            "janvier",
            "février",
            "mars",
            "avril",
            "mai",
            "juin",
            "juillet",
            "août",
            "septembre",
            "octobre",
            "novembre",
            "décembre"
           ],
           "xaxis": "x",
           "y": [
            377,
            245,
            370,
            555,
            634,
            796,
            814,
            521,
            937,
            741,
            499,
            515
           ],
           "yaxis": "y"
          }
         ],
         "name": "2006"
        },
        {
         "data": [
          {
           "customdata": [
            [
             2007,
             "janvier",
             374
            ],
            [
             2007,
             "février",
             402
            ],
            [
             2007,
             "mars",
             500
            ],
            [
             2007,
             "avril",
             678
            ],
            [
             2007,
             "mai",
             598
            ],
            [
             2007,
             "juin",
             597
            ],
            [
             2007,
             "juillet",
             681
            ],
            [
             2007,
             "août",
             551
            ],
            [
             2007,
             "septembre",
             818
            ],
            [
             2007,
             "octobre",
             680
            ],
            [
             2007,
             "novembre",
             582
            ],
            [
             2007,
             "décembre",
             410
            ]
           ],
           "hovertemplate": "an=2007<br>mois=%{x}<br>Nombre_d_accidents=%{y}<extra></extra>",
           "legendgroup": "",
           "line": {
            "color": "#636efa",
            "dash": "solid"
           },
           "marker": {
            "symbol": "circle"
           },
           "mode": "lines+markers",
           "name": "",
           "orientation": "v",
           "showlegend": false,
           "type": "scatter",
           "x": [
            "janvier",
            "février",
            "mars",
            "avril",
            "mai",
            "juin",
            "juillet",
            "août",
            "septembre",
            "octobre",
            "novembre",
            "décembre"
           ],
           "xaxis": "x",
           "y": [
            374,
            402,
            500,
            678,
            598,
            597,
            681,
            551,
            818,
            680,
            582,
            410
           ],
           "yaxis": "y"
          }
         ],
         "name": "2007"
        },
        {
         "data": [
          {
           "customdata": [
            [
             2008,
             "janvier",
             436
            ],
            [
             2008,
             "février",
             399
            ],
            [
             2008,
             "mars",
             388
            ],
            [
             2008,
             "avril",
             451
            ],
            [
             2008,
             "mai",
             660
            ],
            [
             2008,
             "juin",
             752
            ],
            [
             2008,
             "juillet",
             758
            ],
            [
             2008,
             "août",
             524
            ],
            [
             2008,
             "septembre",
             648
            ],
            [
             2008,
             "octobre",
             556
            ],
            [
             2008,
             "novembre",
             438
            ],
            [
             2008,
             "décembre",
             347
            ]
           ],
           "hovertemplate": "an=2008<br>mois=%{x}<br>Nombre_d_accidents=%{y}<extra></extra>",
           "legendgroup": "",
           "line": {
            "color": "#636efa",
            "dash": "solid"
           },
           "marker": {
            "symbol": "circle"
           },
           "mode": "lines+markers",
           "name": "",
           "orientation": "v",
           "showlegend": false,
           "type": "scatter",
           "x": [
            "janvier",
            "février",
            "mars",
            "avril",
            "mai",
            "juin",
            "juillet",
            "août",
            "septembre",
            "octobre",
            "novembre",
            "décembre"
           ],
           "xaxis": "x",
           "y": [
            436,
            399,
            388,
            451,
            660,
            752,
            758,
            524,
            648,
            556,
            438,
            347
           ],
           "yaxis": "y"
          }
         ],
         "name": "2008"
        },
        {
         "data": [
          {
           "customdata": [
            [
             2009,
             "janvier",
             288
            ],
            [
             2009,
             "février",
             295
            ],
            [
             2009,
             "mars",
             389
            ],
            [
             2009,
             "avril",
             521
            ],
            [
             2009,
             "mai",
             554
            ],
            [
             2009,
             "juin",
             709
            ],
            [
             2009,
             "juillet",
             675
            ],
            [
             2009,
             "août",
             645
            ],
            [
             2009,
             "septembre",
             811
            ],
            [
             2009,
             "octobre",
             558
            ],
            [
             2009,
             "novembre",
             409
            ],
            [
             2009,
             "décembre",
             278
            ]
           ],
           "hovertemplate": "an=2009<br>mois=%{x}<br>Nombre_d_accidents=%{y}<extra></extra>",
           "legendgroup": "",
           "line": {
            "color": "#636efa",
            "dash": "solid"
           },
           "marker": {
            "symbol": "circle"
           },
           "mode": "lines+markers",
           "name": "",
           "orientation": "v",
           "showlegend": false,
           "type": "scatter",
           "x": [
            "janvier",
            "février",
            "mars",
            "avril",
            "mai",
            "juin",
            "juillet",
            "août",
            "septembre",
            "octobre",
            "novembre",
            "décembre"
           ],
           "xaxis": "x",
           "y": [
            288,
            295,
            389,
            521,
            554,
            709,
            675,
            645,
            811,
            558,
            409,
            278
           ],
           "yaxis": "y"
          }
         ],
         "name": "2009"
        },
        {
         "data": [
          {
           "customdata": [
            [
             2010,
             "janvier",
             229
            ],
            [
             2010,
             "février",
             224
            ],
            [
             2010,
             "mars",
             363
            ],
            [
             2010,
             "avril",
             615
            ],
            [
             2010,
             "mai",
             583
            ],
            [
             2010,
             "juin",
             604
            ],
            [
             2010,
             "juillet",
             774
            ],
            [
             2010,
             "août",
             534
            ],
            [
             2010,
             "septembre",
             608
            ],
            [
             2010,
             "octobre",
             554
            ],
            [
             2010,
             "novembre",
             354
            ],
            [
             2010,
             "décembre",
             223
            ]
           ],
           "hovertemplate": "an=2010<br>mois=%{x}<br>Nombre_d_accidents=%{y}<extra></extra>",
           "legendgroup": "",
           "line": {
            "color": "#636efa",
            "dash": "solid"
           },
           "marker": {
            "symbol": "circle"
           },
           "mode": "lines+markers",
           "name": "",
           "orientation": "v",
           "showlegend": false,
           "type": "scatter",
           "x": [
            "janvier",
            "février",
            "mars",
            "avril",
            "mai",
            "juin",
            "juillet",
            "août",
            "septembre",
            "octobre",
            "novembre",
            "décembre"
           ],
           "xaxis": "x",
           "y": [
            229,
            224,
            363,
            615,
            583,
            604,
            774,
            534,
            608,
            554,
            354,
            223
           ],
           "yaxis": "y"
          }
         ],
         "name": "2010"
        },
        {
         "data": [
          {
           "customdata": [
            [
             2011,
             "janvier",
             352
            ],
            [
             2011,
             "février",
             335
            ],
            [
             2011,
             "mars",
             437
            ],
            [
             2011,
             "avril",
             660
            ],
            [
             2011,
             "mai",
             614
            ],
            [
             2011,
             "juin",
             600
            ],
            [
             2011,
             "juillet",
             497
            ],
            [
             2011,
             "août",
             551
            ],
            [
             2011,
             "septembre",
             591
            ],
            [
             2011,
             "octobre",
             561
            ],
            [
             2011,
             "novembre",
             481
            ],
            [
             2011,
             "décembre",
             300
            ]
           ],
           "hovertemplate": "an=2011<br>mois=%{x}<br>Nombre_d_accidents=%{y}<extra></extra>",
           "legendgroup": "",
           "line": {
            "color": "#636efa",
            "dash": "solid"
           },
           "marker": {
            "symbol": "circle"
           },
           "mode": "lines+markers",
           "name": "",
           "orientation": "v",
           "showlegend": false,
           "type": "scatter",
           "x": [
            "janvier",
            "février",
            "mars",
            "avril",
            "mai",
            "juin",
            "juillet",
            "août",
            "septembre",
            "octobre",
            "novembre",
            "décembre"
           ],
           "xaxis": "x",
           "y": [
            352,
            335,
            437,
            660,
            614,
            600,
            497,
            551,
            591,
            561,
            481,
            300
           ],
           "yaxis": "y"
          }
         ],
         "name": "2011"
        },
        {
         "data": [
          {
           "customdata": [
            [
             2012,
             "janvier",
             300
            ],
            [
             2012,
             "février",
             235
            ],
            [
             2012,
             "mars",
             439
            ],
            [
             2012,
             "avril",
             324
            ],
            [
             2012,
             "mai",
             538
            ],
            [
             2012,
             "juin",
             563
            ],
            [
             2012,
             "juillet",
             614
            ],
            [
             2012,
             "août",
             543
            ],
            [
             2012,
             "septembre",
             603
            ],
            [
             2012,
             "octobre",
             643
            ],
            [
             2012,
             "novembre",
             365
            ],
            [
             2012,
             "décembre",
             274
            ]
           ],
           "hovertemplate": "an=2012<br>mois=%{x}<br>Nombre_d_accidents=%{y}<extra></extra>",
           "legendgroup": "",
           "line": {
            "color": "#636efa",
            "dash": "solid"
           },
           "marker": {
            "symbol": "circle"
           },
           "mode": "lines+markers",
           "name": "",
           "orientation": "v",
           "showlegend": false,
           "type": "scatter",
           "x": [
            "janvier",
            "février",
            "mars",
            "avril",
            "mai",
            "juin",
            "juillet",
            "août",
            "septembre",
            "octobre",
            "novembre",
            "décembre"
           ],
           "xaxis": "x",
           "y": [
            300,
            235,
            439,
            324,
            538,
            563,
            614,
            543,
            603,
            643,
            365,
            274
           ],
           "yaxis": "y"
          }
         ],
         "name": "2012"
        },
        {
         "data": [
          {
           "customdata": [
            [
             2013,
             "janvier",
             252
            ],
            [
             2013,
             "février",
             219
            ],
            [
             2013,
             "mars",
             350
            ],
            [
             2013,
             "avril",
             459
            ],
            [
             2013,
             "mai",
             376
            ],
            [
             2013,
             "juin",
             569
            ],
            [
             2013,
             "juillet",
             604
            ],
            [
             2013,
             "août",
             584
            ],
            [
             2013,
             "septembre",
             622
            ],
            [
             2013,
             "octobre",
             611
            ],
            [
             2013,
             "novembre",
             365
            ],
            [
             2013,
             "décembre",
             413
            ]
           ],
           "hovertemplate": "an=2013<br>mois=%{x}<br>Nombre_d_accidents=%{y}<extra></extra>",
           "legendgroup": "",
           "line": {
            "color": "#636efa",
            "dash": "solid"
           },
           "marker": {
            "symbol": "circle"
           },
           "mode": "lines+markers",
           "name": "",
           "orientation": "v",
           "showlegend": false,
           "type": "scatter",
           "x": [
            "janvier",
            "février",
            "mars",
            "avril",
            "mai",
            "juin",
            "juillet",
            "août",
            "septembre",
            "octobre",
            "novembre",
            "décembre"
           ],
           "xaxis": "x",
           "y": [
            252,
            219,
            350,
            459,
            376,
            569,
            604,
            584,
            622,
            611,
            365,
            413
           ],
           "yaxis": "y"
          }
         ],
         "name": "2013"
        },
        {
         "data": [
          {
           "customdata": [
            [
             2014,
             "janvier",
             341
            ],
            [
             2014,
             "février",
             316
            ],
            [
             2014,
             "mars",
             552
            ],
            [
             2014,
             "avril",
             426
            ],
            [
             2014,
             "mai",
             585
            ],
            [
             2014,
             "juin",
             587
            ],
            [
             2014,
             "juillet",
             485
            ],
            [
             2014,
             "août",
             508
            ],
            [
             2014,
             "septembre",
             644
            ],
            [
             2014,
             "octobre",
             591
            ],
            [
             2014,
             "novembre",
             416
            ],
            [
             2014,
             "décembre",
             318
            ]
           ],
           "hovertemplate": "an=2014<br>mois=%{x}<br>Nombre_d_accidents=%{y}<extra></extra>",
           "legendgroup": "",
           "line": {
            "color": "#636efa",
            "dash": "solid"
           },
           "marker": {
            "symbol": "circle"
           },
           "mode": "lines+markers",
           "name": "",
           "orientation": "v",
           "showlegend": false,
           "type": "scatter",
           "x": [
            "janvier",
            "février",
            "mars",
            "avril",
            "mai",
            "juin",
            "juillet",
            "août",
            "septembre",
            "octobre",
            "novembre",
            "décembre"
           ],
           "xaxis": "x",
           "y": [
            341,
            316,
            552,
            426,
            585,
            587,
            485,
            508,
            644,
            591,
            416,
            318
           ],
           "yaxis": "y"
          }
         ],
         "name": "2014"
        },
        {
         "data": [
          {
           "customdata": [
            [
             2015,
             "janvier",
             311
            ],
            [
             2015,
             "février",
             287
            ],
            [
             2015,
             "mars",
             378
            ],
            [
             2015,
             "avril",
             533
            ],
            [
             2015,
             "mai",
             525
            ],
            [
             2015,
             "juin",
             743
            ],
            [
             2015,
             "juillet",
             574
            ],
            [
             2015,
             "août",
             483
            ],
            [
             2015,
             "septembre",
             573
            ],
            [
             2015,
             "octobre",
             435
            ],
            [
             2015,
             "novembre",
             515
            ],
            [
             2015,
             "décembre",
             437
            ]
           ],
           "hovertemplate": "an=2015<br>mois=%{x}<br>Nombre_d_accidents=%{y}<extra></extra>",
           "legendgroup": "",
           "line": {
            "color": "#636efa",
            "dash": "solid"
           },
           "marker": {
            "symbol": "circle"
           },
           "mode": "lines+markers",
           "name": "",
           "orientation": "v",
           "showlegend": false,
           "type": "scatter",
           "x": [
            "janvier",
            "février",
            "mars",
            "avril",
            "mai",
            "juin",
            "juillet",
            "août",
            "septembre",
            "octobre",
            "novembre",
            "décembre"
           ],
           "xaxis": "x",
           "y": [
            311,
            287,
            378,
            533,
            525,
            743,
            574,
            483,
            573,
            435,
            515,
            437
           ],
           "yaxis": "y"
          }
         ],
         "name": "2015"
        },
        {
         "data": [
          {
           "customdata": [
            [
             2016,
             "janvier",
             354
            ],
            [
             2016,
             "février",
             234
            ],
            [
             2016,
             "mars",
             413
            ],
            [
             2016,
             "avril",
             469
            ],
            [
             2016,
             "mai",
             636
            ],
            [
             2016,
             "juin",
             579
            ],
            [
             2016,
             "juillet",
             573
            ],
            [
             2016,
             "août",
             588
            ],
            [
             2016,
             "septembre",
             683
            ],
            [
             2016,
             "octobre",
             521
            ],
            [
             2016,
             "novembre",
             407
            ],
            [
             2016,
             "décembre",
             391
            ]
           ],
           "hovertemplate": "an=2016<br>mois=%{x}<br>Nombre_d_accidents=%{y}<extra></extra>",
           "legendgroup": "",
           "line": {
            "color": "#636efa",
            "dash": "solid"
           },
           "marker": {
            "symbol": "circle"
           },
           "mode": "lines+markers",
           "name": "",
           "orientation": "v",
           "showlegend": false,
           "type": "scatter",
           "x": [
            "janvier",
            "février",
            "mars",
            "avril",
            "mai",
            "juin",
            "juillet",
            "août",
            "septembre",
            "octobre",
            "novembre",
            "décembre"
           ],
           "xaxis": "x",
           "y": [
            354,
            234,
            413,
            469,
            636,
            579,
            573,
            588,
            683,
            521,
            407,
            391
           ],
           "yaxis": "y"
          }
         ],
         "name": "2016"
        },
        {
         "data": [
          {
           "customdata": [
            [
             2017,
             "janvier",
             310
            ],
            [
             2017,
             "février",
             462
            ],
            [
             2017,
             "mars",
             549
            ],
            [
             2017,
             "avril",
             611
            ],
            [
             2017,
             "mai",
             495
            ],
            [
             2017,
             "juin",
             710
            ],
            [
             2017,
             "juillet",
             517
            ],
            [
             2017,
             "août",
             513
            ],
            [
             2017,
             "septembre",
             545
            ],
            [
             2017,
             "octobre",
             594
            ],
            [
             2017,
             "novembre",
             413
            ],
            [
             2017,
             "décembre",
             283
            ]
           ],
           "hovertemplate": "an=2017<br>mois=%{x}<br>Nombre_d_accidents=%{y}<extra></extra>",
           "legendgroup": "",
           "line": {
            "color": "#636efa",
            "dash": "solid"
           },
           "marker": {
            "symbol": "circle"
           },
           "mode": "lines+markers",
           "name": "",
           "orientation": "v",
           "showlegend": false,
           "type": "scatter",
           "x": [
            "janvier",
            "février",
            "mars",
            "avril",
            "mai",
            "juin",
            "juillet",
            "août",
            "septembre",
            "octobre",
            "novembre",
            "décembre"
           ],
           "xaxis": "x",
           "y": [
            310,
            462,
            549,
            611,
            495,
            710,
            517,
            513,
            545,
            594,
            413,
            283
           ],
           "yaxis": "y"
          }
         ],
         "name": "2017"
        },
        {
         "data": [
          {
           "customdata": [
            [
             2018,
             "janvier",
             324
            ],
            [
             2018,
             "février",
             220
            ],
            [
             2018,
             "mars",
             296
            ],
            [
             2018,
             "avril",
             366
            ],
            [
             2018,
             "mai",
             362
            ],
            [
             2018,
             "juin",
             357
            ],
            [
             2018,
             "juillet",
             466
            ],
            [
             2018,
             "août",
             295
            ],
            [
             2018,
             "septembre",
             308
            ],
            [
             2018,
             "octobre",
             276
            ],
            [
             2018,
             "novembre",
             183
            ],
            [
             2018,
             "décembre",
             119
            ]
           ],
           "hovertemplate": "an=2018<br>mois=%{x}<br>Nombre_d_accidents=%{y}<extra></extra>",
           "legendgroup": "",
           "line": {
            "color": "#636efa",
            "dash": "solid"
           },
           "marker": {
            "symbol": "circle"
           },
           "mode": "lines+markers",
           "name": "",
           "orientation": "v",
           "showlegend": false,
           "type": "scatter",
           "x": [
            "janvier",
            "février",
            "mars",
            "avril",
            "mai",
            "juin",
            "juillet",
            "août",
            "septembre",
            "octobre",
            "novembre",
            "décembre"
           ],
           "xaxis": "x",
           "y": [
            324,
            220,
            296,
            366,
            362,
            357,
            466,
            295,
            308,
            276,
            183,
            119
           ],
           "yaxis": "y"
          }
         ],
         "name": "2018"
        },
        {
         "data": [
          {
           "customdata": [
            [
             2019,
             "janvier",
             182
            ],
            [
             2019,
             "février",
             329
            ],
            [
             2019,
             "mars",
             240
            ],
            [
             2019,
             "avril",
             357
            ],
            [
             2019,
             "mai",
             412
            ],
            [
             2019,
             "juin",
             424
            ],
            [
             2019,
             "juillet",
             540
            ],
            [
             2019,
             "août",
             457
            ],
            [
             2019,
             "septembre",
             446
            ],
            [
             2019,
             "octobre",
             249
            ],
            [
             2019,
             "novembre",
             170
            ],
            [
             2019,
             "décembre",
             266
            ]
           ],
           "hovertemplate": "an=2019<br>mois=%{x}<br>Nombre_d_accidents=%{y}<extra></extra>",
           "legendgroup": "",
           "line": {
            "color": "#636efa",
            "dash": "solid"
           },
           "marker": {
            "symbol": "circle"
           },
           "mode": "lines+markers",
           "name": "",
           "orientation": "v",
           "showlegend": false,
           "type": "scatter",
           "x": [
            "janvier",
            "février",
            "mars",
            "avril",
            "mai",
            "juin",
            "juillet",
            "août",
            "septembre",
            "octobre",
            "novembre",
            "décembre"
           ],
           "xaxis": "x",
           "y": [
            182,
            329,
            240,
            357,
            412,
            424,
            540,
            457,
            446,
            249,
            170,
            266
           ],
           "yaxis": "y"
          }
         ],
         "name": "2019"
        },
        {
         "data": [
          {
           "customdata": [
            [
             2020,
             "janvier",
             422
            ],
            [
             2020,
             "février",
             193
            ],
            [
             2020,
             "mars",
             104
            ],
            [
             2020,
             "avril",
             56
            ],
            [
             2020,
             "mai",
             293
            ],
            [
             2020,
             "juin",
             430
            ],
            [
             2020,
             "juillet",
             399
            ],
            [
             2020,
             "août",
             342
            ],
            [
             2020,
             "septembre",
             516
            ],
            [
             2020,
             "octobre",
             250
            ],
            [
             2020,
             "novembre",
             186
            ],
            [
             2020,
             "décembre",
             212
            ]
           ],
           "hovertemplate": "an=2020<br>mois=%{x}<br>Nombre_d_accidents=%{y}<extra></extra>",
           "legendgroup": "",
           "line": {
            "color": "#636efa",
            "dash": "solid"
           },
           "marker": {
            "symbol": "circle"
           },
           "mode": "lines+markers",
           "name": "",
           "orientation": "v",
           "showlegend": false,
           "type": "scatter",
           "x": [
            "janvier",
            "février",
            "mars",
            "avril",
            "mai",
            "juin",
            "juillet",
            "août",
            "septembre",
            "octobre",
            "novembre",
            "décembre"
           ],
           "xaxis": "x",
           "y": [
            422,
            193,
            104,
            56,
            293,
            430,
            399,
            342,
            516,
            250,
            186,
            212
           ],
           "yaxis": "y"
          }
         ],
         "name": "2020"
        },
        {
         "data": [
          {
           "customdata": [
            [
             2021,
             "janvier",
             234
            ],
            [
             2021,
             "février",
             242
            ],
            [
             2021,
             "mars",
             318
            ],
            [
             2021,
             "avril",
             318
            ],
            [
             2021,
             "mai",
             330
            ],
            [
             2021,
             "juin",
             483
            ],
            [
             2021,
             "juillet",
             417
            ],
            [
             2021,
             "août",
             398
            ],
            [
             2021,
             "septembre",
             396
            ],
            [
             2021,
             "octobre",
             400
            ],
            [
             2021,
             "novembre",
             196
            ],
            [
             2021,
             "décembre",
             212
            ]
           ],
           "hovertemplate": "an=2021<br>mois=%{x}<br>Nombre_d_accidents=%{y}<extra></extra>",
           "legendgroup": "",
           "line": {
            "color": "#636efa",
            "dash": "solid"
           },
           "marker": {
            "symbol": "circle"
           },
           "mode": "lines+markers",
           "name": "",
           "orientation": "v",
           "showlegend": false,
           "type": "scatter",
           "x": [
            "janvier",
            "février",
            "mars",
            "avril",
            "mai",
            "juin",
            "juillet",
            "août",
            "septembre",
            "octobre",
            "novembre",
            "décembre"
           ],
           "xaxis": "x",
           "y": [
            234,
            242,
            318,
            318,
            330,
            483,
            417,
            398,
            396,
            400,
            196,
            212
           ],
           "yaxis": "y"
          }
         ],
         "name": "2021"
        }
       ],
       "layout": {
        "height": 500,
        "legend": {
         "tracegroupgap": 0
        },
        "margin": {
         "b": 0,
         "l": 0,
         "r": 0,
         "t": 30
        },
        "sliders": [
         {
          "active": 0,
          "currentvalue": {
           "prefix": "an="
          },
          "len": 0.9,
          "pad": {
           "b": 10,
           "t": 60
          },
          "steps": [
           {
            "args": [
             [
              "2005"
             ],
             {
              "frame": {
               "duration": 0,
               "redraw": false
              },
              "fromcurrent": true,
              "mode": "immediate",
              "transition": {
               "duration": 0,
               "easing": "linear"
              }
             }
            ],
            "label": "2005",
            "method": "animate"
           },
           {
            "args": [
             [
              "2006"
             ],
             {
              "frame": {
               "duration": 0,
               "redraw": false
              },
              "fromcurrent": true,
              "mode": "immediate",
              "transition": {
               "duration": 0,
               "easing": "linear"
              }
             }
            ],
            "label": "2006",
            "method": "animate"
           },
           {
            "args": [
             [
              "2007"
             ],
             {
              "frame": {
               "duration": 0,
               "redraw": false
              },
              "fromcurrent": true,
              "mode": "immediate",
              "transition": {
               "duration": 0,
               "easing": "linear"
              }
             }
            ],
            "label": "2007",
            "method": "animate"
           },
           {
            "args": [
             [
              "2008"
             ],
             {
              "frame": {
               "duration": 0,
               "redraw": false
              },
              "fromcurrent": true,
              "mode": "immediate",
              "transition": {
               "duration": 0,
               "easing": "linear"
              }
             }
            ],
            "label": "2008",
            "method": "animate"
           },
           {
            "args": [
             [
              "2009"
             ],
             {
              "frame": {
               "duration": 0,
               "redraw": false
              },
              "fromcurrent": true,
              "mode": "immediate",
              "transition": {
               "duration": 0,
               "easing": "linear"
              }
             }
            ],
            "label": "2009",
            "method": "animate"
           },
           {
            "args": [
             [
              "2010"
             ],
             {
              "frame": {
               "duration": 0,
               "redraw": false
              },
              "fromcurrent": true,
              "mode": "immediate",
              "transition": {
               "duration": 0,
               "easing": "linear"
              }
             }
            ],
            "label": "2010",
            "method": "animate"
           },
           {
            "args": [
             [
              "2011"
             ],
             {
              "frame": {
               "duration": 0,
               "redraw": false
              },
              "fromcurrent": true,
              "mode": "immediate",
              "transition": {
               "duration": 0,
               "easing": "linear"
              }
             }
            ],
            "label": "2011",
            "method": "animate"
           },
           {
            "args": [
             [
              "2012"
             ],
             {
              "frame": {
               "duration": 0,
               "redraw": false
              },
              "fromcurrent": true,
              "mode": "immediate",
              "transition": {
               "duration": 0,
               "easing": "linear"
              }
             }
            ],
            "label": "2012",
            "method": "animate"
           },
           {
            "args": [
             [
              "2013"
             ],
             {
              "frame": {
               "duration": 0,
               "redraw": false
              },
              "fromcurrent": true,
              "mode": "immediate",
              "transition": {
               "duration": 0,
               "easing": "linear"
              }
             }
            ],
            "label": "2013",
            "method": "animate"
           },
           {
            "args": [
             [
              "2014"
             ],
             {
              "frame": {
               "duration": 0,
               "redraw": false
              },
              "fromcurrent": true,
              "mode": "immediate",
              "transition": {
               "duration": 0,
               "easing": "linear"
              }
             }
            ],
            "label": "2014",
            "method": "animate"
           },
           {
            "args": [
             [
              "2015"
             ],
             {
              "frame": {
               "duration": 0,
               "redraw": false
              },
              "fromcurrent": true,
              "mode": "immediate",
              "transition": {
               "duration": 0,
               "easing": "linear"
              }
             }
            ],
            "label": "2015",
            "method": "animate"
           },
           {
            "args": [
             [
              "2016"
             ],
             {
              "frame": {
               "duration": 0,
               "redraw": false
              },
              "fromcurrent": true,
              "mode": "immediate",
              "transition": {
               "duration": 0,
               "easing": "linear"
              }
             }
            ],
            "label": "2016",
            "method": "animate"
           },
           {
            "args": [
             [
              "2017"
             ],
             {
              "frame": {
               "duration": 0,
               "redraw": false
              },
              "fromcurrent": true,
              "mode": "immediate",
              "transition": {
               "duration": 0,
               "easing": "linear"
              }
             }
            ],
            "label": "2017",
            "method": "animate"
           },
           {
            "args": [
             [
              "2018"
             ],
             {
              "frame": {
               "duration": 0,
               "redraw": false
              },
              "fromcurrent": true,
              "mode": "immediate",
              "transition": {
               "duration": 0,
               "easing": "linear"
              }
             }
            ],
            "label": "2018",
            "method": "animate"
           },
           {
            "args": [
             [
              "2019"
             ],
             {
              "frame": {
               "duration": 0,
               "redraw": false
              },
              "fromcurrent": true,
              "mode": "immediate",
              "transition": {
               "duration": 0,
               "easing": "linear"
              }
             }
            ],
            "label": "2019",
            "method": "animate"
           },
           {
            "args": [
             [
              "2020"
             ],
             {
              "frame": {
               "duration": 0,
               "redraw": false
              },
              "fromcurrent": true,
              "mode": "immediate",
              "transition": {
               "duration": 0,
               "easing": "linear"
              }
             }
            ],
            "label": "2020",
            "method": "animate"
           },
           {
            "args": [
             [
              "2021"
             ],
             {
              "frame": {
               "duration": 0,
               "redraw": false
              },
              "fromcurrent": true,
              "mode": "immediate",
              "transition": {
               "duration": 0,
               "easing": "linear"
              }
             }
            ],
            "label": "2021",
            "method": "animate"
           }
          ],
          "x": 0.1,
          "xanchor": "left",
          "y": 0,
          "yanchor": "top"
         }
        ],
        "template": {
         "data": {
          "bar": [
           {
            "error_x": {
             "color": "#2a3f5f"
            },
            "error_y": {
             "color": "#2a3f5f"
            },
            "marker": {
             "line": {
              "color": "#E5ECF6",
              "width": 0.5
             },
             "pattern": {
              "fillmode": "overlay",
              "size": 10,
              "solidity": 0.2
             }
            },
            "type": "bar"
           }
          ],
          "barpolar": [
           {
            "marker": {
             "line": {
              "color": "#E5ECF6",
              "width": 0.5
             },
             "pattern": {
              "fillmode": "overlay",
              "size": 10,
              "solidity": 0.2
             }
            },
            "type": "barpolar"
           }
          ],
          "carpet": [
           {
            "aaxis": {
             "endlinecolor": "#2a3f5f",
             "gridcolor": "white",
             "linecolor": "white",
             "minorgridcolor": "white",
             "startlinecolor": "#2a3f5f"
            },
            "baxis": {
             "endlinecolor": "#2a3f5f",
             "gridcolor": "white",
             "linecolor": "white",
             "minorgridcolor": "white",
             "startlinecolor": "#2a3f5f"
            },
            "type": "carpet"
           }
          ],
          "choropleth": [
           {
            "colorbar": {
             "outlinewidth": 0,
             "ticks": ""
            },
            "type": "choropleth"
           }
          ],
          "contour": [
           {
            "colorbar": {
             "outlinewidth": 0,
             "ticks": ""
            },
            "colorscale": [
             [
              0,
              "#0d0887"
             ],
             [
              0.1111111111111111,
              "#46039f"
             ],
             [
              0.2222222222222222,
              "#7201a8"
             ],
             [
              0.3333333333333333,
              "#9c179e"
             ],
             [
              0.4444444444444444,
              "#bd3786"
             ],
             [
              0.5555555555555556,
              "#d8576b"
             ],
             [
              0.6666666666666666,
              "#ed7953"
             ],
             [
              0.7777777777777778,
              "#fb9f3a"
             ],
             [
              0.8888888888888888,
              "#fdca26"
             ],
             [
              1,
              "#f0f921"
             ]
            ],
            "type": "contour"
           }
          ],
          "contourcarpet": [
           {
            "colorbar": {
             "outlinewidth": 0,
             "ticks": ""
            },
            "type": "contourcarpet"
           }
          ],
          "heatmap": [
           {
            "colorbar": {
             "outlinewidth": 0,
             "ticks": ""
            },
            "colorscale": [
             [
              0,
              "#0d0887"
             ],
             [
              0.1111111111111111,
              "#46039f"
             ],
             [
              0.2222222222222222,
              "#7201a8"
             ],
             [
              0.3333333333333333,
              "#9c179e"
             ],
             [
              0.4444444444444444,
              "#bd3786"
             ],
             [
              0.5555555555555556,
              "#d8576b"
             ],
             [
              0.6666666666666666,
              "#ed7953"
             ],
             [
              0.7777777777777778,
              "#fb9f3a"
             ],
             [
              0.8888888888888888,
              "#fdca26"
             ],
             [
              1,
              "#f0f921"
             ]
            ],
            "type": "heatmap"
           }
          ],
          "heatmapgl": [
           {
            "colorbar": {
             "outlinewidth": 0,
             "ticks": ""
            },
            "colorscale": [
             [
              0,
              "#0d0887"
             ],
             [
              0.1111111111111111,
              "#46039f"
             ],
             [
              0.2222222222222222,
              "#7201a8"
             ],
             [
              0.3333333333333333,
              "#9c179e"
             ],
             [
              0.4444444444444444,
              "#bd3786"
             ],
             [
              0.5555555555555556,
              "#d8576b"
             ],
             [
              0.6666666666666666,
              "#ed7953"
             ],
             [
              0.7777777777777778,
              "#fb9f3a"
             ],
             [
              0.8888888888888888,
              "#fdca26"
             ],
             [
              1,
              "#f0f921"
             ]
            ],
            "type": "heatmapgl"
           }
          ],
          "histogram": [
           {
            "marker": {
             "pattern": {
              "fillmode": "overlay",
              "size": 10,
              "solidity": 0.2
             }
            },
            "type": "histogram"
           }
          ],
          "histogram2d": [
           {
            "colorbar": {
             "outlinewidth": 0,
             "ticks": ""
            },
            "colorscale": [
             [
              0,
              "#0d0887"
             ],
             [
              0.1111111111111111,
              "#46039f"
             ],
             [
              0.2222222222222222,
              "#7201a8"
             ],
             [
              0.3333333333333333,
              "#9c179e"
             ],
             [
              0.4444444444444444,
              "#bd3786"
             ],
             [
              0.5555555555555556,
              "#d8576b"
             ],
             [
              0.6666666666666666,
              "#ed7953"
             ],
             [
              0.7777777777777778,
              "#fb9f3a"
             ],
             [
              0.8888888888888888,
              "#fdca26"
             ],
             [
              1,
              "#f0f921"
             ]
            ],
            "type": "histogram2d"
           }
          ],
          "histogram2dcontour": [
           {
            "colorbar": {
             "outlinewidth": 0,
             "ticks": ""
            },
            "colorscale": [
             [
              0,
              "#0d0887"
             ],
             [
              0.1111111111111111,
              "#46039f"
             ],
             [
              0.2222222222222222,
              "#7201a8"
             ],
             [
              0.3333333333333333,
              "#9c179e"
             ],
             [
              0.4444444444444444,
              "#bd3786"
             ],
             [
              0.5555555555555556,
              "#d8576b"
             ],
             [
              0.6666666666666666,
              "#ed7953"
             ],
             [
              0.7777777777777778,
              "#fb9f3a"
             ],
             [
              0.8888888888888888,
              "#fdca26"
             ],
             [
              1,
              "#f0f921"
             ]
            ],
            "type": "histogram2dcontour"
           }
          ],
          "mesh3d": [
           {
            "colorbar": {
             "outlinewidth": 0,
             "ticks": ""
            },
            "type": "mesh3d"
           }
          ],
          "parcoords": [
           {
            "line": {
             "colorbar": {
              "outlinewidth": 0,
              "ticks": ""
             }
            },
            "type": "parcoords"
           }
          ],
          "pie": [
           {
            "automargin": true,
            "type": "pie"
           }
          ],
          "scatter": [
           {
            "fillpattern": {
             "fillmode": "overlay",
             "size": 10,
             "solidity": 0.2
            },
            "type": "scatter"
           }
          ],
          "scatter3d": [
           {
            "line": {
             "colorbar": {
              "outlinewidth": 0,
              "ticks": ""
             }
            },
            "marker": {
             "colorbar": {
              "outlinewidth": 0,
              "ticks": ""
             }
            },
            "type": "scatter3d"
           }
          ],
          "scattercarpet": [
           {
            "marker": {
             "colorbar": {
              "outlinewidth": 0,
              "ticks": ""
             }
            },
            "type": "scattercarpet"
           }
          ],
          "scattergeo": [
           {
            "marker": {
             "colorbar": {
              "outlinewidth": 0,
              "ticks": ""
             }
            },
            "type": "scattergeo"
           }
          ],
          "scattergl": [
           {
            "marker": {
             "colorbar": {
              "outlinewidth": 0,
              "ticks": ""
             }
            },
            "type": "scattergl"
           }
          ],
          "scattermapbox": [
           {
            "marker": {
             "colorbar": {
              "outlinewidth": 0,
              "ticks": ""
             }
            },
            "type": "scattermapbox"
           }
          ],
          "scatterpolar": [
           {
            "marker": {
             "colorbar": {
              "outlinewidth": 0,
              "ticks": ""
             }
            },
            "type": "scatterpolar"
           }
          ],
          "scatterpolargl": [
           {
            "marker": {
             "colorbar": {
              "outlinewidth": 0,
              "ticks": ""
             }
            },
            "type": "scatterpolargl"
           }
          ],
          "scatterternary": [
           {
            "marker": {
             "colorbar": {
              "outlinewidth": 0,
              "ticks": ""
             }
            },
            "type": "scatterternary"
           }
          ],
          "surface": [
           {
            "colorbar": {
             "outlinewidth": 0,
             "ticks": ""
            },
            "colorscale": [
             [
              0,
              "#0d0887"
             ],
             [
              0.1111111111111111,
              "#46039f"
             ],
             [
              0.2222222222222222,
              "#7201a8"
             ],
             [
              0.3333333333333333,
              "#9c179e"
             ],
             [
              0.4444444444444444,
              "#bd3786"
             ],
             [
              0.5555555555555556,
              "#d8576b"
             ],
             [
              0.6666666666666666,
              "#ed7953"
             ],
             [
              0.7777777777777778,
              "#fb9f3a"
             ],
             [
              0.8888888888888888,
              "#fdca26"
             ],
             [
              1,
              "#f0f921"
             ]
            ],
            "type": "surface"
           }
          ],
          "table": [
           {
            "cells": {
             "fill": {
              "color": "#EBF0F8"
             },
             "line": {
              "color": "white"
             }
            },
            "header": {
             "fill": {
              "color": "#C8D4E3"
             },
             "line": {
              "color": "white"
             }
            },
            "type": "table"
           }
          ]
         },
         "layout": {
          "annotationdefaults": {
           "arrowcolor": "#2a3f5f",
           "arrowhead": 0,
           "arrowwidth": 1
          },
          "autotypenumbers": "strict",
          "coloraxis": {
           "colorbar": {
            "outlinewidth": 0,
            "ticks": ""
           }
          },
          "colorscale": {
           "diverging": [
            [
             0,
             "#8e0152"
            ],
            [
             0.1,
             "#c51b7d"
            ],
            [
             0.2,
             "#de77ae"
            ],
            [
             0.3,
             "#f1b6da"
            ],
            [
             0.4,
             "#fde0ef"
            ],
            [
             0.5,
             "#f7f7f7"
            ],
            [
             0.6,
             "#e6f5d0"
            ],
            [
             0.7,
             "#b8e186"
            ],
            [
             0.8,
             "#7fbc41"
            ],
            [
             0.9,
             "#4d9221"
            ],
            [
             1,
             "#276419"
            ]
           ],
           "sequential": [
            [
             0,
             "#0d0887"
            ],
            [
             0.1111111111111111,
             "#46039f"
            ],
            [
             0.2222222222222222,
             "#7201a8"
            ],
            [
             0.3333333333333333,
             "#9c179e"
            ],
            [
             0.4444444444444444,
             "#bd3786"
            ],
            [
             0.5555555555555556,
             "#d8576b"
            ],
            [
             0.6666666666666666,
             "#ed7953"
            ],
            [
             0.7777777777777778,
             "#fb9f3a"
            ],
            [
             0.8888888888888888,
             "#fdca26"
            ],
            [
             1,
             "#f0f921"
            ]
           ],
           "sequentialminus": [
            [
             0,
             "#0d0887"
            ],
            [
             0.1111111111111111,
             "#46039f"
            ],
            [
             0.2222222222222222,
             "#7201a8"
            ],
            [
             0.3333333333333333,
             "#9c179e"
            ],
            [
             0.4444444444444444,
             "#bd3786"
            ],
            [
             0.5555555555555556,
             "#d8576b"
            ],
            [
             0.6666666666666666,
             "#ed7953"
            ],
            [
             0.7777777777777778,
             "#fb9f3a"
            ],
            [
             0.8888888888888888,
             "#fdca26"
            ],
            [
             1,
             "#f0f921"
            ]
           ]
          },
          "colorway": [
           "#636efa",
           "#EF553B",
           "#00cc96",
           "#ab63fa",
           "#FFA15A",
           "#19d3f3",
           "#FF6692",
           "#B6E880",
           "#FF97FF",
           "#FECB52"
          ],
          "font": {
           "color": "#2a3f5f"
          },
          "geo": {
           "bgcolor": "white",
           "lakecolor": "white",
           "landcolor": "#E5ECF6",
           "showlakes": true,
           "showland": true,
           "subunitcolor": "white"
          },
          "hoverlabel": {
           "align": "left"
          },
          "hovermode": "closest",
          "mapbox": {
           "style": "light"
          },
          "paper_bgcolor": "white",
          "plot_bgcolor": "#E5ECF6",
          "polar": {
           "angularaxis": {
            "gridcolor": "white",
            "linecolor": "white",
            "ticks": ""
           },
           "bgcolor": "#E5ECF6",
           "radialaxis": {
            "gridcolor": "white",
            "linecolor": "white",
            "ticks": ""
           }
          },
          "scene": {
           "xaxis": {
            "backgroundcolor": "#E5ECF6",
            "gridcolor": "white",
            "gridwidth": 2,
            "linecolor": "white",
            "showbackground": true,
            "ticks": "",
            "zerolinecolor": "white"
           },
           "yaxis": {
            "backgroundcolor": "#E5ECF6",
            "gridcolor": "white",
            "gridwidth": 2,
            "linecolor": "white",
            "showbackground": true,
            "ticks": "",
            "zerolinecolor": "white"
           },
           "zaxis": {
            "backgroundcolor": "#E5ECF6",
            "gridcolor": "white",
            "gridwidth": 2,
            "linecolor": "white",
            "showbackground": true,
            "ticks": "",
            "zerolinecolor": "white"
           }
          },
          "shapedefaults": {
           "line": {
            "color": "#2a3f5f"
           }
          },
          "ternary": {
           "aaxis": {
            "gridcolor": "white",
            "linecolor": "white",
            "ticks": ""
           },
           "baxis": {
            "gridcolor": "white",
            "linecolor": "white",
            "ticks": ""
           },
           "bgcolor": "#E5ECF6",
           "caxis": {
            "gridcolor": "white",
            "linecolor": "white",
            "ticks": ""
           }
          },
          "title": {
           "x": 0.05
          },
          "xaxis": {
           "automargin": true,
           "gridcolor": "white",
           "linecolor": "white",
           "ticks": "",
           "title": {
            "standoff": 15
           },
           "zerolinecolor": "white",
           "zerolinewidth": 2
          },
          "yaxis": {
           "automargin": true,
           "gridcolor": "white",
           "linecolor": "white",
           "ticks": "",
           "title": {
            "standoff": 15
           },
           "zerolinecolor": "white",
           "zerolinewidth": 2
          }
         }
        },
        "title": {
         "font": {
          "color": "black",
          "family": "Arial, sans-serif",
          "size": 20
         },
         "text": "<b>Évolution du nombre d'accidents de vélos par année sur le territoire français</b>",
         "x": 0.5,
         "xanchor": "center",
         "y": 0.98,
         "yanchor": "top"
        },
        "updatemenus": [
         {
          "buttons": [
           {
            "args": [
             null,
             {
              "frame": {
               "duration": 1500,
               "redraw": false
              },
              "fromcurrent": true,
              "mode": "immediate",
              "transition": {
               "duration": 500,
               "easing": "linear"
              }
             }
            ],
            "label": "&#9654;",
            "method": "animate"
           },
           {
            "args": [
             [
              null
             ],
             {
              "frame": {
               "duration": 0,
               "redraw": false
              },
              "fromcurrent": true,
              "mode": "immediate",
              "transition": {
               "duration": 0,
               "easing": "linear"
              }
             }
            ],
            "label": "&#9724;",
            "method": "animate"
           }
          ],
          "direction": "left",
          "pad": {
           "r": 10,
           "t": 70
          },
          "showactive": false,
          "type": "buttons",
          "x": 0.1,
          "xanchor": "right",
          "y": 0,
          "yanchor": "top"
         }
        ],
        "width": 800,
        "xaxis": {
         "anchor": "y",
         "autorange": true,
         "domain": [
          0,
          1
         ],
         "range": [
          -0.6817761332099909,
          11.681776133209992
         ],
         "title": {
          "text": "mois"
         },
         "type": "category"
        },
        "yaxis": {
         "anchor": "x",
         "domain": [
          0,
          1
         ],
         "range": [
          0,
          1100
         ],
         "title": {
          "text": "Nombre d'accidents"
         },
         "type": "linear"
        }
       }
      },
      "image/png": "[encoded data removed]",
      "text/html": [
       "<div>                            <div id=\"67ec1acf-e1df-4c53-80ed-ff81b26eea6d\" class=\"plotly-graph-div\" style=\"height:500px; width:800px;\"></div>            <script type=\"text/javascript\">                require([\"plotly\"], function(Plotly) {                    window.PLOTLYENV=window.PLOTLYENV || {};                                    if (document.getElementById(\"67ec1acf-e1df-4c53-80ed-ff81b26eea6d\")) {                    Plotly.newPlot(                        \"67ec1acf-e1df-4c53-80ed-ff81b26eea6d\",                        [{\"customdata\":[[2005,\"janvier\",384],[2005,\"f\\u00e9vrier\",259],[2005,\"mars\",408],[2005,\"avril\",467],[2005,\"mai\",738],[2005,\"juin\",871],[2005,\"juillet\",701],[2005,\"ao\\u00fbt\",696],[2005,\"septembre\",696],[2005,\"octobre\",692],[2005,\"novembre\",459],[2005,\"d\\u00e9cembre\",401]],\"hovertemplate\":\"Ann\\u00e9e : %{customdata[0]}\\u003cbr\\u003eMois : %{customdata[1]}\\u003cbr\\u003eNombre d'accidents : %{customdata[2]}\",\"legendgroup\":\"\",\"line\":{\"color\":\"#636efa\",\"dash\":\"solid\"},\"marker\":{\"symbol\":\"circle\"},\"mode\":\"lines+markers\",\"name\":\"\",\"orientation\":\"v\",\"showlegend\":false,\"x\":[\"janvier\",\"f\\u00e9vrier\",\"mars\",\"avril\",\"mai\",\"juin\",\"juillet\",\"ao\\u00fbt\",\"septembre\",\"octobre\",\"novembre\",\"d\\u00e9cembre\"],\"xaxis\":\"x\",\"y\":[384,259,408,467,738,871,701,696,696,692,459,401],\"yaxis\":\"y\",\"type\":\"scatter\"}],                        {\"template\":{\"data\":{\"histogram2dcontour\":[{\"type\":\"histogram2dcontour\",\"colorbar\":{\"outlinewidth\":0,\"ticks\":\"\"},\"colorscale\":[[0.0,\"#0d0887\"],[0.1111111111111111,\"#46039f\"],[0.2222222222222222,\"#7201a8\"],[0.3333333333333333,\"#9c179e\"],[0.4444444444444444,\"#bd3786\"],[0.5555555555555556,\"#d8576b\"],[0.6666666666666666,\"#ed7953\"],[0.7777777777777778,\"#fb9f3a\"],[0.8888888888888888,\"#fdca26\"],[1.0,\"#f0f921\"]]}],\"choropleth\":[{\"type\":\"choropleth\",\"colorbar\":{\"outlinewidth\":0,\"ticks\":\"\"}}],\"histogram2d\":[{\"type\":\"histogram2d\",\"colorbar\":{\"outlinewidth\":0,\"ticks\":\"\"},\"colorscale\":[[0.0,\"#0d0887\"],[0.1111111111111111,\"#46039f\"],[0.2222222222222222,\"#7201a8\"],[0.3333333333333333,\"#9c179e\"],[0.4444444444444444,\"#bd3786\"],[0.5555555555555556,\"#d8576b\"],[0.6666666666666666,\"#ed7953\"],[0.7777777777777778,\"#fb9f3a\"],[0.8888888888888888,\"#fdca26\"],[1.0,\"#f0f921\"]]}],\"heatmap\":[{\"type\":\"heatmap\",\"colorbar\":{\"outlinewidth\":0,\"ticks\":\"\"},\"colorscale\":[[0.0,\"#0d0887\"],[0.1111111111111111,\"#46039f\"],[0.2222222222222222,\"#7201a8\"],[0.3333333333333333,\"#9c179e\"],[0.4444444444444444,\"#bd3786\"],[0.5555555555555556,\"#d8576b\"],[0.6666666666666666,\"#ed7953\"],[0.7777777777777778,\"#fb9f3a\"],[0.8888888888888888,\"#fdca26\"],[1.0,\"#f0f921\"]]}],\"heatmapgl\":[{\"type\":\"heatmapgl\",\"colorbar\":{\"outlinewidth\":0,\"ticks\":\"\"},\"colorscale\":[[0.0,\"#0d0887\"],[0.1111111111111111,\"#46039f\"],[0.2222222222222222,\"#7201a8\"],[0.3333333333333333,\"#9c179e\"],[0.4444444444444444,\"#bd3786\"],[0.5555555555555556,\"#d8576b\"],[0.6666666666666666,\"#ed7953\"],[0.7777777777777778,\"#fb9f3a\"],[0.8888888888888888,\"#fdca26\"],[1.0,\"#f0f921\"]]}],\"contourcarpet\":[{\"type\":\"contourcarpet\",\"colorbar\":{\"outlinewidth\":0,\"ticks\":\"\"}}],\"contour\":[{\"type\":\"contour\",\"colorbar\":{\"outlinewidth\":0,\"ticks\":\"\"},\"colorscale\":[[0.0,\"#0d0887\"],[0.1111111111111111,\"#46039f\"],[0.2222222222222222,\"#7201a8\"],[0.3333333333333333,\"#9c179e\"],[0.4444444444444444,\"#bd3786\"],[0.5555555555555556,\"#d8576b\"],[0.6666666666666666,\"#ed7953\"],[0.7777777777777778,\"#fb9f3a\"],[0.8888888888888888,\"#fdca26\"],[1.0,\"#f0f921\"]]}],\"surface\":[{\"type\":\"surface\",\"colorbar\":{\"outlinewidth\":0,\"ticks\":\"\"},\"colorscale\":[[0.0,\"#0d0887\"],[0.1111111111111111,\"#46039f\"],[0.2222222222222222,\"#7201a8\"],[0.3333333333333333,\"#9c179e\"],[0.4444444444444444,\"#bd3786\"],[0.5555555555555556,\"#d8576b\"],[0.6666666666666666,\"#ed7953\"],[0.7777777777777778,\"#fb9f3a\"],[0.8888888888888888,\"#fdca26\"],[1.0,\"#f0f921\"]]}],\"mesh3d\":[{\"type\":\"mesh3d\",\"colorbar\":{\"outlinewidth\":0,\"ticks\":\"\"}}],\"scatter\":[{\"fillpattern\":{\"fillmode\":\"overlay\",\"size\":10,\"solidity\":0.2},\"type\":\"scatter\"}],\"parcoords\":[{\"type\":\"parcoords\",\"line\":{\"colorbar\":{\"outlinewidth\":0,\"ticks\":\"\"}}}],\"scatterpolargl\":[{\"type\":\"scatterpolargl\",\"marker\":{\"colorbar\":{\"outlinewidth\":0,\"ticks\":\"\"}}}],\"bar\":[{\"error_x\":{\"color\":\"#2a3f5f\"},\"error_y\":{\"color\":\"#2a3f5f\"},\"marker\":{\"line\":{\"color\":\"#E5ECF6\",\"width\":0.5},\"pattern\":{\"fillmode\":\"overlay\",\"size\":10,\"solidity\":0.2}},\"type\":\"bar\"}],\"scattergeo\":[{\"type\":\"scattergeo\",\"marker\":{\"colorbar\":{\"outlinewidth\":0,\"ticks\":\"\"}}}],\"scatterpolar\":[{\"type\":\"scatterpolar\",\"marker\":{\"colorbar\":{\"outlinewidth\":0,\"ticks\":\"\"}}}],\"histogram\":[{\"marker\":{\"pattern\":{\"fillmode\":\"overlay\",\"size\":10,\"solidity\":0.2}},\"type\":\"histogram\"}],\"scattergl\":[{\"type\":\"scattergl\",\"marker\":{\"colorbar\":{\"outlinewidth\":0,\"ticks\":\"\"}}}],\"scatter3d\":[{\"type\":\"scatter3d\",\"line\":{\"colorbar\":{\"outlinewidth\":0,\"ticks\":\"\"}},\"marker\":{\"colorbar\":{\"outlinewidth\":0,\"ticks\":\"\"}}}],\"scattermapbox\":[{\"type\":\"scattermapbox\",\"marker\":{\"colorbar\":{\"outlinewidth\":0,\"ticks\":\"\"}}}],\"scatterternary\":[{\"type\":\"scatterternary\",\"marker\":{\"colorbar\":{\"outlinewidth\":0,\"ticks\":\"\"}}}],\"scattercarpet\":[{\"type\":\"scattercarpet\",\"marker\":{\"colorbar\":{\"outlinewidth\":0,\"ticks\":\"\"}}}],\"carpet\":[{\"aaxis\":{\"endlinecolor\":\"#2a3f5f\",\"gridcolor\":\"white\",\"linecolor\":\"white\",\"minorgridcolor\":\"white\",\"startlinecolor\":\"#2a3f5f\"},\"baxis\":{\"endlinecolor\":\"#2a3f5f\",\"gridcolor\":\"white\",\"linecolor\":\"white\",\"minorgridcolor\":\"white\",\"startlinecolor\":\"#2a3f5f\"},\"type\":\"carpet\"}],\"table\":[{\"cells\":{\"fill\":{\"color\":\"#EBF0F8\"},\"line\":{\"color\":\"white\"}},\"header\":{\"fill\":{\"color\":\"#C8D4E3\"},\"line\":{\"color\":\"white\"}},\"type\":\"table\"}],\"barpolar\":[{\"marker\":{\"line\":{\"color\":\"#E5ECF6\",\"width\":0.5},\"pattern\":{\"fillmode\":\"overlay\",\"size\":10,\"solidity\":0.2}},\"type\":\"barpolar\"}],\"pie\":[{\"automargin\":true,\"type\":\"pie\"}]},\"layout\":{\"autotypenumbers\":\"strict\",\"colorway\":[\"#636efa\",\"#EF553B\",\"#00cc96\",\"#ab63fa\",\"#FFA15A\",\"#19d3f3\",\"#FF6692\",\"#B6E880\",\"#FF97FF\",\"#FECB52\"],\"font\":{\"color\":\"#2a3f5f\"},\"hovermode\":\"closest\",\"hoverlabel\":{\"align\":\"left\"},\"paper_bgcolor\":\"white\",\"plot_bgcolor\":\"#E5ECF6\",\"polar\":{\"bgcolor\":\"#E5ECF6\",\"angularaxis\":{\"gridcolor\":\"white\",\"linecolor\":\"white\",\"ticks\":\"\"},\"radialaxis\":{\"gridcolor\":\"white\",\"linecolor\":\"white\",\"ticks\":\"\"}},\"ternary\":{\"bgcolor\":\"#E5ECF6\",\"aaxis\":{\"gridcolor\":\"white\",\"linecolor\":\"white\",\"ticks\":\"\"},\"baxis\":{\"gridcolor\":\"white\",\"linecolor\":\"white\",\"ticks\":\"\"},\"caxis\":{\"gridcolor\":\"white\",\"linecolor\":\"white\",\"ticks\":\"\"}},\"coloraxis\":{\"colorbar\":{\"outlinewidth\":0,\"ticks\":\"\"}},\"colorscale\":{\"sequential\":[[0.0,\"#0d0887\"],[0.1111111111111111,\"#46039f\"],[0.2222222222222222,\"#7201a8\"],[0.3333333333333333,\"#9c179e\"],[0.4444444444444444,\"#bd3786\"],[0.5555555555555556,\"#d8576b\"],[0.6666666666666666,\"#ed7953\"],[0.7777777777777778,\"#fb9f3a\"],[0.8888888888888888,\"#fdca26\"],[1.0,\"#f0f921\"]],\"sequentialminus\":[[0.0,\"#0d0887\"],[0.1111111111111111,\"#46039f\"],[0.2222222222222222,\"#7201a8\"],[0.3333333333333333,\"#9c179e\"],[0.4444444444444444,\"#bd3786\"],[0.5555555555555556,\"#d8576b\"],[0.6666666666666666,\"#ed7953\"],[0.7777777777777778,\"#fb9f3a\"],[0.8888888888888888,\"#fdca26\"],[1.0,\"#f0f921\"]],\"diverging\":[[0,\"#8e0152\"],[0.1,\"#c51b7d\"],[0.2,\"#de77ae\"],[0.3,\"#f1b6da\"],[0.4,\"#fde0ef\"],[0.5,\"#f7f7f7\"],[0.6,\"#e6f5d0\"],[0.7,\"#b8e186\"],[0.8,\"#7fbc41\"],[0.9,\"#4d9221\"],[1,\"#276419\"]]},\"xaxis\":{\"gridcolor\":\"white\",\"linecolor\":\"white\",\"ticks\":\"\",\"title\":{\"standoff\":15},\"zerolinecolor\":\"white\",\"automargin\":true,\"zerolinewidth\":2},\"yaxis\":{\"gridcolor\":\"white\",\"linecolor\":\"white\",\"ticks\":\"\",\"title\":{\"standoff\":15},\"zerolinecolor\":\"white\",\"automargin\":true,\"zerolinewidth\":2},\"scene\":{\"xaxis\":{\"backgroundcolor\":\"#E5ECF6\",\"gridcolor\":\"white\",\"linecolor\":\"white\",\"showbackground\":true,\"ticks\":\"\",\"zerolinecolor\":\"white\",\"gridwidth\":2},\"yaxis\":{\"backgroundcolor\":\"#E5ECF6\",\"gridcolor\":\"white\",\"linecolor\":\"white\",\"showbackground\":true,\"ticks\":\"\",\"zerolinecolor\":\"white\",\"gridwidth\":2},\"zaxis\":{\"backgroundcolor\":\"#E5ECF6\",\"gridcolor\":\"white\",\"linecolor\":\"white\",\"showbackground\":true,\"ticks\":\"\",\"zerolinecolor\":\"white\",\"gridwidth\":2}},\"shapedefaults\":{\"line\":{\"color\":\"#2a3f5f\"}},\"annotationdefaults\":{\"arrowcolor\":\"#2a3f5f\",\"arrowhead\":0,\"arrowwidth\":1},\"geo\":{\"bgcolor\":\"white\",\"landcolor\":\"#E5ECF6\",\"subunitcolor\":\"white\",\"showland\":true,\"showlakes\":true,\"lakecolor\":\"white\"},\"title\":{\"x\":0.05},\"mapbox\":{\"style\":\"light\"}}},\"xaxis\":{\"anchor\":\"y\",\"domain\":[0.0,1.0],\"title\":{\"text\":\"mois\"}},\"yaxis\":{\"anchor\":\"x\",\"domain\":[0.0,1.0],\"title\":{\"text\":\"Nombre d'accidents\"},\"range\":[0,1100]},\"legend\":{\"tracegroupgap\":0},\"margin\":{\"t\":30,\"r\":0,\"l\":0,\"b\":0},\"updatemenus\":[{\"buttons\":[{\"args\":[null,{\"frame\":{\"duration\":1500,\"redraw\":false},\"mode\":\"immediate\",\"fromcurrent\":true,\"transition\":{\"duration\":500,\"easing\":\"linear\"}}],\"label\":\"&#9654;\",\"method\":\"animate\"},{\"args\":[[null],{\"frame\":{\"duration\":0,\"redraw\":false},\"mode\":\"immediate\",\"fromcurrent\":true,\"transition\":{\"duration\":0,\"easing\":\"linear\"}}],\"label\":\"&#9724;\",\"method\":\"animate\"}],\"direction\":\"left\",\"pad\":{\"r\":10,\"t\":70},\"showactive\":false,\"type\":\"buttons\",\"x\":0.1,\"xanchor\":\"right\",\"y\":0,\"yanchor\":\"top\"}],\"sliders\":[{\"active\":0,\"currentvalue\":{\"prefix\":\"an=\"},\"len\":0.9,\"pad\":{\"b\":10,\"t\":60},\"steps\":[{\"args\":[[\"2005\"],{\"frame\":{\"duration\":0,\"redraw\":false},\"mode\":\"immediate\",\"fromcurrent\":true,\"transition\":{\"duration\":0,\"easing\":\"linear\"}}],\"label\":\"2005\",\"method\":\"animate\"},{\"args\":[[\"2006\"],{\"frame\":{\"duration\":0,\"redraw\":false},\"mode\":\"immediate\",\"fromcurrent\":true,\"transition\":{\"duration\":0,\"easing\":\"linear\"}}],\"label\":\"2006\",\"method\":\"animate\"},{\"args\":[[\"2007\"],{\"frame\":{\"duration\":0,\"redraw\":false},\"mode\":\"immediate\",\"fromcurrent\":true,\"transition\":{\"duration\":0,\"easing\":\"linear\"}}],\"label\":\"2007\",\"method\":\"animate\"},{\"args\":[[\"2008\"],{\"frame\":{\"duration\":0,\"redraw\":false},\"mode\":\"immediate\",\"fromcurrent\":true,\"transition\":{\"duration\":0,\"easing\":\"linear\"}}],\"label\":\"2008\",\"method\":\"animate\"},{\"args\":[[\"2009\"],{\"frame\":{\"duration\":0,\"redraw\":false},\"mode\":\"immediate\",\"fromcurrent\":true,\"transition\":{\"duration\":0,\"easing\":\"linear\"}}],\"label\":\"2009\",\"method\":\"animate\"},{\"args\":[[\"2010\"],{\"frame\":{\"duration\":0,\"redraw\":false},\"mode\":\"immediate\",\"fromcurrent\":true,\"transition\":{\"duration\":0,\"easing\":\"linear\"}}],\"label\":\"2010\",\"method\":\"animate\"},{\"args\":[[\"2011\"],{\"frame\":{\"duration\":0,\"redraw\":false},\"mode\":\"immediate\",\"fromcurrent\":true,\"transition\":{\"duration\":0,\"easing\":\"linear\"}}],\"label\":\"2011\",\"method\":\"animate\"},{\"args\":[[\"2012\"],{\"frame\":{\"duration\":0,\"redraw\":false},\"mode\":\"immediate\",\"fromcurrent\":true,\"transition\":{\"duration\":0,\"easing\":\"linear\"}}],\"label\":\"2012\",\"method\":\"animate\"},{\"args\":[[\"2013\"],{\"frame\":{\"duration\":0,\"redraw\":false},\"mode\":\"immediate\",\"fromcurrent\":true,\"transition\":{\"duration\":0,\"easing\":\"linear\"}}],\"label\":\"2013\",\"method\":\"animate\"},{\"args\":[[\"2014\"],{\"frame\":{\"duration\":0,\"redraw\":false},\"mode\":\"immediate\",\"fromcurrent\":true,\"transition\":{\"duration\":0,\"easing\":\"linear\"}}],\"label\":\"2014\",\"method\":\"animate\"},{\"args\":[[\"2015\"],{\"frame\":{\"duration\":0,\"redraw\":false},\"mode\":\"immediate\",\"fromcurrent\":true,\"transition\":{\"duration\":0,\"easing\":\"linear\"}}],\"label\":\"2015\",\"method\":\"animate\"},{\"args\":[[\"2016\"],{\"frame\":{\"duration\":0,\"redraw\":false},\"mode\":\"immediate\",\"fromcurrent\":true,\"transition\":{\"duration\":0,\"easing\":\"linear\"}}],\"label\":\"2016\",\"method\":\"animate\"},{\"args\":[[\"2017\"],{\"frame\":{\"duration\":0,\"redraw\":false},\"mode\":\"immediate\",\"fromcurrent\":true,\"transition\":{\"duration\":0,\"easing\":\"linear\"}}],\"label\":\"2017\",\"method\":\"animate\"},{\"args\":[[\"2018\"],{\"frame\":{\"duration\":0,\"redraw\":false},\"mode\":\"immediate\",\"fromcurrent\":true,\"transition\":{\"duration\":0,\"easing\":\"linear\"}}],\"label\":\"2018\",\"method\":\"animate\"},{\"args\":[[\"2019\"],{\"frame\":{\"duration\":0,\"redraw\":false},\"mode\":\"immediate\",\"fromcurrent\":true,\"transition\":{\"duration\":0,\"easing\":\"linear\"}}],\"label\":\"2019\",\"method\":\"animate\"},{\"args\":[[\"2020\"],{\"frame\":{\"duration\":0,\"redraw\":false},\"mode\":\"immediate\",\"fromcurrent\":true,\"transition\":{\"duration\":0,\"easing\":\"linear\"}}],\"label\":\"2020\",\"method\":\"animate\"},{\"args\":[[\"2021\"],{\"frame\":{\"duration\":0,\"redraw\":false},\"mode\":\"immediate\",\"fromcurrent\":true,\"transition\":{\"duration\":0,\"easing\":\"linear\"}}],\"label\":\"2021\",\"method\":\"animate\"}],\"x\":0.1,\"xanchor\":\"left\",\"y\":0,\"yanchor\":\"top\"}],\"width\":800,\"height\":500,\"title\":{\"text\":\"\\u003cb\\u003e\\u00c9volution du nombre d'accidents de v\\u00e9los par ann\\u00e9e sur le territoire fran\\u00e7ais\\u003c\\u002fb\\u003e\",\"font\":{\"size\":20,\"family\":\"Arial, sans-serif\",\"color\":\"black\"},\"y\":0.98,\"x\":0.5,\"xanchor\":\"center\",\"yanchor\":\"top\"}},                        {\"responsive\": true}                    ).then(function(){\n",
       "                            Plotly.addFrames('67ec1acf-e1df-4c53-80ed-ff81b26eea6d', [{\"data\":[{\"customdata\":[[2005,\"janvier\",384],[2005,\"f\\u00e9vrier\",259],[2005,\"mars\",408],[2005,\"avril\",467],[2005,\"mai\",738],[2005,\"juin\",871],[2005,\"juillet\",701],[2005,\"ao\\u00fbt\",696],[2005,\"septembre\",696],[2005,\"octobre\",692],[2005,\"novembre\",459],[2005,\"d\\u00e9cembre\",401]],\"hovertemplate\":\"an=2005\\u003cbr\\u003emois=%{x}\\u003cbr\\u003eNombre_d_accidents=%{y}\\u003cextra\\u003e\\u003c\\u002fextra\\u003e\",\"legendgroup\":\"\",\"line\":{\"color\":\"#636efa\",\"dash\":\"solid\"},\"marker\":{\"symbol\":\"circle\"},\"mode\":\"lines+markers\",\"name\":\"\",\"orientation\":\"v\",\"showlegend\":false,\"x\":[\"janvier\",\"f\\u00e9vrier\",\"mars\",\"avril\",\"mai\",\"juin\",\"juillet\",\"ao\\u00fbt\",\"septembre\",\"octobre\",\"novembre\",\"d\\u00e9cembre\"],\"xaxis\":\"x\",\"y\":[384,259,408,467,738,871,701,696,696,692,459,401],\"yaxis\":\"y\",\"type\":\"scatter\"}],\"name\":\"2005\"},{\"data\":[{\"customdata\":[[2006,\"janvier\",377],[2006,\"f\\u00e9vrier\",245],[2006,\"mars\",370],[2006,\"avril\",555],[2006,\"mai\",634],[2006,\"juin\",796],[2006,\"juillet\",814],[2006,\"ao\\u00fbt\",521],[2006,\"septembre\",937],[2006,\"octobre\",741],[2006,\"novembre\",499],[2006,\"d\\u00e9cembre\",515]],\"hovertemplate\":\"an=2006\\u003cbr\\u003emois=%{x}\\u003cbr\\u003eNombre_d_accidents=%{y}\\u003cextra\\u003e\\u003c\\u002fextra\\u003e\",\"legendgroup\":\"\",\"line\":{\"color\":\"#636efa\",\"dash\":\"solid\"},\"marker\":{\"symbol\":\"circle\"},\"mode\":\"lines+markers\",\"name\":\"\",\"orientation\":\"v\",\"showlegend\":false,\"x\":[\"janvier\",\"f\\u00e9vrier\",\"mars\",\"avril\",\"mai\",\"juin\",\"juillet\",\"ao\\u00fbt\",\"septembre\",\"octobre\",\"novembre\",\"d\\u00e9cembre\"],\"xaxis\":\"x\",\"y\":[377,245,370,555,634,796,814,521,937,741,499,515],\"yaxis\":\"y\",\"type\":\"scatter\"}],\"name\":\"2006\"},{\"data\":[{\"customdata\":[[2007,\"janvier\",374],[2007,\"f\\u00e9vrier\",402],[2007,\"mars\",500],[2007,\"avril\",678],[2007,\"mai\",598],[2007,\"juin\",597],[2007,\"juillet\",681],[2007,\"ao\\u00fbt\",551],[2007,\"septembre\",818],[2007,\"octobre\",680],[2007,\"novembre\",582],[2007,\"d\\u00e9cembre\",410]],\"hovertemplate\":\"an=2007\\u003cbr\\u003emois=%{x}\\u003cbr\\u003eNombre_d_accidents=%{y}\\u003cextra\\u003e\\u003c\\u002fextra\\u003e\",\"legendgroup\":\"\",\"line\":{\"color\":\"#636efa\",\"dash\":\"solid\"},\"marker\":{\"symbol\":\"circle\"},\"mode\":\"lines+markers\",\"name\":\"\",\"orientation\":\"v\",\"showlegend\":false,\"x\":[\"janvier\",\"f\\u00e9vrier\",\"mars\",\"avril\",\"mai\",\"juin\",\"juillet\",\"ao\\u00fbt\",\"septembre\",\"octobre\",\"novembre\",\"d\\u00e9cembre\"],\"xaxis\":\"x\",\"y\":[374,402,500,678,598,597,681,551,818,680,582,410],\"yaxis\":\"y\",\"type\":\"scatter\"}],\"name\":\"2007\"},{\"data\":[{\"customdata\":[[2008,\"janvier\",436],[2008,\"f\\u00e9vrier\",399],[2008,\"mars\",388],[2008,\"avril\",451],[2008,\"mai\",660],[2008,\"juin\",752],[2008,\"juillet\",758],[2008,\"ao\\u00fbt\",524],[2008,\"septembre\",648],[2008,\"octobre\",556],[2008,\"novembre\",438],[2008,\"d\\u00e9cembre\",347]],\"hovertemplate\":\"an=2008\\u003cbr\\u003emois=%{x}\\u003cbr\\u003eNombre_d_accidents=%{y}\\u003cextra\\u003e\\u003c\\u002fextra\\u003e\",\"legendgroup\":\"\",\"line\":{\"color\":\"#636efa\",\"dash\":\"solid\"},\"marker\":{\"symbol\":\"circle\"},\"mode\":\"lines+markers\",\"name\":\"\",\"orientation\":\"v\",\"showlegend\":false,\"x\":[\"janvier\",\"f\\u00e9vrier\",\"mars\",\"avril\",\"mai\",\"juin\",\"juillet\",\"ao\\u00fbt\",\"septembre\",\"octobre\",\"novembre\",\"d\\u00e9cembre\"],\"xaxis\":\"x\",\"y\":[436,399,388,451,660,752,758,524,648,556,438,347],\"yaxis\":\"y\",\"type\":\"scatter\"}],\"name\":\"2008\"},{\"data\":[{\"customdata\":[[2009,\"janvier\",288],[2009,\"f\\u00e9vrier\",295],[2009,\"mars\",389],[2009,\"avril\",521],[2009,\"mai\",554],[2009,\"juin\",709],[2009,\"juillet\",675],[2009,\"ao\\u00fbt\",645],[2009,\"septembre\",811],[2009,\"octobre\",558],[2009,\"novembre\",409],[2009,\"d\\u00e9cembre\",278]],\"hovertemplate\":\"an=2009\\u003cbr\\u003emois=%{x}\\u003cbr\\u003eNombre_d_accidents=%{y}\\u003cextra\\u003e\\u003c\\u002fextra\\u003e\",\"legendgroup\":\"\",\"line\":{\"color\":\"#636efa\",\"dash\":\"solid\"},\"marker\":{\"symbol\":\"circle\"},\"mode\":\"lines+markers\",\"name\":\"\",\"orientation\":\"v\",\"showlegend\":false,\"x\":[\"janvier\",\"f\\u00e9vrier\",\"mars\",\"avril\",\"mai\",\"juin\",\"juillet\",\"ao\\u00fbt\",\"septembre\",\"octobre\",\"novembre\",\"d\\u00e9cembre\"],\"xaxis\":\"x\",\"y\":[288,295,389,521,554,709,675,645,811,558,409,278],\"yaxis\":\"y\",\"type\":\"scatter\"}],\"name\":\"2009\"},{\"data\":[{\"customdata\":[[2010,\"janvier\",229],[2010,\"f\\u00e9vrier\",224],[2010,\"mars\",363],[2010,\"avril\",615],[2010,\"mai\",583],[2010,\"juin\",604],[2010,\"juillet\",774],[2010,\"ao\\u00fbt\",534],[2010,\"septembre\",608],[2010,\"octobre\",554],[2010,\"novembre\",354],[2010,\"d\\u00e9cembre\",223]],\"hovertemplate\":\"an=2010\\u003cbr\\u003emois=%{x}\\u003cbr\\u003eNombre_d_accidents=%{y}\\u003cextra\\u003e\\u003c\\u002fextra\\u003e\",\"legendgroup\":\"\",\"line\":{\"color\":\"#636efa\",\"dash\":\"solid\"},\"marker\":{\"symbol\":\"circle\"},\"mode\":\"lines+markers\",\"name\":\"\",\"orientation\":\"v\",\"showlegend\":false,\"x\":[\"janvier\",\"f\\u00e9vrier\",\"mars\",\"avril\",\"mai\",\"juin\",\"juillet\",\"ao\\u00fbt\",\"septembre\",\"octobre\",\"novembre\",\"d\\u00e9cembre\"],\"xaxis\":\"x\",\"y\":[229,224,363,615,583,604,774,534,608,554,354,223],\"yaxis\":\"y\",\"type\":\"scatter\"}],\"name\":\"2010\"},{\"data\":[{\"customdata\":[[2011,\"janvier\",352],[2011,\"f\\u00e9vrier\",335],[2011,\"mars\",437],[2011,\"avril\",660],[2011,\"mai\",614],[2011,\"juin\",600],[2011,\"juillet\",497],[2011,\"ao\\u00fbt\",551],[2011,\"septembre\",591],[2011,\"octobre\",561],[2011,\"novembre\",481],[2011,\"d\\u00e9cembre\",300]],\"hovertemplate\":\"an=2011\\u003cbr\\u003emois=%{x}\\u003cbr\\u003eNombre_d_accidents=%{y}\\u003cextra\\u003e\\u003c\\u002fextra\\u003e\",\"legendgroup\":\"\",\"line\":{\"color\":\"#636efa\",\"dash\":\"solid\"},\"marker\":{\"symbol\":\"circle\"},\"mode\":\"lines+markers\",\"name\":\"\",\"orientation\":\"v\",\"showlegend\":false,\"x\":[\"janvier\",\"f\\u00e9vrier\",\"mars\",\"avril\",\"mai\",\"juin\",\"juillet\",\"ao\\u00fbt\",\"septembre\",\"octobre\",\"novembre\",\"d\\u00e9cembre\"],\"xaxis\":\"x\",\"y\":[352,335,437,660,614,600,497,551,591,561,481,300],\"yaxis\":\"y\",\"type\":\"scatter\"}],\"name\":\"2011\"},{\"data\":[{\"customdata\":[[2012,\"janvier\",300],[2012,\"f\\u00e9vrier\",235],[2012,\"mars\",439],[2012,\"avril\",324],[2012,\"mai\",538],[2012,\"juin\",563],[2012,\"juillet\",614],[2012,\"ao\\u00fbt\",543],[2012,\"septembre\",603],[2012,\"octobre\",643],[2012,\"novembre\",365],[2012,\"d\\u00e9cembre\",274]],\"hovertemplate\":\"an=2012\\u003cbr\\u003emois=%{x}\\u003cbr\\u003eNombre_d_accidents=%{y}\\u003cextra\\u003e\\u003c\\u002fextra\\u003e\",\"legendgroup\":\"\",\"line\":{\"color\":\"#636efa\",\"dash\":\"solid\"},\"marker\":{\"symbol\":\"circle\"},\"mode\":\"lines+markers\",\"name\":\"\",\"orientation\":\"v\",\"showlegend\":false,\"x\":[\"janvier\",\"f\\u00e9vrier\",\"mars\",\"avril\",\"mai\",\"juin\",\"juillet\",\"ao\\u00fbt\",\"septembre\",\"octobre\",\"novembre\",\"d\\u00e9cembre\"],\"xaxis\":\"x\",\"y\":[300,235,439,324,538,563,614,543,603,643,365,274],\"yaxis\":\"y\",\"type\":\"scatter\"}],\"name\":\"2012\"},{\"data\":[{\"customdata\":[[2013,\"janvier\",252],[2013,\"f\\u00e9vrier\",219],[2013,\"mars\",350],[2013,\"avril\",459],[2013,\"mai\",376],[2013,\"juin\",569],[2013,\"juillet\",604],[2013,\"ao\\u00fbt\",584],[2013,\"septembre\",622],[2013,\"octobre\",611],[2013,\"novembre\",365],[2013,\"d\\u00e9cembre\",413]],\"hovertemplate\":\"an=2013\\u003cbr\\u003emois=%{x}\\u003cbr\\u003eNombre_d_accidents=%{y}\\u003cextra\\u003e\\u003c\\u002fextra\\u003e\",\"legendgroup\":\"\",\"line\":{\"color\":\"#636efa\",\"dash\":\"solid\"},\"marker\":{\"symbol\":\"circle\"},\"mode\":\"lines+markers\",\"name\":\"\",\"orientation\":\"v\",\"showlegend\":false,\"x\":[\"janvier\",\"f\\u00e9vrier\",\"mars\",\"avril\",\"mai\",\"juin\",\"juillet\",\"ao\\u00fbt\",\"septembre\",\"octobre\",\"novembre\",\"d\\u00e9cembre\"],\"xaxis\":\"x\",\"y\":[252,219,350,459,376,569,604,584,622,611,365,413],\"yaxis\":\"y\",\"type\":\"scatter\"}],\"name\":\"2013\"},{\"data\":[{\"customdata\":[[2014,\"janvier\",341],[2014,\"f\\u00e9vrier\",316],[2014,\"mars\",552],[2014,\"avril\",426],[2014,\"mai\",585],[2014,\"juin\",587],[2014,\"juillet\",485],[2014,\"ao\\u00fbt\",508],[2014,\"septembre\",644],[2014,\"octobre\",591],[2014,\"novembre\",416],[2014,\"d\\u00e9cembre\",318]],\"hovertemplate\":\"an=2014\\u003cbr\\u003emois=%{x}\\u003cbr\\u003eNombre_d_accidents=%{y}\\u003cextra\\u003e\\u003c\\u002fextra\\u003e\",\"legendgroup\":\"\",\"line\":{\"color\":\"#636efa\",\"dash\":\"solid\"},\"marker\":{\"symbol\":\"circle\"},\"mode\":\"lines+markers\",\"name\":\"\",\"orientation\":\"v\",\"showlegend\":false,\"x\":[\"janvier\",\"f\\u00e9vrier\",\"mars\",\"avril\",\"mai\",\"juin\",\"juillet\",\"ao\\u00fbt\",\"septembre\",\"octobre\",\"novembre\",\"d\\u00e9cembre\"],\"xaxis\":\"x\",\"y\":[341,316,552,426,585,587,485,508,644,591,416,318],\"yaxis\":\"y\",\"type\":\"scatter\"}],\"name\":\"2014\"},{\"data\":[{\"customdata\":[[2015,\"janvier\",311],[2015,\"f\\u00e9vrier\",287],[2015,\"mars\",378],[2015,\"avril\",533],[2015,\"mai\",525],[2015,\"juin\",743],[2015,\"juillet\",574],[2015,\"ao\\u00fbt\",483],[2015,\"septembre\",573],[2015,\"octobre\",435],[2015,\"novembre\",515],[2015,\"d\\u00e9cembre\",437]],\"hovertemplate\":\"an=2015\\u003cbr\\u003emois=%{x}\\u003cbr\\u003eNombre_d_accidents=%{y}\\u003cextra\\u003e\\u003c\\u002fextra\\u003e\",\"legendgroup\":\"\",\"line\":{\"color\":\"#636efa\",\"dash\":\"solid\"},\"marker\":{\"symbol\":\"circle\"},\"mode\":\"lines+markers\",\"name\":\"\",\"orientation\":\"v\",\"showlegend\":false,\"x\":[\"janvier\",\"f\\u00e9vrier\",\"mars\",\"avril\",\"mai\",\"juin\",\"juillet\",\"ao\\u00fbt\",\"septembre\",\"octobre\",\"novembre\",\"d\\u00e9cembre\"],\"xaxis\":\"x\",\"y\":[311,287,378,533,525,743,574,483,573,435,515,437],\"yaxis\":\"y\",\"type\":\"scatter\"}],\"name\":\"2015\"},{\"data\":[{\"customdata\":[[2016,\"janvier\",354],[2016,\"f\\u00e9vrier\",234],[2016,\"mars\",413],[2016,\"avril\",469],[2016,\"mai\",636],[2016,\"juin\",579],[2016,\"juillet\",573],[2016,\"ao\\u00fbt\",588],[2016,\"septembre\",683],[2016,\"octobre\",521],[2016,\"novembre\",407],[2016,\"d\\u00e9cembre\",391]],\"hovertemplate\":\"an=2016\\u003cbr\\u003emois=%{x}\\u003cbr\\u003eNombre_d_accidents=%{y}\\u003cextra\\u003e\\u003c\\u002fextra\\u003e\",\"legendgroup\":\"\",\"line\":{\"color\":\"#636efa\",\"dash\":\"solid\"},\"marker\":{\"symbol\":\"circle\"},\"mode\":\"lines+markers\",\"name\":\"\",\"orientation\":\"v\",\"showlegend\":false,\"x\":[\"janvier\",\"f\\u00e9vrier\",\"mars\",\"avril\",\"mai\",\"juin\",\"juillet\",\"ao\\u00fbt\",\"septembre\",\"octobre\",\"novembre\",\"d\\u00e9cembre\"],\"xaxis\":\"x\",\"y\":[354,234,413,469,636,579,573,588,683,521,407,391],\"yaxis\":\"y\",\"type\":\"scatter\"}],\"name\":\"2016\"},{\"data\":[{\"customdata\":[[2017,\"janvier\",310],[2017,\"f\\u00e9vrier\",462],[2017,\"mars\",549],[2017,\"avril\",611],[2017,\"mai\",495],[2017,\"juin\",710],[2017,\"juillet\",517],[2017,\"ao\\u00fbt\",513],[2017,\"septembre\",545],[2017,\"octobre\",594],[2017,\"novembre\",413],[2017,\"d\\u00e9cembre\",283]],\"hovertemplate\":\"an=2017\\u003cbr\\u003emois=%{x}\\u003cbr\\u003eNombre_d_accidents=%{y}\\u003cextra\\u003e\\u003c\\u002fextra\\u003e\",\"legendgroup\":\"\",\"line\":{\"color\":\"#636efa\",\"dash\":\"solid\"},\"marker\":{\"symbol\":\"circle\"},\"mode\":\"lines+markers\",\"name\":\"\",\"orientation\":\"v\",\"showlegend\":false,\"x\":[\"janvier\",\"f\\u00e9vrier\",\"mars\",\"avril\",\"mai\",\"juin\",\"juillet\",\"ao\\u00fbt\",\"septembre\",\"octobre\",\"novembre\",\"d\\u00e9cembre\"],\"xaxis\":\"x\",\"y\":[310,462,549,611,495,710,517,513,545,594,413,283],\"yaxis\":\"y\",\"type\":\"scatter\"}],\"name\":\"2017\"},{\"data\":[{\"customdata\":[[2018,\"janvier\",324],[2018,\"f\\u00e9vrier\",220],[2018,\"mars\",296],[2018,\"avril\",366],[2018,\"mai\",362],[2018,\"juin\",357],[2018,\"juillet\",466],[2018,\"ao\\u00fbt\",295],[2018,\"septembre\",308],[2018,\"octobre\",276],[2018,\"novembre\",183],[2018,\"d\\u00e9cembre\",119]],\"hovertemplate\":\"an=2018\\u003cbr\\u003emois=%{x}\\u003cbr\\u003eNombre_d_accidents=%{y}\\u003cextra\\u003e\\u003c\\u002fextra\\u003e\",\"legendgroup\":\"\",\"line\":{\"color\":\"#636efa\",\"dash\":\"solid\"},\"marker\":{\"symbol\":\"circle\"},\"mode\":\"lines+markers\",\"name\":\"\",\"orientation\":\"v\",\"showlegend\":false,\"x\":[\"janvier\",\"f\\u00e9vrier\",\"mars\",\"avril\",\"mai\",\"juin\",\"juillet\",\"ao\\u00fbt\",\"septembre\",\"octobre\",\"novembre\",\"d\\u00e9cembre\"],\"xaxis\":\"x\",\"y\":[324,220,296,366,362,357,466,295,308,276,183,119],\"yaxis\":\"y\",\"type\":\"scatter\"}],\"name\":\"2018\"},{\"data\":[{\"customdata\":[[2019,\"janvier\",182],[2019,\"f\\u00e9vrier\",329],[2019,\"mars\",240],[2019,\"avril\",357],[2019,\"mai\",412],[2019,\"juin\",424],[2019,\"juillet\",540],[2019,\"ao\\u00fbt\",457],[2019,\"septembre\",446],[2019,\"octobre\",249],[2019,\"novembre\",170],[2019,\"d\\u00e9cembre\",266]],\"hovertemplate\":\"an=2019\\u003cbr\\u003emois=%{x}\\u003cbr\\u003eNombre_d_accidents=%{y}\\u003cextra\\u003e\\u003c\\u002fextra\\u003e\",\"legendgroup\":\"\",\"line\":{\"color\":\"#636efa\",\"dash\":\"solid\"},\"marker\":{\"symbol\":\"circle\"},\"mode\":\"lines+markers\",\"name\":\"\",\"orientation\":\"v\",\"showlegend\":false,\"x\":[\"janvier\",\"f\\u00e9vrier\",\"mars\",\"avril\",\"mai\",\"juin\",\"juillet\",\"ao\\u00fbt\",\"septembre\",\"octobre\",\"novembre\",\"d\\u00e9cembre\"],\"xaxis\":\"x\",\"y\":[182,329,240,357,412,424,540,457,446,249,170,266],\"yaxis\":\"y\",\"type\":\"scatter\"}],\"name\":\"2019\"},{\"data\":[{\"customdata\":[[2020,\"janvier\",422],[2020,\"f\\u00e9vrier\",193],[2020,\"mars\",104],[2020,\"avril\",56],[2020,\"mai\",293],[2020,\"juin\",430],[2020,\"juillet\",399],[2020,\"ao\\u00fbt\",342],[2020,\"septembre\",516],[2020,\"octobre\",250],[2020,\"novembre\",186],[2020,\"d\\u00e9cembre\",212]],\"hovertemplate\":\"an=2020\\u003cbr\\u003emois=%{x}\\u003cbr\\u003eNombre_d_accidents=%{y}\\u003cextra\\u003e\\u003c\\u002fextra\\u003e\",\"legendgroup\":\"\",\"line\":{\"color\":\"#636efa\",\"dash\":\"solid\"},\"marker\":{\"symbol\":\"circle\"},\"mode\":\"lines+markers\",\"name\":\"\",\"orientation\":\"v\",\"showlegend\":false,\"x\":[\"janvier\",\"f\\u00e9vrier\",\"mars\",\"avril\",\"mai\",\"juin\",\"juillet\",\"ao\\u00fbt\",\"septembre\",\"octobre\",\"novembre\",\"d\\u00e9cembre\"],\"xaxis\":\"x\",\"y\":[422,193,104,56,293,430,399,342,516,250,186,212],\"yaxis\":\"y\",\"type\":\"scatter\"}],\"name\":\"2020\"},{\"data\":[{\"customdata\":[[2021,\"janvier\",234],[2021,\"f\\u00e9vrier\",242],[2021,\"mars\",318],[2021,\"avril\",318],[2021,\"mai\",330],[2021,\"juin\",483],[2021,\"juillet\",417],[2021,\"ao\\u00fbt\",398],[2021,\"septembre\",396],[2021,\"octobre\",400],[2021,\"novembre\",196],[2021,\"d\\u00e9cembre\",212]],\"hovertemplate\":\"an=2021\\u003cbr\\u003emois=%{x}\\u003cbr\\u003eNombre_d_accidents=%{y}\\u003cextra\\u003e\\u003c\\u002fextra\\u003e\",\"legendgroup\":\"\",\"line\":{\"color\":\"#636efa\",\"dash\":\"solid\"},\"marker\":{\"symbol\":\"circle\"},\"mode\":\"lines+markers\",\"name\":\"\",\"orientation\":\"v\",\"showlegend\":false,\"x\":[\"janvier\",\"f\\u00e9vrier\",\"mars\",\"avril\",\"mai\",\"juin\",\"juillet\",\"ao\\u00fbt\",\"septembre\",\"octobre\",\"novembre\",\"d\\u00e9cembre\"],\"xaxis\":\"x\",\"y\":[234,242,318,318,330,483,417,398,396,400,196,212],\"yaxis\":\"y\",\"type\":\"scatter\"}],\"name\":\"2021\"}]);\n",
       "                        }).then(function(){\n",
       "                            \n",
       "var gd = document.getElementById('67ec1acf-e1df-4c53-80ed-ff81b26eea6d');\n",
       "var x = new MutationObserver(function (mutations, observer) {{\n",
       "        var display = window.getComputedStyle(gd).display;\n",
       "        if (!display || display === 'none') {{\n",
       "            console.log([gd, 'removed!']);\n",
       "            Plotly.purge(gd);\n",
       "            observer.disconnect();\n",
       "        }}\n",
       "}});\n",
       "\n",
       "// Listen for the removal of the full notebook cells\n",
       "var notebookContainer = gd.closest('#notebook-container');\n",
       "if (notebookContainer) {{\n",
       "    x.observe(notebookContainer, {childList: true});\n",
       "}}\n",
       "\n",
       "// Listen for the clearing of the current output cell\n",
       "var outputEl = gd.closest('.output');\n",
       "if (outputEl) {{\n",
       "    x.observe(outputEl, {childList: true});\n",
       "}}\n",
       "\n",
       "                        })                };                });            </script>        </div>"
      ]
     },
     "metadata": {},
     "output_type": "display_data"
    }
   ],
   "source": [
    "fig2 = px.line(accidents_par_annee_mois, x=\"mois\", y=\"Nombre_d_accidents\", \n",
    "              markers=True,animation_frame=\"an\"\n",
    "             ,custom_data=['an','mois','Nombre_d_accidents'])\n",
    "# taille de la figure (largeur, hauteur)\n",
    "fig2.update_layout(width=800, height=500)\n",
    "#  ajout titre et axes\n",
    "fig2.update_layout(title=\"Évolution du nombre d'accidents de vélos par année\",\n",
    "                  xaxis_title=\"mois\",\n",
    "                  yaxis_title=\"Nombre d'accidents\"\n",
    "                 )\n",
    "# ralentir la vitese d'animation\n",
    "fig2.layout.updatemenus[0].buttons[0].args[1][\"frame\"][\"duration\"] = 1500\n",
    "\n",
    "# changer l'echelle des ordonnées\n",
    "fig2.update_yaxes(range=[0, 1100])\n",
    "\n",
    "# Titre\n",
    "fig2.update_layout(margin = {\"r\":0,\"t\":30,\"l\":0,\"b\":0},\n",
    "                 title={\n",
    "        'text': \"<b>Évolution du nombre d\\'accidents de vélos par année sur le territoire français</b>\",\n",
    "        'y': 0.98,\n",
    "        'x': 0.5,\n",
    "        'xanchor': 'center',\n",
    "        'yanchor': 'top',\n",
    "        'font': {'size': 20,'family': 'Arial, sans-serif', 'color': 'black'} \n",
    "    })\n",
    "\n",
    "# Personnalisation du popup\n",
    "fig2.update_traces(hovertemplate=\"<br>\".join([\"Année : %{customdata[0]}\",\n",
    "                                             \"Mois : %{customdata[1]}\",\n",
    "                                             \"Nombre d'accidents : %{customdata[2]}\"\n",
    "                                             ]),selector= 0)\n",
    "\n",
    "fig2.show()"
   ]
  },
  {
   "cell_type": "markdown",
   "id": "c3a16741-bb20-46cd-862d-33eac055afc0",
   "metadata": {},
   "source": [
    "### 3)"
   ]
  },
  {
   "cell_type": "code",
   "execution_count": 12,
   "id": "bdcd8bf8-e363-478d-8006-19a1839d2d13",
   "metadata": {},
   "outputs": [
    {
     "name": "stderr",
     "output_type": "stream",
     "text": [
      "C:\\Users\\Alex\\AppData\\Local\\Temp\\ipykernel_15908\\849947274.py:7: FutureWarning:\n",
      "\n",
      "The default of observed=False is deprecated and will be changed to True in a future version of pandas. Pass observed=False to retain current behavior or observed=True to adopt the future default and silence this warning.\n",
      "\n"
     ]
    },
    {
     "data": {
      "application/vnd.plotly.v1+json": {
       "config": {
        "plotlyServerURL": "https://plot.ly"
       },
       "data": [
        {
         "customdata": [
          [
           2005,
           "janvier",
           384
          ],
          [
           2005,
           "février",
           259
          ],
          [
           2005,
           "mars",
           408
          ],
          [
           2005,
           "avril",
           467
          ],
          [
           2005,
           "mai",
           738
          ],
          [
           2005,
           "juin",
           871
          ],
          [
           2005,
           "juillet",
           701
          ],
          [
           2005,
           "août",
           696
          ],
          [
           2005,
           "septembre",
           696
          ],
          [
           2005,
           "octobre",
           692
          ],
          [
           2005,
           "novembre",
           459
          ],
          [
           2005,
           "décembre",
           401
          ],
          [
           2006,
           "janvier",
           377
          ],
          [
           2006,
           "février",
           245
          ],
          [
           2006,
           "mars",
           370
          ],
          [
           2006,
           "avril",
           555
          ],
          [
           2006,
           "mai",
           634
          ],
          [
           2006,
           "juin",
           796
          ],
          [
           2006,
           "juillet",
           814
          ],
          [
           2006,
           "août",
           521
          ],
          [
           2006,
           "septembre",
           937
          ],
          [
           2006,
           "octobre",
           741
          ],
          [
           2006,
           "novembre",
           499
          ],
          [
           2006,
           "décembre",
           515
          ],
          [
           2007,
           "janvier",
           374
          ],
          [
           2007,
           "février",
           402
          ],
          [
           2007,
           "mars",
           500
          ],
          [
           2007,
           "avril",
           678
          ],
          [
           2007,
           "mai",
           598
          ],
          [
           2007,
           "juin",
           597
          ],
          [
           2007,
           "juillet",
           681
          ],
          [
           2007,
           "août",
           551
          ],
          [
           2007,
           "septembre",
           818
          ],
          [
           2007,
           "octobre",
           680
          ],
          [
           2007,
           "novembre",
           582
          ],
          [
           2007,
           "décembre",
           410
          ],
          [
           2008,
           "janvier",
           436
          ],
          [
           2008,
           "février",
           399
          ],
          [
           2008,
           "mars",
           388
          ],
          [
           2008,
           "avril",
           451
          ],
          [
           2008,
           "mai",
           660
          ],
          [
           2008,
           "juin",
           752
          ],
          [
           2008,
           "juillet",
           758
          ],
          [
           2008,
           "août",
           524
          ],
          [
           2008,
           "septembre",
           648
          ],
          [
           2008,
           "octobre",
           556
          ],
          [
           2008,
           "novembre",
           438
          ],
          [
           2008,
           "décembre",
           347
          ],
          [
           2009,
           "janvier",
           288
          ],
          [
           2009,
           "février",
           295
          ],
          [
           2009,
           "mars",
           389
          ],
          [
           2009,
           "avril",
           521
          ],
          [
           2009,
           "mai",
           554
          ],
          [
           2009,
           "juin",
           709
          ],
          [
           2009,
           "juillet",
           675
          ],
          [
           2009,
           "août",
           645
          ],
          [
           2009,
           "septembre",
           811
          ],
          [
           2009,
           "octobre",
           558
          ],
          [
           2009,
           "novembre",
           409
          ],
          [
           2009,
           "décembre",
           278
          ],
          [
           2010,
           "janvier",
           229
          ],
          [
           2010,
           "février",
           224
          ],
          [
           2010,
           "mars",
           363
          ],
          [
           2010,
           "avril",
           615
          ],
          [
           2010,
           "mai",
           583
          ],
          [
           2010,
           "juin",
           604
          ],
          [
           2010,
           "juillet",
           774
          ],
          [
           2010,
           "août",
           534
          ],
          [
           2010,
           "septembre",
           608
          ],
          [
           2010,
           "octobre",
           554
          ],
          [
           2010,
           "novembre",
           354
          ],
          [
           2010,
           "décembre",
           223
          ],
          [
           2011,
           "janvier",
           352
          ],
          [
           2011,
           "février",
           335
          ],
          [
           2011,
           "mars",
           437
          ],
          [
           2011,
           "avril",
           660
          ],
          [
           2011,
           "mai",
           614
          ],
          [
           2011,
           "juin",
           600
          ],
          [
           2011,
           "juillet",
           497
          ],
          [
           2011,
           "août",
           551
          ],
          [
           2011,
           "septembre",
           591
          ],
          [
           2011,
           "octobre",
           561
          ],
          [
           2011,
           "novembre",
           481
          ],
          [
           2011,
           "décembre",
           300
          ],
          [
           2012,
           "janvier",
           300
          ],
          [
           2012,
           "février",
           235
          ],
          [
           2012,
           "mars",
           439
          ],
          [
           2012,
           "avril",
           324
          ],
          [
           2012,
           "mai",
           538
          ],
          [
           2012,
           "juin",
           563
          ],
          [
           2012,
           "juillet",
           614
          ],
          [
           2012,
           "août",
           543
          ],
          [
           2012,
           "septembre",
           603
          ],
          [
           2012,
           "octobre",
           643
          ],
          [
           2012,
           "novembre",
           365
          ],
          [
           2012,
           "décembre",
           274
          ],
          [
           2013,
           "janvier",
           252
          ],
          [
           2013,
           "février",
           219
          ],
          [
           2013,
           "mars",
           350
          ],
          [
           2013,
           "avril",
           459
          ],
          [
           2013,
           "mai",
           376
          ],
          [
           2013,
           "juin",
           569
          ],
          [
           2013,
           "juillet",
           604
          ],
          [
           2013,
           "août",
           584
          ],
          [
           2013,
           "septembre",
           622
          ],
          [
           2013,
           "octobre",
           611
          ],
          [
           2013,
           "novembre",
           365
          ],
          [
           2013,
           "décembre",
           413
          ],
          [
           2014,
           "janvier",
           341
          ],
          [
           2014,
           "février",
           316
          ],
          [
           2014,
           "mars",
           552
          ],
          [
           2014,
           "avril",
           426
          ],
          [
           2014,
           "mai",
           585
          ],
          [
           2014,
           "juin",
           587
          ],
          [
           2014,
           "juillet",
           485
          ],
          [
           2014,
           "août",
           508
          ],
          [
           2014,
           "septembre",
           644
          ],
          [
           2014,
           "octobre",
           591
          ],
          [
           2014,
           "novembre",
           416
          ],
          [
           2014,
           "décembre",
           318
          ],
          [
           2015,
           "janvier",
           311
          ],
          [
           2015,
           "février",
           287
          ],
          [
           2015,
           "mars",
           378
          ],
          [
           2015,
           "avril",
           533
          ],
          [
           2015,
           "mai",
           525
          ],
          [
           2015,
           "juin",
           743
          ],
          [
           2015,
           "juillet",
           574
          ],
          [
           2015,
           "août",
           483
          ],
          [
           2015,
           "septembre",
           573
          ],
          [
           2015,
           "octobre",
           435
          ],
          [
           2015,
           "novembre",
           515
          ],
          [
           2015,
           "décembre",
           437
          ],
          [
           2016,
           "janvier",
           354
          ],
          [
           2016,
           "février",
           234
          ],
          [
           2016,
           "mars",
           413
          ],
          [
           2016,
           "avril",
           469
          ],
          [
           2016,
           "mai",
           636
          ],
          [
           2016,
           "juin",
           579
          ],
          [
           2016,
           "juillet",
           573
          ],
          [
           2016,
           "août",
           588
          ],
          [
           2016,
           "septembre",
           683
          ],
          [
           2016,
           "octobre",
           521
          ],
          [
           2016,
           "novembre",
           407
          ],
          [
           2016,
           "décembre",
           391
          ],
          [
           2017,
           "janvier",
           310
          ],
          [
           2017,
           "février",
           462
          ],
          [
           2017,
           "mars",
           549
          ],
          [
           2017,
           "avril",
           611
          ],
          [
           2017,
           "mai",
           495
          ],
          [
           2017,
           "juin",
           710
          ],
          [
           2017,
           "juillet",
           517
          ],
          [
           2017,
           "août",
           513
          ],
          [
           2017,
           "septembre",
           545
          ],
          [
           2017,
           "octobre",
           594
          ],
          [
           2017,
           "novembre",
           413
          ],
          [
           2017,
           "décembre",
           283
          ],
          [
           2018,
           "janvier",
           324
          ],
          [
           2018,
           "février",
           220
          ],
          [
           2018,
           "mars",
           296
          ],
          [
           2018,
           "avril",
           366
          ],
          [
           2018,
           "mai",
           362
          ],
          [
           2018,
           "juin",
           357
          ],
          [
           2018,
           "juillet",
           466
          ],
          [
           2018,
           "août",
           295
          ],
          [
           2018,
           "septembre",
           308
          ],
          [
           2018,
           "octobre",
           276
          ],
          [
           2018,
           "novembre",
           183
          ],
          [
           2018,
           "décembre",
           119
          ],
          [
           2019,
           "janvier",
           182
          ],
          [
           2019,
           "février",
           329
          ],
          [
           2019,
           "mars",
           240
          ],
          [
           2019,
           "avril",
           357
          ],
          [
           2019,
           "mai",
           412
          ],
          [
           2019,
           "juin",
           424
          ],
          [
           2019,
           "juillet",
           540
          ],
          [
           2019,
           "août",
           457
          ],
          [
           2019,
           "septembre",
           446
          ],
          [
           2019,
           "octobre",
           249
          ],
          [
           2019,
           "novembre",
           170
          ],
          [
           2019,
           "décembre",
           266
          ],
          [
           2020,
           "janvier",
           422
          ],
          [
           2020,
           "février",
           193
          ],
          [
           2020,
           "mars",
           104
          ],
          [
           2020,
           "avril",
           56
          ],
          [
           2020,
           "mai",
           293
          ],
          [
           2020,
           "juin",
           430
          ],
          [
           2020,
           "juillet",
           399
          ],
          [
           2020,
           "août",
           342
          ],
          [
           2020,
           "septembre",
           516
          ],
          [
           2020,
           "octobre",
           250
          ],
          [
           2020,
           "novembre",
           186
          ],
          [
           2020,
           "décembre",
           212
          ],
          [
           2021,
           "janvier",
           234
          ],
          [
           2021,
           "février",
           242
          ],
          [
           2021,
           "mars",
           318
          ],
          [
           2021,
           "avril",
           318
          ],
          [
           2021,
           "mai",
           330
          ],
          [
           2021,
           "juin",
           483
          ],
          [
           2021,
           "juillet",
           417
          ],
          [
           2021,
           "août",
           398
          ],
          [
           2021,
           "septembre",
           396
          ],
          [
           2021,
           "octobre",
           400
          ],
          [
           2021,
           "novembre",
           196
          ],
          [
           2021,
           "décembre",
           212
          ]
         ],
         "hovertemplate": "Année : %{customdata[0]}<br>Mois : %{customdata[1]}<br>Nombre d'accidents : %{customdata[2]}",
         "legendgroup": "",
         "line": {
          "color": "#636efa",
          "dash": "solid"
         },
         "marker": {
          "symbol": "circle"
         },
         "mode": "lines",
         "name": "",
         "orientation": "v",
         "showlegend": false,
         "type": "scatter",
         "x": [
          "2005-janvier",
          "2005-février",
          "2005-mars",
          "2005-avril",
          "2005-mai",
          "2005-juin",
          "2005-juillet",
          "2005-août",
          "2005-septembre",
          "2005-octobre",
          "2005-novembre",
          "2005-décembre",
          "2006-janvier",
          "2006-février",
          "2006-mars",
          "2006-avril",
          "2006-mai",
          "2006-juin",
          "2006-juillet",
          "2006-août",
          "2006-septembre",
          "2006-octobre",
          "2006-novembre",
          "2006-décembre",
          "2007-janvier",
          "2007-février",
          "2007-mars",
          "2007-avril",
          "2007-mai",
          "2007-juin",
          "2007-juillet",
          "2007-août",
          "2007-septembre",
          "2007-octobre",
          "2007-novembre",
          "2007-décembre",
          "2008-janvier",
          "2008-février",
          "2008-mars",
          "2008-avril",
          "2008-mai",
          "2008-juin",
          "2008-juillet",
          "2008-août",
          "2008-septembre",
          "2008-octobre",
          "2008-novembre",
          "2008-décembre",
          "2009-janvier",
          "2009-février",
          "2009-mars",
          "2009-avril",
          "2009-mai",
          "2009-juin",
          "2009-juillet",
          "2009-août",
          "2009-septembre",
          "2009-octobre",
          "2009-novembre",
          "2009-décembre",
          "2010-janvier",
          "2010-février",
          "2010-mars",
          "2010-avril",
          "2010-mai",
          "2010-juin",
          "2010-juillet",
          "2010-août",
          "2010-septembre",
          "2010-octobre",
          "2010-novembre",
          "2010-décembre",
          "2011-janvier",
          "2011-février",
          "2011-mars",
          "2011-avril",
          "2011-mai",
          "2011-juin",
          "2011-juillet",
          "2011-août",
          "2011-septembre",
          "2011-octobre",
          "2011-novembre",
          "2011-décembre",
          "2012-janvier",
          "2012-février",
          "2012-mars",
          "2012-avril",
          "2012-mai",
          "2012-juin",
          "2012-juillet",
          "2012-août",
          "2012-septembre",
          "2012-octobre",
          "2012-novembre",
          "2012-décembre",
          "2013-janvier",
          "2013-février",
          "2013-mars",
          "2013-avril",
          "2013-mai",
          "2013-juin",
          "2013-juillet",
          "2013-août",
          "2013-septembre",
          "2013-octobre",
          "2013-novembre",
          "2013-décembre",
          "2014-janvier",
          "2014-février",
          "2014-mars",
          "2014-avril",
          "2014-mai",
          "2014-juin",
          "2014-juillet",
          "2014-août",
          "2014-septembre",
          "2014-octobre",
          "2014-novembre",
          "2014-décembre",
          "2015-janvier",
          "2015-février",
          "2015-mars",
          "2015-avril",
          "2015-mai",
          "2015-juin",
          "2015-juillet",
          "2015-août",
          "2015-septembre",
          "2015-octobre",
          "2015-novembre",
          "2015-décembre",
          "2016-janvier",
          "2016-février",
          "2016-mars",
          "2016-avril",
          "2016-mai",
          "2016-juin",
          "2016-juillet",
          "2016-août",
          "2016-septembre",
          "2016-octobre",
          "2016-novembre",
          "2016-décembre",
          "2017-janvier",
          "2017-février",
          "2017-mars",
          "2017-avril",
          "2017-mai",
          "2017-juin",
          "2017-juillet",
          "2017-août",
          "2017-septembre",
          "2017-octobre",
          "2017-novembre",
          "2017-décembre",
          "2018-janvier",
          "2018-février",
          "2018-mars",
          "2018-avril",
          "2018-mai",
          "2018-juin",
          "2018-juillet",
          "2018-août",
          "2018-septembre",
          "2018-octobre",
          "2018-novembre",
          "2018-décembre",
          "2019-janvier",
          "2019-février",
          "2019-mars",
          "2019-avril",
          "2019-mai",
          "2019-juin",
          "2019-juillet",
          "2019-août",
          "2019-septembre",
          "2019-octobre",
          "2019-novembre",
          "2019-décembre",
          "2020-janvier",
          "2020-février",
          "2020-mars",
          "2020-avril",
          "2020-mai",
          "2020-juin",
          "2020-juillet",
          "2020-août",
          "2020-septembre",
          "2020-octobre",
          "2020-novembre",
          "2020-décembre",
          "2021-janvier",
          "2021-février",
          "2021-mars",
          "2021-avril",
          "2021-mai",
          "2021-juin",
          "2021-juillet",
          "2021-août",
          "2021-septembre",
          "2021-octobre",
          "2021-novembre",
          "2021-décembre"
         ],
         "xaxis": "x",
         "y": [
          384,
          259,
          408,
          467,
          738,
          871,
          701,
          696,
          696,
          692,
          459,
          401,
          377,
          245,
          370,
          555,
          634,
          796,
          814,
          521,
          937,
          741,
          499,
          515,
          374,
          402,
          500,
          678,
          598,
          597,
          681,
          551,
          818,
          680,
          582,
          410,
          436,
          399,
          388,
          451,
          660,
          752,
          758,
          524,
          648,
          556,
          438,
          347,
          288,
          295,
          389,
          521,
          554,
          709,
          675,
          645,
          811,
          558,
          409,
          278,
          229,
          224,
          363,
          615,
          583,
          604,
          774,
          534,
          608,
          554,
          354,
          223,
          352,
          335,
          437,
          660,
          614,
          600,
          497,
          551,
          591,
          561,
          481,
          300,
          300,
          235,
          439,
          324,
          538,
          563,
          614,
          543,
          603,
          643,
          365,
          274,
          252,
          219,
          350,
          459,
          376,
          569,
          604,
          584,
          622,
          611,
          365,
          413,
          341,
          316,
          552,
          426,
          585,
          587,
          485,
          508,
          644,
          591,
          416,
          318,
          311,
          287,
          378,
          533,
          525,
          743,
          574,
          483,
          573,
          435,
          515,
          437,
          354,
          234,
          413,
          469,
          636,
          579,
          573,
          588,
          683,
          521,
          407,
          391,
          310,
          462,
          549,
          611,
          495,
          710,
          517,
          513,
          545,
          594,
          413,
          283,
          324,
          220,
          296,
          366,
          362,
          357,
          466,
          295,
          308,
          276,
          183,
          119,
          182,
          329,
          240,
          357,
          412,
          424,
          540,
          457,
          446,
          249,
          170,
          266,
          422,
          193,
          104,
          56,
          293,
          430,
          399,
          342,
          516,
          250,
          186,
          212,
          234,
          242,
          318,
          318,
          330,
          483,
          417,
          398,
          396,
          400,
          196,
          212
         ],
         "yaxis": "y"
        },
        {
         "mode": "lines",
         "name": "Tendance lissée sur 12 mois",
         "type": "scatter",
         "x": [
          "2005-janvier",
          "2005-février",
          "2005-mars",
          "2005-avril",
          "2005-mai",
          "2005-juin",
          "2005-juillet",
          "2005-août",
          "2005-septembre",
          "2005-octobre",
          "2005-novembre",
          "2005-décembre",
          "2006-janvier",
          "2006-février",
          "2006-mars",
          "2006-avril",
          "2006-mai",
          "2006-juin",
          "2006-juillet",
          "2006-août",
          "2006-septembre",
          "2006-octobre",
          "2006-novembre",
          "2006-décembre",
          "2007-janvier",
          "2007-février",
          "2007-mars",
          "2007-avril",
          "2007-mai",
          "2007-juin",
          "2007-juillet",
          "2007-août",
          "2007-septembre",
          "2007-octobre",
          "2007-novembre",
          "2007-décembre",
          "2008-janvier",
          "2008-février",
          "2008-mars",
          "2008-avril",
          "2008-mai",
          "2008-juin",
          "2008-juillet",
          "2008-août",
          "2008-septembre",
          "2008-octobre",
          "2008-novembre",
          "2008-décembre",
          "2009-janvier",
          "2009-février",
          "2009-mars",
          "2009-avril",
          "2009-mai",
          "2009-juin",
          "2009-juillet",
          "2009-août",
          "2009-septembre",
          "2009-octobre",
          "2009-novembre",
          "2009-décembre",
          "2010-janvier",
          "2010-février",
          "2010-mars",
          "2010-avril",
          "2010-mai",
          "2010-juin",
          "2010-juillet",
          "2010-août",
          "2010-septembre",
          "2010-octobre",
          "2010-novembre",
          "2010-décembre",
          "2011-janvier",
          "2011-février",
          "2011-mars",
          "2011-avril",
          "2011-mai",
          "2011-juin",
          "2011-juillet",
          "2011-août",
          "2011-septembre",
          "2011-octobre",
          "2011-novembre",
          "2011-décembre",
          "2012-janvier",
          "2012-février",
          "2012-mars",
          "2012-avril",
          "2012-mai",
          "2012-juin",
          "2012-juillet",
          "2012-août",
          "2012-septembre",
          "2012-octobre",
          "2012-novembre",
          "2012-décembre",
          "2013-janvier",
          "2013-février",
          "2013-mars",
          "2013-avril",
          "2013-mai",
          "2013-juin",
          "2013-juillet",
          "2013-août",
          "2013-septembre",
          "2013-octobre",
          "2013-novembre",
          "2013-décembre",
          "2014-janvier",
          "2014-février",
          "2014-mars",
          "2014-avril",
          "2014-mai",
          "2014-juin",
          "2014-juillet",
          "2014-août",
          "2014-septembre",
          "2014-octobre",
          "2014-novembre",
          "2014-décembre",
          "2015-janvier",
          "2015-février",
          "2015-mars",
          "2015-avril",
          "2015-mai",
          "2015-juin",
          "2015-juillet",
          "2015-août",
          "2015-septembre",
          "2015-octobre",
          "2015-novembre",
          "2015-décembre",
          "2016-janvier",
          "2016-février",
          "2016-mars",
          "2016-avril",
          "2016-mai",
          "2016-juin",
          "2016-juillet",
          "2016-août",
          "2016-septembre",
          "2016-octobre",
          "2016-novembre",
          "2016-décembre",
          "2017-janvier",
          "2017-février",
          "2017-mars",
          "2017-avril",
          "2017-mai",
          "2017-juin",
          "2017-juillet",
          "2017-août",
          "2017-septembre",
          "2017-octobre",
          "2017-novembre",
          "2017-décembre",
          "2018-janvier",
          "2018-février",
          "2018-mars",
          "2018-avril",
          "2018-mai",
          "2018-juin",
          "2018-juillet",
          "2018-août",
          "2018-septembre",
          "2018-octobre",
          "2018-novembre",
          "2018-décembre",
          "2019-janvier",
          "2019-février",
          "2019-mars",
          "2019-avril",
          "2019-mai",
          "2019-juin",
          "2019-juillet",
          "2019-août",
          "2019-septembre",
          "2019-octobre",
          "2019-novembre",
          "2019-décembre",
          "2020-janvier",
          "2020-février",
          "2020-mars",
          "2020-avril",
          "2020-mai",
          "2020-juin",
          "2020-juillet",
          "2020-août",
          "2020-septembre",
          "2020-octobre",
          "2020-novembre",
          "2020-décembre",
          "2021-janvier",
          "2021-février",
          "2021-mars",
          "2021-avril",
          "2021-mai",
          "2021-juin",
          "2021-juillet",
          "2021-août",
          "2021-septembre",
          "2021-octobre",
          "2021-novembre",
          "2021-décembre"
         ],
         "y": [
          null,
          null,
          null,
          null,
          null,
          null,
          null,
          null,
          null,
          null,
          null,
          564.3333333333334,
          563.75,
          562.5833333333334,
          559.4166666666666,
          566.75,
          558.0833333333334,
          551.8333333333334,
          561.25,
          546.6666666666666,
          566.75,
          570.8333333333334,
          574.1666666666666,
          583.6666666666666,
          583.4166666666666,
          596.5,
          607.3333333333334,
          617.5833333333334,
          614.5833333333334,
          598,
          586.9166666666666,
          589.4166666666666,
          579.5,
          574.4166666666666,
          581.3333333333334,
          572.5833333333334,
          577.75,
          577.5,
          568.1666666666666,
          549.25,
          554.4166666666666,
          567.3333333333334,
          573.75,
          571.5,
          557.3333333333334,
          547,
          535,
          529.75,
          517.4166666666666,
          508.75,
          508.8333333333333,
          514.6666666666666,
          505.8333333333333,
          502.25,
          495.3333333333333,
          505.4166666666667,
          519,
          519.1666666666666,
          516.75,
          511,
          506.0833333333333,
          500.1666666666667,
          498,
          505.8333333333333,
          508.25,
          499.5,
          507.75,
          498.5,
          481.5833333333333,
          481.25,
          476.6666666666667,
          472.0833333333333,
          482.3333333333333,
          491.5833333333333,
          497.75,
          501.5,
          504.0833333333333,
          503.75,
          480.6666666666667,
          482.0833333333333,
          480.6666666666667,
          481.25,
          491.8333333333333,
          498.25,
          493.9166666666667,
          485.5833333333333,
          485.75,
          457.75,
          451.4166666666667,
          448.3333333333333,
          458.0833333333333,
          457.4166666666667,
          458.4166666666667,
          465.25,
          455.5833333333333,
          453.4166666666667,
          449.4166666666667,
          448.0833333333333,
          440.6666666666667,
          451.9166666666667,
          438.4166666666667,
          438.9166666666667,
          438.0833333333333,
          441.5,
          443.0833333333333,
          440.4166666666667,
          440.4166666666667,
          452,
          459.4166666666667,
          467.5,
          484.3333333333333,
          481.5833333333333,
          499,
          500.5,
          490.5833333333333,
          484.25,
          486.0833333333333,
          484.4166666666667,
          488.6666666666667,
          480.75,
          478.25,
          475.8333333333333,
          461.3333333333333,
          470.25,
          465.25,
          478.25,
          485.6666666666667,
          483.5833333333333,
          477.6666666666667,
          464.6666666666667,
          472.9166666666667,
          482.8333333333333,
          486.4166666666667,
          482,
          484.9166666666667,
          479.5833333333333,
          488.8333333333333,
          475.1666666666667,
          475.0833333333333,
          483.8333333333333,
          493,
          500.1666666666667,
          491.1666666666667,
          487.3333333333333,
          483.6666666666667,
          502.6666666666667,
          514,
          525.8333333333334,
          514.0833333333334,
          525,
          520.3333333333334,
          514.0833333333334,
          502.5833333333333,
          508.6666666666667,
          509.1666666666667,
          500.1666666666667,
          501.3333333333333,
          481.1666666666667,
          460.0833333333333,
          439.6666666666667,
          428.5833333333333,
          399.1666666666667,
          394.9166666666667,
          376.75,
          357,
          330.5,
          311.3333333333333,
          297.6666666666667,
          285.8333333333333,
          294.9166666666667,
          290.25,
          289.5,
          293.6666666666667,
          299.25,
          305.4166666666667,
          318.9166666666667,
          330.4166666666667,
          328.1666666666667,
          327.0833333333333,
          339.3333333333333,
          359.3333333333333,
          348,
          336.6666666666667,
          311.5833333333333,
          301.6666666666667,
          302.1666666666667,
          290.4166666666667,
          280.8333333333333,
          286.6666666666667,
          286.75,
          288.0833333333333,
          283.5833333333333,
          267.9166666666667,
          272,
          289.8333333333333,
          311.6666666666667,
          314.75,
          319.1666666666667,
          320.6666666666667,
          325.3333333333333,
          315.3333333333333,
          327.8333333333333,
          328.6666666666667,
          328.6666666666667
         ]
        }
       ],
       "layout": {
        "autosize": true,
        "legend": {
         "tracegroupgap": 0
        },
        "margin": {
         "b": 0,
         "l": 0,
         "r": 0,
         "t": 30
        },
        "template": {
         "data": {
          "bar": [
           {
            "error_x": {
             "color": "#2a3f5f"
            },
            "error_y": {
             "color": "#2a3f5f"
            },
            "marker": {
             "line": {
              "color": "#E5ECF6",
              "width": 0.5
             },
             "pattern": {
              "fillmode": "overlay",
              "size": 10,
              "solidity": 0.2
             }
            },
            "type": "bar"
           }
          ],
          "barpolar": [
           {
            "marker": {
             "line": {
              "color": "#E5ECF6",
              "width": 0.5
             },
             "pattern": {
              "fillmode": "overlay",
              "size": 10,
              "solidity": 0.2
             }
            },
            "type": "barpolar"
           }
          ],
          "carpet": [
           {
            "aaxis": {
             "endlinecolor": "#2a3f5f",
             "gridcolor": "white",
             "linecolor": "white",
             "minorgridcolor": "white",
             "startlinecolor": "#2a3f5f"
            },
            "baxis": {
             "endlinecolor": "#2a3f5f",
             "gridcolor": "white",
             "linecolor": "white",
             "minorgridcolor": "white",
             "startlinecolor": "#2a3f5f"
            },
            "type": "carpet"
           }
          ],
          "choropleth": [
           {
            "colorbar": {
             "outlinewidth": 0,
             "ticks": ""
            },
            "type": "choropleth"
           }
          ],
          "contour": [
           {
            "colorbar": {
             "outlinewidth": 0,
             "ticks": ""
            },
            "colorscale": [
             [
              0,
              "#0d0887"
             ],
             [
              0.1111111111111111,
              "#46039f"
             ],
             [
              0.2222222222222222,
              "#7201a8"
             ],
             [
              0.3333333333333333,
              "#9c179e"
             ],
             [
              0.4444444444444444,
              "#bd3786"
             ],
             [
              0.5555555555555556,
              "#d8576b"
             ],
             [
              0.6666666666666666,
              "#ed7953"
             ],
             [
              0.7777777777777778,
              "#fb9f3a"
             ],
             [
              0.8888888888888888,
              "#fdca26"
             ],
             [
              1,
              "#f0f921"
             ]
            ],
            "type": "contour"
           }
          ],
          "contourcarpet": [
           {
            "colorbar": {
             "outlinewidth": 0,
             "ticks": ""
            },
            "type": "contourcarpet"
           }
          ],
          "heatmap": [
           {
            "colorbar": {
             "outlinewidth": 0,
             "ticks": ""
            },
            "colorscale": [
             [
              0,
              "#0d0887"
             ],
             [
              0.1111111111111111,
              "#46039f"
             ],
             [
              0.2222222222222222,
              "#7201a8"
             ],
             [
              0.3333333333333333,
              "#9c179e"
             ],
             [
              0.4444444444444444,
              "#bd3786"
             ],
             [
              0.5555555555555556,
              "#d8576b"
             ],
             [
              0.6666666666666666,
              "#ed7953"
             ],
             [
              0.7777777777777778,
              "#fb9f3a"
             ],
             [
              0.8888888888888888,
              "#fdca26"
             ],
             [
              1,
              "#f0f921"
             ]
            ],
            "type": "heatmap"
           }
          ],
          "heatmapgl": [
           {
            "colorbar": {
             "outlinewidth": 0,
             "ticks": ""
            },
            "colorscale": [
             [
              0,
              "#0d0887"
             ],
             [
              0.1111111111111111,
              "#46039f"
             ],
             [
              0.2222222222222222,
              "#7201a8"
             ],
             [
              0.3333333333333333,
              "#9c179e"
             ],
             [
              0.4444444444444444,
              "#bd3786"
             ],
             [
              0.5555555555555556,
              "#d8576b"
             ],
             [
              0.6666666666666666,
              "#ed7953"
             ],
             [
              0.7777777777777778,
              "#fb9f3a"
             ],
             [
              0.8888888888888888,
              "#fdca26"
             ],
             [
              1,
              "#f0f921"
             ]
            ],
            "type": "heatmapgl"
           }
          ],
          "histogram": [
           {
            "marker": {
             "pattern": {
              "fillmode": "overlay",
              "size": 10,
              "solidity": 0.2
             }
            },
            "type": "histogram"
           }
          ],
          "histogram2d": [
           {
            "colorbar": {
             "outlinewidth": 0,
             "ticks": ""
            },
            "colorscale": [
             [
              0,
              "#0d0887"
             ],
             [
              0.1111111111111111,
              "#46039f"
             ],
             [
              0.2222222222222222,
              "#7201a8"
             ],
             [
              0.3333333333333333,
              "#9c179e"
             ],
             [
              0.4444444444444444,
              "#bd3786"
             ],
             [
              0.5555555555555556,
              "#d8576b"
             ],
             [
              0.6666666666666666,
              "#ed7953"
             ],
             [
              0.7777777777777778,
              "#fb9f3a"
             ],
             [
              0.8888888888888888,
              "#fdca26"
             ],
             [
              1,
              "#f0f921"
             ]
            ],
            "type": "histogram2d"
           }
          ],
          "histogram2dcontour": [
           {
            "colorbar": {
             "outlinewidth": 0,
             "ticks": ""
            },
            "colorscale": [
             [
              0,
              "#0d0887"
             ],
             [
              0.1111111111111111,
              "#46039f"
             ],
             [
              0.2222222222222222,
              "#7201a8"
             ],
             [
              0.3333333333333333,
              "#9c179e"
             ],
             [
              0.4444444444444444,
              "#bd3786"
             ],
             [
              0.5555555555555556,
              "#d8576b"
             ],
             [
              0.6666666666666666,
              "#ed7953"
             ],
             [
              0.7777777777777778,
              "#fb9f3a"
             ],
             [
              0.8888888888888888,
              "#fdca26"
             ],
             [
              1,
              "#f0f921"
             ]
            ],
            "type": "histogram2dcontour"
           }
          ],
          "mesh3d": [
           {
            "colorbar": {
             "outlinewidth": 0,
             "ticks": ""
            },
            "type": "mesh3d"
           }
          ],
          "parcoords": [
           {
            "line": {
             "colorbar": {
              "outlinewidth": 0,
              "ticks": ""
             }
            },
            "type": "parcoords"
           }
          ],
          "pie": [
           {
            "automargin": true,
            "type": "pie"
           }
          ],
          "scatter": [
           {
            "fillpattern": {
             "fillmode": "overlay",
             "size": 10,
             "solidity": 0.2
            },
            "type": "scatter"
           }
          ],
          "scatter3d": [
           {
            "line": {
             "colorbar": {
              "outlinewidth": 0,
              "ticks": ""
             }
            },
            "marker": {
             "colorbar": {
              "outlinewidth": 0,
              "ticks": ""
             }
            },
            "type": "scatter3d"
           }
          ],
          "scattercarpet": [
           {
            "marker": {
             "colorbar": {
              "outlinewidth": 0,
              "ticks": ""
             }
            },
            "type": "scattercarpet"
           }
          ],
          "scattergeo": [
           {
            "marker": {
             "colorbar": {
              "outlinewidth": 0,
              "ticks": ""
             }
            },
            "type": "scattergeo"
           }
          ],
          "scattergl": [
           {
            "marker": {
             "colorbar": {
              "outlinewidth": 0,
              "ticks": ""
             }
            },
            "type": "scattergl"
           }
          ],
          "scattermapbox": [
           {
            "marker": {
             "colorbar": {
              "outlinewidth": 0,
              "ticks": ""
             }
            },
            "type": "scattermapbox"
           }
          ],
          "scatterpolar": [
           {
            "marker": {
             "colorbar": {
              "outlinewidth": 0,
              "ticks": ""
             }
            },
            "type": "scatterpolar"
           }
          ],
          "scatterpolargl": [
           {
            "marker": {
             "colorbar": {
              "outlinewidth": 0,
              "ticks": ""
             }
            },
            "type": "scatterpolargl"
           }
          ],
          "scatterternary": [
           {
            "marker": {
             "colorbar": {
              "outlinewidth": 0,
              "ticks": ""
             }
            },
            "type": "scatterternary"
           }
          ],
          "surface": [
           {
            "colorbar": {
             "outlinewidth": 0,
             "ticks": ""
            },
            "colorscale": [
             [
              0,
              "#0d0887"
             ],
             [
              0.1111111111111111,
              "#46039f"
             ],
             [
              0.2222222222222222,
              "#7201a8"
             ],
             [
              0.3333333333333333,
              "#9c179e"
             ],
             [
              0.4444444444444444,
              "#bd3786"
             ],
             [
              0.5555555555555556,
              "#d8576b"
             ],
             [
              0.6666666666666666,
              "#ed7953"
             ],
             [
              0.7777777777777778,
              "#fb9f3a"
             ],
             [
              0.8888888888888888,
              "#fdca26"
             ],
             [
              1,
              "#f0f921"
             ]
            ],
            "type": "surface"
           }
          ],
          "table": [
           {
            "cells": {
             "fill": {
              "color": "#EBF0F8"
             },
             "line": {
              "color": "white"
             }
            },
            "header": {
             "fill": {
              "color": "#C8D4E3"
             },
             "line": {
              "color": "white"
             }
            },
            "type": "table"
           }
          ]
         },
         "layout": {
          "annotationdefaults": {
           "arrowcolor": "#2a3f5f",
           "arrowhead": 0,
           "arrowwidth": 1
          },
          "autotypenumbers": "strict",
          "coloraxis": {
           "colorbar": {
            "outlinewidth": 0,
            "ticks": ""
           }
          },
          "colorscale": {
           "diverging": [
            [
             0,
             "#8e0152"
            ],
            [
             0.1,
             "#c51b7d"
            ],
            [
             0.2,
             "#de77ae"
            ],
            [
             0.3,
             "#f1b6da"
            ],
            [
             0.4,
             "#fde0ef"
            ],
            [
             0.5,
             "#f7f7f7"
            ],
            [
             0.6,
             "#e6f5d0"
            ],
            [
             0.7,
             "#b8e186"
            ],
            [
             0.8,
             "#7fbc41"
            ],
            [
             0.9,
             "#4d9221"
            ],
            [
             1,
             "#276419"
            ]
           ],
           "sequential": [
            [
             0,
             "#0d0887"
            ],
            [
             0.1111111111111111,
             "#46039f"
            ],
            [
             0.2222222222222222,
             "#7201a8"
            ],
            [
             0.3333333333333333,
             "#9c179e"
            ],
            [
             0.4444444444444444,
             "#bd3786"
            ],
            [
             0.5555555555555556,
             "#d8576b"
            ],
            [
             0.6666666666666666,
             "#ed7953"
            ],
            [
             0.7777777777777778,
             "#fb9f3a"
            ],
            [
             0.8888888888888888,
             "#fdca26"
            ],
            [
             1,
             "#f0f921"
            ]
           ],
           "sequentialminus": [
            [
             0,
             "#0d0887"
            ],
            [
             0.1111111111111111,
             "#46039f"
            ],
            [
             0.2222222222222222,
             "#7201a8"
            ],
            [
             0.3333333333333333,
             "#9c179e"
            ],
            [
             0.4444444444444444,
             "#bd3786"
            ],
            [
             0.5555555555555556,
             "#d8576b"
            ],
            [
             0.6666666666666666,
             "#ed7953"
            ],
            [
             0.7777777777777778,
             "#fb9f3a"
            ],
            [
             0.8888888888888888,
             "#fdca26"
            ],
            [
             1,
             "#f0f921"
            ]
           ]
          },
          "colorway": [
           "#636efa",
           "#EF553B",
           "#00cc96",
           "#ab63fa",
           "#FFA15A",
           "#19d3f3",
           "#FF6692",
           "#B6E880",
           "#FF97FF",
           "#FECB52"
          ],
          "font": {
           "color": "#2a3f5f"
          },
          "geo": {
           "bgcolor": "white",
           "lakecolor": "white",
           "landcolor": "#E5ECF6",
           "showlakes": true,
           "showland": true,
           "subunitcolor": "white"
          },
          "hoverlabel": {
           "align": "left"
          },
          "hovermode": "closest",
          "mapbox": {
           "style": "light"
          },
          "paper_bgcolor": "white",
          "plot_bgcolor": "#E5ECF6",
          "polar": {
           "angularaxis": {
            "gridcolor": "white",
            "linecolor": "white",
            "ticks": ""
           },
           "bgcolor": "#E5ECF6",
           "radialaxis": {
            "gridcolor": "white",
            "linecolor": "white",
            "ticks": ""
           }
          },
          "scene": {
           "xaxis": {
            "backgroundcolor": "#E5ECF6",
            "gridcolor": "white",
            "gridwidth": 2,
            "linecolor": "white",
            "showbackground": true,
            "ticks": "",
            "zerolinecolor": "white"
           },
           "yaxis": {
            "backgroundcolor": "#E5ECF6",
            "gridcolor": "white",
            "gridwidth": 2,
            "linecolor": "white",
            "showbackground": true,
            "ticks": "",
            "zerolinecolor": "white"
           },
           "zaxis": {
            "backgroundcolor": "#E5ECF6",
            "gridcolor": "white",
            "gridwidth": 2,
            "linecolor": "white",
            "showbackground": true,
            "ticks": "",
            "zerolinecolor": "white"
           }
          },
          "shapedefaults": {
           "line": {
            "color": "#2a3f5f"
           }
          },
          "ternary": {
           "aaxis": {
            "gridcolor": "white",
            "linecolor": "white",
            "ticks": ""
           },
           "baxis": {
            "gridcolor": "white",
            "linecolor": "white",
            "ticks": ""
           },
           "bgcolor": "#E5ECF6",
           "caxis": {
            "gridcolor": "white",
            "linecolor": "white",
            "ticks": ""
           }
          },
          "title": {
           "x": 0.05
          },
          "xaxis": {
           "automargin": true,
           "gridcolor": "white",
           "linecolor": "white",
           "ticks": "",
           "title": {
            "standoff": 15
           },
           "zerolinecolor": "white",
           "zerolinewidth": 2
          },
          "yaxis": {
           "automargin": true,
           "gridcolor": "white",
           "linecolor": "white",
           "ticks": "",
           "title": {
            "standoff": 15
           },
           "zerolinecolor": "white",
           "zerolinewidth": 2
          }
         }
        },
        "title": {
         "font": {
          "color": "black",
          "family": "Arial, sans-serif",
          "size": 20
         },
         "text": "<b>Évolution du nombre d'accidents de vélos par mois sur le territoire français</b>",
         "x": 0.5,
         "xanchor": "center",
         "y": 0.98,
         "yanchor": "top"
        },
        "xaxis": {
         "anchor": "y",
         "autorange": true,
         "domain": [
          0,
          1
         ],
         "range": [
          0,
          203
         ],
         "rangeslider": {
          "autorange": true,
          "range": [
           0,
           203
          ],
          "visible": true,
          "yaxis": {
           "_template": null,
           "rangemode": "match"
          }
         },
         "title": {
          "text": "Date"
         },
         "type": "category"
        },
        "yaxis": {
         "anchor": "x",
         "autorange": true,
         "domain": [
          0,
          1
         ],
         "range": [
          7.05555555555555,
          985.9444444444445
         ],
         "title": {
          "text": "Nombre d'accidents"
         },
         "type": "linear"
        }
       }
      },
      "image/png": "[encoded data removed]",
      "text/html": [
       "<div>                            <div id=\"3687a012-199a-4fc8-a9f6-0cf9ac6985df\" class=\"plotly-graph-div\" style=\"height:600px; width:100%;\"></div>            <script type=\"text/javascript\">                require([\"plotly\"], function(Plotly) {                    window.PLOTLYENV=window.PLOTLYENV || {};                                    if (document.getElementById(\"3687a012-199a-4fc8-a9f6-0cf9ac6985df\")) {                    Plotly.newPlot(                        \"3687a012-199a-4fc8-a9f6-0cf9ac6985df\",                        [{\"customdata\":[[2005,\"janvier\",384],[2005,\"f\\u00e9vrier\",259],[2005,\"mars\",408],[2005,\"avril\",467],[2005,\"mai\",738],[2005,\"juin\",871],[2005,\"juillet\",701],[2005,\"ao\\u00fbt\",696],[2005,\"septembre\",696],[2005,\"octobre\",692],[2005,\"novembre\",459],[2005,\"d\\u00e9cembre\",401],[2006,\"janvier\",377],[2006,\"f\\u00e9vrier\",245],[2006,\"mars\",370],[2006,\"avril\",555],[2006,\"mai\",634],[2006,\"juin\",796],[2006,\"juillet\",814],[2006,\"ao\\u00fbt\",521],[2006,\"septembre\",937],[2006,\"octobre\",741],[2006,\"novembre\",499],[2006,\"d\\u00e9cembre\",515],[2007,\"janvier\",374],[2007,\"f\\u00e9vrier\",402],[2007,\"mars\",500],[2007,\"avril\",678],[2007,\"mai\",598],[2007,\"juin\",597],[2007,\"juillet\",681],[2007,\"ao\\u00fbt\",551],[2007,\"septembre\",818],[2007,\"octobre\",680],[2007,\"novembre\",582],[2007,\"d\\u00e9cembre\",410],[2008,\"janvier\",436],[2008,\"f\\u00e9vrier\",399],[2008,\"mars\",388],[2008,\"avril\",451],[2008,\"mai\",660],[2008,\"juin\",752],[2008,\"juillet\",758],[2008,\"ao\\u00fbt\",524],[2008,\"septembre\",648],[2008,\"octobre\",556],[2008,\"novembre\",438],[2008,\"d\\u00e9cembre\",347],[2009,\"janvier\",288],[2009,\"f\\u00e9vrier\",295],[2009,\"mars\",389],[2009,\"avril\",521],[2009,\"mai\",554],[2009,\"juin\",709],[2009,\"juillet\",675],[2009,\"ao\\u00fbt\",645],[2009,\"septembre\",811],[2009,\"octobre\",558],[2009,\"novembre\",409],[2009,\"d\\u00e9cembre\",278],[2010,\"janvier\",229],[2010,\"f\\u00e9vrier\",224],[2010,\"mars\",363],[2010,\"avril\",615],[2010,\"mai\",583],[2010,\"juin\",604],[2010,\"juillet\",774],[2010,\"ao\\u00fbt\",534],[2010,\"septembre\",608],[2010,\"octobre\",554],[2010,\"novembre\",354],[2010,\"d\\u00e9cembre\",223],[2011,\"janvier\",352],[2011,\"f\\u00e9vrier\",335],[2011,\"mars\",437],[2011,\"avril\",660],[2011,\"mai\",614],[2011,\"juin\",600],[2011,\"juillet\",497],[2011,\"ao\\u00fbt\",551],[2011,\"septembre\",591],[2011,\"octobre\",561],[2011,\"novembre\",481],[2011,\"d\\u00e9cembre\",300],[2012,\"janvier\",300],[2012,\"f\\u00e9vrier\",235],[2012,\"mars\",439],[2012,\"avril\",324],[2012,\"mai\",538],[2012,\"juin\",563],[2012,\"juillet\",614],[2012,\"ao\\u00fbt\",543],[2012,\"septembre\",603],[2012,\"octobre\",643],[2012,\"novembre\",365],[2012,\"d\\u00e9cembre\",274],[2013,\"janvier\",252],[2013,\"f\\u00e9vrier\",219],[2013,\"mars\",350],[2013,\"avril\",459],[2013,\"mai\",376],[2013,\"juin\",569],[2013,\"juillet\",604],[2013,\"ao\\u00fbt\",584],[2013,\"septembre\",622],[2013,\"octobre\",611],[2013,\"novembre\",365],[2013,\"d\\u00e9cembre\",413],[2014,\"janvier\",341],[2014,\"f\\u00e9vrier\",316],[2014,\"mars\",552],[2014,\"avril\",426],[2014,\"mai\",585],[2014,\"juin\",587],[2014,\"juillet\",485],[2014,\"ao\\u00fbt\",508],[2014,\"septembre\",644],[2014,\"octobre\",591],[2014,\"novembre\",416],[2014,\"d\\u00e9cembre\",318],[2015,\"janvier\",311],[2015,\"f\\u00e9vrier\",287],[2015,\"mars\",378],[2015,\"avril\",533],[2015,\"mai\",525],[2015,\"juin\",743],[2015,\"juillet\",574],[2015,\"ao\\u00fbt\",483],[2015,\"septembre\",573],[2015,\"octobre\",435],[2015,\"novembre\",515],[2015,\"d\\u00e9cembre\",437],[2016,\"janvier\",354],[2016,\"f\\u00e9vrier\",234],[2016,\"mars\",413],[2016,\"avril\",469],[2016,\"mai\",636],[2016,\"juin\",579],[2016,\"juillet\",573],[2016,\"ao\\u00fbt\",588],[2016,\"septembre\",683],[2016,\"octobre\",521],[2016,\"novembre\",407],[2016,\"d\\u00e9cembre\",391],[2017,\"janvier\",310],[2017,\"f\\u00e9vrier\",462],[2017,\"mars\",549],[2017,\"avril\",611],[2017,\"mai\",495],[2017,\"juin\",710],[2017,\"juillet\",517],[2017,\"ao\\u00fbt\",513],[2017,\"septembre\",545],[2017,\"octobre\",594],[2017,\"novembre\",413],[2017,\"d\\u00e9cembre\",283],[2018,\"janvier\",324],[2018,\"f\\u00e9vrier\",220],[2018,\"mars\",296],[2018,\"avril\",366],[2018,\"mai\",362],[2018,\"juin\",357],[2018,\"juillet\",466],[2018,\"ao\\u00fbt\",295],[2018,\"septembre\",308],[2018,\"octobre\",276],[2018,\"novembre\",183],[2018,\"d\\u00e9cembre\",119],[2019,\"janvier\",182],[2019,\"f\\u00e9vrier\",329],[2019,\"mars\",240],[2019,\"avril\",357],[2019,\"mai\",412],[2019,\"juin\",424],[2019,\"juillet\",540],[2019,\"ao\\u00fbt\",457],[2019,\"septembre\",446],[2019,\"octobre\",249],[2019,\"novembre\",170],[2019,\"d\\u00e9cembre\",266],[2020,\"janvier\",422],[2020,\"f\\u00e9vrier\",193],[2020,\"mars\",104],[2020,\"avril\",56],[2020,\"mai\",293],[2020,\"juin\",430],[2020,\"juillet\",399],[2020,\"ao\\u00fbt\",342],[2020,\"septembre\",516],[2020,\"octobre\",250],[2020,\"novembre\",186],[2020,\"d\\u00e9cembre\",212],[2021,\"janvier\",234],[2021,\"f\\u00e9vrier\",242],[2021,\"mars\",318],[2021,\"avril\",318],[2021,\"mai\",330],[2021,\"juin\",483],[2021,\"juillet\",417],[2021,\"ao\\u00fbt\",398],[2021,\"septembre\",396],[2021,\"octobre\",400],[2021,\"novembre\",196],[2021,\"d\\u00e9cembre\",212]],\"hovertemplate\":\"Ann\\u00e9e : %{customdata[0]}\\u003cbr\\u003eMois : %{customdata[1]}\\u003cbr\\u003eNombre d'accidents : %{customdata[2]}\",\"legendgroup\":\"\",\"line\":{\"color\":\"#636efa\",\"dash\":\"solid\"},\"marker\":{\"symbol\":\"circle\"},\"mode\":\"lines\",\"name\":\"\",\"orientation\":\"v\",\"showlegend\":false,\"x\":[\"2005-janvier\",\"2005-f\\u00e9vrier\",\"2005-mars\",\"2005-avril\",\"2005-mai\",\"2005-juin\",\"2005-juillet\",\"2005-ao\\u00fbt\",\"2005-septembre\",\"2005-octobre\",\"2005-novembre\",\"2005-d\\u00e9cembre\",\"2006-janvier\",\"2006-f\\u00e9vrier\",\"2006-mars\",\"2006-avril\",\"2006-mai\",\"2006-juin\",\"2006-juillet\",\"2006-ao\\u00fbt\",\"2006-septembre\",\"2006-octobre\",\"2006-novembre\",\"2006-d\\u00e9cembre\",\"2007-janvier\",\"2007-f\\u00e9vrier\",\"2007-mars\",\"2007-avril\",\"2007-mai\",\"2007-juin\",\"2007-juillet\",\"2007-ao\\u00fbt\",\"2007-septembre\",\"2007-octobre\",\"2007-novembre\",\"2007-d\\u00e9cembre\",\"2008-janvier\",\"2008-f\\u00e9vrier\",\"2008-mars\",\"2008-avril\",\"2008-mai\",\"2008-juin\",\"2008-juillet\",\"2008-ao\\u00fbt\",\"2008-septembre\",\"2008-octobre\",\"2008-novembre\",\"2008-d\\u00e9cembre\",\"2009-janvier\",\"2009-f\\u00e9vrier\",\"2009-mars\",\"2009-avril\",\"2009-mai\",\"2009-juin\",\"2009-juillet\",\"2009-ao\\u00fbt\",\"2009-septembre\",\"2009-octobre\",\"2009-novembre\",\"2009-d\\u00e9cembre\",\"2010-janvier\",\"2010-f\\u00e9vrier\",\"2010-mars\",\"2010-avril\",\"2010-mai\",\"2010-juin\",\"2010-juillet\",\"2010-ao\\u00fbt\",\"2010-septembre\",\"2010-octobre\",\"2010-novembre\",\"2010-d\\u00e9cembre\",\"2011-janvier\",\"2011-f\\u00e9vrier\",\"2011-mars\",\"2011-avril\",\"2011-mai\",\"2011-juin\",\"2011-juillet\",\"2011-ao\\u00fbt\",\"2011-septembre\",\"2011-octobre\",\"2011-novembre\",\"2011-d\\u00e9cembre\",\"2012-janvier\",\"2012-f\\u00e9vrier\",\"2012-mars\",\"2012-avril\",\"2012-mai\",\"2012-juin\",\"2012-juillet\",\"2012-ao\\u00fbt\",\"2012-septembre\",\"2012-octobre\",\"2012-novembre\",\"2012-d\\u00e9cembre\",\"2013-janvier\",\"2013-f\\u00e9vrier\",\"2013-mars\",\"2013-avril\",\"2013-mai\",\"2013-juin\",\"2013-juillet\",\"2013-ao\\u00fbt\",\"2013-septembre\",\"2013-octobre\",\"2013-novembre\",\"2013-d\\u00e9cembre\",\"2014-janvier\",\"2014-f\\u00e9vrier\",\"2014-mars\",\"2014-avril\",\"2014-mai\",\"2014-juin\",\"2014-juillet\",\"2014-ao\\u00fbt\",\"2014-septembre\",\"2014-octobre\",\"2014-novembre\",\"2014-d\\u00e9cembre\",\"2015-janvier\",\"2015-f\\u00e9vrier\",\"2015-mars\",\"2015-avril\",\"2015-mai\",\"2015-juin\",\"2015-juillet\",\"2015-ao\\u00fbt\",\"2015-septembre\",\"2015-octobre\",\"2015-novembre\",\"2015-d\\u00e9cembre\",\"2016-janvier\",\"2016-f\\u00e9vrier\",\"2016-mars\",\"2016-avril\",\"2016-mai\",\"2016-juin\",\"2016-juillet\",\"2016-ao\\u00fbt\",\"2016-septembre\",\"2016-octobre\",\"2016-novembre\",\"2016-d\\u00e9cembre\",\"2017-janvier\",\"2017-f\\u00e9vrier\",\"2017-mars\",\"2017-avril\",\"2017-mai\",\"2017-juin\",\"2017-juillet\",\"2017-ao\\u00fbt\",\"2017-septembre\",\"2017-octobre\",\"2017-novembre\",\"2017-d\\u00e9cembre\",\"2018-janvier\",\"2018-f\\u00e9vrier\",\"2018-mars\",\"2018-avril\",\"2018-mai\",\"2018-juin\",\"2018-juillet\",\"2018-ao\\u00fbt\",\"2018-septembre\",\"2018-octobre\",\"2018-novembre\",\"2018-d\\u00e9cembre\",\"2019-janvier\",\"2019-f\\u00e9vrier\",\"2019-mars\",\"2019-avril\",\"2019-mai\",\"2019-juin\",\"2019-juillet\",\"2019-ao\\u00fbt\",\"2019-septembre\",\"2019-octobre\",\"2019-novembre\",\"2019-d\\u00e9cembre\",\"2020-janvier\",\"2020-f\\u00e9vrier\",\"2020-mars\",\"2020-avril\",\"2020-mai\",\"2020-juin\",\"2020-juillet\",\"2020-ao\\u00fbt\",\"2020-septembre\",\"2020-octobre\",\"2020-novembre\",\"2020-d\\u00e9cembre\",\"2021-janvier\",\"2021-f\\u00e9vrier\",\"2021-mars\",\"2021-avril\",\"2021-mai\",\"2021-juin\",\"2021-juillet\",\"2021-ao\\u00fbt\",\"2021-septembre\",\"2021-octobre\",\"2021-novembre\",\"2021-d\\u00e9cembre\"],\"xaxis\":\"x\",\"y\":[384,259,408,467,738,871,701,696,696,692,459,401,377,245,370,555,634,796,814,521,937,741,499,515,374,402,500,678,598,597,681,551,818,680,582,410,436,399,388,451,660,752,758,524,648,556,438,347,288,295,389,521,554,709,675,645,811,558,409,278,229,224,363,615,583,604,774,534,608,554,354,223,352,335,437,660,614,600,497,551,591,561,481,300,300,235,439,324,538,563,614,543,603,643,365,274,252,219,350,459,376,569,604,584,622,611,365,413,341,316,552,426,585,587,485,508,644,591,416,318,311,287,378,533,525,743,574,483,573,435,515,437,354,234,413,469,636,579,573,588,683,521,407,391,310,462,549,611,495,710,517,513,545,594,413,283,324,220,296,366,362,357,466,295,308,276,183,119,182,329,240,357,412,424,540,457,446,249,170,266,422,193,104,56,293,430,399,342,516,250,186,212,234,242,318,318,330,483,417,398,396,400,196,212],\"yaxis\":\"y\",\"type\":\"scatter\"},{\"mode\":\"lines\",\"name\":\"Tendance liss\\u00e9e sur 12 mois\",\"x\":[\"2005-janvier\",\"2005-f\\u00e9vrier\",\"2005-mars\",\"2005-avril\",\"2005-mai\",\"2005-juin\",\"2005-juillet\",\"2005-ao\\u00fbt\",\"2005-septembre\",\"2005-octobre\",\"2005-novembre\",\"2005-d\\u00e9cembre\",\"2006-janvier\",\"2006-f\\u00e9vrier\",\"2006-mars\",\"2006-avril\",\"2006-mai\",\"2006-juin\",\"2006-juillet\",\"2006-ao\\u00fbt\",\"2006-septembre\",\"2006-octobre\",\"2006-novembre\",\"2006-d\\u00e9cembre\",\"2007-janvier\",\"2007-f\\u00e9vrier\",\"2007-mars\",\"2007-avril\",\"2007-mai\",\"2007-juin\",\"2007-juillet\",\"2007-ao\\u00fbt\",\"2007-septembre\",\"2007-octobre\",\"2007-novembre\",\"2007-d\\u00e9cembre\",\"2008-janvier\",\"2008-f\\u00e9vrier\",\"2008-mars\",\"2008-avril\",\"2008-mai\",\"2008-juin\",\"2008-juillet\",\"2008-ao\\u00fbt\",\"2008-septembre\",\"2008-octobre\",\"2008-novembre\",\"2008-d\\u00e9cembre\",\"2009-janvier\",\"2009-f\\u00e9vrier\",\"2009-mars\",\"2009-avril\",\"2009-mai\",\"2009-juin\",\"2009-juillet\",\"2009-ao\\u00fbt\",\"2009-septembre\",\"2009-octobre\",\"2009-novembre\",\"2009-d\\u00e9cembre\",\"2010-janvier\",\"2010-f\\u00e9vrier\",\"2010-mars\",\"2010-avril\",\"2010-mai\",\"2010-juin\",\"2010-juillet\",\"2010-ao\\u00fbt\",\"2010-septembre\",\"2010-octobre\",\"2010-novembre\",\"2010-d\\u00e9cembre\",\"2011-janvier\",\"2011-f\\u00e9vrier\",\"2011-mars\",\"2011-avril\",\"2011-mai\",\"2011-juin\",\"2011-juillet\",\"2011-ao\\u00fbt\",\"2011-septembre\",\"2011-octobre\",\"2011-novembre\",\"2011-d\\u00e9cembre\",\"2012-janvier\",\"2012-f\\u00e9vrier\",\"2012-mars\",\"2012-avril\",\"2012-mai\",\"2012-juin\",\"2012-juillet\",\"2012-ao\\u00fbt\",\"2012-septembre\",\"2012-octobre\",\"2012-novembre\",\"2012-d\\u00e9cembre\",\"2013-janvier\",\"2013-f\\u00e9vrier\",\"2013-mars\",\"2013-avril\",\"2013-mai\",\"2013-juin\",\"2013-juillet\",\"2013-ao\\u00fbt\",\"2013-septembre\",\"2013-octobre\",\"2013-novembre\",\"2013-d\\u00e9cembre\",\"2014-janvier\",\"2014-f\\u00e9vrier\",\"2014-mars\",\"2014-avril\",\"2014-mai\",\"2014-juin\",\"2014-juillet\",\"2014-ao\\u00fbt\",\"2014-septembre\",\"2014-octobre\",\"2014-novembre\",\"2014-d\\u00e9cembre\",\"2015-janvier\",\"2015-f\\u00e9vrier\",\"2015-mars\",\"2015-avril\",\"2015-mai\",\"2015-juin\",\"2015-juillet\",\"2015-ao\\u00fbt\",\"2015-septembre\",\"2015-octobre\",\"2015-novembre\",\"2015-d\\u00e9cembre\",\"2016-janvier\",\"2016-f\\u00e9vrier\",\"2016-mars\",\"2016-avril\",\"2016-mai\",\"2016-juin\",\"2016-juillet\",\"2016-ao\\u00fbt\",\"2016-septembre\",\"2016-octobre\",\"2016-novembre\",\"2016-d\\u00e9cembre\",\"2017-janvier\",\"2017-f\\u00e9vrier\",\"2017-mars\",\"2017-avril\",\"2017-mai\",\"2017-juin\",\"2017-juillet\",\"2017-ao\\u00fbt\",\"2017-septembre\",\"2017-octobre\",\"2017-novembre\",\"2017-d\\u00e9cembre\",\"2018-janvier\",\"2018-f\\u00e9vrier\",\"2018-mars\",\"2018-avril\",\"2018-mai\",\"2018-juin\",\"2018-juillet\",\"2018-ao\\u00fbt\",\"2018-septembre\",\"2018-octobre\",\"2018-novembre\",\"2018-d\\u00e9cembre\",\"2019-janvier\",\"2019-f\\u00e9vrier\",\"2019-mars\",\"2019-avril\",\"2019-mai\",\"2019-juin\",\"2019-juillet\",\"2019-ao\\u00fbt\",\"2019-septembre\",\"2019-octobre\",\"2019-novembre\",\"2019-d\\u00e9cembre\",\"2020-janvier\",\"2020-f\\u00e9vrier\",\"2020-mars\",\"2020-avril\",\"2020-mai\",\"2020-juin\",\"2020-juillet\",\"2020-ao\\u00fbt\",\"2020-septembre\",\"2020-octobre\",\"2020-novembre\",\"2020-d\\u00e9cembre\",\"2021-janvier\",\"2021-f\\u00e9vrier\",\"2021-mars\",\"2021-avril\",\"2021-mai\",\"2021-juin\",\"2021-juillet\",\"2021-ao\\u00fbt\",\"2021-septembre\",\"2021-octobre\",\"2021-novembre\",\"2021-d\\u00e9cembre\"],\"y\":[null,null,null,null,null,null,null,null,null,null,null,564.3333333333334,563.75,562.5833333333334,559.4166666666666,566.75,558.0833333333334,551.8333333333334,561.25,546.6666666666666,566.75,570.8333333333334,574.1666666666666,583.6666666666666,583.4166666666666,596.5,607.3333333333334,617.5833333333334,614.5833333333334,598.0,586.9166666666666,589.4166666666666,579.5,574.4166666666666,581.3333333333334,572.5833333333334,577.75,577.5,568.1666666666666,549.25,554.4166666666666,567.3333333333334,573.75,571.5,557.3333333333334,547.0,535.0,529.75,517.4166666666666,508.75,508.8333333333333,514.6666666666666,505.8333333333333,502.25,495.3333333333333,505.4166666666667,519.0,519.1666666666666,516.75,511.0,506.0833333333333,500.1666666666667,498.0,505.8333333333333,508.25,499.5,507.75,498.5,481.5833333333333,481.25,476.6666666666667,472.0833333333333,482.3333333333333,491.5833333333333,497.75,501.5,504.0833333333333,503.75,480.6666666666667,482.0833333333333,480.6666666666667,481.25,491.8333333333333,498.25,493.9166666666667,485.5833333333333,485.75,457.75,451.4166666666667,448.3333333333333,458.0833333333333,457.4166666666667,458.4166666666667,465.25,455.5833333333333,453.4166666666667,449.4166666666667,448.0833333333333,440.6666666666667,451.9166666666667,438.4166666666667,438.9166666666667,438.0833333333333,441.5,443.0833333333333,440.4166666666667,440.4166666666667,452.0,459.4166666666667,467.5,484.3333333333333,481.5833333333333,499.0,500.5,490.5833333333333,484.25,486.0833333333333,484.4166666666667,488.6666666666667,480.75,478.25,475.8333333333333,461.3333333333333,470.25,465.25,478.25,485.6666666666667,483.5833333333333,477.6666666666667,464.6666666666667,472.9166666666667,482.8333333333333,486.4166666666667,482.0,484.9166666666667,479.5833333333333,488.8333333333333,475.1666666666667,475.0833333333333,483.8333333333333,493.0,500.1666666666667,491.1666666666667,487.3333333333333,483.6666666666667,502.6666666666667,514.0,525.8333333333334,514.0833333333334,525.0,520.3333333333334,514.0833333333334,502.5833333333333,508.6666666666667,509.1666666666667,500.1666666666667,501.3333333333333,481.1666666666667,460.0833333333333,439.6666666666667,428.5833333333333,399.1666666666667,394.9166666666667,376.75,357.0,330.5,311.3333333333333,297.6666666666667,285.8333333333333,294.9166666666667,290.25,289.5,293.6666666666667,299.25,305.4166666666667,318.9166666666667,330.4166666666667,328.1666666666667,327.0833333333333,339.3333333333333,359.3333333333333,348.0,336.6666666666667,311.5833333333333,301.6666666666667,302.1666666666667,290.4166666666667,280.8333333333333,286.6666666666667,286.75,288.0833333333333,283.5833333333333,267.9166666666667,272.0,289.8333333333333,311.6666666666667,314.75,319.1666666666667,320.6666666666667,325.3333333333333,315.3333333333333,327.8333333333333,328.6666666666667,328.6666666666667],\"type\":\"scatter\"}],                        {\"template\":{\"data\":{\"histogram2dcontour\":[{\"type\":\"histogram2dcontour\",\"colorbar\":{\"outlinewidth\":0,\"ticks\":\"\"},\"colorscale\":[[0.0,\"#0d0887\"],[0.1111111111111111,\"#46039f\"],[0.2222222222222222,\"#7201a8\"],[0.3333333333333333,\"#9c179e\"],[0.4444444444444444,\"#bd3786\"],[0.5555555555555556,\"#d8576b\"],[0.6666666666666666,\"#ed7953\"],[0.7777777777777778,\"#fb9f3a\"],[0.8888888888888888,\"#fdca26\"],[1.0,\"#f0f921\"]]}],\"choropleth\":[{\"type\":\"choropleth\",\"colorbar\":{\"outlinewidth\":0,\"ticks\":\"\"}}],\"histogram2d\":[{\"type\":\"histogram2d\",\"colorbar\":{\"outlinewidth\":0,\"ticks\":\"\"},\"colorscale\":[[0.0,\"#0d0887\"],[0.1111111111111111,\"#46039f\"],[0.2222222222222222,\"#7201a8\"],[0.3333333333333333,\"#9c179e\"],[0.4444444444444444,\"#bd3786\"],[0.5555555555555556,\"#d8576b\"],[0.6666666666666666,\"#ed7953\"],[0.7777777777777778,\"#fb9f3a\"],[0.8888888888888888,\"#fdca26\"],[1.0,\"#f0f921\"]]}],\"heatmap\":[{\"type\":\"heatmap\",\"colorbar\":{\"outlinewidth\":0,\"ticks\":\"\"},\"colorscale\":[[0.0,\"#0d0887\"],[0.1111111111111111,\"#46039f\"],[0.2222222222222222,\"#7201a8\"],[0.3333333333333333,\"#9c179e\"],[0.4444444444444444,\"#bd3786\"],[0.5555555555555556,\"#d8576b\"],[0.6666666666666666,\"#ed7953\"],[0.7777777777777778,\"#fb9f3a\"],[0.8888888888888888,\"#fdca26\"],[1.0,\"#f0f921\"]]}],\"heatmapgl\":[{\"type\":\"heatmapgl\",\"colorbar\":{\"outlinewidth\":0,\"ticks\":\"\"},\"colorscale\":[[0.0,\"#0d0887\"],[0.1111111111111111,\"#46039f\"],[0.2222222222222222,\"#7201a8\"],[0.3333333333333333,\"#9c179e\"],[0.4444444444444444,\"#bd3786\"],[0.5555555555555556,\"#d8576b\"],[0.6666666666666666,\"#ed7953\"],[0.7777777777777778,\"#fb9f3a\"],[0.8888888888888888,\"#fdca26\"],[1.0,\"#f0f921\"]]}],\"contourcarpet\":[{\"type\":\"contourcarpet\",\"colorbar\":{\"outlinewidth\":0,\"ticks\":\"\"}}],\"contour\":[{\"type\":\"contour\",\"colorbar\":{\"outlinewidth\":0,\"ticks\":\"\"},\"colorscale\":[[0.0,\"#0d0887\"],[0.1111111111111111,\"#46039f\"],[0.2222222222222222,\"#7201a8\"],[0.3333333333333333,\"#9c179e\"],[0.4444444444444444,\"#bd3786\"],[0.5555555555555556,\"#d8576b\"],[0.6666666666666666,\"#ed7953\"],[0.7777777777777778,\"#fb9f3a\"],[0.8888888888888888,\"#fdca26\"],[1.0,\"#f0f921\"]]}],\"surface\":[{\"type\":\"surface\",\"colorbar\":{\"outlinewidth\":0,\"ticks\":\"\"},\"colorscale\":[[0.0,\"#0d0887\"],[0.1111111111111111,\"#46039f\"],[0.2222222222222222,\"#7201a8\"],[0.3333333333333333,\"#9c179e\"],[0.4444444444444444,\"#bd3786\"],[0.5555555555555556,\"#d8576b\"],[0.6666666666666666,\"#ed7953\"],[0.7777777777777778,\"#fb9f3a\"],[0.8888888888888888,\"#fdca26\"],[1.0,\"#f0f921\"]]}],\"mesh3d\":[{\"type\":\"mesh3d\",\"colorbar\":{\"outlinewidth\":0,\"ticks\":\"\"}}],\"scatter\":[{\"fillpattern\":{\"fillmode\":\"overlay\",\"size\":10,\"solidity\":0.2},\"type\":\"scatter\"}],\"parcoords\":[{\"type\":\"parcoords\",\"line\":{\"colorbar\":{\"outlinewidth\":0,\"ticks\":\"\"}}}],\"scatterpolargl\":[{\"type\":\"scatterpolargl\",\"marker\":{\"colorbar\":{\"outlinewidth\":0,\"ticks\":\"\"}}}],\"bar\":[{\"error_x\":{\"color\":\"#2a3f5f\"},\"error_y\":{\"color\":\"#2a3f5f\"},\"marker\":{\"line\":{\"color\":\"#E5ECF6\",\"width\":0.5},\"pattern\":{\"fillmode\":\"overlay\",\"size\":10,\"solidity\":0.2}},\"type\":\"bar\"}],\"scattergeo\":[{\"type\":\"scattergeo\",\"marker\":{\"colorbar\":{\"outlinewidth\":0,\"ticks\":\"\"}}}],\"scatterpolar\":[{\"type\":\"scatterpolar\",\"marker\":{\"colorbar\":{\"outlinewidth\":0,\"ticks\":\"\"}}}],\"histogram\":[{\"marker\":{\"pattern\":{\"fillmode\":\"overlay\",\"size\":10,\"solidity\":0.2}},\"type\":\"histogram\"}],\"scattergl\":[{\"type\":\"scattergl\",\"marker\":{\"colorbar\":{\"outlinewidth\":0,\"ticks\":\"\"}}}],\"scatter3d\":[{\"type\":\"scatter3d\",\"line\":{\"colorbar\":{\"outlinewidth\":0,\"ticks\":\"\"}},\"marker\":{\"colorbar\":{\"outlinewidth\":0,\"ticks\":\"\"}}}],\"scattermapbox\":[{\"type\":\"scattermapbox\",\"marker\":{\"colorbar\":{\"outlinewidth\":0,\"ticks\":\"\"}}}],\"scatterternary\":[{\"type\":\"scatterternary\",\"marker\":{\"colorbar\":{\"outlinewidth\":0,\"ticks\":\"\"}}}],\"scattercarpet\":[{\"type\":\"scattercarpet\",\"marker\":{\"colorbar\":{\"outlinewidth\":0,\"ticks\":\"\"}}}],\"carpet\":[{\"aaxis\":{\"endlinecolor\":\"#2a3f5f\",\"gridcolor\":\"white\",\"linecolor\":\"white\",\"minorgridcolor\":\"white\",\"startlinecolor\":\"#2a3f5f\"},\"baxis\":{\"endlinecolor\":\"#2a3f5f\",\"gridcolor\":\"white\",\"linecolor\":\"white\",\"minorgridcolor\":\"white\",\"startlinecolor\":\"#2a3f5f\"},\"type\":\"carpet\"}],\"table\":[{\"cells\":{\"fill\":{\"color\":\"#EBF0F8\"},\"line\":{\"color\":\"white\"}},\"header\":{\"fill\":{\"color\":\"#C8D4E3\"},\"line\":{\"color\":\"white\"}},\"type\":\"table\"}],\"barpolar\":[{\"marker\":{\"line\":{\"color\":\"#E5ECF6\",\"width\":0.5},\"pattern\":{\"fillmode\":\"overlay\",\"size\":10,\"solidity\":0.2}},\"type\":\"barpolar\"}],\"pie\":[{\"automargin\":true,\"type\":\"pie\"}]},\"layout\":{\"autotypenumbers\":\"strict\",\"colorway\":[\"#636efa\",\"#EF553B\",\"#00cc96\",\"#ab63fa\",\"#FFA15A\",\"#19d3f3\",\"#FF6692\",\"#B6E880\",\"#FF97FF\",\"#FECB52\"],\"font\":{\"color\":\"#2a3f5f\"},\"hovermode\":\"closest\",\"hoverlabel\":{\"align\":\"left\"},\"paper_bgcolor\":\"white\",\"plot_bgcolor\":\"#E5ECF6\",\"polar\":{\"bgcolor\":\"#E5ECF6\",\"angularaxis\":{\"gridcolor\":\"white\",\"linecolor\":\"white\",\"ticks\":\"\"},\"radialaxis\":{\"gridcolor\":\"white\",\"linecolor\":\"white\",\"ticks\":\"\"}},\"ternary\":{\"bgcolor\":\"#E5ECF6\",\"aaxis\":{\"gridcolor\":\"white\",\"linecolor\":\"white\",\"ticks\":\"\"},\"baxis\":{\"gridcolor\":\"white\",\"linecolor\":\"white\",\"ticks\":\"\"},\"caxis\":{\"gridcolor\":\"white\",\"linecolor\":\"white\",\"ticks\":\"\"}},\"coloraxis\":{\"colorbar\":{\"outlinewidth\":0,\"ticks\":\"\"}},\"colorscale\":{\"sequential\":[[0.0,\"#0d0887\"],[0.1111111111111111,\"#46039f\"],[0.2222222222222222,\"#7201a8\"],[0.3333333333333333,\"#9c179e\"],[0.4444444444444444,\"#bd3786\"],[0.5555555555555556,\"#d8576b\"],[0.6666666666666666,\"#ed7953\"],[0.7777777777777778,\"#fb9f3a\"],[0.8888888888888888,\"#fdca26\"],[1.0,\"#f0f921\"]],\"sequentialminus\":[[0.0,\"#0d0887\"],[0.1111111111111111,\"#46039f\"],[0.2222222222222222,\"#7201a8\"],[0.3333333333333333,\"#9c179e\"],[0.4444444444444444,\"#bd3786\"],[0.5555555555555556,\"#d8576b\"],[0.6666666666666666,\"#ed7953\"],[0.7777777777777778,\"#fb9f3a\"],[0.8888888888888888,\"#fdca26\"],[1.0,\"#f0f921\"]],\"diverging\":[[0,\"#8e0152\"],[0.1,\"#c51b7d\"],[0.2,\"#de77ae\"],[0.3,\"#f1b6da\"],[0.4,\"#fde0ef\"],[0.5,\"#f7f7f7\"],[0.6,\"#e6f5d0\"],[0.7,\"#b8e186\"],[0.8,\"#7fbc41\"],[0.9,\"#4d9221\"],[1,\"#276419\"]]},\"xaxis\":{\"gridcolor\":\"white\",\"linecolor\":\"white\",\"ticks\":\"\",\"title\":{\"standoff\":15},\"zerolinecolor\":\"white\",\"automargin\":true,\"zerolinewidth\":2},\"yaxis\":{\"gridcolor\":\"white\",\"linecolor\":\"white\",\"ticks\":\"\",\"title\":{\"standoff\":15},\"zerolinecolor\":\"white\",\"automargin\":true,\"zerolinewidth\":2},\"scene\":{\"xaxis\":{\"backgroundcolor\":\"#E5ECF6\",\"gridcolor\":\"white\",\"linecolor\":\"white\",\"showbackground\":true,\"ticks\":\"\",\"zerolinecolor\":\"white\",\"gridwidth\":2},\"yaxis\":{\"backgroundcolor\":\"#E5ECF6\",\"gridcolor\":\"white\",\"linecolor\":\"white\",\"showbackground\":true,\"ticks\":\"\",\"zerolinecolor\":\"white\",\"gridwidth\":2},\"zaxis\":{\"backgroundcolor\":\"#E5ECF6\",\"gridcolor\":\"white\",\"linecolor\":\"white\",\"showbackground\":true,\"ticks\":\"\",\"zerolinecolor\":\"white\",\"gridwidth\":2}},\"shapedefaults\":{\"line\":{\"color\":\"#2a3f5f\"}},\"annotationdefaults\":{\"arrowcolor\":\"#2a3f5f\",\"arrowhead\":0,\"arrowwidth\":1},\"geo\":{\"bgcolor\":\"white\",\"landcolor\":\"#E5ECF6\",\"subunitcolor\":\"white\",\"showland\":true,\"showlakes\":true,\"lakecolor\":\"white\"},\"title\":{\"x\":0.05},\"mapbox\":{\"style\":\"light\"}}},\"xaxis\":{\"anchor\":\"y\",\"domain\":[0.0,1.0],\"title\":{\"text\":\"Date\"},\"rangeslider\":{\"visible\":true}},\"yaxis\":{\"anchor\":\"x\",\"domain\":[0.0,1.0],\"title\":{\"text\":\"Nombre d'accidents\"}},\"legend\":{\"tracegroupgap\":0},\"margin\":{\"t\":30,\"r\":0,\"l\":0,\"b\":0},\"height\":600,\"title\":{\"font\":{\"size\":20,\"family\":\"Arial, sans-serif\",\"color\":\"black\"},\"text\":\"\\u003cb\\u003e\\u00c9volution du nombre d'accidents de v\\u00e9los par mois sur le territoire fran\\u00e7ais\\u003c\\u002fb\\u003e\",\"y\":0.98,\"x\":0.5,\"xanchor\":\"center\",\"yanchor\":\"top\"}},                        {\"responsive\": true}                    ).then(function(){\n",
       "                            \n",
       "var gd = document.getElementById('3687a012-199a-4fc8-a9f6-0cf9ac6985df');\n",
       "var x = new MutationObserver(function (mutations, observer) {{\n",
       "        var display = window.getComputedStyle(gd).display;\n",
       "        if (!display || display === 'none') {{\n",
       "            console.log([gd, 'removed!']);\n",
       "            Plotly.purge(gd);\n",
       "            observer.disconnect();\n",
       "        }}\n",
       "}});\n",
       "\n",
       "// Listen for the removal of the full notebook cells\n",
       "var notebookContainer = gd.closest('#notebook-container');\n",
       "if (notebookContainer) {{\n",
       "    x.observe(notebookContainer, {childList: true});\n",
       "}}\n",
       "\n",
       "// Listen for the clearing of the current output cell\n",
       "var outputEl = gd.closest('.output');\n",
       "if (outputEl) {{\n",
       "    x.observe(outputEl, {childList: true});\n",
       "}}\n",
       "\n",
       "                        })                };                });            </script>        </div>"
      ]
     },
     "metadata": {},
     "output_type": "display_data"
    }
   ],
   "source": [
    "# on prdonne la variable mois pour avoir une année dans l'ordre\n",
    "mois_ordre = ['janvier', 'février', 'mars', 'avril', 'mai', 'juin', 'juillet', 'août', 'septembre', 'octobre', 'novembre', 'décembre']\n",
    "# Conversion de la variable 'mois' en facteur ordonnné\n",
    "data['mois'] = pd.Categorical(data['mois'], categories=mois_ordre, ordered=True)\n",
    "\n",
    "# on récupère les accidents par année et par mois\n",
    "accidents_par_annee_mois= data.groupby(['an','mois']).size().reset_index(name='Nombre_d_accidents')\n",
    "# Création d'une variable date en fusionnant les années et les mois\n",
    "accidents_par_annee_mois['date'] = accidents_par_annee_mois['an'].astype(str) + '-' + accidents_par_annee_mois['mois'].astype(str)\n",
    "\n",
    "# Création du graphique\n",
    "fig3 = px.line(accidents_par_annee_mois, x='date', y='Nombre_d_accidents',\n",
    "              labels={'date': 'Date', 'Nombre_d_accidents': 'Nombre d\\'accidents'},\n",
    "              height=600,\n",
    "             custom_data = ['an','mois','Nombre_d_accidents'])\n",
    "\n",
    "# Ajout de la courbe lissé pour observer une tendance\n",
    "smoothed_data = accidents_par_annee_mois['Nombre_d_accidents'].rolling(window=12).mean() # 12 moyenne mobile pour enlever les saisonnalités annuelles\n",
    "fig3.add_trace(go.Scatter(x=accidents_par_annee_mois['date'], y=smoothed_data,\n",
    "                         mode='lines', name='Tendance lissée sur 12 mois'))\n",
    "# Titre\n",
    "fig3.update_layout(margin = {\"r\":0,\"t\":30,\"l\":0,\"b\":0},\n",
    "                 title={\n",
    "        'text': \"<b>Évolution du nombre d\\'accidents de vélos par mois sur le territoire français</b>\",\n",
    "        'y': 0.98,\n",
    "        'x': 0.5,\n",
    "        'xanchor': 'center',\n",
    "        'yanchor': 'top',\n",
    "        'font': {'size': 20,'family': 'Arial, sans-serif', 'color': 'black'} \n",
    "    })\n",
    "\n",
    "#  slider pour zoomer sur une période donnée\n",
    "fig3.update_xaxes(rangeslider_visible=True)\n",
    "\n",
    "# Personnalisation du popup\n",
    "fig3.update_traces(hovertemplate=\"<br>\".join([\"Année : %{customdata[0]}\",\n",
    "                                             \"Mois : %{customdata[1]}\",\n",
    "                                             \"Nombre d'accidents : %{customdata[2]}\"\n",
    "                                             ]),selector= 0)\n",
    "\n",
    "# Afficher la figure\n",
    "fig3.show()"
   ]
  },
  {
   "cell_type": "code",
   "execution_count": 50,
   "id": "76f0cc63-c5ab-42d8-b58f-08d6548b17cd",
   "metadata": {},
   "outputs": [
    {
     "name": "stderr",
     "output_type": "stream",
     "text": [
      "C:\\Users\\Alex\\AppData\\Local\\Temp\\ipykernel_15908\\3331614574.py:7: FutureWarning:\n",
      "\n",
      "The default of observed=False is deprecated and will be changed to True in a future version of pandas. Pass observed=False to retain current behavior or observed=True to adopt the future default and silence this warning.\n",
      "\n"
     ]
    },
    {
     "data": {
      "text/plain": [
       "age_group\n",
       "Moins de 18 ans       17678\n",
       "Entre 18 et 30 ans    19127\n",
       "Entre 30 et 50 ans    25210\n",
       "Plus de 50 ans        31658\n",
       "dtype: int64"
      ]
     },
     "execution_count": 50,
     "metadata": {},
     "output_type": "execute_result"
    }
   ],
   "source": [
    "# Définissez les intervalles et les labels\n",
    "bins = [0, 18, 30, 50, float('inf')]\n",
    "labels = ['Moins de 18 ans', 'Entre 18 et 30 ans', 'Entre 30 et 50 ans', 'Plus de 50 ans']\n",
    "\n",
    "data['age_group'] = pd.cut(data['age'], bins=bins, labels=labels, right=False)\n",
    "\n",
    "data.groupby(\"age_group\").size()\n"
   ]
  },
  {
   "cell_type": "code",
   "execution_count": 173,
   "id": "4ebe7f47-3254-4e6c-925e-ae1b49e6fdc0",
   "metadata": {},
   "outputs": [],
   "source": [
    "def pie_age_grav(modalite,annee):\n",
    "    if annee==\"all\":\n",
    "        age_mort = data[data[\"grav\"]==modalite].groupby([\"age_group\"]).size().reset_index(name= \"nb_accidents\")\n",
    "    else:\n",
    "        age_mort = data[(data[\"grav\"]==modalite) & (data[\"an\"]==annee)].groupby([\"age_group\"]).size().reset_index(name= \"nb_accidents\")\n",
    "    \n",
    "    labels = age_mort[\"age_group\"]\n",
    "    values = age_mort[\"nb_accidents\"]\n",
    "    \n",
    "    if modalite == \"Indemne\":\n",
    "        color=['#c2f0c2', '#7ccf7c', '#4cae4c', '#238b23']\n",
    "    elif modalite == \"Blessé léger\":\n",
    "        color = ['#add8e6', '#87ceeb', '#6495ed', '#4169e1']\n",
    "    elif modalite == \"Blessé hospitalisé\":\n",
    "        color = ['#ffdab9', '#ffcc80', '#ffa54f', '#ff8c00']\n",
    "    else:\n",
    "        color = ['#ffb6c1', '#ff9999', '#ff6666', '#ff3333']\n",
    "        \n",
    "    fig4 = go.Figure(data=[go.Pie(labels=labels, values=values, pull=[0, 0, 0, 0.2], marker_colors=color)])\n",
    "    fig4.update_traces(name = modalite,hovertemplate=\"Age de l'usager: %{label}<br>Nombre d'accidents: %{value}<br>Pourcentage: %{percent}\")\n",
    "    fig4.update_layout(title= \"Proportion d'accidents cycliste en fonction de l'âge de l'usager\",\n",
    "                  title_x=0.5,  # Centré horizontalement\n",
    "                  title_y=0.98,  # Au-dessus du graphique\n",
    "                  title_font=dict(size=20),\n",
    "                 legend=dict(title=\"Age de l'usager:\")\n",
    "    )\n",
    "    return fig4"
   ]
  },
  {
   "cell_type": "code",
   "execution_count": 201,
   "id": "b42cc50f-79cd-48c6-90b8-43327eda054a",
   "metadata": {},
   "outputs": [
    {
     "data": {
      "text/plain": [
       "['all',\n",
       " 2005,\n",
       " 2006,\n",
       " 2007,\n",
       " 2008,\n",
       " 2009,\n",
       " 2010,\n",
       " 2011,\n",
       " 2012,\n",
       " 2013,\n",
       " 2014,\n",
       " 2015,\n",
       " 2016,\n",
       " 2017,\n",
       " 2018,\n",
       " 2019,\n",
       " 2020,\n",
       " 2021]"
      ]
     },
     "execution_count": 201,
     "metadata": {},
     "output_type": "execute_result"
    }
   ],
   "source": [
    "mod = data[\"an\"].unique()\n",
    "mod.sort()\n",
    "mod = [\"all\"]+ mod.tolist()\n",
    "mod"
   ]
  },
  {
   "cell_type": "markdown",
   "id": "0135bfea-f66e-4097-9cf5-bcc0ccdc452e",
   "metadata": {},
   "source": [
    "# switch changement thème"
   ]
  },
  {
   "cell_type": "code",
   "execution_count": 58,
   "id": "c17fc7f8-7605-45e6-8a52-dcab91673e72",
   "metadata": {},
   "outputs": [
    {
     "name": "stdout",
     "output_type": "stream",
     "text": [
      "Dash app running on http://127.0.0.1:8050/\n"
     ]
    }
   ],
   "source": [
    "from dash import Dash, html, dcc, Input, Output, Patch, clientside_callback, callback\n",
    "import plotly.express as px\n",
    "import plotly.io as pio\n",
    "import dash_bootstrap_components as dbc\n",
    "from dash_bootstrap_templates import load_figure_template\n",
    "\n",
    "# adds  templates to plotly.io\n",
    "load_figure_template([\"minty\", \"minty_dark\"])\n",
    "\n",
    "\n",
    "df = px.data.gapminder()\n",
    "\n",
    "app = Dash(__name__, external_stylesheets=[dbc.themes.MINTY, dbc.icons.FONT_AWESOME])\n",
    "\n",
    "color_mode_switch =  html.Span(\n",
    "    [\n",
    "        dbc.Label(className=\"fa fa-moon\", html_for=\"color-mode-switch\"),\n",
    "        dbc.Switch( id=\"color-mode-switch\", value=False, className=\"d-inline-block ms-1\", persistence=True),\n",
    "        dbc.Label(className=\"fa fa-sun\", html_for=\"color-mode-switch\"),\n",
    "    ]\n",
    ")\n",
    "\n",
    "\n",
    "app.layout = dbc.Container(\n",
    "    [\n",
    "        html.Div([\"Bootstrap Light Dark Color Modes Demo\"], className=\"bg-primary text-white h3 p-2\"),\n",
    "        color_mode_switch,\n",
    "        dcc.Graph(id=\"graph\", figure= fig, className=\"border\"),\n",
    "    ]\n",
    "\n",
    ")\n",
    "\n",
    "@callback(\n",
    "    Output(\"graph\", \"figure\"),\n",
    "    Input(\"color-mode-switch\", \"value\"),\n",
    ")\n",
    "def update_figure_template(switch_on):\n",
    "    # When using Patch() to update the figure template, you must use the figure template dict\n",
    "    # from plotly.io  and not just the template name\n",
    "    template = pio.templates[\"minty\"] if switch_on else pio.templates[\"minty_dark\"]\n",
    "\n",
    "    patched_figure = Patch()\n",
    "    patched_figure[\"layout\"][\"template\"] = template\n",
    "    return patched_figure\n",
    "\n",
    "\n",
    "\n",
    "clientside_callback(\n",
    "    \"\"\"\n",
    "    (switchOn) => {\n",
    "       switchOn\n",
    "         ? document.documentElement.setAttribute('data-bs-theme', 'light')\n",
    "         : document.documentElement.setAttribute('data-bs-theme', 'dark')\n",
    "       return window.dash_clientside.no_update\n",
    "    }\n",
    "    \"\"\",\n",
    "    Output(\"color-mode-switch\", \"id\"),\n",
    "    Input(\"color-mode-switch\", \"value\"),\n",
    ")\n",
    "\n",
    "\n",
    "if __name__ == \"__main__\":\n",
    "    app.run_server(debug=True,jupyter_mode=\"external\")\n",
    "\n"
   ]
  },
  {
   "cell_type": "markdown",
   "id": "6d9ccc75-ede3-4180-8f70-9178e58ccc00",
   "metadata": {},
   "source": [
    "# Side bar qui se range"
   ]
  },
  {
   "cell_type": "code",
   "execution_count": 84,
   "id": "d14f7d38-cf8d-4b31-96c8-789eda15acbc",
   "metadata": {},
   "outputs": [
    {
     "name": "stderr",
     "output_type": "stream",
     "text": [
      "C:\\Users\\Alex\\AppData\\Local\\Temp\\ipykernel_15908\\996806737.py:3: UserWarning:\n",
      "\n",
      "\n",
      "The dash_core_components package is deprecated. Please replace\n",
      "`import dash_core_components as dcc` with `from dash import dcc`\n",
      "\n",
      "C:\\Users\\Alex\\AppData\\Local\\Temp\\ipykernel_15908\\996806737.py:4: UserWarning:\n",
      "\n",
      "\n",
      "The dash_html_components package is deprecated. Please replace\n",
      "`import dash_html_components as html` with `from dash import html`\n",
      "\n"
     ]
    },
    {
     "name": "stdout",
     "output_type": "stream",
     "text": [
      "Dash app running on http://127.0.0.1:8050/\n"
     ]
    }
   ],
   "source": [
    "import dash\n",
    "import dash_bootstrap_components as dbc\n",
    "import dash_core_components as dcc\n",
    "import dash_html_components as html\n",
    "from dash.dependencies import Input, Output, State\n",
    "\n",
    "app = dash.Dash(external_stylesheets=[dbc.themes.BOOTSTRAP])\n",
    "\n",
    "navbar = dbc.NavbarSimple(\n",
    "    children=[\n",
    "        dbc.Button(\"Sidebar\", outline=True, color=\"secondary\", className=\"mr-1\", id=\"btn_sidebar\"),\n",
    "        dbc.NavItem(dbc.NavLink(\"Page 1\", href=\"#\")),\n",
    "        dbc.DropdownMenu(\n",
    "            children=[\n",
    "                dbc.DropdownMenuItem(\"More pages\", header=True),\n",
    "                dbc.DropdownMenuItem(\"Page 2\", href=\"#\"),\n",
    "                dbc.DropdownMenuItem(\"Page 3\", href=\"#\"),\n",
    "            ],\n",
    "            nav=True,\n",
    "            in_navbar=True,\n",
    "            label=\"More\",\n",
    "        ),\n",
    "    ],\n",
    "    brand=\"Brand\",\n",
    "    brand_href=\"#\",\n",
    "    color=\"dark\",\n",
    "    dark=True,\n",
    "    fluid=True,\n",
    ")\n",
    "\n",
    "\n",
    "# the style arguments for the sidebar. We use position:fixed and a fixed width\n",
    "SIDEBAR_STYLE = {\n",
    "    \"position\": \"fixed\",\n",
    "    \"top\": 62.5,\n",
    "    \"left\": 0,\n",
    "    \"bottom\": 0,\n",
    "    \"width\": \"16rem\",\n",
    "    \"height\": \"100%\",\n",
    "    \"z-index\": 1,\n",
    "    \"overflow-x\": \"hidden\",\n",
    "    \"transition\": \"all 0.5s\",\n",
    "    \"padding\": \"0.5rem 1rem\",\n",
    "    \"background-color\": \"#f8f9fa\",\n",
    "}\n",
    "\n",
    "SIDEBAR_HIDEN = {\n",
    "    \"position\": \"fixed\",\n",
    "    \"top\": 62.5,\n",
    "    \"left\": \"-16rem\",\n",
    "    \"bottom\": 0,\n",
    "    \"width\": \"16rem\",\n",
    "    \"height\": \"100%\",\n",
    "    \"z-index\": 1,\n",
    "    \"overflow-x\": \"hidden\",\n",
    "    \"transition\": \"all 0.5s\",\n",
    "    \"padding\": \"0rem 0rem\",\n",
    "    \"background-color\": \"#f8f9fa\",\n",
    "}\n",
    "\n",
    "# the styles for the main content position it to the right of the sidebar and\n",
    "# add some padding.\n",
    "CONTENT_STYLE = {\n",
    "    \"transition\": \"margin-left .5s\",\n",
    "    \"margin-left\": \"18rem\",\n",
    "    \"margin-right\": \"2rem\",\n",
    "    \"padding\": \"2rem 1rem\",\n",
    "    \"background-color\": \"#f8f9fa\",\n",
    "}\n",
    "\n",
    "CONTENT_STYLE1 = {\n",
    "    \"transition\": \"margin-left .5s\",\n",
    "    \"margin-left\": \"2rem\",\n",
    "    \"margin-right\": \"2rem\",\n",
    "    \"padding\": \"2rem 1rem\",\n",
    "    \"background-color\": \"#f8f9fa\",\n",
    "}\n",
    "\n",
    "sidebar = html.Div(\n",
    "    [\n",
    "        html.H2(\"Sidebar\", className=\"display-4\"),\n",
    "        html.Hr(),\n",
    "        html.P(\n",
    "            \"A simple sidebar layout with navigation links\", className=\"lead\"\n",
    "        ),\n",
    "        dbc.Nav(\n",
    "            [\n",
    "                dbc.NavLink(\"Page 1\", href=\"/page-1\", id=\"page-1-link\"),\n",
    "                dbc.NavLink(\"Page 2\", href=\"/page-2\", id=\"page-2-link\"),\n",
    "                dbc.NavLink(\"Page 3\", href=\"/page-3\", id=\"page-3-link\"),\n",
    "            ],\n",
    "            vertical=True,\n",
    "            pills=True,\n",
    "        ),\n",
    "    ],\n",
    "    id=\"sidebar\",\n",
    "    style=SIDEBAR_STYLE,\n",
    ")\n",
    "\n",
    "content = html.Div(\n",
    "\n",
    "    id=\"page-content\",\n",
    "    style=CONTENT_STYLE)\n",
    "\n",
    "app.layout = html.Div(\n",
    "    [\n",
    "        dcc.Store(id='side_click'),\n",
    "        dcc.Location(id=\"url\"),\n",
    "        navbar,\n",
    "        sidebar,\n",
    "        content,\n",
    "    ],\n",
    ")\n",
    "\n",
    "\n",
    "@app.callback(\n",
    "    [\n",
    "        Output(\"sidebar\", \"style\"),\n",
    "        Output(\"page-content\", \"style\"),\n",
    "        Output(\"side_click\", \"data\"),\n",
    "    ],\n",
    "\n",
    "    [Input(\"btn_sidebar\", \"n_clicks\")],\n",
    "    [\n",
    "        State(\"side_click\", \"data\"),\n",
    "    ]\n",
    ")\n",
    "def toggle_sidebar(n, nclick):\n",
    "    if n:\n",
    "        if nclick == \"SHOW\":\n",
    "            sidebar_style = SIDEBAR_HIDEN\n",
    "            content_style = CONTENT_STYLE1\n",
    "            cur_nclick = \"HIDDEN\"\n",
    "        else:\n",
    "            sidebar_style = SIDEBAR_STYLE\n",
    "            content_style = CONTENT_STYLE\n",
    "            cur_nclick = \"SHOW\"\n",
    "    else:\n",
    "        sidebar_style = SIDEBAR_STYLE\n",
    "        content_style = CONTENT_STYLE\n",
    "        cur_nclick = 'SHOW'\n",
    "\n",
    "    return sidebar_style, content_style, cur_nclick\n",
    "\n",
    "# this callback uses the current pathname to set the active state of the\n",
    "# corresponding nav link to true, allowing users to tell see page they are on\n",
    "@app.callback(\n",
    "    [Output(f\"page-{i}-link\", \"active\") for i in range(1, 4)],\n",
    "    [Input(\"url\", \"pathname\")],\n",
    ")\n",
    "def toggle_active_links(pathname):\n",
    "    if pathname == \"/\":\n",
    "        # Treat page 1 as the homepage / index\n",
    "        return True, False, False\n",
    "    return [pathname == f\"/page-{i}\" for i in range(1, 4)]\n",
    "\n",
    "\n",
    "@app.callback(Output(\"page-content\", \"children\"), [Input(\"url\", \"pathname\")])\n",
    "def render_page_content(pathname):\n",
    "    if pathname in [\"/\", \"/page-1\"]:\n",
    "        return html.P(\"This is the content of page 1!\")\n",
    "    elif pathname == \"/page-2\":\n",
    "        return html.P(\"This is the content of page 2. Yay!\")\n",
    "    elif pathname == \"/page-3\":\n",
    "        return html.P(\"Oh cool, this is page 3!\")\n",
    "    # If the user tries to reach a different page, return a 404 message\n",
    "    return dbc.Jumbotron(\n",
    "        [\n",
    "            html.H1(\"404: Not found\", className=\"text-danger\"),\n",
    "            html.Hr(),\n",
    "            html.P(f\"The pathname {pathname} was not recognised...\"),\n",
    "        ]\n",
    "    )\n",
    "\n",
    "\n",
    "if __name__ == \"__main__\":\n",
    "    app.run_server(debug=True,jupyter_mode=\"external\")"
   ]
  },
  {
   "cell_type": "markdown",
   "id": "af552854-3f7c-4f62-8939-f4aac9d1de35",
   "metadata": {},
   "source": [
    "# notre appli"
   ]
  },
  {
   "cell_type": "code",
   "execution_count": 204,
   "id": "3223d9f1",
   "metadata": {},
   "outputs": [
    {
     "name": "stdout",
     "output_type": "stream",
     "text": [
      "Dash app running on http://127.0.0.1:8050/\n"
     ]
    },
    {
     "name": "stderr",
     "output_type": "stream",
     "text": [
      "C:\\Users\\Alex\\AppData\\Local\\Temp\\ipykernel_15908\\2765110555.py:3: FutureWarning:\n",
      "\n",
      "The default of observed=False is deprecated and will be changed to True in a future version of pandas. Pass observed=False to retain current behavior or observed=True to adopt the future default and silence this warning.\n",
      "\n",
      "C:\\Users\\Alex\\AppData\\Local\\Temp\\ipykernel_15908\\2765110555.py:5: FutureWarning:\n",
      "\n",
      "The default of observed=False is deprecated and will be changed to True in a future version of pandas. Pass observed=False to retain current behavior or observed=True to adopt the future default and silence this warning.\n",
      "\n",
      "C:\\Users\\Alex\\AppData\\Local\\Temp\\ipykernel_15908\\2765110555.py:5: FutureWarning:\n",
      "\n",
      "The default of observed=False is deprecated and will be changed to True in a future version of pandas. Pass observed=False to retain current behavior or observed=True to adopt the future default and silence this warning.\n",
      "\n",
      "C:\\Users\\Alex\\AppData\\Local\\Temp\\ipykernel_15908\\2765110555.py:5: FutureWarning:\n",
      "\n",
      "The default of observed=False is deprecated and will be changed to True in a future version of pandas. Pass observed=False to retain current behavior or observed=True to adopt the future default and silence this warning.\n",
      "\n",
      "C:\\Users\\Alex\\AppData\\Local\\Temp\\ipykernel_15908\\2765110555.py:5: FutureWarning:\n",
      "\n",
      "The default of observed=False is deprecated and will be changed to True in a future version of pandas. Pass observed=False to retain current behavior or observed=True to adopt the future default and silence this warning.\n",
      "\n",
      "C:\\Users\\Alex\\AppData\\Local\\Temp\\ipykernel_15908\\2765110555.py:3: FutureWarning:\n",
      "\n",
      "The default of observed=False is deprecated and will be changed to True in a future version of pandas. Pass observed=False to retain current behavior or observed=True to adopt the future default and silence this warning.\n",
      "\n"
     ]
    }
   ],
   "source": [
    "import dash\n",
    "import dash_bootstrap_components as dbc\n",
    "from dash import Input, Output, State, dcc, html\n",
    "\n",
    "# link fontawesome to get the chevron icons\n",
    "app = dash.Dash(\n",
    "    external_stylesheets=[dbc.themes.BOOTSTRAP, dbc.icons.FONT_AWESOME],suppress_callback_exceptions=True\n",
    ")\n",
    "\n",
    "navbar = dbc.NavbarSimple(\n",
    "    children=[\n",
    "        dbc.Button(\"Sidebar\", outline=True, color=\"secondary\", className=\"mr-1\", id=\"btn_sidebar\"),\n",
    "    ],\n",
    "    brand=\"\",\n",
    "    brand_href=\"#\",\n",
    "    color=\"dark\",\n",
    "    dark=True,\n",
    "    fluid=True,\n",
    ")\n",
    "\n",
    "# the style arguments for the sidebar. We use position:fixed and a fixed width\n",
    "\n",
    "SIDEBAR_STYLE = {\n",
    "    \"position\": \"fixed\",\n",
    "    \"top\": 62.5,\n",
    "    \"left\": 0,\n",
    "    \"bottom\": 0,\n",
    "    \"width\": \"16rem\",\n",
    "    \"height\": \"100%\",\n",
    "    \"z-index\": 1,\n",
    "    \"overflow-x\": \"hidden\",\n",
    "    \"transition\": \"all 0.5s\",\n",
    "    \"padding\": \"0.5rem 1rem\",\n",
    "    \"background-color\": \"#f8f9fa\",\n",
    "}\n",
    "\n",
    "SIDEBAR_HIDEN = {\n",
    "    \"position\": \"fixed\",\n",
    "    \"top\": 62.5,\n",
    "    \"left\": \"-16rem\",\n",
    "    \"bottom\": 0,\n",
    "    \"width\": \"16rem\",\n",
    "    \"height\": \"100%\",\n",
    "    \"z-index\": 1,\n",
    "    \"overflow-x\": \"hidden\",\n",
    "    \"transition\": \"all 0.5s\",\n",
    "    \"padding\": \"0rem 0rem\",\n",
    "    \"background-color\": \"#f8f9fa\",\n",
    "}\n",
    "\n",
    "\n",
    "# the styles for the main content position it to the right of the sidebar and\n",
    "# add some padding.\n",
    "CONTENT_STYLE = {\n",
    "    \"transition\": \"margin-left .5s\",\n",
    "    \"margin-left\": \"18rem\",\n",
    "    \"margin-right\": \"2rem\",\n",
    "    \"padding\": \"2rem 1rem\",\n",
    "    \"background-color\": \"#f8f9fa\",\n",
    "}\n",
    "\n",
    "CONTENT_STYLE1 = {\n",
    "    \"transition\": \"margin-left .5s\",\n",
    "    \"margin-left\": \"2rem\",\n",
    "    \"margin-right\": \"2rem\",\n",
    "    \"padding\": \"2rem 1rem\",\n",
    "    \"background-color\": \"#f8f9fa\",\n",
    "}\n",
    "\n",
    "\n",
    "submenu_1 = [\n",
    "    html.Li(\n",
    "        # use Row and Col components to position the chevrons\n",
    "        dbc.Row(\n",
    "            [\n",
    "                dbc.Col(\"Menu 1\"),\n",
    "                dbc.Col(\n",
    "                    html.I(className=\"fas fa-chevron-right me-3\"),\n",
    "                    width=\"auto\",\n",
    "                ),\n",
    "            ],\n",
    "            className=\"my-1\",\n",
    "        ),\n",
    "        style={\"cursor\": \"pointer\"},\n",
    "        id=\"submenu-1\",\n",
    "    ),\n",
    "    # we use the Collapse component to hide and reveal the navigation links\n",
    "    dbc.Collapse(\n",
    "        [\n",
    "            dbc.NavLink(\"Page 1.1\", href=\"/page-1/1\"),\n",
    "            dbc.NavLink(\"Page 1.2\", href=\"/page-1/2\"),\n",
    "        ],\n",
    "        id=\"submenu-1-collapse\",\n",
    "    ),\n",
    "]\n",
    "\n",
    "submenu_2 = [\n",
    "    html.Li(\n",
    "        dbc.Row(\n",
    "            [\n",
    "                dbc.Col(\"Menu 2\"),\n",
    "                dbc.Col(\n",
    "                    html.I(className=\"fas fa-chevron-right me-3\"),\n",
    "                    width=\"auto\",\n",
    "                ),\n",
    "            ],\n",
    "            className=\"my-1\",\n",
    "        ),\n",
    "        style={\"cursor\": \"pointer\"},\n",
    "        id=\"submenu-2\",\n",
    "    ),\n",
    "    dbc.Collapse(\n",
    "        [\n",
    "            dbc.NavLink(\"Page 2.1\", href=\"/page-2/1\"),\n",
    "            dbc.NavLink(\"Page 2.2\", href=\"/page-2/2\"),\n",
    "        ],\n",
    "        id=\"submenu-2-collapse\",\n",
    "    ),\n",
    "]\n",
    "\n",
    "\n",
    "sidebar = html.Div(\n",
    "    [\n",
    "        html.H2(\"Sidebar\", className=\"display-4\"),\n",
    "        html.Hr(),\n",
    "        html.P(\n",
    "            \"Vous trouverez ici les différentes pages du dashboard\", className=\"lead\"\n",
    "        ),\n",
    "        dbc.Nav(submenu_1 + submenu_2, vertical=True,pills=True),\n",
    "    ],\n",
    "    style=SIDEBAR_STYLE,\n",
    "    id=\"sidebar\",\n",
    ")\n",
    "\n",
    "content = html.Div(id=\"page-content\", style=CONTENT_STYLE)\n",
    "\n",
    "app.layout = html.Div(\n",
    "    [\n",
    "        dcc.Store(id='side_click'),\n",
    "        dcc.Location(id=\"url\"),\n",
    "        navbar,\n",
    "        sidebar,\n",
    "        content,\n",
    "    ],\n",
    ")\n",
    "\n",
    "\n",
    "# this function is used to toggle the is_open property of each Collapse\n",
    "def toggle_collapse(n, is_open):\n",
    "    if n:\n",
    "        return not is_open\n",
    "    return is_open\n",
    "\n",
    "\n",
    "\n",
    "\n",
    "\n",
    "# this function applies the \"open\" class to rotate the chevron\n",
    "def set_navitem_class(is_open):\n",
    "    if is_open:\n",
    "        return \"open\"\n",
    "    return \"\"\n",
    "\n",
    "\n",
    "for i in [1, 2]:\n",
    "    app.callback(\n",
    "        Output(f\"submenu-{i}-collapse\", \"is_open\"),\n",
    "        [Input(f\"submenu-{i}\", \"n_clicks\")],\n",
    "        [State(f\"submenu-{i}-collapse\", \"is_open\")],\n",
    "    )(toggle_collapse)\n",
    "\n",
    "    app.callback(\n",
    "        Output(f\"submenu-{i}\", \"className\"),\n",
    "        [Input(f\"submenu-{i}-collapse\", \"is_open\")],\n",
    "    )(set_navitem_class)\n",
    "\n",
    "\n",
    "@app.callback(\n",
    "    [\n",
    "        Output(\"sidebar\", \"style\"),\n",
    "        Output(\"page-content\", \"style\"),\n",
    "        Output(\"side_click\", \"data\"),\n",
    "    ],\n",
    "\n",
    "    [Input(\"btn_sidebar\", \"n_clicks\")],\n",
    "    [\n",
    "        State(\"side_click\", \"data\"),\n",
    "    ]\n",
    ")\n",
    "def toggle_sidebar(n, nclick):\n",
    "    if n:\n",
    "        if nclick == \"SHOW\":\n",
    "            sidebar_style = SIDEBAR_HIDEN\n",
    "            content_style = CONTENT_STYLE1\n",
    "            cur_nclick = \"HIDDEN\"\n",
    "        else:\n",
    "            sidebar_style = SIDEBAR_STYLE\n",
    "            content_style = CONTENT_STYLE\n",
    "            cur_nclick = \"SHOW\"\n",
    "    else:\n",
    "        sidebar_style = SIDEBAR_STYLE\n",
    "        content_style = CONTENT_STYLE\n",
    "        cur_nclick = 'SHOW'\n",
    "\n",
    "    return sidebar_style, content_style, cur_nclick\n",
    "\n",
    "\n",
    "@app.callback(\n",
    "    Output('graph3', 'figure'),\n",
    "    [Input('modalite-dropdown', 'value'),\n",
    "     Input('annee-dropdown','value')\n",
    "    ]\n",
    ")\n",
    "def update_graph(selected_modalite,selected_annee):\n",
    "    return pie_age_grav(selected_modalite,selected_annee)\n",
    "@app.callback(Output(\"page-content\", \"children\"), [Input(\"url\", \"pathname\")])\n",
    "def render_page_content(pathname):\n",
    "    if pathname in [\"/\", \"/page-1/1\"]:\n",
    "        return html.Div([\n",
    "            html.Div(\n",
    "                children=[\n",
    "                   dbc.Row(\n",
    "                    [\n",
    "                        dbc.Col(\"Info 1\", width=3),\n",
    "                        dbc.Col(\"Info 2\", width=3),\n",
    "                        dbc.Col(\"Info 3\", width=3),\n",
    "                        dbc.Col(\"Info 4\", width=3),\n",
    "                    ],\n",
    "                   ),\n",
    "                ],\n",
    "                style={\n",
    "                    \"border\": \"0px solid black\",\n",
    "                    \"padding\": \"10px 20px\",\n",
    "                    \"border-radius\": \"25px\",\n",
    "                    \"text-align\": \"center\",\n",
    "                    \"box-shadow\": \"0 0 0 transparent, 0 0 0 transparent, 6px 4px 25px #d6d6d6\",\n",
    "                    \"background\": \"#ffffff\",\n",
    "                    \"margin-bottom\": \"20px\",\n",
    "                    \"height\": \"200px\"\n",
    "                },\n",
    "            ),\n",
    "            html.Div(\n",
    "                children = [\n",
    "                     dbc.Row(\n",
    "                    [\n",
    "                        dbc.Col( dcc.Graph(id='graph1',figure=fig), width=6),\n",
    "                        dbc.Col( dcc.Graph(id='graph2',figure=fig2), width=6),\n",
    "                    ],\n",
    "                     ),\n",
    "                ],\n",
    "                style={\n",
    "                        \"border\": \"0px solid black\",\n",
    "                        \"padding\": \"10px 20px\",\n",
    "                        \"border-radius\": \"25px\",\n",
    "                        \"text-align\": \"center\",\n",
    "                        \"box-shadow\": \"0 0 0 transparent, 0 0 0 transparent, 6px 4px 25px #d6d6d6\",\n",
    "                        \"background\": \"#ffffff\",\n",
    "                        \"margin-bottom\": \"20px\"\n",
    "                    }\n",
    "            ),\n",
    "             html.Div(\n",
    "                dcc.Graph(id='graph3',figure=fig3),\n",
    "                style={\n",
    "                        \"border\": \"0px solid black\",\n",
    "                        \"padding\": \"10px 20px\",\n",
    "                        \"border-radius\": \"25px\",\n",
    "                        \"text-align\": \"center\",\n",
    "                        \"box-shadow\": \"0 0 0 transparent, 0 0 0 transparent, 6px 4px 25px #d6d6d6\",\n",
    "                        \"background\": \"#ffffff\",\n",
    "                        \"margin-bottom\": \"20px\"\n",
    "                    }\n",
    "            ),\n",
    "            \n",
    "        ])\n",
    "\n",
    "    elif pathname == \"/page-1/2\":\n",
    "        return html.Div([\n",
    "            html.Div(\n",
    "                children=[\n",
    "                   dbc.Row(\n",
    "                    [\n",
    "                        dbc.Col(\"Info 1\", width=3),\n",
    "                        dbc.Col(\"Info 2\", width=3),\n",
    "                        dbc.Col(\"Info 3\", width=3),\n",
    "                        dbc.Col(\"Info 4\", width=3),\n",
    "                    ],\n",
    "                   ),\n",
    "                ],\n",
    "                style={\n",
    "                    \"border\": \"0px solid black\",\n",
    "                    \"padding\": \"10px 20px\",\n",
    "                    \"border-radius\": \"25px\",\n",
    "                    \"text-align\": \"center\",\n",
    "                    \"box-shadow\": \"0 0 0 transparent, 0 0 0 transparent, 6px 4px 25px #d6d6d6\",\n",
    "                    \"background\": \"#ffffff\",\n",
    "                    \"margin-bottom\": \"20px\",\n",
    "                    \"height\": \"200px\"\n",
    "                },\n",
    "            ),\n",
    "            html.Div(\n",
    "                children = [\n",
    "                     dbc.Row(\n",
    "                    [\n",
    "                        dbc.Col( dcc.Graph(id='graph1',figure=fig), width=6),\n",
    "                        dbc.Col( dcc.Graph(id='graph2',figure=fig2), width=6),\n",
    "                    ],\n",
    "                     ),\n",
    "                ],\n",
    "                style={\n",
    "                        \"border\": \"0px solid black\",\n",
    "                        \"padding\": \"10px 20px\",\n",
    "                        \"border-radius\": \"25px\",\n",
    "                        \"text-align\": \"center\",\n",
    "                        \"box-shadow\": \"0 0 0 transparent, 0 0 0 transparent, 6px 4px 25px #d6d6d6\",\n",
    "                        \"background\": \"#ffffff\",\n",
    "                        \"margin-bottom\": \"20px\"\n",
    "                    }\n",
    "            ),\n",
    "             html.Div([\n",
    "                 dcc.Dropdown(\n",
    "                    id='modalite-dropdown',\n",
    "                    options=[{'label': modalite, 'value': modalite} for modalite in data['grav'].unique()],\n",
    "                    value=data['grav'].unique()[2], \n",
    "                    style={'width': '50%'}\n",
    "                ),\n",
    "                 dcc.Dropdown(\n",
    "                    id='annee-dropdown',\n",
    "                    options=[{'label': modalite, 'value': modalite} for modalite in mod],\n",
    "                    value=mod[0], \n",
    "                    style={'width': '50%'}\n",
    "                ),\n",
    "                dcc.Graph(id='graph3'),\n",
    "             ],\n",
    "                style={\n",
    "                        \"border\": \"0px solid black\",\n",
    "                        \"padding\": \"10px 20px\",\n",
    "                        \"border-radius\": \"25px\",\n",
    "                        \"text-align\": \"center\",\n",
    "                        \"box-shadow\": \"0 0 0 transparent, 0 0 0 transparent, 6px 4px 25px #d6d6d6\",\n",
    "                        \"background\": \"#ffffff\",\n",
    "                        \"margin-bottom\": \"20px\"\n",
    "                    }\n",
    "             ),\n",
    "            \n",
    "        ])\n",
    "    elif pathname == \"/page-2/1\":\n",
    "        return html.P(\"Oh cool, this is page 2.1!\")\n",
    "    elif pathname == \"/page-2/2\":\n",
    "        return html.P(\"No way! This is page 2.2!\")\n",
    "    # If the user tries to reach a different page, return a 404 message\n",
    "    return html.Div(\n",
    "        [\n",
    "            html.H1(\"404: Not found\", className=\"text-danger\"),\n",
    "            html.Hr(),\n",
    "            html.P(f\"The pathname {pathname} was not recognised...\"),\n",
    "        ],\n",
    "        className=\"p-3 bg-light rounded-3\",\n",
    "    )\n",
    "\n",
    "\n",
    "if __name__ == \"__main__\":\n",
    "    app.run_server(debug=True,jupyter_mode=\"external\")"
   ]
  }
 ],
 "metadata": {
  "kernelspec": {
   "display_name": "Python 3 (ipykernel)",
   "language": "python",
   "name": "python3"
  },
  "language_info": {
   "codemirror_mode": {
    "name": "ipython",
    "version": 3
   },
   "file_extension": ".py",
   "mimetype": "text/x-python",
   "name": "python",
   "nbconvert_exporter": "python",
   "pygments_lexer": "ipython3",
   "version": "3.11.7"
  }
 },
 "nbformat": 4,
 "nbformat_minor": 5
}
