{
 "cells": [
  {
   "cell_type": "markdown",
   "id": "af552854-3f7c-4f62-8939-f4aac9d1de35",
   "metadata": {},
   "source": [
    "# notre appli\n",
    "\n",
    "Rendu le 16 févriller"
   ]
  },
  {
   "cell_type": "code",
   "execution_count": 1,
   "id": "7cfc7d04",
   "metadata": {},
   "outputs": [],
   "source": [
    "import dash\n",
    "import dash_bootstrap_components as dbc\n",
    "from dash import Input, Output, State, dcc, html, Dash, dcc,html, callback\n",
    "import pandas as pd \n",
    "import plotly.express as px\n",
    "import Functions_dash as Fun\n",
    "import Figure as fig\n",
    "import pages as pag\n",
    "from PIL import Image"
   ]
  },
  {
   "cell_type": "code",
   "execution_count": 2,
   "id": "3223d9f1",
   "metadata": {},
   "outputs": [
    {
     "name": "stdout",
     "output_type": "stream",
     "text": [
      "Dash app running on http://127.0.0.1:8050/\n"
     ]
    }
   ],
   "source": [
    "app = dash.Dash(\n",
    "    external_stylesheets=[dbc.themes.BOOTSTRAP, dbc.icons.FONT_AWESOME, \"assets/styles.css\"],suppress_callback_exceptions=True\n",
    ")\n",
    "\n",
    "# Bar noir en haut de page\n",
    "navbar = dbc.NavbarSimple(\n",
    "    children=[\n",
    "        dbc.Button(\"Menu\", outline=True, color=\"secondary\", className=\"mr-1\", id=\"btn_sidebar\"), # Bouton pour le menu\n",
    "        dbc.Popover(\n",
    "                    \"CLiquez pour ranger/sortir le sidebar\",\n",
    "                    target='btn_sidebar',\n",
    "                    trigger=\"hover\",\n",
    "                    placement = \"bottom\"\n",
    "                 ), \n",
    "        # Select for merge\n",
    "        dcc.Dropdown(\n",
    "                    id='zone-data-filter',\n",
    "                    options=[{\"label\":\"Nationale\",\"value\":'all'},\n",
    "                             {\"label\":\"Régional\",\"value\":'reg'},\n",
    "                             {\"label\":\"Département\",\"value\":'dep'}\n",
    "                            ],\n",
    "                    value=\"all\",\n",
    "                    searchable=False,\n",
    "                    clearable=False,\n",
    "                    ),\n",
    "        dbc.Popover([dbc.PopoverHeader(\"Choix de zone géographique\"),\n",
    "                     dbc.PopoverBody(\"Vous pouvez choisir la zone géographique à visualiser pour tout le dashboard\")\n",
    "                     ],\n",
    "                    target='zone-data-filter',\n",
    "                    trigger=\"hover\",\n",
    "                    placement = \"right\",\n",
    "                    id=\"popover-zone-geo\",\n",
    "                    ),\n",
    "        dcc.Dropdown(\n",
    "                    id='zone-selection',\n",
    "                    options=[],\n",
    "                    value=None,\n",
    "                    searchable=False,\n",
    "                    clearable=False,\n",
    "                    placeholder=\"\"\n",
    "                    )\n",
    "    ],\n",
    "    brand=\"\",\n",
    "    brand_href=\"#\",\n",
    "    color=\"dark\",\n",
    "    dark=True,\n",
    "    fluid=True,\n",
    "    links_left= True,\n",
    ")\n",
    "\n",
    "\n",
    "submenu_1 = [\n",
    "    html.Li(\n",
    "        # use Row and Col components to position the chevrons\n",
    "        dbc.Row(\n",
    "            [\n",
    "                dbc.Col(\"Visualisations\"),\n",
    "                dbc.Col(\n",
    "                    html.I(className=\"fas fa-chevron-right me-3\"),\n",
    "                    width=\"auto\",\n",
    "                ),\n",
    "            ],\n",
    "            className=\"my-1\",\n",
    "        ),\n",
    "        style={\"cursor\": \"pointer\"},\n",
    "        id=\"submenu-1\",\n",
    "    ),\n",
    "    # we use the Collapse component to hide and reveal the navigation links\n",
    "    dbc.Collapse(\n",
    "        [\n",
    "            dbc.NavLink(\"Evolution temporelle\", href=\"/page-1/1\"),\n",
    "            dbc.NavLink(\"Caractéristiques des accidents\", href=\"/page-1/2\"),\n",
    "        ],\n",
    "        id=\"submenu-1-collapse\",\n",
    "    ),\n",
    "]\n",
    "\n",
    "submenu_2 = [\n",
    "    html.Li(\n",
    "        dbc.Row(\n",
    "            [\n",
    "                dbc.Col(\"Cartes interactives\"),\n",
    "                dbc.Col(\n",
    "                    html.I(className=\"fas fa-chevron-right me-3\"),\n",
    "                    width=\"auto\",\n",
    "                ),\n",
    "            ],\n",
    "            className=\"my-1\",\n",
    "        ),\n",
    "        style={\"cursor\": \"pointer\"},\n",
    "        id=\"submenu-2\",\n",
    "    ),\n",
    "    dbc.Collapse(\n",
    "        [\n",
    "            dbc.NavLink(\"Carte de la France\", href=\"/page-map\"),\n",
    "            dbc.NavLink(\"Carte par région/départemnt\", href=\"/page-2/2\"),\n",
    "        ],\n",
    "        id=\"submenu-2-collapse\",\n",
    "    ),\n",
    "]\n",
    "\n",
    "\n",
    "sidebar = html.Div(\n",
    "    [\n",
    "        html.H2(\"DashBike\", className=\"display-4\"),\n",
    "        html.Hr(),\n",
    "        html.Img(src = Image.open(\"accident_bike.png\"),style={\"width\": \"60%\",\n",
    "                                                             \"margin-bottom\": '10%'}),\n",
    "        html.P(\n",
    "            \"Vous trouverez ici les différentes pages du dashboard\", className=\"lead\"\n",
    "        ),\n",
    "        dbc.Nav(submenu_1 + submenu_2, vertical=True,pills=True),\n",
    "        html.Img(src=Image.open(\"roue.png\"),style={\"width\": \"60%\",\n",
    "                                                  \"margin-top\": '140%'}),\n",
    "    ],\n",
    "    #style=fig.SIDEBAR_STYLE,\n",
    "    className=\"SIDEBAR_STYLE\",\n",
    "    id=\"sidebar\",\n",
    ")\n",
    "\n",
    "\n",
    "content = html.Div(id=\"page-content\", \n",
    "                   #style=fig.CONTENT_STYLE,\n",
    "                   className=\"CONTENT_STYLE\")\n",
    "\n",
    "app.layout = html.Div(\n",
    "    [\n",
    "        dcc.Store(id='side_click'),\n",
    "        dcc.Store(id='data-store', storage_type='session'),\n",
    "        dcc.Location(id=\"url\"),\n",
    "        navbar,\n",
    "        sidebar,\n",
    "        content,\n",
    "    ],\n",
    ")\n",
    "\n",
    "\n",
    "\n",
    "# Fonction qui appel toute les fonctions callback qui sont dans le fichier Fonction_dash.py\n",
    "Fun.get_callbacks(app)\n",
    "\n",
    "if __name__ == \"__main__\":\n",
    "    app.run_server(debug=True,jupyter_mode=\"external\")"
   ]
  },
  {
   "cell_type": "code",
   "execution_count": null,
   "id": "3bd8c24b",
   "metadata": {},
   "outputs": [],
   "source": [
    "type(fig.data['reg'])"
   ]
  },
  {
   "cell_type": "code",
   "execution_count": null,
   "id": "94fcc748",
   "metadata": {},
   "outputs": [],
   "source": [
    "import plotly.figure_factory as ff\n",
    "\n",
    "import geopandas\n",
    "import pandas as pd\n",
    "\n",
    "NE_states = ['Connecticut', 'Maine', 'Massachusetts',\n",
    "            'New Hampshire', 'Rhode Island']\n",
    "df_sample = pd.read_csv(\n",
    "    'https://raw.githubusercontent.com/plotly/datasets/master/minoritymajority.csv'\n",
    ")\n",
    "\n",
    "df_sample_r = df_sample[df_sample['STNAME'].isin(NE_states)]\n",
    "colorscale = ['rgb(68.0, 1.0, 84.0)',\n",
    "'rgb(66.0, 64.0, 134.0)',\n",
    "'rgb(38.0, 130.0, 142.0)',\n",
    "'rgb(63.0, 188.0, 115.0)',\n",
    "'rgb(216.0, 226.0, 25.0)']\n",
    "values = df_sample_r['TOT_POP'].tolist()\n",
    "fips = df_sample_r['FIPS'].tolist()\n",
    "fig = ff.create_choropleth(\n",
    "    fips=fips, values=values, scope=NE_states, show_state_data=True\n",
    ")\n",
    "fig.show()"
   ]
  },
  {
   "cell_type": "code",
   "execution_count": 3,
   "id": "33e7e1c7",
   "metadata": {},
   "outputs": [],
   "source": [
    "accidents_par_com= fig.data.groupby(\"com\").size().reset_index(name =\"nombre_accidents\")"
   ]
  },
  {
   "cell_type": "code",
   "execution_count": 7,
   "id": "5911dbfc",
   "metadata": {},
   "outputs": [
    {
     "data": {
      "text/plain": [
       "array(['Unnamed: 0.1', 'Unnamed: 0', 'Num_Acc', 'date', 'an', 'mois',\n",
       "       'jour', 'hrmn', 'dep', 'com', 'lat', 'long', 'agg', 'int', 'col',\n",
       "       'lum', 'atm', 'catr', 'circ', 'nbv', 'prof', 'plan', 'lartpc',\n",
       "       'larrout', 'surf', 'infra', 'situ', 'grav', 'sexe', 'age',\n",
       "       'trajet', 'secuexist', 'equipement', 'obs', 'obsm', 'choc', 'manv',\n",
       "       'vehiculeid', 'typevehicules', 'manoeuvehicules', 'numVehicules',\n",
       "       '_infos_commune.code_epci', 'region_name', 'age_group', 'com_name',\n",
       "       'dep_name', 'reg'], dtype=object)"
      ]
     },
     "execution_count": 7,
     "metadata": {},
     "output_type": "execute_result"
    }
   ],
   "source": [
    "fig.data.columns.values"
   ]
  },
  {
   "cell_type": "code",
   "execution_count": 4,
   "id": "f240362c",
   "metadata": {},
   "outputs": [
    {
     "data": {
      "text/html": [
       "<div>\n",
       "<style scoped>\n",
       "    .dataframe tbody tr th:only-of-type {\n",
       "        vertical-align: middle;\n",
       "    }\n",
       "\n",
       "    .dataframe tbody tr th {\n",
       "        vertical-align: top;\n",
       "    }\n",
       "\n",
       "    .dataframe thead th {\n",
       "        text-align: right;\n",
       "    }\n",
       "</style>\n",
       "<table border=\"1\" class=\"dataframe\">\n",
       "  <thead>\n",
       "    <tr style=\"text-align: right;\">\n",
       "      <th></th>\n",
       "      <th>com</th>\n",
       "      <th>nombre_accidents</th>\n",
       "    </tr>\n",
       "  </thead>\n",
       "  <tbody>\n",
       "    <tr>\n",
       "      <th>0</th>\n",
       "      <td>01001</td>\n",
       "      <td>2</td>\n",
       "    </tr>\n",
       "    <tr>\n",
       "      <th>1</th>\n",
       "      <td>01004</td>\n",
       "      <td>8</td>\n",
       "    </tr>\n",
       "    <tr>\n",
       "      <th>2</th>\n",
       "      <td>01005</td>\n",
       "      <td>1</td>\n",
       "    </tr>\n",
       "    <tr>\n",
       "      <th>3</th>\n",
       "      <td>01007</td>\n",
       "      <td>2</td>\n",
       "    </tr>\n",
       "    <tr>\n",
       "      <th>4</th>\n",
       "      <td>01008</td>\n",
       "      <td>1</td>\n",
       "    </tr>\n",
       "    <tr>\n",
       "      <th>...</th>\n",
       "      <td>...</td>\n",
       "      <td>...</td>\n",
       "    </tr>\n",
       "    <tr>\n",
       "      <th>10631</th>\n",
       "      <td>97611</td>\n",
       "      <td>26</td>\n",
       "    </tr>\n",
       "    <tr>\n",
       "      <th>10632</th>\n",
       "      <td>97613</td>\n",
       "      <td>1</td>\n",
       "    </tr>\n",
       "    <tr>\n",
       "      <th>10633</th>\n",
       "      <td>97615</td>\n",
       "      <td>6</td>\n",
       "    </tr>\n",
       "    <tr>\n",
       "      <th>10634</th>\n",
       "      <td>97616</td>\n",
       "      <td>3</td>\n",
       "    </tr>\n",
       "    <tr>\n",
       "      <th>10635</th>\n",
       "      <td>97617</td>\n",
       "      <td>1</td>\n",
       "    </tr>\n",
       "  </tbody>\n",
       "</table>\n",
       "<p>10636 rows × 2 columns</p>\n",
       "</div>"
      ],
      "text/plain": [
       "         com  nombre_accidents\n",
       "0      01001                 2\n",
       "1      01004                 8\n",
       "2      01005                 1\n",
       "3      01007                 2\n",
       "4      01008                 1\n",
       "...      ...               ...\n",
       "10631  97611                26\n",
       "10632  97613                 1\n",
       "10633  97615                 6\n",
       "10634  97616                 3\n",
       "10635  97617                 1\n",
       "\n",
       "[10636 rows x 2 columns]"
      ]
     },
     "execution_count": 4,
     "metadata": {},
     "output_type": "execute_result"
    }
   ],
   "source": [
    "accidents_par_com"
   ]
  },
  {
   "cell_type": "code",
   "execution_count": 5,
   "id": "12cd8cf9",
   "metadata": {},
   "outputs": [],
   "source": [
    "import geopandas as gpd\n",
    "import pandas as pd\n",
    "geojon_communes= gpd.read_file(\"communes.geojson\")\n",
    "accidents_par_com= fig.data.groupby(\"com_name\").size().reset_index(name =\"nombre_accidents\")"
   ]
  },
  {
   "cell_type": "code",
   "execution_count": 6,
   "id": "c5d31c73",
   "metadata": {},
   "outputs": [
    {
     "data": {
      "text/html": [
       "<div>\n",
       "<style scoped>\n",
       "    .dataframe tbody tr th:only-of-type {\n",
       "        vertical-align: middle;\n",
       "    }\n",
       "\n",
       "    .dataframe tbody tr th {\n",
       "        vertical-align: top;\n",
       "    }\n",
       "\n",
       "    .dataframe thead th {\n",
       "        text-align: right;\n",
       "    }\n",
       "</style>\n",
       "<table border=\"1\" class=\"dataframe\">\n",
       "  <thead>\n",
       "    <tr style=\"text-align: right;\">\n",
       "      <th></th>\n",
       "      <th>com_name</th>\n",
       "      <th>nombre_accidents</th>\n",
       "    </tr>\n",
       "  </thead>\n",
       "  <tbody>\n",
       "    <tr>\n",
       "      <th>0</th>\n",
       "      <td>Abaucourt-Hautecourt</td>\n",
       "      <td>1</td>\n",
       "    </tr>\n",
       "    <tr>\n",
       "      <th>1</th>\n",
       "      <td>Abbaretz</td>\n",
       "      <td>3</td>\n",
       "    </tr>\n",
       "    <tr>\n",
       "      <th>2</th>\n",
       "      <td>Abbeville</td>\n",
       "      <td>13</td>\n",
       "    </tr>\n",
       "    <tr>\n",
       "      <th>3</th>\n",
       "      <td>Abeilhan</td>\n",
       "      <td>1</td>\n",
       "    </tr>\n",
       "    <tr>\n",
       "      <th>4</th>\n",
       "      <td>Abergement-Clémenciat</td>\n",
       "      <td>2</td>\n",
       "    </tr>\n",
       "    <tr>\n",
       "      <th>...</th>\n",
       "      <td>...</td>\n",
       "      <td>...</td>\n",
       "    </tr>\n",
       "    <tr>\n",
       "      <th>10598</th>\n",
       "      <td>Île-Saint-Denis</td>\n",
       "      <td>9</td>\n",
       "    </tr>\n",
       "    <tr>\n",
       "      <th>10599</th>\n",
       "      <td>Île-d'Aix</td>\n",
       "      <td>2</td>\n",
       "    </tr>\n",
       "    <tr>\n",
       "      <th>10600</th>\n",
       "      <td>Île-d'Elle</td>\n",
       "      <td>1</td>\n",
       "    </tr>\n",
       "    <tr>\n",
       "      <th>10601</th>\n",
       "      <td>Île-d'Yeu</td>\n",
       "      <td>7</td>\n",
       "    </tr>\n",
       "    <tr>\n",
       "      <th>10602</th>\n",
       "      <td>Œuf-en-Ternois</td>\n",
       "      <td>1</td>\n",
       "    </tr>\n",
       "  </tbody>\n",
       "</table>\n",
       "<p>10603 rows × 2 columns</p>\n",
       "</div>"
      ],
      "text/plain": [
       "                    com_name  nombre_accidents\n",
       "0       Abaucourt-Hautecourt                 1\n",
       "1                   Abbaretz                 3\n",
       "2                  Abbeville                13\n",
       "3                   Abeilhan                 1\n",
       "4      Abergement-Clémenciat                 2\n",
       "...                      ...               ...\n",
       "10598        Île-Saint-Denis                 9\n",
       "10599              Île-d'Aix                 2\n",
       "10600             Île-d'Elle                 1\n",
       "10601              Île-d'Yeu                 7\n",
       "10602         Œuf-en-Ternois                 1\n",
       "\n",
       "[10603 rows x 2 columns]"
      ]
     },
     "execution_count": 6,
     "metadata": {},
     "output_type": "execute_result"
    }
   ],
   "source": [
    "accidents_par_com"
   ]
  },
  {
   "cell_type": "code",
   "execution_count": null,
   "id": "a79d4d03",
   "metadata": {},
   "outputs": [],
   "source": [
    "import geopandas as gpd\n",
    "import pandas as pd\n",
    "geojon_communes= gpd.read_file(\"communes.geojson\")\n",
    "accidents_par_com= fig.data.groupby(\"com\").size().reset_index(name =\"nombre_accidents\")\n",
    "coordonnees_regions = {\n",
    "    'default': {\"lat\": 46.7111, \"lon\": 1.7191},\n",
    "    'Auvergne-Rhône-Alpes': {\"lat\": 45.75, \"lon\": 4.85},  # Latitude, Longitude\n",
    "    'Hauts-de-France': {\"lat\": 50.5, \"lon\": 2.75},\n",
    "    \"Provence-Alpes-Côte d'Azur\": {\"lat\": 43.7, \"lon\": 5.9},\n",
    "    'Grand Est': {\"lat\": 48.7, \"lon\": 6.2},\n",
    "    'Occitanie': {\"lat\": 43.6, \"lon\": 1.44},\n",
    "    'Normandie': {\"lat\": 49.5, \"lon\": -0.95},\n",
    "    'Nouvelle-Aquitaine': {\"lat\": 44.8, \"lon\": -0.6},\n",
    "    'Centre-Val de Loire': {\"lat\": 47.6, \"lon\": 1.45},\n",
    "    'Bourgogne-Franche-Comté': {\"lat\": 47, \"lon\": 4},\n",
    "    'Bretagne': {\"lat\": 48.1, \"lon\": -1.67},\n",
    "    'Corse': {\"lat\": 42, \"lon\": 9},\n",
    "    'Pays de la Loire': {\"lat\": 47.5, \"lon\": -0.75},\n",
    "    'Île-de-France': {\"lat\": 48.85, \"lon\": 2.35},\n",
    "    'Guadeloupe': {\"lat\": 16.25, \"lon\": -61.55},\n",
    "    'Martinique': {\"lat\": 14.63, \"lon\": -61},\n",
    "    'Guyane': {\"lat\": 3.93, \"lon\": -53.12},\n",
    "    'La Réunion': {\"lat\": -21.1, \"lon\": 55.6},\n",
    "    'Mayotte': {\"lat\": -12.83, \"lon\": 45.15}\n",
    "}\n",
    "fig = px.choropleth_mapbox(\n",
    "                data_frame=accidents_par_com,\n",
    "                geojson=geojon_communes,\n",
    "                locations='com',\n",
    "                featureidkey='properties.code',\n",
    "                color=\"nombre_accidents\",\n",
    "                color_continuous_scale=\"thermal\",\n",
    "                mapbox_style=\"carto-positron\",\n",
    "                center={\"lat\": 46.7111, \"lon\": 1.7191},\n",
    "                opacity=0.5,\n",
    ")\n",
    "fig.update_layout(coloraxis_colorbar_title='Nombre d\\'accidents')"
   ]
  },
  {
   "cell_type": "code",
   "execution_count": 4,
   "id": "14280d44",
   "metadata": {},
   "outputs": [
    {
     "data": {
      "text/plain": [
       "array(['Num_Acc', 'date', 'an', 'mois', 'jour', 'hrmn', 'dep', 'com',\n",
       "       'lat', 'long', 'agg', 'int', 'col', 'lum', 'atm', 'catr', 'circ',\n",
       "       'nbv', 'prof', 'plan', 'lartpc', 'larrout', 'surf', 'infra',\n",
       "       'situ', 'grav', 'sexe', 'age', 'trajet', 'secuexist', 'equipement',\n",
       "       'obs', 'obsm', 'choc', 'manv', 'vehiculeid', 'typevehicules',\n",
       "       'manoeuvehicules', 'numVehicules', '_infos_commune.code_epci',\n",
       "       'region_name', 'age_group', 'com_name'], dtype=object)"
      ]
     },
     "execution_count": 4,
     "metadata": {},
     "output_type": "execute_result"
    }
   ],
   "source": [
    "fig.data.columns.values"
   ]
  },
  {
   "cell_type": "code",
   "execution_count": 4,
   "id": "6376bbd2",
   "metadata": {},
   "outputs": [
    {
     "data": {
      "text/html": [
       "<div>\n",
       "<style scoped>\n",
       "    .dataframe tbody tr th:only-of-type {\n",
       "        vertical-align: middle;\n",
       "    }\n",
       "\n",
       "    .dataframe tbody tr th {\n",
       "        vertical-align: top;\n",
       "    }\n",
       "\n",
       "    .dataframe thead th {\n",
       "        text-align: right;\n",
       "    }\n",
       "</style>\n",
       "<table border=\"1\" class=\"dataframe\">\n",
       "  <thead>\n",
       "    <tr style=\"text-align: right;\">\n",
       "      <th></th>\n",
       "      <th>Num_Acc</th>\n",
       "      <th>date</th>\n",
       "      <th>an</th>\n",
       "      <th>mois</th>\n",
       "      <th>jour</th>\n",
       "      <th>hrmn</th>\n",
       "      <th>dep</th>\n",
       "      <th>com</th>\n",
       "      <th>lat</th>\n",
       "      <th>long</th>\n",
       "      <th>...</th>\n",
       "      <th>choc</th>\n",
       "      <th>manv</th>\n",
       "      <th>vehiculeid</th>\n",
       "      <th>typevehicules</th>\n",
       "      <th>manoeuvehicules</th>\n",
       "      <th>numVehicules</th>\n",
       "      <th>_infos_commune.code_epci</th>\n",
       "      <th>region_name</th>\n",
       "      <th>age_group</th>\n",
       "      <th>com_name</th>\n",
       "    </tr>\n",
       "  </thead>\n",
       "  <tbody>\n",
       "    <tr>\n",
       "      <th>0</th>\n",
       "      <td>200500011098</td>\n",
       "      <td>2005-02-20</td>\n",
       "      <td>2005</td>\n",
       "      <td>février</td>\n",
       "      <td>dimanche</td>\n",
       "      <td>13:45</td>\n",
       "      <td>01</td>\n",
       "      <td>01364</td>\n",
       "      <td>46.396000</td>\n",
       "      <td>5.040000</td>\n",
       "      <td>...</td>\n",
       "      <td>Arrière droit</td>\n",
       "      <td>Traversant la chaussée</td>\n",
       "      <td>200500011098A01</td>\n",
       "      <td>7</td>\n",
       "      <td>1</td>\n",
       "      <td>1.0</td>\n",
       "      <td>200071751.0</td>\n",
       "      <td>Auvergne-Rhône-Alpes</td>\n",
       "      <td>Plus de 50 ans</td>\n",
       "      <td>Saint-Jean-sur-Reyssouze</td>\n",
       "    </tr>\n",
       "    <tr>\n",
       "      <th>1</th>\n",
       "      <td>201100006920</td>\n",
       "      <td>2011-05-21</td>\n",
       "      <td>2011</td>\n",
       "      <td>mai</td>\n",
       "      <td>samedi</td>\n",
       "      <td>18:15</td>\n",
       "      <td>01</td>\n",
       "      <td>01364</td>\n",
       "      <td>0.000000</td>\n",
       "      <td>0.000000</td>\n",
       "      <td>...</td>\n",
       "      <td>Avant</td>\n",
       "      <td>En s'insérant</td>\n",
       "      <td>201100006920A01</td>\n",
       "      <td>7</td>\n",
       "      <td>1</td>\n",
       "      <td>1.0</td>\n",
       "      <td>200071751.0</td>\n",
       "      <td>Auvergne-Rhône-Alpes</td>\n",
       "      <td>Moins de 18 ans</td>\n",
       "      <td>Saint-Jean-sur-Reyssouze</td>\n",
       "    </tr>\n",
       "    <tr>\n",
       "      <th>2</th>\n",
       "      <td>200500011121</td>\n",
       "      <td>2005-02-06</td>\n",
       "      <td>2005</td>\n",
       "      <td>février</td>\n",
       "      <td>dimanche</td>\n",
       "      <td>8:30</td>\n",
       "      <td>01</td>\n",
       "      <td>01052</td>\n",
       "      <td>0.000000</td>\n",
       "      <td>0.000000</td>\n",
       "      <td>...</td>\n",
       "      <td>Côté droit</td>\n",
       "      <td>Sans changement de direction</td>\n",
       "      <td>200500011121A01</td>\n",
       "      <td>7</td>\n",
       "      <td>19</td>\n",
       "      <td>1.0</td>\n",
       "      <td>200069193.0</td>\n",
       "      <td>Auvergne-Rhône-Alpes</td>\n",
       "      <td>Plus de 50 ans</td>\n",
       "      <td>Bouligneux</td>\n",
       "    </tr>\n",
       "    <tr>\n",
       "      <th>3</th>\n",
       "      <td>201300017798</td>\n",
       "      <td>2013-03-11</td>\n",
       "      <td>2013</td>\n",
       "      <td>mars</td>\n",
       "      <td>lundi</td>\n",
       "      <td>14:00</td>\n",
       "      <td>01</td>\n",
       "      <td>01052</td>\n",
       "      <td>46.025400</td>\n",
       "      <td>4.990550</td>\n",
       "      <td>...</td>\n",
       "      <td>Arrière droit</td>\n",
       "      <td>Sans changement de direction</td>\n",
       "      <td>201300017798B01</td>\n",
       "      <td>13</td>\n",
       "      <td>9</td>\n",
       "      <td>1.0</td>\n",
       "      <td>200069193.0</td>\n",
       "      <td>Auvergne-Rhône-Alpes</td>\n",
       "      <td>Plus de 50 ans</td>\n",
       "      <td>Bouligneux</td>\n",
       "    </tr>\n",
       "    <tr>\n",
       "      <th>4</th>\n",
       "      <td>200500013967</td>\n",
       "      <td>2005-03-29</td>\n",
       "      <td>2005</td>\n",
       "      <td>mars</td>\n",
       "      <td>mardi</td>\n",
       "      <td>17:20</td>\n",
       "      <td>01</td>\n",
       "      <td>01053</td>\n",
       "      <td>0.000000</td>\n",
       "      <td>0.000000</td>\n",
       "      <td>...</td>\n",
       "      <td>Avant</td>\n",
       "      <td>Même sens, même file</td>\n",
       "      <td>200500013967B01</td>\n",
       "      <td>4</td>\n",
       "      <td>17</td>\n",
       "      <td>1.0</td>\n",
       "      <td>200071751.0</td>\n",
       "      <td>Auvergne-Rhône-Alpes</td>\n",
       "      <td>Plus de 50 ans</td>\n",
       "      <td>Bourg-en-Bresse</td>\n",
       "    </tr>\n",
       "    <tr>\n",
       "      <th>...</th>\n",
       "      <td>...</td>\n",
       "      <td>...</td>\n",
       "      <td>...</td>\n",
       "      <td>...</td>\n",
       "      <td>...</td>\n",
       "      <td>...</td>\n",
       "      <td>...</td>\n",
       "      <td>...</td>\n",
       "      <td>...</td>\n",
       "      <td>...</td>\n",
       "      <td>...</td>\n",
       "      <td>...</td>\n",
       "      <td>...</td>\n",
       "      <td>...</td>\n",
       "      <td>...</td>\n",
       "      <td>...</td>\n",
       "      <td>...</td>\n",
       "      <td>...</td>\n",
       "      <td>...</td>\n",
       "      <td>...</td>\n",
       "      <td>...</td>\n",
       "    </tr>\n",
       "    <tr>\n",
       "      <th>450</th>\n",
       "      <td>202100023950</td>\n",
       "      <td>2021-08-17</td>\n",
       "      <td>2021</td>\n",
       "      <td>août</td>\n",
       "      <td>mardi</td>\n",
       "      <td>18:30</td>\n",
       "      <td>01</td>\n",
       "      <td>01036</td>\n",
       "      <td>45.875706</td>\n",
       "      <td>5.664804</td>\n",
       "      <td>...</td>\n",
       "      <td>Avant</td>\n",
       "      <td>Inconnue</td>\n",
       "      <td>202100023950A01</td>\n",
       "      <td>10</td>\n",
       "      <td>1</td>\n",
       "      <td>1.0</td>\n",
       "      <td>200040350.0</td>\n",
       "      <td>Auvergne-Rhône-Alpes</td>\n",
       "      <td>Entre 30 et 50 ans</td>\n",
       "      <td>Belmont-Luthézieu</td>\n",
       "    </tr>\n",
       "    <tr>\n",
       "      <th>451</th>\n",
       "      <td>202100028215</td>\n",
       "      <td>2021-07-19</td>\n",
       "      <td>2021</td>\n",
       "      <td>juillet</td>\n",
       "      <td>lundi</td>\n",
       "      <td>12:45</td>\n",
       "      <td>01</td>\n",
       "      <td>01334</td>\n",
       "      <td>46.220821</td>\n",
       "      <td>4.923401</td>\n",
       "      <td>...</td>\n",
       "      <td>Arrière</td>\n",
       "      <td>Traversant la chaussée</td>\n",
       "      <td>202100028215B01</td>\n",
       "      <td>7</td>\n",
       "      <td>1</td>\n",
       "      <td>1.0</td>\n",
       "      <td>200070555.0</td>\n",
       "      <td>Auvergne-Rhône-Alpes</td>\n",
       "      <td>Plus de 50 ans</td>\n",
       "      <td>Saint-André-d'Huiriat</td>\n",
       "    </tr>\n",
       "    <tr>\n",
       "      <th>452</th>\n",
       "      <td>202100033934</td>\n",
       "      <td>2021-06-01</td>\n",
       "      <td>2021</td>\n",
       "      <td>juin</td>\n",
       "      <td>mardi</td>\n",
       "      <td>16:00</td>\n",
       "      <td>01</td>\n",
       "      <td>01193</td>\n",
       "      <td>45.640568</td>\n",
       "      <td>5.644087</td>\n",
       "      <td>...</td>\n",
       "      <td>Avant gauche</td>\n",
       "      <td>Même sens, même file</td>\n",
       "      <td>202100033934B01</td>\n",
       "      <td>10</td>\n",
       "      <td>2</td>\n",
       "      <td>1.0</td>\n",
       "      <td>200040350.0</td>\n",
       "      <td>Auvergne-Rhône-Alpes</td>\n",
       "      <td>Plus de 50 ans</td>\n",
       "      <td>Izieu</td>\n",
       "    </tr>\n",
       "    <tr>\n",
       "      <th>453</th>\n",
       "      <td>202100040262</td>\n",
       "      <td>2021-05-12</td>\n",
       "      <td>2021</td>\n",
       "      <td>mai</td>\n",
       "      <td>mercredi</td>\n",
       "      <td>22:45</td>\n",
       "      <td>01</td>\n",
       "      <td>01145</td>\n",
       "      <td>46.068556</td>\n",
       "      <td>5.204322</td>\n",
       "      <td>...</td>\n",
       "      <td>Avant</td>\n",
       "      <td>Sans changement de direction</td>\n",
       "      <td>202100040262B01</td>\n",
       "      <td>2</td>\n",
       "      <td>1</td>\n",
       "      <td>1.0</td>\n",
       "      <td>200071751.0</td>\n",
       "      <td>Auvergne-Rhône-Alpes</td>\n",
       "      <td>Moins de 18 ans</td>\n",
       "      <td>Dompierre-sur-Veyle</td>\n",
       "    </tr>\n",
       "    <tr>\n",
       "      <th>454</th>\n",
       "      <td>202100042729</td>\n",
       "      <td>2021-04-24</td>\n",
       "      <td>2021</td>\n",
       "      <td>avril</td>\n",
       "      <td>samedi</td>\n",
       "      <td>12:01</td>\n",
       "      <td>01</td>\n",
       "      <td>01353</td>\n",
       "      <td>45.983216</td>\n",
       "      <td>4.790125</td>\n",
       "      <td>...</td>\n",
       "      <td>Arrière</td>\n",
       "      <td>Même sens, même file</td>\n",
       "      <td>202100042729B01</td>\n",
       "      <td>7</td>\n",
       "      <td>2</td>\n",
       "      <td>1.0</td>\n",
       "      <td>200042497.0</td>\n",
       "      <td>Auvergne-Rhône-Alpes</td>\n",
       "      <td>Plus de 50 ans</td>\n",
       "      <td>Sainte-Euphémie</td>\n",
       "    </tr>\n",
       "  </tbody>\n",
       "</table>\n",
       "<p>455 rows × 43 columns</p>\n",
       "</div>"
      ],
      "text/plain": [
       "          Num_Acc        date    an     mois      jour   hrmn dep    com  \\\n",
       "0    200500011098  2005-02-20  2005  février  dimanche  13:45  01  01364   \n",
       "1    201100006920  2011-05-21  2011      mai    samedi  18:15  01  01364   \n",
       "2    200500011121  2005-02-06  2005  février  dimanche   8:30  01  01052   \n",
       "3    201300017798  2013-03-11  2013     mars     lundi  14:00  01  01052   \n",
       "4    200500013967  2005-03-29  2005     mars     mardi  17:20  01  01053   \n",
       "..            ...         ...   ...      ...       ...    ...  ..    ...   \n",
       "450  202100023950  2021-08-17  2021     août     mardi  18:30  01  01036   \n",
       "451  202100028215  2021-07-19  2021  juillet     lundi  12:45  01  01334   \n",
       "452  202100033934  2021-06-01  2021     juin     mardi  16:00  01  01193   \n",
       "453  202100040262  2021-05-12  2021      mai  mercredi  22:45  01  01145   \n",
       "454  202100042729  2021-04-24  2021    avril    samedi  12:01  01  01353   \n",
       "\n",
       "           lat      long  ...           choc                          manv  \\\n",
       "0    46.396000  5.040000  ...  Arrière droit        Traversant la chaussée   \n",
       "1     0.000000  0.000000  ...          Avant                 En s'insérant   \n",
       "2     0.000000  0.000000  ...     Côté droit  Sans changement de direction   \n",
       "3    46.025400  4.990550  ...  Arrière droit  Sans changement de direction   \n",
       "4     0.000000  0.000000  ...          Avant          Même sens, même file   \n",
       "..         ...       ...  ...            ...                           ...   \n",
       "450  45.875706  5.664804  ...          Avant                      Inconnue   \n",
       "451  46.220821  4.923401  ...        Arrière        Traversant la chaussée   \n",
       "452  45.640568  5.644087  ...   Avant gauche          Même sens, même file   \n",
       "453  46.068556  5.204322  ...          Avant  Sans changement de direction   \n",
       "454  45.983216  4.790125  ...        Arrière          Même sens, même file   \n",
       "\n",
       "          vehiculeid typevehicules manoeuvehicules numVehicules  \\\n",
       "0    200500011098A01             7               1          1.0   \n",
       "1    201100006920A01             7               1          1.0   \n",
       "2    200500011121A01             7              19          1.0   \n",
       "3    201300017798B01            13               9          1.0   \n",
       "4    200500013967B01             4              17          1.0   \n",
       "..               ...           ...             ...          ...   \n",
       "450  202100023950A01            10               1          1.0   \n",
       "451  202100028215B01             7               1          1.0   \n",
       "452  202100033934B01            10               2          1.0   \n",
       "453  202100040262B01             2               1          1.0   \n",
       "454  202100042729B01             7               2          1.0   \n",
       "\n",
       "    _infos_commune.code_epci           region_name           age_group  \\\n",
       "0                200071751.0  Auvergne-Rhône-Alpes      Plus de 50 ans   \n",
       "1                200071751.0  Auvergne-Rhône-Alpes     Moins de 18 ans   \n",
       "2                200069193.0  Auvergne-Rhône-Alpes      Plus de 50 ans   \n",
       "3                200069193.0  Auvergne-Rhône-Alpes      Plus de 50 ans   \n",
       "4                200071751.0  Auvergne-Rhône-Alpes      Plus de 50 ans   \n",
       "..                       ...                   ...                 ...   \n",
       "450              200040350.0  Auvergne-Rhône-Alpes  Entre 30 et 50 ans   \n",
       "451              200070555.0  Auvergne-Rhône-Alpes      Plus de 50 ans   \n",
       "452              200040350.0  Auvergne-Rhône-Alpes      Plus de 50 ans   \n",
       "453              200071751.0  Auvergne-Rhône-Alpes     Moins de 18 ans   \n",
       "454              200042497.0  Auvergne-Rhône-Alpes      Plus de 50 ans   \n",
       "\n",
       "                     com_name  \n",
       "0    Saint-Jean-sur-Reyssouze  \n",
       "1    Saint-Jean-sur-Reyssouze  \n",
       "2                  Bouligneux  \n",
       "3                  Bouligneux  \n",
       "4             Bourg-en-Bresse  \n",
       "..                        ...  \n",
       "450         Belmont-Luthézieu  \n",
       "451     Saint-André-d'Huiriat  \n",
       "452                     Izieu  \n",
       "453       Dompierre-sur-Veyle  \n",
       "454           Sainte-Euphémie  \n",
       "\n",
       "[455 rows x 43 columns]"
      ]
     },
     "execution_count": 4,
     "metadata": {},
     "output_type": "execute_result"
    }
   ],
   "source": [
    "fig.select_data(fig.data, {'dep' : ['01']})"
   ]
  },
  {
   "cell_type": "code",
   "execution_count": 10,
   "id": "2fde1d4a",
   "metadata": {},
   "outputs": [
    {
     "data": {
      "text/plain": [
       "array(['Ain', 'Aisne', 'Allier', 'Alpes-de-Haute-Provence',\n",
       "       'Hautes-Alpes', 'Alpes-Maritimes', 'Ardèche', 'Ardennes', 'Ariège',\n",
       "       'Aube', 'Aude', 'Aveyron', 'Bouches-du-Rhône', 'Calvados',\n",
       "       'Cantal', 'Charente', 'Charente-Maritime', 'Cher', 'Corrèze',\n",
       "       \"Côte-d'Or\", \"Côtes-d'Armor\", 'Creuse', 'Dordogne', 'Doubs',\n",
       "       'Drôme', 'Eure', 'Eure-et-Loir', 'Finistère', 'Corse-du-Sud',\n",
       "       'Haute-Corse', 'Gard', 'Haute-Garonne', 'Gers', 'Gironde',\n",
       "       'Hérault', 'Ille-et-Vilaine', 'Indre', 'Indre-et-Loire', 'Isère',\n",
       "       'Jura', 'Landes', 'Loir-et-Cher', 'Loire', 'Haute-Loire',\n",
       "       'Loire-Atlantique', 'Loiret', 'Lot', 'Lot-et-Garonne', 'Lozère',\n",
       "       'Maine-et-Loire', 'Manche', 'Marne', 'Haute-Marne', 'Mayenne',\n",
       "       'Meurthe-et-Moselle', 'Meuse', 'Morbihan', 'Moselle', 'Nièvre',\n",
       "       'Nord', 'Oise', 'Orne', 'Pas-de-Calais', 'Puy-de-Dôme',\n",
       "       'Pyrénées-Atlantiques', 'Hautes-Pyrénées', 'Pyrénées-Orientales',\n",
       "       'Bas-Rhin', 'Haut-Rhin', 'Rhône', 'Haute-Saône', 'Saône-et-Loire',\n",
       "       'Sarthe', 'Savoie', 'Haute-Savoie', 'Paris', 'Seine-Maritime',\n",
       "       'Seine-et-Marne', 'Yvelines', 'Deux-Sèvres', 'Somme', 'Tarn',\n",
       "       'Tarn-et-Garonne', 'Var', 'Vaucluse', 'Vendée', 'Vienne',\n",
       "       'Haute-Vienne', 'Vosges', 'Yonne', 'Territoire de Belfort',\n",
       "       'Essonne', 'Hauts-de-Seine', 'Seine-Saint-Denis', 'Val-de-Marne',\n",
       "       \"Val-d'Oise\", 'Guadeloupe', 'Martinique', 'Guyane', 'La Réunion',\n",
       "       nan, 'Mayotte'], dtype=object)"
      ]
     },
     "execution_count": 10,
     "metadata": {},
     "output_type": "execute_result"
    }
   ],
   "source": [
    "fig.regions_code['nom_departement'].unique() # 'code_departement', 'nom_departement'"
   ]
  },
  {
   "cell_type": "code",
   "execution_count": 4,
   "id": "1d7b751d",
   "metadata": {},
   "outputs": [
    {
     "data": {
      "text/plain": [
       "'1 Ain'"
      ]
     },
     "execution_count": 4,
     "metadata": {},
     "output_type": "execute_result"
    }
   ],
   "source": [
    "dict((nb, f\"{nb} {nom}\") for nom, nb in zip(fig.regions_code['nom_departement'].unique(), fig.regions_code['code_departement'].unique()))['1']"
   ]
  },
  {
   "cell_type": "code",
   "execution_count": 25,
   "id": "ac0f8432",
   "metadata": {},
   "outputs": [
    {
     "data": {
      "text/plain": [
       "{'1 Ain': '1',\n",
       " '2 Aisne': '2',\n",
       " '3 Allier': '3',\n",
       " '4 Alpes-de-Haute-Provence': '4',\n",
       " '5 Hautes-Alpes': '5',\n",
       " '6 Alpes-Maritimes': '6',\n",
       " '7 Ardèche': '7',\n",
       " '8 Ardennes': '8',\n",
       " '9 Ariège': '9',\n",
       " '10 Aube': '10',\n",
       " '11 Aude': '11',\n",
       " '12 Aveyron': '12',\n",
       " '13 Bouches-du-Rhône': '13',\n",
       " '14 Calvados': '14',\n",
       " '15 Cantal': '15',\n",
       " '16 Charente': '16',\n",
       " '17 Charente-Maritime': '17',\n",
       " '18 Cher': '18',\n",
       " '19 Corrèze': '19',\n",
       " \"21 Côte-d'Or\": '21',\n",
       " \"22 Côtes-d'Armor\": '22',\n",
       " '23 Creuse': '23',\n",
       " '24 Dordogne': '24',\n",
       " '25 Doubs': '25',\n",
       " '26 Drôme': '26',\n",
       " '27 Eure': '27',\n",
       " '28 Eure-et-Loir': '28',\n",
       " '29 Finistère': '29',\n",
       " '2A Corse-du-Sud': '2A',\n",
       " '2B Haute-Corse': '2B',\n",
       " '30 Gard': '30',\n",
       " '31 Haute-Garonne': '31',\n",
       " '32 Gers': '32',\n",
       " '33 Gironde': '33',\n",
       " '34 Hérault': '34',\n",
       " '35 Ille-et-Vilaine': '35',\n",
       " '36 Indre': '36',\n",
       " '37 Indre-et-Loire': '37',\n",
       " '38 Isère': '38',\n",
       " '39 Jura': '39',\n",
       " '40 Landes': '40',\n",
       " '41 Loir-et-Cher': '41',\n",
       " '42 Loire': '42',\n",
       " '43 Haute-Loire': '43',\n",
       " '44 Loire-Atlantique': '44',\n",
       " '45 Loiret': '45',\n",
       " '46 Lot': '46',\n",
       " '47 Lot-et-Garonne': '47',\n",
       " '48 Lozère': '48',\n",
       " '49 Maine-et-Loire': '49',\n",
       " '50 Manche': '50',\n",
       " '51 Marne': '51',\n",
       " '52 Haute-Marne': '52',\n",
       " '53 Mayenne': '53',\n",
       " '54 Meurthe-et-Moselle': '54',\n",
       " '55 Meuse': '55',\n",
       " '56 Morbihan': '56',\n",
       " '57 Moselle': '57',\n",
       " '58 Nièvre': '58',\n",
       " '59 Nord': '59',\n",
       " '60 Oise': '60',\n",
       " '61 Orne': '61',\n",
       " '62 Pas-de-Calais': '62',\n",
       " '63 Puy-de-Dôme': '63',\n",
       " '64 Pyrénées-Atlantiques': '64',\n",
       " '65 Hautes-Pyrénées': '65',\n",
       " '66 Pyrénées-Orientales': '66',\n",
       " '67 Bas-Rhin': '67',\n",
       " '68 Haut-Rhin': '68',\n",
       " '69 Rhône': '69',\n",
       " '70 Haute-Saône': '70',\n",
       " '71 Saône-et-Loire': '71',\n",
       " '72 Sarthe': '72',\n",
       " '73 Savoie': '73',\n",
       " '74 Haute-Savoie': '74',\n",
       " '75 Paris': '75',\n",
       " '76 Seine-Maritime': '76',\n",
       " '77 Seine-et-Marne': '77',\n",
       " '78 Yvelines': '78',\n",
       " '79 Deux-Sèvres': '79',\n",
       " '80 Somme': '80',\n",
       " '81 Tarn': '81',\n",
       " '82 Tarn-et-Garonne': '82',\n",
       " '83 Var': '83',\n",
       " '84 Vaucluse': '84',\n",
       " '85 Vendée': '85',\n",
       " '86 Vienne': '86',\n",
       " '87 Haute-Vienne': '87',\n",
       " '88 Vosges': '88',\n",
       " '89 Yonne': '89',\n",
       " '90 Territoire de Belfort': '90',\n",
       " '91 Essonne': '91',\n",
       " '92 Hauts-de-Seine': '92',\n",
       " '93 Seine-Saint-Denis': '93',\n",
       " '94 Val-de-Marne': '94',\n",
       " \"95 Val-d'Oise\": '95',\n",
       " '971 Guadeloupe': '971',\n",
       " '972 Martinique': '972',\n",
       " '973 Guyane': '973',\n",
       " '974 La Réunion': '974',\n",
       " '97 nan': '97',\n",
       " '976 Mayotte': '976'}"
      ]
     },
     "execution_count": 25,
     "metadata": {},
     "output_type": "execute_result"
    }
   ],
   "source": [
    "dict((f\"{nb} {nom}\", nb) for nom, nb in zip(fig.regions_code['nom_departement'].unique(), fig.regions_code['code_departement'].unique()))"
   ]
  },
  {
   "cell_type": "code",
   "execution_count": 21,
   "id": "38ffaaac",
   "metadata": {},
   "outputs": [
    {
     "data": {
      "text/plain": [
       "['1 Ain',\n",
       " '2 Aisne',\n",
       " '3 Allier',\n",
       " '4 Alpes-de-Haute-Provence',\n",
       " '5 Hautes-Alpes',\n",
       " '6 Alpes-Maritimes',\n",
       " '7 Ardèche',\n",
       " '8 Ardennes',\n",
       " '9 Ariège',\n",
       " '10 Aube',\n",
       " '11 Aude',\n",
       " '12 Aveyron',\n",
       " '13 Bouches-du-Rhône',\n",
       " '14 Calvados',\n",
       " '15 Cantal',\n",
       " '16 Charente',\n",
       " '17 Charente-Maritime',\n",
       " '18 Cher',\n",
       " '19 Corrèze',\n",
       " \"21 Côte-d'Or\",\n",
       " \"22 Côtes-d'Armor\",\n",
       " '23 Creuse',\n",
       " '24 Dordogne',\n",
       " '25 Doubs',\n",
       " '26 Drôme',\n",
       " '27 Eure',\n",
       " '28 Eure-et-Loir',\n",
       " '29 Finistère',\n",
       " '2A Corse-du-Sud',\n",
       " '2B Haute-Corse',\n",
       " '30 Gard',\n",
       " '31 Haute-Garonne',\n",
       " '32 Gers',\n",
       " '33 Gironde',\n",
       " '34 Hérault',\n",
       " '35 Ille-et-Vilaine',\n",
       " '36 Indre',\n",
       " '37 Indre-et-Loire',\n",
       " '38 Isère',\n",
       " '39 Jura',\n",
       " '40 Landes',\n",
       " '41 Loir-et-Cher',\n",
       " '42 Loire',\n",
       " '43 Haute-Loire',\n",
       " '44 Loire-Atlantique',\n",
       " '45 Loiret',\n",
       " '46 Lot',\n",
       " '47 Lot-et-Garonne',\n",
       " '48 Lozère',\n",
       " '49 Maine-et-Loire',\n",
       " '50 Manche',\n",
       " '51 Marne',\n",
       " '52 Haute-Marne',\n",
       " '53 Mayenne',\n",
       " '54 Meurthe-et-Moselle',\n",
       " '55 Meuse',\n",
       " '56 Morbihan',\n",
       " '57 Moselle',\n",
       " '58 Nièvre',\n",
       " '59 Nord',\n",
       " '60 Oise',\n",
       " '61 Orne',\n",
       " '62 Pas-de-Calais',\n",
       " '63 Puy-de-Dôme',\n",
       " '64 Pyrénées-Atlantiques',\n",
       " '65 Hautes-Pyrénées',\n",
       " '66 Pyrénées-Orientales',\n",
       " '67 Bas-Rhin',\n",
       " '68 Haut-Rhin',\n",
       " '69 Rhône',\n",
       " '70 Haute-Saône',\n",
       " '71 Saône-et-Loire',\n",
       " '72 Sarthe',\n",
       " '73 Savoie',\n",
       " '74 Haute-Savoie',\n",
       " '75 Paris',\n",
       " '76 Seine-Maritime',\n",
       " '77 Seine-et-Marne',\n",
       " '78 Yvelines',\n",
       " '79 Deux-Sèvres',\n",
       " '80 Somme',\n",
       " '81 Tarn',\n",
       " '82 Tarn-et-Garonne',\n",
       " '83 Var',\n",
       " '84 Vaucluse',\n",
       " '85 Vendée',\n",
       " '86 Vienne',\n",
       " '87 Haute-Vienne',\n",
       " '88 Vosges',\n",
       " '89 Yonne',\n",
       " '90 Territoire de Belfort',\n",
       " '91 Essonne',\n",
       " '92 Hauts-de-Seine',\n",
       " '93 Seine-Saint-Denis',\n",
       " '94 Val-de-Marne',\n",
       " \"95 Val-d'Oise\",\n",
       " '971 Guadeloupe',\n",
       " '972 Martinique',\n",
       " '973 Guyane',\n",
       " '974 La Réunion',\n",
       " '97 nan',\n",
       " '976 Mayotte']"
      ]
     },
     "execution_count": 21,
     "metadata": {},
     "output_type": "execute_result"
    }
   ],
   "source": [
    "[f\"{nb} {nom}\" for nom, nb in zip(fig.regions_code['nom_departement'].unique(), fig.regions_code['code_departement'].unique())]"
   ]
  },
  {
   "cell_type": "code",
   "execution_count": 2,
   "id": "31303061",
   "metadata": {},
   "outputs": [
    {
     "data": {
      "text/plain": [
       "array(['01', '02', '03', '04', '05', '06', '07', '08', '09', '10', '11',\n",
       "       '12', '13', '14', '15', '16', '17', '18', '19', '21', '22', '23',\n",
       "       '24', '25', '26', '27', '28', '29', '2A', '2B', '30', '31', '32',\n",
       "       '33', '34', '35', '36', '37', '38', '39', '40', '41', '42', '43',\n",
       "       '44', '45', '46', '47', '48', '49', '50', '51', '52', '53', '54',\n",
       "       '55', '56', '57', '58', '59', '60', '61', '62', '63', '64', '65',\n",
       "       '66', '67', '68', '69', '70', '71', '72', '73', '74', '75', '76',\n",
       "       '77', '78', '79', '80', '81', '82', '83', '84', '85', '86', '87',\n",
       "       '88', '89', '90', '91', '92', '93', '94', '95', '971', '972',\n",
       "       '973', '974', '976'], dtype=object)"
      ]
     },
     "execution_count": 2,
     "metadata": {},
     "output_type": "execute_result"
    }
   ],
   "source": [
    "def adjust_dropdown_width(value, options):\n",
    "    print(value)\n",
    "    width = (\n",
    "        # default width if you erased the value\n",
    "        \"100px\"\n",
    "        if value is None\n",
    "        # this assumes that each letter in the label is 11px wide, you can\n",
    "        # change this to your preference\n",
    "        else f\"{len(options[value]['label'])*11}px\"\n",
    "    )\n",
    "    return [{'width': width}]"
   ]
  },
  {
   "cell_type": "code",
   "execution_count": 2,
   "id": "ad76fc8a",
   "metadata": {},
   "outputs": [
    {
     "data": {
      "text/html": [
       "<div>\n",
       "<style scoped>\n",
       "    .dataframe tbody tr th:only-of-type {\n",
       "        vertical-align: middle;\n",
       "    }\n",
       "\n",
       "    .dataframe tbody tr th {\n",
       "        vertical-align: top;\n",
       "    }\n",
       "\n",
       "    .dataframe thead th {\n",
       "        text-align: right;\n",
       "    }\n",
       "</style>\n",
       "<table border=\"1\" class=\"dataframe\">\n",
       "  <thead>\n",
       "    <tr style=\"text-align: right;\">\n",
       "      <th></th>\n",
       "      <th>Unnamed: 0.1</th>\n",
       "      <th>Unnamed: 0</th>\n",
       "      <th>Num_Acc</th>\n",
       "      <th>date</th>\n",
       "      <th>an</th>\n",
       "      <th>mois</th>\n",
       "      <th>jour</th>\n",
       "      <th>hrmn</th>\n",
       "      <th>dep</th>\n",
       "      <th>com</th>\n",
       "      <th>...</th>\n",
       "      <th>_infos_commune.code_epci</th>\n",
       "      <th>code_postal</th>\n",
       "      <th>nom_commune_postal</th>\n",
       "      <th>latitude</th>\n",
       "      <th>longitude</th>\n",
       "      <th>nom_commune</th>\n",
       "      <th>nom_commune_complet</th>\n",
       "      <th>num_dep</th>\n",
       "      <th>dep_name</th>\n",
       "      <th>region_name</th>\n",
       "    </tr>\n",
       "  </thead>\n",
       "  <tbody>\n",
       "    <tr>\n",
       "      <th>27128</th>\n",
       "      <td>27128</td>\n",
       "      <td>27128</td>\n",
       "      <td>200900002247</td>\n",
       "      <td>2009-01-13</td>\n",
       "      <td>2009</td>\n",
       "      <td>janvier</td>\n",
       "      <td>mardi</td>\n",
       "      <td>10:37</td>\n",
       "      <td>68</td>\n",
       "      <td>68066</td>\n",
       "      <td>...</td>\n",
       "      <td>246800726.0</td>\n",
       "      <td>NaN</td>\n",
       "      <td>NaN</td>\n",
       "      <td>NaN</td>\n",
       "      <td>NaN</td>\n",
       "      <td>non renseigné</td>\n",
       "      <td>NaN</td>\n",
       "      <td>68</td>\n",
       "      <td>Haut-Rhin</td>\n",
       "      <td>Grand Est</td>\n",
       "    </tr>\n",
       "    <tr>\n",
       "      <th>27129</th>\n",
       "      <td>27129</td>\n",
       "      <td>27129</td>\n",
       "      <td>200900002272</td>\n",
       "      <td>2009-01-27</td>\n",
       "      <td>2009</td>\n",
       "      <td>janvier</td>\n",
       "      <td>mardi</td>\n",
       "      <td>14:00</td>\n",
       "      <td>68</td>\n",
       "      <td>68298</td>\n",
       "      <td>...</td>\n",
       "      <td>246800395.0</td>\n",
       "      <td>NaN</td>\n",
       "      <td>NaN</td>\n",
       "      <td>NaN</td>\n",
       "      <td>NaN</td>\n",
       "      <td>non renseigné</td>\n",
       "      <td>NaN</td>\n",
       "      <td>68</td>\n",
       "      <td>Haut-Rhin</td>\n",
       "      <td>Grand Est</td>\n",
       "    </tr>\n",
       "    <tr>\n",
       "      <th>27130</th>\n",
       "      <td>27130</td>\n",
       "      <td>27130</td>\n",
       "      <td>200900002301</td>\n",
       "      <td>2009-01-03</td>\n",
       "      <td>2009</td>\n",
       "      <td>janvier</td>\n",
       "      <td>samedi</td>\n",
       "      <td>18:15</td>\n",
       "      <td>14</td>\n",
       "      <td>14366</td>\n",
       "      <td>...</td>\n",
       "      <td>200069532.0</td>\n",
       "      <td>NaN</td>\n",
       "      <td>NaN</td>\n",
       "      <td>NaN</td>\n",
       "      <td>NaN</td>\n",
       "      <td>non renseigné</td>\n",
       "      <td>NaN</td>\n",
       "      <td>14</td>\n",
       "      <td>Calvados</td>\n",
       "      <td>Normandie</td>\n",
       "    </tr>\n",
       "    <tr>\n",
       "      <th>27131</th>\n",
       "      <td>27131</td>\n",
       "      <td>27131</td>\n",
       "      <td>200900002301</td>\n",
       "      <td>2009-01-03</td>\n",
       "      <td>2009</td>\n",
       "      <td>janvier</td>\n",
       "      <td>samedi</td>\n",
       "      <td>18:15</td>\n",
       "      <td>14</td>\n",
       "      <td>14366</td>\n",
       "      <td>...</td>\n",
       "      <td>200069532.0</td>\n",
       "      <td>NaN</td>\n",
       "      <td>NaN</td>\n",
       "      <td>NaN</td>\n",
       "      <td>NaN</td>\n",
       "      <td>non renseigné</td>\n",
       "      <td>NaN</td>\n",
       "      <td>14</td>\n",
       "      <td>Calvados</td>\n",
       "      <td>Normandie</td>\n",
       "    </tr>\n",
       "    <tr>\n",
       "      <th>27229</th>\n",
       "      <td>27229</td>\n",
       "      <td>27229</td>\n",
       "      <td>200900003287</td>\n",
       "      <td>2009-01-22</td>\n",
       "      <td>2009</td>\n",
       "      <td>janvier</td>\n",
       "      <td>jeudi</td>\n",
       "      <td>10:15</td>\n",
       "      <td>30</td>\n",
       "      <td>30155</td>\n",
       "      <td>...</td>\n",
       "      <td>243000643.0</td>\n",
       "      <td>NaN</td>\n",
       "      <td>NaN</td>\n",
       "      <td>NaN</td>\n",
       "      <td>NaN</td>\n",
       "      <td>non renseigné</td>\n",
       "      <td>NaN</td>\n",
       "      <td>30</td>\n",
       "      <td>Gard</td>\n",
       "      <td>Occitanie</td>\n",
       "    </tr>\n",
       "    <tr>\n",
       "      <th>...</th>\n",
       "      <td>...</td>\n",
       "      <td>...</td>\n",
       "      <td>...</td>\n",
       "      <td>...</td>\n",
       "      <td>...</td>\n",
       "      <td>...</td>\n",
       "      <td>...</td>\n",
       "      <td>...</td>\n",
       "      <td>...</td>\n",
       "      <td>...</td>\n",
       "      <td>...</td>\n",
       "      <td>...</td>\n",
       "      <td>...</td>\n",
       "      <td>...</td>\n",
       "      <td>...</td>\n",
       "      <td>...</td>\n",
       "      <td>...</td>\n",
       "      <td>...</td>\n",
       "      <td>...</td>\n",
       "      <td>...</td>\n",
       "      <td>...</td>\n",
       "    </tr>\n",
       "    <tr>\n",
       "      <th>92703</th>\n",
       "      <td>92703</td>\n",
       "      <td>92703</td>\n",
       "      <td>202100037919</td>\n",
       "      <td>2021-05-28</td>\n",
       "      <td>2021</td>\n",
       "      <td>mai</td>\n",
       "      <td>vendredi</td>\n",
       "      <td>19:39</td>\n",
       "      <td>973</td>\n",
       "      <td>97307</td>\n",
       "      <td>...</td>\n",
       "      <td>249730045.0</td>\n",
       "      <td>NaN</td>\n",
       "      <td>NaN</td>\n",
       "      <td>NaN</td>\n",
       "      <td>NaN</td>\n",
       "      <td>non renseigné</td>\n",
       "      <td>NaN</td>\n",
       "      <td>973</td>\n",
       "      <td>Guyane</td>\n",
       "      <td>Guyane</td>\n",
       "    </tr>\n",
       "    <tr>\n",
       "      <th>93402</th>\n",
       "      <td>93402</td>\n",
       "      <td>93402</td>\n",
       "      <td>202100046842</td>\n",
       "      <td>2021-03-24</td>\n",
       "      <td>2021</td>\n",
       "      <td>mars</td>\n",
       "      <td>mercredi</td>\n",
       "      <td>15:07</td>\n",
       "      <td>973</td>\n",
       "      <td>97309</td>\n",
       "      <td>...</td>\n",
       "      <td>249730045.0</td>\n",
       "      <td>NaN</td>\n",
       "      <td>NaN</td>\n",
       "      <td>NaN</td>\n",
       "      <td>NaN</td>\n",
       "      <td>non renseigné</td>\n",
       "      <td>NaN</td>\n",
       "      <td>973</td>\n",
       "      <td>Guyane</td>\n",
       "      <td>Guyane</td>\n",
       "    </tr>\n",
       "    <tr>\n",
       "      <th>93568</th>\n",
       "      <td>93568</td>\n",
       "      <td>93568</td>\n",
       "      <td>202100049433</td>\n",
       "      <td>2021-02-23</td>\n",
       "      <td>2021</td>\n",
       "      <td>février</td>\n",
       "      <td>mardi</td>\n",
       "      <td>19:45</td>\n",
       "      <td>973</td>\n",
       "      <td>97353</td>\n",
       "      <td>...</td>\n",
       "      <td>249730037.0</td>\n",
       "      <td>97353.0</td>\n",
       "      <td>REGINA</td>\n",
       "      <td>3.940918</td>\n",
       "      <td>-52.519927</td>\n",
       "      <td>Régina</td>\n",
       "      <td>Régina</td>\n",
       "      <td>973</td>\n",
       "      <td>Guyane</td>\n",
       "      <td>Guyane</td>\n",
       "    </tr>\n",
       "    <tr>\n",
       "      <th>93717</th>\n",
       "      <td>93717</td>\n",
       "      <td>93717</td>\n",
       "      <td>202100050831</td>\n",
       "      <td>2021-02-20</td>\n",
       "      <td>2021</td>\n",
       "      <td>février</td>\n",
       "      <td>samedi</td>\n",
       "      <td>21:10</td>\n",
       "      <td>973</td>\n",
       "      <td>97305</td>\n",
       "      <td>...</td>\n",
       "      <td>249730045.0</td>\n",
       "      <td>NaN</td>\n",
       "      <td>NaN</td>\n",
       "      <td>NaN</td>\n",
       "      <td>NaN</td>\n",
       "      <td>non renseigné</td>\n",
       "      <td>NaN</td>\n",
       "      <td>973</td>\n",
       "      <td>Guyane</td>\n",
       "      <td>Guyane</td>\n",
       "    </tr>\n",
       "    <tr>\n",
       "      <th>93977</th>\n",
       "      <td>93977</td>\n",
       "      <td>93977</td>\n",
       "      <td>202100055872</td>\n",
       "      <td>2021-01-08</td>\n",
       "      <td>2021</td>\n",
       "      <td>janvier</td>\n",
       "      <td>vendredi</td>\n",
       "      <td>19:25</td>\n",
       "      <td>973</td>\n",
       "      <td>97309</td>\n",
       "      <td>...</td>\n",
       "      <td>249730045.0</td>\n",
       "      <td>NaN</td>\n",
       "      <td>NaN</td>\n",
       "      <td>NaN</td>\n",
       "      <td>NaN</td>\n",
       "      <td>non renseigné</td>\n",
       "      <td>NaN</td>\n",
       "      <td>973</td>\n",
       "      <td>Guyane</td>\n",
       "      <td>Guyane</td>\n",
       "    </tr>\n",
       "  </tbody>\n",
       "</table>\n",
       "<p>1605 rows × 51 columns</p>\n",
       "</div>"
      ],
      "text/plain": [
       "       Unnamed: 0.1  Unnamed: 0       Num_Acc        date    an     mois  \\\n",
       "27128         27128       27128  200900002247  2009-01-13  2009  janvier   \n",
       "27129         27129       27129  200900002272  2009-01-27  2009  janvier   \n",
       "27130         27130       27130  200900002301  2009-01-03  2009  janvier   \n",
       "27131         27131       27131  200900002301  2009-01-03  2009  janvier   \n",
       "27229         27229       27229  200900003287  2009-01-22  2009  janvier   \n",
       "...             ...         ...           ...         ...   ...      ...   \n",
       "92703         92703       92703  202100037919  2021-05-28  2021      mai   \n",
       "93402         93402       93402  202100046842  2021-03-24  2021     mars   \n",
       "93568         93568       93568  202100049433  2021-02-23  2021  février   \n",
       "93717         93717       93717  202100050831  2021-02-20  2021  février   \n",
       "93977         93977       93977  202100055872  2021-01-08  2021  janvier   \n",
       "\n",
       "           jour   hrmn  dep    com  ...  _infos_commune.code_epci  \\\n",
       "27128     mardi  10:37   68  68066  ...               246800726.0   \n",
       "27129     mardi  14:00   68  68298  ...               246800395.0   \n",
       "27130    samedi  18:15   14  14366  ...               200069532.0   \n",
       "27131    samedi  18:15   14  14366  ...               200069532.0   \n",
       "27229     jeudi  10:15   30  30155  ...               243000643.0   \n",
       "...         ...    ...  ...    ...  ...                       ...   \n",
       "92703  vendredi  19:39  973  97307  ...               249730045.0   \n",
       "93402  mercredi  15:07  973  97309  ...               249730045.0   \n",
       "93568     mardi  19:45  973  97353  ...               249730037.0   \n",
       "93717    samedi  21:10  973  97305  ...               249730045.0   \n",
       "93977  vendredi  19:25  973  97309  ...               249730045.0   \n",
       "\n",
       "       code_postal nom_commune_postal  latitude  longitude    nom_commune  \\\n",
       "27128          NaN                NaN       NaN        NaN  non renseigné   \n",
       "27129          NaN                NaN       NaN        NaN  non renseigné   \n",
       "27130          NaN                NaN       NaN        NaN  non renseigné   \n",
       "27131          NaN                NaN       NaN        NaN  non renseigné   \n",
       "27229          NaN                NaN       NaN        NaN  non renseigné   \n",
       "...            ...                ...       ...        ...            ...   \n",
       "92703          NaN                NaN       NaN        NaN  non renseigné   \n",
       "93402          NaN                NaN       NaN        NaN  non renseigné   \n",
       "93568      97353.0             REGINA  3.940918 -52.519927         Régina   \n",
       "93717          NaN                NaN       NaN        NaN  non renseigné   \n",
       "93977          NaN                NaN       NaN        NaN  non renseigné   \n",
       "\n",
       "      nom_commune_complet num_dep   dep_name  region_name  \n",
       "27128                 NaN      68  Haut-Rhin    Grand Est  \n",
       "27129                 NaN      68  Haut-Rhin    Grand Est  \n",
       "27130                 NaN      14   Calvados    Normandie  \n",
       "27131                 NaN      14   Calvados    Normandie  \n",
       "27229                 NaN      30       Gard    Occitanie  \n",
       "...                   ...     ...        ...          ...  \n",
       "92703                 NaN     973     Guyane       Guyane  \n",
       "93402                 NaN     973     Guyane       Guyane  \n",
       "93568              Régina     973     Guyane       Guyane  \n",
       "93717                 NaN     973     Guyane       Guyane  \n",
       "93977                 NaN     973     Guyane       Guyane  \n",
       "\n",
       "[1605 rows x 51 columns]"
      ]
     },
     "execution_count": 2,
     "metadata": {},
     "output_type": "execute_result"
    }
   ],
   "source": [
    "fig.data_filter(fig.data, 'lat', x_select=[0,10])"
   ]
  },
  {
   "cell_type": "code",
   "execution_count": 10,
   "id": "b23a475a",
   "metadata": {},
   "outputs": [
    {
     "data": {
      "text/html": [
       "<div>\n",
       "<style scoped>\n",
       "    .dataframe tbody tr th:only-of-type {\n",
       "        vertical-align: middle;\n",
       "    }\n",
       "\n",
       "    .dataframe tbody tr th {\n",
       "        vertical-align: top;\n",
       "    }\n",
       "\n",
       "    .dataframe thead th {\n",
       "        text-align: right;\n",
       "    }\n",
       "</style>\n",
       "<table border=\"1\" class=\"dataframe\">\n",
       "  <thead>\n",
       "    <tr style=\"text-align: right;\">\n",
       "      <th></th>\n",
       "      <th>Unnamed: 0.1</th>\n",
       "      <th>Unnamed: 0</th>\n",
       "      <th>Num_Acc</th>\n",
       "      <th>date</th>\n",
       "      <th>an</th>\n",
       "      <th>mois</th>\n",
       "      <th>jour</th>\n",
       "      <th>hrmn</th>\n",
       "      <th>dep</th>\n",
       "      <th>com</th>\n",
       "      <th>...</th>\n",
       "      <th>_infos_commune.code_epci</th>\n",
       "      <th>code_postal</th>\n",
       "      <th>nom_commune_postal</th>\n",
       "      <th>latitude</th>\n",
       "      <th>longitude</th>\n",
       "      <th>nom_commune</th>\n",
       "      <th>nom_commune_complet</th>\n",
       "      <th>num_dep</th>\n",
       "      <th>dep_name</th>\n",
       "      <th>region_name</th>\n",
       "    </tr>\n",
       "  </thead>\n",
       "  <tbody>\n",
       "    <tr>\n",
       "      <th>27128</th>\n",
       "      <td>27128</td>\n",
       "      <td>27128</td>\n",
       "      <td>200900002247</td>\n",
       "      <td>2009-01-13</td>\n",
       "      <td>2009</td>\n",
       "      <td>janvier</td>\n",
       "      <td>mardi</td>\n",
       "      <td>10:37</td>\n",
       "      <td>68</td>\n",
       "      <td>68066</td>\n",
       "      <td>...</td>\n",
       "      <td>246800726.0</td>\n",
       "      <td>NaN</td>\n",
       "      <td>NaN</td>\n",
       "      <td>NaN</td>\n",
       "      <td>NaN</td>\n",
       "      <td>non renseigné</td>\n",
       "      <td>NaN</td>\n",
       "      <td>68</td>\n",
       "      <td>Haut-Rhin</td>\n",
       "      <td>Grand Est</td>\n",
       "    </tr>\n",
       "    <tr>\n",
       "      <th>27129</th>\n",
       "      <td>27129</td>\n",
       "      <td>27129</td>\n",
       "      <td>200900002272</td>\n",
       "      <td>2009-01-27</td>\n",
       "      <td>2009</td>\n",
       "      <td>janvier</td>\n",
       "      <td>mardi</td>\n",
       "      <td>14:00</td>\n",
       "      <td>68</td>\n",
       "      <td>68298</td>\n",
       "      <td>...</td>\n",
       "      <td>246800395.0</td>\n",
       "      <td>NaN</td>\n",
       "      <td>NaN</td>\n",
       "      <td>NaN</td>\n",
       "      <td>NaN</td>\n",
       "      <td>non renseigné</td>\n",
       "      <td>NaN</td>\n",
       "      <td>68</td>\n",
       "      <td>Haut-Rhin</td>\n",
       "      <td>Grand Est</td>\n",
       "    </tr>\n",
       "    <tr>\n",
       "      <th>27130</th>\n",
       "      <td>27130</td>\n",
       "      <td>27130</td>\n",
       "      <td>200900002301</td>\n",
       "      <td>2009-01-03</td>\n",
       "      <td>2009</td>\n",
       "      <td>janvier</td>\n",
       "      <td>samedi</td>\n",
       "      <td>18:15</td>\n",
       "      <td>14</td>\n",
       "      <td>14366</td>\n",
       "      <td>...</td>\n",
       "      <td>200069532.0</td>\n",
       "      <td>NaN</td>\n",
       "      <td>NaN</td>\n",
       "      <td>NaN</td>\n",
       "      <td>NaN</td>\n",
       "      <td>non renseigné</td>\n",
       "      <td>NaN</td>\n",
       "      <td>14</td>\n",
       "      <td>Calvados</td>\n",
       "      <td>Normandie</td>\n",
       "    </tr>\n",
       "    <tr>\n",
       "      <th>27131</th>\n",
       "      <td>27131</td>\n",
       "      <td>27131</td>\n",
       "      <td>200900002301</td>\n",
       "      <td>2009-01-03</td>\n",
       "      <td>2009</td>\n",
       "      <td>janvier</td>\n",
       "      <td>samedi</td>\n",
       "      <td>18:15</td>\n",
       "      <td>14</td>\n",
       "      <td>14366</td>\n",
       "      <td>...</td>\n",
       "      <td>200069532.0</td>\n",
       "      <td>NaN</td>\n",
       "      <td>NaN</td>\n",
       "      <td>NaN</td>\n",
       "      <td>NaN</td>\n",
       "      <td>non renseigné</td>\n",
       "      <td>NaN</td>\n",
       "      <td>14</td>\n",
       "      <td>Calvados</td>\n",
       "      <td>Normandie</td>\n",
       "    </tr>\n",
       "    <tr>\n",
       "      <th>27229</th>\n",
       "      <td>27229</td>\n",
       "      <td>27229</td>\n",
       "      <td>200900003287</td>\n",
       "      <td>2009-01-22</td>\n",
       "      <td>2009</td>\n",
       "      <td>janvier</td>\n",
       "      <td>jeudi</td>\n",
       "      <td>10:15</td>\n",
       "      <td>30</td>\n",
       "      <td>30155</td>\n",
       "      <td>...</td>\n",
       "      <td>243000643.0</td>\n",
       "      <td>NaN</td>\n",
       "      <td>NaN</td>\n",
       "      <td>NaN</td>\n",
       "      <td>NaN</td>\n",
       "      <td>non renseigné</td>\n",
       "      <td>NaN</td>\n",
       "      <td>30</td>\n",
       "      <td>Gard</td>\n",
       "      <td>Occitanie</td>\n",
       "    </tr>\n",
       "    <tr>\n",
       "      <th>...</th>\n",
       "      <td>...</td>\n",
       "      <td>...</td>\n",
       "      <td>...</td>\n",
       "      <td>...</td>\n",
       "      <td>...</td>\n",
       "      <td>...</td>\n",
       "      <td>...</td>\n",
       "      <td>...</td>\n",
       "      <td>...</td>\n",
       "      <td>...</td>\n",
       "      <td>...</td>\n",
       "      <td>...</td>\n",
       "      <td>...</td>\n",
       "      <td>...</td>\n",
       "      <td>...</td>\n",
       "      <td>...</td>\n",
       "      <td>...</td>\n",
       "      <td>...</td>\n",
       "      <td>...</td>\n",
       "      <td>...</td>\n",
       "      <td>...</td>\n",
       "    </tr>\n",
       "    <tr>\n",
       "      <th>92703</th>\n",
       "      <td>92703</td>\n",
       "      <td>92703</td>\n",
       "      <td>202100037919</td>\n",
       "      <td>2021-05-28</td>\n",
       "      <td>2021</td>\n",
       "      <td>mai</td>\n",
       "      <td>vendredi</td>\n",
       "      <td>19:39</td>\n",
       "      <td>973</td>\n",
       "      <td>97307</td>\n",
       "      <td>...</td>\n",
       "      <td>249730045.0</td>\n",
       "      <td>NaN</td>\n",
       "      <td>NaN</td>\n",
       "      <td>NaN</td>\n",
       "      <td>NaN</td>\n",
       "      <td>non renseigné</td>\n",
       "      <td>NaN</td>\n",
       "      <td>973</td>\n",
       "      <td>Guyane</td>\n",
       "      <td>Guyane</td>\n",
       "    </tr>\n",
       "    <tr>\n",
       "      <th>93402</th>\n",
       "      <td>93402</td>\n",
       "      <td>93402</td>\n",
       "      <td>202100046842</td>\n",
       "      <td>2021-03-24</td>\n",
       "      <td>2021</td>\n",
       "      <td>mars</td>\n",
       "      <td>mercredi</td>\n",
       "      <td>15:07</td>\n",
       "      <td>973</td>\n",
       "      <td>97309</td>\n",
       "      <td>...</td>\n",
       "      <td>249730045.0</td>\n",
       "      <td>NaN</td>\n",
       "      <td>NaN</td>\n",
       "      <td>NaN</td>\n",
       "      <td>NaN</td>\n",
       "      <td>non renseigné</td>\n",
       "      <td>NaN</td>\n",
       "      <td>973</td>\n",
       "      <td>Guyane</td>\n",
       "      <td>Guyane</td>\n",
       "    </tr>\n",
       "    <tr>\n",
       "      <th>93568</th>\n",
       "      <td>93568</td>\n",
       "      <td>93568</td>\n",
       "      <td>202100049433</td>\n",
       "      <td>2021-02-23</td>\n",
       "      <td>2021</td>\n",
       "      <td>février</td>\n",
       "      <td>mardi</td>\n",
       "      <td>19:45</td>\n",
       "      <td>973</td>\n",
       "      <td>97353</td>\n",
       "      <td>...</td>\n",
       "      <td>249730037.0</td>\n",
       "      <td>97353.0</td>\n",
       "      <td>REGINA</td>\n",
       "      <td>3.940918</td>\n",
       "      <td>-52.519927</td>\n",
       "      <td>Régina</td>\n",
       "      <td>Régina</td>\n",
       "      <td>973</td>\n",
       "      <td>Guyane</td>\n",
       "      <td>Guyane</td>\n",
       "    </tr>\n",
       "    <tr>\n",
       "      <th>93717</th>\n",
       "      <td>93717</td>\n",
       "      <td>93717</td>\n",
       "      <td>202100050831</td>\n",
       "      <td>2021-02-20</td>\n",
       "      <td>2021</td>\n",
       "      <td>février</td>\n",
       "      <td>samedi</td>\n",
       "      <td>21:10</td>\n",
       "      <td>973</td>\n",
       "      <td>97305</td>\n",
       "      <td>...</td>\n",
       "      <td>249730045.0</td>\n",
       "      <td>NaN</td>\n",
       "      <td>NaN</td>\n",
       "      <td>NaN</td>\n",
       "      <td>NaN</td>\n",
       "      <td>non renseigné</td>\n",
       "      <td>NaN</td>\n",
       "      <td>973</td>\n",
       "      <td>Guyane</td>\n",
       "      <td>Guyane</td>\n",
       "    </tr>\n",
       "    <tr>\n",
       "      <th>93977</th>\n",
       "      <td>93977</td>\n",
       "      <td>93977</td>\n",
       "      <td>202100055872</td>\n",
       "      <td>2021-01-08</td>\n",
       "      <td>2021</td>\n",
       "      <td>janvier</td>\n",
       "      <td>vendredi</td>\n",
       "      <td>19:25</td>\n",
       "      <td>973</td>\n",
       "      <td>97309</td>\n",
       "      <td>...</td>\n",
       "      <td>249730045.0</td>\n",
       "      <td>NaN</td>\n",
       "      <td>NaN</td>\n",
       "      <td>NaN</td>\n",
       "      <td>NaN</td>\n",
       "      <td>non renseigné</td>\n",
       "      <td>NaN</td>\n",
       "      <td>973</td>\n",
       "      <td>Guyane</td>\n",
       "      <td>Guyane</td>\n",
       "    </tr>\n",
       "  </tbody>\n",
       "</table>\n",
       "<p>1605 rows × 51 columns</p>\n",
       "</div>"
      ],
      "text/plain": [
       "       Unnamed: 0.1  Unnamed: 0       Num_Acc        date    an     mois  \\\n",
       "27128         27128       27128  200900002247  2009-01-13  2009  janvier   \n",
       "27129         27129       27129  200900002272  2009-01-27  2009  janvier   \n",
       "27130         27130       27130  200900002301  2009-01-03  2009  janvier   \n",
       "27131         27131       27131  200900002301  2009-01-03  2009  janvier   \n",
       "27229         27229       27229  200900003287  2009-01-22  2009  janvier   \n",
       "...             ...         ...           ...         ...   ...      ...   \n",
       "92703         92703       92703  202100037919  2021-05-28  2021      mai   \n",
       "93402         93402       93402  202100046842  2021-03-24  2021     mars   \n",
       "93568         93568       93568  202100049433  2021-02-23  2021  février   \n",
       "93717         93717       93717  202100050831  2021-02-20  2021  février   \n",
       "93977         93977       93977  202100055872  2021-01-08  2021  janvier   \n",
       "\n",
       "           jour   hrmn  dep    com  ...  _infos_commune.code_epci  \\\n",
       "27128     mardi  10:37   68  68066  ...               246800726.0   \n",
       "27129     mardi  14:00   68  68298  ...               246800395.0   \n",
       "27130    samedi  18:15   14  14366  ...               200069532.0   \n",
       "27131    samedi  18:15   14  14366  ...               200069532.0   \n",
       "27229     jeudi  10:15   30  30155  ...               243000643.0   \n",
       "...         ...    ...  ...    ...  ...                       ...   \n",
       "92703  vendredi  19:39  973  97307  ...               249730045.0   \n",
       "93402  mercredi  15:07  973  97309  ...               249730045.0   \n",
       "93568     mardi  19:45  973  97353  ...               249730037.0   \n",
       "93717    samedi  21:10  973  97305  ...               249730045.0   \n",
       "93977  vendredi  19:25  973  97309  ...               249730045.0   \n",
       "\n",
       "       code_postal nom_commune_postal  latitude  longitude    nom_commune  \\\n",
       "27128          NaN                NaN       NaN        NaN  non renseigné   \n",
       "27129          NaN                NaN       NaN        NaN  non renseigné   \n",
       "27130          NaN                NaN       NaN        NaN  non renseigné   \n",
       "27131          NaN                NaN       NaN        NaN  non renseigné   \n",
       "27229          NaN                NaN       NaN        NaN  non renseigné   \n",
       "...            ...                ...       ...        ...            ...   \n",
       "92703          NaN                NaN       NaN        NaN  non renseigné   \n",
       "93402          NaN                NaN       NaN        NaN  non renseigné   \n",
       "93568      97353.0             REGINA  3.940918 -52.519927         Régina   \n",
       "93717          NaN                NaN       NaN        NaN  non renseigné   \n",
       "93977          NaN                NaN       NaN        NaN  non renseigné   \n",
       "\n",
       "      nom_commune_complet num_dep   dep_name  region_name  \n",
       "27128                 NaN      68  Haut-Rhin    Grand Est  \n",
       "27129                 NaN      68  Haut-Rhin    Grand Est  \n",
       "27130                 NaN      14   Calvados    Normandie  \n",
       "27131                 NaN      14   Calvados    Normandie  \n",
       "27229                 NaN      30       Gard    Occitanie  \n",
       "...                   ...     ...        ...          ...  \n",
       "92703                 NaN     973     Guyane       Guyane  \n",
       "93402                 NaN     973     Guyane       Guyane  \n",
       "93568              Régina     973     Guyane       Guyane  \n",
       "93717                 NaN     973     Guyane       Guyane  \n",
       "93977                 NaN     973     Guyane       Guyane  \n",
       "\n",
       "[1605 rows x 51 columns]"
      ]
     },
     "execution_count": 10,
     "metadata": {},
     "output_type": "execute_result"
    }
   ],
   "source": [
    "fig.data[(fig.data['lat'] > [0,10][0]) & (fig.data['lat'] < [0,10][1])]"
   ]
  },
  {
   "cell_type": "code",
   "execution_count": 3,
   "id": "0c24b7d9",
   "metadata": {},
   "outputs": [
    {
     "data": {
      "application/vnd.plotly.v1+json": {
       "config": {
        "plotlyServerURL": "https://plot.ly"
       },
       "data": [
        {
         "customdata": [
          [
           2005,
           "Auvergne-Rhône-Alpes",
           768
          ],
          [
           2006,
           "Auvergne-Rhône-Alpes",
           762
          ],
          [
           2007,
           "Auvergne-Rhône-Alpes",
           610
          ],
          [
           2008,
           "Auvergne-Rhône-Alpes",
           594
          ],
          [
           2009,
           "Auvergne-Rhône-Alpes",
           542
          ],
          [
           2010,
           "Auvergne-Rhône-Alpes",
           521
          ],
          [
           2011,
           "Auvergne-Rhône-Alpes",
           559
          ],
          [
           2012,
           "Auvergne-Rhône-Alpes",
           568
          ],
          [
           2013,
           "Auvergne-Rhône-Alpes",
           551
          ],
          [
           2014,
           "Auvergne-Rhône-Alpes",
           583
          ],
          [
           2015,
           "Auvergne-Rhône-Alpes",
           593
          ],
          [
           2016,
           "Auvergne-Rhône-Alpes",
           568
          ],
          [
           2017,
           "Auvergne-Rhône-Alpes",
           735
          ],
          [
           2018,
           "Auvergne-Rhône-Alpes",
           538
          ],
          [
           2019,
           "Auvergne-Rhône-Alpes",
           339
          ],
          [
           2020,
           "Auvergne-Rhône-Alpes",
           332
          ],
          [
           2021,
           "Auvergne-Rhône-Alpes",
           504
          ]
         ],
         "hovertemplate": "Année : %{customdata[0]}<br>Région : %{customdata[1]}<br>Nombre d'accidents : %{customdata[2]}",
         "legendgroup": "Auvergne-Rhône-Alpes",
         "line": {
          "color": "#636efa",
          "dash": "solid"
         },
         "marker": {
          "symbol": "circle"
         },
         "mode": "markers+lines",
         "name": "Auvergne-Rhône-Alpes",
         "orientation": "v",
         "showlegend": true,
         "type": "scatter",
         "x": [
          2005,
          2006,
          2007,
          2008,
          2009,
          2010,
          2011,
          2012,
          2013,
          2014,
          2015,
          2016,
          2017,
          2018,
          2019,
          2020,
          2021
         ],
         "xaxis": "x",
         "y": [
          768,
          762,
          610,
          594,
          542,
          521,
          559,
          568,
          551,
          583,
          593,
          568,
          735,
          538,
          339,
          332,
          504
         ],
         "yaxis": "y"
        },
        {
         "customdata": [
          [
           2005,
           "Bourgogne-Franche-Comté",
           528
          ],
          [
           2006,
           "Bourgogne-Franche-Comté",
           339
          ],
          [
           2007,
           "Bourgogne-Franche-Comté",
           434
          ],
          [
           2008,
           "Bourgogne-Franche-Comté",
           284
          ],
          [
           2009,
           "Bourgogne-Franche-Comté",
           291
          ],
          [
           2010,
           "Bourgogne-Franche-Comté",
           217
          ],
          [
           2011,
           "Bourgogne-Franche-Comté",
           228
          ],
          [
           2012,
           "Bourgogne-Franche-Comté",
           158
          ],
          [
           2013,
           "Bourgogne-Franche-Comté",
           159
          ],
          [
           2014,
           "Bourgogne-Franche-Comté",
           208
          ],
          [
           2015,
           "Bourgogne-Franche-Comté",
           241
          ],
          [
           2016,
           "Bourgogne-Franche-Comté",
           176
          ],
          [
           2017,
           "Bourgogne-Franche-Comté",
           172
          ],
          [
           2018,
           "Bourgogne-Franche-Comté",
           156
          ],
          [
           2019,
           "Bourgogne-Franche-Comté",
           253
          ],
          [
           2020,
           "Bourgogne-Franche-Comté",
           170
          ],
          [
           2021,
           "Bourgogne-Franche-Comté",
           196
          ]
         ],
         "hovertemplate": "Année : %{customdata[0]}<br>Région : %{customdata[1]}<br>Nombre d'accidents : %{customdata[2]}",
         "legendgroup": "Bourgogne-Franche-Comté",
         "line": {
          "color": "#EF553B",
          "dash": "dot"
         },
         "marker": {
          "symbol": "circle"
         },
         "mode": "markers+lines",
         "name": "Bourgogne-Franche-Comté",
         "orientation": "v",
         "showlegend": true,
         "type": "scatter",
         "x": [
          2005,
          2006,
          2007,
          2008,
          2009,
          2010,
          2011,
          2012,
          2013,
          2014,
          2015,
          2016,
          2017,
          2018,
          2019,
          2020,
          2021
         ],
         "xaxis": "x",
         "y": [
          528,
          339,
          434,
          284,
          291,
          217,
          228,
          158,
          159,
          208,
          241,
          176,
          172,
          156,
          253,
          170,
          196
         ],
         "yaxis": "y"
        },
        {
         "customdata": [
          [
           2005,
           "Bretagne",
           231
          ],
          [
           2006,
           "Bretagne",
           272
          ],
          [
           2007,
           "Bretagne",
           247
          ],
          [
           2008,
           "Bretagne",
           326
          ],
          [
           2009,
           "Bretagne",
           189
          ],
          [
           2010,
           "Bretagne",
           270
          ],
          [
           2011,
           "Bretagne",
           316
          ],
          [
           2012,
           "Bretagne",
           305
          ],
          [
           2013,
           "Bretagne",
           227
          ],
          [
           2014,
           "Bretagne",
           241
          ],
          [
           2015,
           "Bretagne",
           298
          ],
          [
           2016,
           "Bretagne",
           324
          ],
          [
           2017,
           "Bretagne",
           366
          ],
          [
           2018,
           "Bretagne",
           202
          ],
          [
           2019,
           "Bretagne",
           256
          ],
          [
           2020,
           "Bretagne",
           239
          ],
          [
           2021,
           "Bretagne",
           248
          ]
         ],
         "hovertemplate": "Année : %{customdata[0]}<br>Région : %{customdata[1]}<br>Nombre d'accidents : %{customdata[2]}",
         "legendgroup": "Bretagne",
         "line": {
          "color": "#00cc96",
          "dash": "dash"
         },
         "marker": {
          "symbol": "circle"
         },
         "mode": "markers+lines",
         "name": "Bretagne",
         "orientation": "v",
         "showlegend": true,
         "type": "scatter",
         "x": [
          2005,
          2006,
          2007,
          2008,
          2009,
          2010,
          2011,
          2012,
          2013,
          2014,
          2015,
          2016,
          2017,
          2018,
          2019,
          2020,
          2021
         ],
         "xaxis": "x",
         "y": [
          231,
          272,
          247,
          326,
          189,
          270,
          316,
          305,
          227,
          241,
          298,
          324,
          366,
          202,
          256,
          239,
          248
         ],
         "yaxis": "y"
        },
        {
         "customdata": [
          [
           2005,
           "Centre-Val de Loire",
           171
          ],
          [
           2006,
           "Centre-Val de Loire",
           211
          ],
          [
           2007,
           "Centre-Val de Loire",
           196
          ],
          [
           2008,
           "Centre-Val de Loire",
           142
          ],
          [
           2009,
           "Centre-Val de Loire",
           290
          ],
          [
           2010,
           "Centre-Val de Loire",
           216
          ],
          [
           2011,
           "Centre-Val de Loire",
           230
          ],
          [
           2012,
           "Centre-Val de Loire",
           216
          ],
          [
           2013,
           "Centre-Val de Loire",
           267
          ],
          [
           2014,
           "Centre-Val de Loire",
           207
          ],
          [
           2015,
           "Centre-Val de Loire",
           223
          ],
          [
           2016,
           "Centre-Val de Loire",
           185
          ],
          [
           2017,
           "Centre-Val de Loire",
           238
          ],
          [
           2018,
           "Centre-Val de Loire",
           203
          ],
          [
           2019,
           "Centre-Val de Loire",
           143
          ],
          [
           2020,
           "Centre-Val de Loire",
           146
          ],
          [
           2021,
           "Centre-Val de Loire",
           97
          ]
         ],
         "hovertemplate": "Année : %{customdata[0]}<br>Région : %{customdata[1]}<br>Nombre d'accidents : %{customdata[2]}",
         "legendgroup": "Centre-Val de Loire",
         "line": {
          "color": "#ab63fa",
          "dash": "longdash"
         },
         "marker": {
          "symbol": "circle"
         },
         "mode": "markers+lines",
         "name": "Centre-Val de Loire",
         "orientation": "v",
         "showlegend": true,
         "type": "scatter",
         "x": [
          2005,
          2006,
          2007,
          2008,
          2009,
          2010,
          2011,
          2012,
          2013,
          2014,
          2015,
          2016,
          2017,
          2018,
          2019,
          2020,
          2021
         ],
         "xaxis": "x",
         "y": [
          171,
          211,
          196,
          142,
          290,
          216,
          230,
          216,
          267,
          207,
          223,
          185,
          238,
          203,
          143,
          146,
          97
         ],
         "yaxis": "y"
        },
        {
         "customdata": [
          [
           2005,
           "Corse",
           18
          ],
          [
           2006,
           "Corse",
           10
          ],
          [
           2007,
           "Corse",
           17
          ],
          [
           2008,
           "Corse",
           6
          ],
          [
           2009,
           "Corse",
           9
          ],
          [
           2010,
           "Corse",
           5
          ],
          [
           2011,
           "Corse",
           7
          ],
          [
           2012,
           "Corse",
           15
          ],
          [
           2013,
           "Corse",
           11
          ],
          [
           2014,
           "Corse",
           12
          ],
          [
           2015,
           "Corse",
           10
          ],
          [
           2016,
           "Corse",
           17
          ],
          [
           2017,
           "Corse",
           23
          ],
          [
           2018,
           "Corse",
           8
          ],
          [
           2019,
           "Corse",
           11
          ],
          [
           2020,
           "Corse",
           12
          ],
          [
           2021,
           "Corse",
           11
          ]
         ],
         "hovertemplate": "Année : %{customdata[0]}<br>Région : %{customdata[1]}<br>Nombre d'accidents : %{customdata[2]}",
         "legendgroup": "Corse",
         "line": {
          "color": "#FFA15A",
          "dash": "dashdot"
         },
         "marker": {
          "symbol": "circle"
         },
         "mode": "markers+lines",
         "name": "Corse",
         "orientation": "v",
         "showlegend": true,
         "type": "scatter",
         "x": [
          2005,
          2006,
          2007,
          2008,
          2009,
          2010,
          2011,
          2012,
          2013,
          2014,
          2015,
          2016,
          2017,
          2018,
          2019,
          2020,
          2021
         ],
         "xaxis": "x",
         "y": [
          18,
          10,
          17,
          6,
          9,
          5,
          7,
          15,
          11,
          12,
          10,
          17,
          23,
          8,
          11,
          12,
          11
         ],
         "yaxis": "y"
        },
        {
         "customdata": [
          [
           2005,
           "Grand Est",
           664
          ],
          [
           2006,
           "Grand Est",
           636
          ],
          [
           2007,
           "Grand Est",
           603
          ],
          [
           2008,
           "Grand Est",
           688
          ],
          [
           2009,
           "Grand Est",
           600
          ],
          [
           2010,
           "Grand Est",
           506
          ],
          [
           2011,
           "Grand Est",
           501
          ],
          [
           2012,
           "Grand Est",
           422
          ],
          [
           2013,
           "Grand Est",
           450
          ],
          [
           2014,
           "Grand Est",
           492
          ],
          [
           2015,
           "Grand Est",
           578
          ],
          [
           2016,
           "Grand Est",
           571
          ],
          [
           2017,
           "Grand Est",
           575
          ],
          [
           2018,
           "Grand Est",
           374
          ],
          [
           2019,
           "Grand Est",
           353
          ],
          [
           2020,
           "Grand Est",
           232
          ],
          [
           2021,
           "Grand Est",
           343
          ]
         ],
         "hovertemplate": "Année : %{customdata[0]}<br>Région : %{customdata[1]}<br>Nombre d'accidents : %{customdata[2]}",
         "legendgroup": "Grand Est",
         "line": {
          "color": "#19d3f3",
          "dash": "longdashdot"
         },
         "marker": {
          "symbol": "circle"
         },
         "mode": "markers+lines",
         "name": "Grand Est",
         "orientation": "v",
         "showlegend": true,
         "type": "scatter",
         "x": [
          2005,
          2006,
          2007,
          2008,
          2009,
          2010,
          2011,
          2012,
          2013,
          2014,
          2015,
          2016,
          2017,
          2018,
          2019,
          2020,
          2021
         ],
         "xaxis": "x",
         "y": [
          664,
          636,
          603,
          688,
          600,
          506,
          501,
          422,
          450,
          492,
          578,
          571,
          575,
          374,
          353,
          232,
          343
         ],
         "yaxis": "y"
        },
        {
         "customdata": [
          [
           2005,
           "Guadeloupe",
           35
          ],
          [
           2006,
           "Guadeloupe",
           29
          ],
          [
           2007,
           "Guadeloupe",
           32
          ],
          [
           2008,
           "Guadeloupe",
           37
          ],
          [
           2009,
           "Guadeloupe",
           42
          ],
          [
           2010,
           "Guadeloupe",
           37
          ],
          [
           2011,
           "Guadeloupe",
           30
          ],
          [
           2012,
           "Guadeloupe",
           32
          ],
          [
           2013,
           "Guadeloupe",
           24
          ],
          [
           2014,
           "Guadeloupe",
           19
          ],
          [
           2015,
           "Guadeloupe",
           33
          ],
          [
           2016,
           "Guadeloupe",
           20
          ],
          [
           2017,
           "Guadeloupe",
           18
          ],
          [
           2018,
           "Guadeloupe",
           23
          ],
          [
           2019,
           "Guadeloupe",
           19
          ],
          [
           2020,
           "Guadeloupe",
           19
          ],
          [
           2021,
           "Guadeloupe",
           12
          ]
         ],
         "hovertemplate": "Année : %{customdata[0]}<br>Région : %{customdata[1]}<br>Nombre d'accidents : %{customdata[2]}",
         "legendgroup": "Guadeloupe",
         "line": {
          "color": "#FF6692",
          "dash": "solid"
         },
         "marker": {
          "symbol": "circle"
         },
         "mode": "markers+lines",
         "name": "Guadeloupe",
         "orientation": "v",
         "showlegend": true,
         "type": "scatter",
         "x": [
          2005,
          2006,
          2007,
          2008,
          2009,
          2010,
          2011,
          2012,
          2013,
          2014,
          2015,
          2016,
          2017,
          2018,
          2019,
          2020,
          2021
         ],
         "xaxis": "x",
         "y": [
          35,
          29,
          32,
          37,
          42,
          37,
          30,
          32,
          24,
          19,
          33,
          20,
          18,
          23,
          19,
          19,
          12
         ],
         "yaxis": "y"
        },
        {
         "customdata": [
          [
           2005,
           "Guyane",
           65
          ],
          [
           2006,
           "Guyane",
           75
          ],
          [
           2007,
           "Guyane",
           84
          ],
          [
           2008,
           "Guyane",
           61
          ],
          [
           2009,
           "Guyane",
           65
          ],
          [
           2010,
           "Guyane",
           38
          ],
          [
           2011,
           "Guyane",
           34
          ],
          [
           2012,
           "Guyane",
           52
          ],
          [
           2013,
           "Guyane",
           31
          ],
          [
           2014,
           "Guyane",
           35
          ],
          [
           2015,
           "Guyane",
           52
          ],
          [
           2016,
           "Guyane",
           69
          ],
          [
           2017,
           "Guyane",
           54
          ],
          [
           2018,
           "Guyane",
           27
          ],
          [
           2019,
           "Guyane",
           32
          ],
          [
           2020,
           "Guyane",
           17
          ],
          [
           2021,
           "Guyane",
           14
          ]
         ],
         "hovertemplate": "Année : %{customdata[0]}<br>Région : %{customdata[1]}<br>Nombre d'accidents : %{customdata[2]}",
         "legendgroup": "Guyane",
         "line": {
          "color": "#B6E880",
          "dash": "dot"
         },
         "marker": {
          "symbol": "circle"
         },
         "mode": "markers+lines",
         "name": "Guyane",
         "orientation": "v",
         "showlegend": true,
         "type": "scatter",
         "x": [
          2005,
          2006,
          2007,
          2008,
          2009,
          2010,
          2011,
          2012,
          2013,
          2014,
          2015,
          2016,
          2017,
          2018,
          2019,
          2020,
          2021
         ],
         "xaxis": "x",
         "y": [
          65,
          75,
          84,
          61,
          65,
          38,
          34,
          52,
          31,
          35,
          52,
          69,
          54,
          27,
          32,
          17,
          14
         ],
         "yaxis": "y"
        },
        {
         "customdata": [
          [
           2005,
           "Hauts-de-France",
           605
          ],
          [
           2006,
           "Hauts-de-France",
           577
          ],
          [
           2007,
           "Hauts-de-France",
           556
          ],
          [
           2008,
           "Hauts-de-France",
           462
          ],
          [
           2009,
           "Hauts-de-France",
           445
          ],
          [
           2010,
           "Hauts-de-France",
           413
          ],
          [
           2011,
           "Hauts-de-France",
           502
          ],
          [
           2012,
           "Hauts-de-France",
           449
          ],
          [
           2013,
           "Hauts-de-France",
           418
          ],
          [
           2014,
           "Hauts-de-France",
           316
          ],
          [
           2015,
           "Hauts-de-France",
           370
          ],
          [
           2016,
           "Hauts-de-France",
           306
          ],
          [
           2017,
           "Hauts-de-France",
           245
          ],
          [
           2018,
           "Hauts-de-France",
           135
          ],
          [
           2019,
           "Hauts-de-France",
           232
          ],
          [
           2020,
           "Hauts-de-France",
           221
          ],
          [
           2021,
           "Hauts-de-France",
           145
          ]
         ],
         "hovertemplate": "Année : %{customdata[0]}<br>Région : %{customdata[1]}<br>Nombre d'accidents : %{customdata[2]}",
         "legendgroup": "Hauts-de-France",
         "line": {
          "color": "#FF97FF",
          "dash": "dash"
         },
         "marker": {
          "symbol": "circle"
         },
         "mode": "markers+lines",
         "name": "Hauts-de-France",
         "orientation": "v",
         "showlegend": true,
         "type": "scatter",
         "x": [
          2005,
          2006,
          2007,
          2008,
          2009,
          2010,
          2011,
          2012,
          2013,
          2014,
          2015,
          2016,
          2017,
          2018,
          2019,
          2020,
          2021
         ],
         "xaxis": "x",
         "y": [
          605,
          577,
          556,
          462,
          445,
          413,
          502,
          449,
          418,
          316,
          370,
          306,
          245,
          135,
          232,
          221,
          145
         ],
         "yaxis": "y"
        },
        {
         "customdata": [
          [
           2005,
           "La Réunion",
           82
          ],
          [
           2006,
           "La Réunion",
           90
          ],
          [
           2007,
           "La Réunion",
           94
          ],
          [
           2008,
           "La Réunion",
           83
          ],
          [
           2009,
           "La Réunion",
           87
          ],
          [
           2010,
           "La Réunion",
           77
          ],
          [
           2011,
           "La Réunion",
           107
          ],
          [
           2012,
           "La Réunion",
           105
          ],
          [
           2013,
           "La Réunion",
           77
          ],
          [
           2014,
           "La Réunion",
           79
          ],
          [
           2015,
           "La Réunion",
           69
          ],
          [
           2016,
           "La Réunion",
           47
          ],
          [
           2017,
           "La Réunion",
           49
          ],
          [
           2018,
           "La Réunion",
           52
          ],
          [
           2019,
           "La Réunion",
           45
          ],
          [
           2020,
           "La Réunion",
           31
          ],
          [
           2021,
           "La Réunion",
           34
          ]
         ],
         "hovertemplate": "Année : %{customdata[0]}<br>Région : %{customdata[1]}<br>Nombre d'accidents : %{customdata[2]}",
         "legendgroup": "La Réunion",
         "line": {
          "color": "#FECB52",
          "dash": "longdash"
         },
         "marker": {
          "symbol": "circle"
         },
         "mode": "markers+lines",
         "name": "La Réunion",
         "orientation": "v",
         "showlegend": true,
         "type": "scatter",
         "x": [
          2005,
          2006,
          2007,
          2008,
          2009,
          2010,
          2011,
          2012,
          2013,
          2014,
          2015,
          2016,
          2017,
          2018,
          2019,
          2020,
          2021
         ],
         "xaxis": "x",
         "y": [
          82,
          90,
          94,
          83,
          87,
          77,
          107,
          105,
          77,
          79,
          69,
          47,
          49,
          52,
          45,
          31,
          34
         ],
         "yaxis": "y"
        },
        {
         "customdata": [
          [
           2005,
           "Martinique",
           30
          ],
          [
           2006,
           "Martinique",
           27
          ],
          [
           2007,
           "Martinique",
           39
          ],
          [
           2008,
           "Martinique",
           25
          ],
          [
           2009,
           "Martinique",
           29
          ],
          [
           2010,
           "Martinique",
           7
          ],
          [
           2011,
           "Martinique",
           18
          ],
          [
           2012,
           "Martinique",
           15
          ],
          [
           2013,
           "Martinique",
           6
          ],
          [
           2014,
           "Martinique",
           11
          ],
          [
           2015,
           "Martinique",
           23
          ],
          [
           2016,
           "Martinique",
           25
          ],
          [
           2017,
           "Martinique",
           17
          ],
          [
           2018,
           "Martinique",
           10
          ],
          [
           2019,
           "Martinique",
           5
          ],
          [
           2020,
           "Martinique",
           8
          ],
          [
           2021,
           "Martinique",
           6
          ]
         ],
         "hovertemplate": "Année : %{customdata[0]}<br>Région : %{customdata[1]}<br>Nombre d'accidents : %{customdata[2]}",
         "legendgroup": "Martinique",
         "line": {
          "color": "#636efa",
          "dash": "dashdot"
         },
         "marker": {
          "symbol": "circle"
         },
         "mode": "markers+lines",
         "name": "Martinique",
         "orientation": "v",
         "showlegend": true,
         "type": "scatter",
         "x": [
          2005,
          2006,
          2007,
          2008,
          2009,
          2010,
          2011,
          2012,
          2013,
          2014,
          2015,
          2016,
          2017,
          2018,
          2019,
          2020,
          2021
         ],
         "xaxis": "x",
         "y": [
          30,
          27,
          39,
          25,
          29,
          7,
          18,
          15,
          6,
          11,
          23,
          25,
          17,
          10,
          5,
          8,
          6
         ],
         "yaxis": "y"
        },
        {
         "customdata": [
          [
           2005,
           "Normandie",
           452
          ],
          [
           2006,
           "Normandie",
           475
          ],
          [
           2007,
           "Normandie",
           310
          ],
          [
           2008,
           "Normandie",
           330
          ],
          [
           2009,
           "Normandie",
           408
          ],
          [
           2010,
           "Normandie",
           376
          ],
          [
           2011,
           "Normandie",
           233
          ],
          [
           2012,
           "Normandie",
           262
          ],
          [
           2013,
           "Normandie",
           322
          ],
          [
           2014,
           "Normandie",
           441
          ],
          [
           2015,
           "Normandie",
           316
          ],
          [
           2016,
           "Normandie",
           456
          ],
          [
           2017,
           "Normandie",
           403
          ],
          [
           2018,
           "Normandie",
           108
          ],
          [
           2019,
           "Normandie",
           255
          ],
          [
           2020,
           "Normandie",
           152
          ],
          [
           2021,
           "Normandie",
           234
          ]
         ],
         "hovertemplate": "Année : %{customdata[0]}<br>Région : %{customdata[1]}<br>Nombre d'accidents : %{customdata[2]}",
         "legendgroup": "Normandie",
         "line": {
          "color": "#EF553B",
          "dash": "longdashdot"
         },
         "marker": {
          "symbol": "circle"
         },
         "mode": "markers+lines",
         "name": "Normandie",
         "orientation": "v",
         "showlegend": true,
         "type": "scatter",
         "x": [
          2005,
          2006,
          2007,
          2008,
          2009,
          2010,
          2011,
          2012,
          2013,
          2014,
          2015,
          2016,
          2017,
          2018,
          2019,
          2020,
          2021
         ],
         "xaxis": "x",
         "y": [
          452,
          475,
          310,
          330,
          408,
          376,
          233,
          262,
          322,
          441,
          316,
          456,
          403,
          108,
          255,
          152,
          234
         ],
         "yaxis": "y"
        },
        {
         "customdata": [
          [
           2005,
           "Nouvelle-Aquitaine",
           718
          ],
          [
           2006,
           "Nouvelle-Aquitaine",
           674
          ],
          [
           2007,
           "Nouvelle-Aquitaine",
           755
          ],
          [
           2008,
           "Nouvelle-Aquitaine",
           765
          ],
          [
           2009,
           "Nouvelle-Aquitaine",
           641
          ],
          [
           2010,
           "Nouvelle-Aquitaine",
           655
          ],
          [
           2011,
           "Nouvelle-Aquitaine",
           657
          ],
          [
           2012,
           "Nouvelle-Aquitaine",
           633
          ],
          [
           2013,
           "Nouvelle-Aquitaine",
           581
          ],
          [
           2014,
           "Nouvelle-Aquitaine",
           572
          ],
          [
           2015,
           "Nouvelle-Aquitaine",
           679
          ],
          [
           2016,
           "Nouvelle-Aquitaine",
           657
          ],
          [
           2017,
           "Nouvelle-Aquitaine",
           734
          ],
          [
           2018,
           "Nouvelle-Aquitaine",
           407
          ],
          [
           2019,
           "Nouvelle-Aquitaine",
           383
          ],
          [
           2020,
           "Nouvelle-Aquitaine",
           141
          ],
          [
           2021,
           "Nouvelle-Aquitaine",
           280
          ]
         ],
         "hovertemplate": "Année : %{customdata[0]}<br>Région : %{customdata[1]}<br>Nombre d'accidents : %{customdata[2]}",
         "legendgroup": "Nouvelle-Aquitaine",
         "line": {
          "color": "#00cc96",
          "dash": "solid"
         },
         "marker": {
          "symbol": "circle"
         },
         "mode": "markers+lines",
         "name": "Nouvelle-Aquitaine",
         "orientation": "v",
         "showlegend": true,
         "type": "scatter",
         "x": [
          2005,
          2006,
          2007,
          2008,
          2009,
          2010,
          2011,
          2012,
          2013,
          2014,
          2015,
          2016,
          2017,
          2018,
          2019,
          2020,
          2021
         ],
         "xaxis": "x",
         "y": [
          718,
          674,
          755,
          765,
          641,
          655,
          657,
          633,
          581,
          572,
          679,
          657,
          734,
          407,
          383,
          141,
          280
         ],
         "yaxis": "y"
        },
        {
         "customdata": [
          [
           2005,
           "Occitanie",
           426
          ],
          [
           2006,
           "Occitanie",
           712
          ],
          [
           2007,
           "Occitanie",
           483
          ],
          [
           2008,
           "Occitanie",
           433
          ],
          [
           2009,
           "Occitanie",
           434
          ],
          [
           2010,
           "Occitanie",
           400
          ],
          [
           2011,
           "Occitanie",
           443
          ],
          [
           2012,
           "Occitanie",
           389
          ],
          [
           2013,
           "Occitanie",
           358
          ],
          [
           2014,
           "Occitanie",
           451
          ],
          [
           2015,
           "Occitanie",
           311
          ],
          [
           2016,
           "Occitanie",
           358
          ],
          [
           2017,
           "Occitanie",
           347
          ],
          [
           2018,
           "Occitanie",
           291
          ],
          [
           2019,
           "Occitanie",
           278
          ],
          [
           2020,
           "Occitanie",
           216
          ],
          [
           2021,
           "Occitanie",
           299
          ]
         ],
         "hovertemplate": "Année : %{customdata[0]}<br>Région : %{customdata[1]}<br>Nombre d'accidents : %{customdata[2]}",
         "legendgroup": "Occitanie",
         "line": {
          "color": "#ab63fa",
          "dash": "dot"
         },
         "marker": {
          "symbol": "circle"
         },
         "mode": "markers+lines",
         "name": "Occitanie",
         "orientation": "v",
         "showlegend": true,
         "type": "scatter",
         "x": [
          2005,
          2006,
          2007,
          2008,
          2009,
          2010,
          2011,
          2012,
          2013,
          2014,
          2015,
          2016,
          2017,
          2018,
          2019,
          2020,
          2021
         ],
         "xaxis": "x",
         "y": [
          426,
          712,
          483,
          433,
          434,
          400,
          443,
          389,
          358,
          451,
          311,
          358,
          347,
          291,
          278,
          216,
          299
         ],
         "yaxis": "y"
        },
        {
         "customdata": [
          [
           2005,
           "Pays de la Loire",
           352
          ],
          [
           2006,
           "Pays de la Loire",
           356
          ],
          [
           2007,
           "Pays de la Loire",
           381
          ],
          [
           2008,
           "Pays de la Loire",
           330
          ],
          [
           2009,
           "Pays de la Loire",
           298
          ],
          [
           2010,
           "Pays de la Loire",
           323
          ],
          [
           2011,
           "Pays de la Loire",
           406
          ],
          [
           2012,
           "Pays de la Loire",
           243
          ],
          [
           2013,
           "Pays de la Loire",
           266
          ],
          [
           2014,
           "Pays de la Loire",
           284
          ],
          [
           2015,
           "Pays de la Loire",
           277
          ],
          [
           2016,
           "Pays de la Loire",
           322
          ],
          [
           2017,
           "Pays de la Loire",
           345
          ],
          [
           2018,
           "Pays de la Loire",
           186
          ],
          [
           2019,
           "Pays de la Loire",
           181
          ],
          [
           2020,
           "Pays de la Loire",
           105
          ],
          [
           2021,
           "Pays de la Loire",
           125
          ]
         ],
         "hovertemplate": "Année : %{customdata[0]}<br>Région : %{customdata[1]}<br>Nombre d'accidents : %{customdata[2]}",
         "legendgroup": "Pays de la Loire",
         "line": {
          "color": "#FFA15A",
          "dash": "dash"
         },
         "marker": {
          "symbol": "circle"
         },
         "mode": "markers+lines",
         "name": "Pays de la Loire",
         "orientation": "v",
         "showlegend": true,
         "type": "scatter",
         "x": [
          2005,
          2006,
          2007,
          2008,
          2009,
          2010,
          2011,
          2012,
          2013,
          2014,
          2015,
          2016,
          2017,
          2018,
          2019,
          2020,
          2021
         ],
         "xaxis": "x",
         "y": [
          352,
          356,
          381,
          330,
          298,
          323,
          406,
          243,
          266,
          284,
          277,
          322,
          345,
          186,
          181,
          105,
          125
         ],
         "yaxis": "y"
        },
        {
         "customdata": [
          [
           2005,
           "Provence-Alpes-Côte d'Azur",
           439
          ],
          [
           2006,
           "Provence-Alpes-Côte d'Azur",
           392
          ],
          [
           2007,
           "Provence-Alpes-Côte d'Azur",
           376
          ],
          [
           2008,
           "Provence-Alpes-Côte d'Azur",
           329
          ],
          [
           2009,
           "Provence-Alpes-Côte d'Azur",
           297
          ],
          [
           2010,
           "Provence-Alpes-Côte d'Azur",
           308
          ],
          [
           2011,
           "Provence-Alpes-Côte d'Azur",
           285
          ],
          [
           2012,
           "Provence-Alpes-Côte d'Azur",
           246
          ],
          [
           2013,
           "Provence-Alpes-Côte d'Azur",
           296
          ],
          [
           2014,
           "Provence-Alpes-Côte d'Azur",
           287
          ],
          [
           2015,
           "Provence-Alpes-Côte d'Azur",
           293
          ],
          [
           2016,
           "Provence-Alpes-Côte d'Azur",
           286
          ],
          [
           2017,
           "Provence-Alpes-Côte d'Azur",
           288
          ],
          [
           2018,
           "Provence-Alpes-Côte d'Azur",
           148
          ],
          [
           2019,
           "Provence-Alpes-Côte d'Azur",
           87
          ],
          [
           2020,
           "Provence-Alpes-Côte d'Azur",
           128
          ],
          [
           2021,
           "Provence-Alpes-Côte d'Azur",
           182
          ]
         ],
         "hovertemplate": "Année : %{customdata[0]}<br>Région : %{customdata[1]}<br>Nombre d'accidents : %{customdata[2]}",
         "legendgroup": "Provence-Alpes-Côte d'Azur",
         "line": {
          "color": "#19d3f3",
          "dash": "longdash"
         },
         "marker": {
          "symbol": "circle"
         },
         "mode": "markers+lines",
         "name": "Provence-Alpes-Côte d'Azur",
         "orientation": "v",
         "showlegend": true,
         "type": "scatter",
         "x": [
          2005,
          2006,
          2007,
          2008,
          2009,
          2010,
          2011,
          2012,
          2013,
          2014,
          2015,
          2016,
          2017,
          2018,
          2019,
          2020,
          2021
         ],
         "xaxis": "x",
         "y": [
          439,
          392,
          376,
          329,
          297,
          308,
          285,
          246,
          296,
          287,
          293,
          286,
          288,
          148,
          87,
          128,
          182
         ],
         "yaxis": "y"
        },
        {
         "customdata": [
          [
           2005,
           "Île-de-France",
           1188
          ],
          [
           2006,
           "Île-de-France",
           1367
          ],
          [
           2007,
           "Île-de-France",
           1654
          ],
          [
           2008,
           "Île-de-France",
           1462
          ],
          [
           2009,
           "Île-de-France",
           1465
          ],
          [
           2010,
           "Île-de-France",
           1296
          ],
          [
           2011,
           "Île-de-France",
           1423
          ],
          [
           2012,
           "Île-de-France",
           1328
          ],
          [
           2013,
           "Île-de-France",
           1380
          ],
          [
           2014,
           "Île-de-France",
           1529
          ],
          [
           2015,
           "Île-de-France",
           1418
          ],
          [
           2016,
           "Île-de-France",
           1445
          ],
          [
           2017,
           "Île-de-France",
           1386
          ],
          [
           2018,
           "Île-de-France",
           697
          ],
          [
           2019,
           "Île-de-France",
           980
          ],
          [
           2020,
           "Île-de-France",
           1186
          ],
          [
           2021,
           "Île-de-France",
           1159
          ]
         ],
         "hovertemplate": "Année : %{customdata[0]}<br>Région : %{customdata[1]}<br>Nombre d'accidents : %{customdata[2]}",
         "legendgroup": "Île-de-France",
         "line": {
          "color": "#FF6692",
          "dash": "dashdot"
         },
         "marker": {
          "symbol": "circle"
         },
         "mode": "markers+lines",
         "name": "Île-de-France",
         "orientation": "v",
         "showlegend": true,
         "type": "scatter",
         "x": [
          2005,
          2006,
          2007,
          2008,
          2009,
          2010,
          2011,
          2012,
          2013,
          2014,
          2015,
          2016,
          2017,
          2018,
          2019,
          2020,
          2021
         ],
         "xaxis": "x",
         "y": [
          1188,
          1367,
          1654,
          1462,
          1465,
          1296,
          1423,
          1328,
          1380,
          1529,
          1418,
          1445,
          1386,
          697,
          980,
          1186,
          1159
         ],
         "yaxis": "y"
        },
        {
         "customdata": [
          [
           2012,
           "Mayotte",
           3
          ],
          [
           2014,
           "Mayotte",
           2
          ],
          [
           2015,
           "Mayotte",
           10
          ],
          [
           2016,
           "Mayotte",
           16
          ],
          [
           2017,
           "Mayotte",
           7
          ],
          [
           2018,
           "Mayotte",
           7
          ],
          [
           2019,
           "Mayotte",
           1
          ],
          [
           2020,
           "Mayotte",
           5
          ],
          [
           2021,
           "Mayotte",
           1
          ]
         ],
         "hovertemplate": "Année : %{customdata[0]}<br>Région : %{customdata[1]}<br>Nombre d'accidents : %{customdata[2]}",
         "legendgroup": "Mayotte",
         "line": {
          "color": "#B6E880",
          "dash": "longdashdot"
         },
         "marker": {
          "symbol": "circle"
         },
         "mode": "markers+lines",
         "name": "Mayotte",
         "orientation": "v",
         "showlegend": true,
         "type": "scatter",
         "x": [
          2012,
          2014,
          2015,
          2016,
          2017,
          2018,
          2019,
          2020,
          2021
         ],
         "xaxis": "x",
         "y": [
          3,
          2,
          10,
          16,
          7,
          7,
          1,
          5,
          1
         ],
         "yaxis": "y"
        }
       ],
       "layout": {
        "height": 500,
        "legend": {
         "title": {
          "text": "region_name"
         },
         "tracegroupgap": 0
        },
        "margin": {
         "b": 0,
         "l": 0,
         "r": 0,
         "t": 30
        },
        "template": {
         "data": {
          "bar": [
           {
            "error_x": {
             "color": "#2a3f5f"
            },
            "error_y": {
             "color": "#2a3f5f"
            },
            "marker": {
             "line": {
              "color": "#E5ECF6",
              "width": 0.5
             },
             "pattern": {
              "fillmode": "overlay",
              "size": 10,
              "solidity": 0.2
             }
            },
            "type": "bar"
           }
          ],
          "barpolar": [
           {
            "marker": {
             "line": {
              "color": "#E5ECF6",
              "width": 0.5
             },
             "pattern": {
              "fillmode": "overlay",
              "size": 10,
              "solidity": 0.2
             }
            },
            "type": "barpolar"
           }
          ],
          "carpet": [
           {
            "aaxis": {
             "endlinecolor": "#2a3f5f",
             "gridcolor": "white",
             "linecolor": "white",
             "minorgridcolor": "white",
             "startlinecolor": "#2a3f5f"
            },
            "baxis": {
             "endlinecolor": "#2a3f5f",
             "gridcolor": "white",
             "linecolor": "white",
             "minorgridcolor": "white",
             "startlinecolor": "#2a3f5f"
            },
            "type": "carpet"
           }
          ],
          "choropleth": [
           {
            "colorbar": {
             "outlinewidth": 0,
             "ticks": ""
            },
            "type": "choropleth"
           }
          ],
          "contour": [
           {
            "colorbar": {
             "outlinewidth": 0,
             "ticks": ""
            },
            "colorscale": [
             [
              0,
              "#0d0887"
             ],
             [
              0.1111111111111111,
              "#46039f"
             ],
             [
              0.2222222222222222,
              "#7201a8"
             ],
             [
              0.3333333333333333,
              "#9c179e"
             ],
             [
              0.4444444444444444,
              "#bd3786"
             ],
             [
              0.5555555555555556,
              "#d8576b"
             ],
             [
              0.6666666666666666,
              "#ed7953"
             ],
             [
              0.7777777777777778,
              "#fb9f3a"
             ],
             [
              0.8888888888888888,
              "#fdca26"
             ],
             [
              1,
              "#f0f921"
             ]
            ],
            "type": "contour"
           }
          ],
          "contourcarpet": [
           {
            "colorbar": {
             "outlinewidth": 0,
             "ticks": ""
            },
            "type": "contourcarpet"
           }
          ],
          "heatmap": [
           {
            "colorbar": {
             "outlinewidth": 0,
             "ticks": ""
            },
            "colorscale": [
             [
              0,
              "#0d0887"
             ],
             [
              0.1111111111111111,
              "#46039f"
             ],
             [
              0.2222222222222222,
              "#7201a8"
             ],
             [
              0.3333333333333333,
              "#9c179e"
             ],
             [
              0.4444444444444444,
              "#bd3786"
             ],
             [
              0.5555555555555556,
              "#d8576b"
             ],
             [
              0.6666666666666666,
              "#ed7953"
             ],
             [
              0.7777777777777778,
              "#fb9f3a"
             ],
             [
              0.8888888888888888,
              "#fdca26"
             ],
             [
              1,
              "#f0f921"
             ]
            ],
            "type": "heatmap"
           }
          ],
          "heatmapgl": [
           {
            "colorbar": {
             "outlinewidth": 0,
             "ticks": ""
            },
            "colorscale": [
             [
              0,
              "#0d0887"
             ],
             [
              0.1111111111111111,
              "#46039f"
             ],
             [
              0.2222222222222222,
              "#7201a8"
             ],
             [
              0.3333333333333333,
              "#9c179e"
             ],
             [
              0.4444444444444444,
              "#bd3786"
             ],
             [
              0.5555555555555556,
              "#d8576b"
             ],
             [
              0.6666666666666666,
              "#ed7953"
             ],
             [
              0.7777777777777778,
              "#fb9f3a"
             ],
             [
              0.8888888888888888,
              "#fdca26"
             ],
             [
              1,
              "#f0f921"
             ]
            ],
            "type": "heatmapgl"
           }
          ],
          "histogram": [
           {
            "marker": {
             "pattern": {
              "fillmode": "overlay",
              "size": 10,
              "solidity": 0.2
             }
            },
            "type": "histogram"
           }
          ],
          "histogram2d": [
           {
            "colorbar": {
             "outlinewidth": 0,
             "ticks": ""
            },
            "colorscale": [
             [
              0,
              "#0d0887"
             ],
             [
              0.1111111111111111,
              "#46039f"
             ],
             [
              0.2222222222222222,
              "#7201a8"
             ],
             [
              0.3333333333333333,
              "#9c179e"
             ],
             [
              0.4444444444444444,
              "#bd3786"
             ],
             [
              0.5555555555555556,
              "#d8576b"
             ],
             [
              0.6666666666666666,
              "#ed7953"
             ],
             [
              0.7777777777777778,
              "#fb9f3a"
             ],
             [
              0.8888888888888888,
              "#fdca26"
             ],
             [
              1,
              "#f0f921"
             ]
            ],
            "type": "histogram2d"
           }
          ],
          "histogram2dcontour": [
           {
            "colorbar": {
             "outlinewidth": 0,
             "ticks": ""
            },
            "colorscale": [
             [
              0,
              "#0d0887"
             ],
             [
              0.1111111111111111,
              "#46039f"
             ],
             [
              0.2222222222222222,
              "#7201a8"
             ],
             [
              0.3333333333333333,
              "#9c179e"
             ],
             [
              0.4444444444444444,
              "#bd3786"
             ],
             [
              0.5555555555555556,
              "#d8576b"
             ],
             [
              0.6666666666666666,
              "#ed7953"
             ],
             [
              0.7777777777777778,
              "#fb9f3a"
             ],
             [
              0.8888888888888888,
              "#fdca26"
             ],
             [
              1,
              "#f0f921"
             ]
            ],
            "type": "histogram2dcontour"
           }
          ],
          "mesh3d": [
           {
            "colorbar": {
             "outlinewidth": 0,
             "ticks": ""
            },
            "type": "mesh3d"
           }
          ],
          "parcoords": [
           {
            "line": {
             "colorbar": {
              "outlinewidth": 0,
              "ticks": ""
             }
            },
            "type": "parcoords"
           }
          ],
          "pie": [
           {
            "automargin": true,
            "type": "pie"
           }
          ],
          "scatter": [
           {
            "fillpattern": {
             "fillmode": "overlay",
             "size": 10,
             "solidity": 0.2
            },
            "type": "scatter"
           }
          ],
          "scatter3d": [
           {
            "line": {
             "colorbar": {
              "outlinewidth": 0,
              "ticks": ""
             }
            },
            "marker": {
             "colorbar": {
              "outlinewidth": 0,
              "ticks": ""
             }
            },
            "type": "scatter3d"
           }
          ],
          "scattercarpet": [
           {
            "marker": {
             "colorbar": {
              "outlinewidth": 0,
              "ticks": ""
             }
            },
            "type": "scattercarpet"
           }
          ],
          "scattergeo": [
           {
            "marker": {
             "colorbar": {
              "outlinewidth": 0,
              "ticks": ""
             }
            },
            "type": "scattergeo"
           }
          ],
          "scattergl": [
           {
            "marker": {
             "colorbar": {
              "outlinewidth": 0,
              "ticks": ""
             }
            },
            "type": "scattergl"
           }
          ],
          "scattermapbox": [
           {
            "marker": {
             "colorbar": {
              "outlinewidth": 0,
              "ticks": ""
             }
            },
            "type": "scattermapbox"
           }
          ],
          "scatterpolar": [
           {
            "marker": {
             "colorbar": {
              "outlinewidth": 0,
              "ticks": ""
             }
            },
            "type": "scatterpolar"
           }
          ],
          "scatterpolargl": [
           {
            "marker": {
             "colorbar": {
              "outlinewidth": 0,
              "ticks": ""
             }
            },
            "type": "scatterpolargl"
           }
          ],
          "scatterternary": [
           {
            "marker": {
             "colorbar": {
              "outlinewidth": 0,
              "ticks": ""
             }
            },
            "type": "scatterternary"
           }
          ],
          "surface": [
           {
            "colorbar": {
             "outlinewidth": 0,
             "ticks": ""
            },
            "colorscale": [
             [
              0,
              "#0d0887"
             ],
             [
              0.1111111111111111,
              "#46039f"
             ],
             [
              0.2222222222222222,
              "#7201a8"
             ],
             [
              0.3333333333333333,
              "#9c179e"
             ],
             [
              0.4444444444444444,
              "#bd3786"
             ],
             [
              0.5555555555555556,
              "#d8576b"
             ],
             [
              0.6666666666666666,
              "#ed7953"
             ],
             [
              0.7777777777777778,
              "#fb9f3a"
             ],
             [
              0.8888888888888888,
              "#fdca26"
             ],
             [
              1,
              "#f0f921"
             ]
            ],
            "type": "surface"
           }
          ],
          "table": [
           {
            "cells": {
             "fill": {
              "color": "#EBF0F8"
             },
             "line": {
              "color": "white"
             }
            },
            "header": {
             "fill": {
              "color": "#C8D4E3"
             },
             "line": {
              "color": "white"
             }
            },
            "type": "table"
           }
          ]
         },
         "layout": {
          "annotationdefaults": {
           "arrowcolor": "#2a3f5f",
           "arrowhead": 0,
           "arrowwidth": 1
          },
          "autotypenumbers": "strict",
          "coloraxis": {
           "colorbar": {
            "outlinewidth": 0,
            "ticks": ""
           }
          },
          "colorscale": {
           "diverging": [
            [
             0,
             "#8e0152"
            ],
            [
             0.1,
             "#c51b7d"
            ],
            [
             0.2,
             "#de77ae"
            ],
            [
             0.3,
             "#f1b6da"
            ],
            [
             0.4,
             "#fde0ef"
            ],
            [
             0.5,
             "#f7f7f7"
            ],
            [
             0.6,
             "#e6f5d0"
            ],
            [
             0.7,
             "#b8e186"
            ],
            [
             0.8,
             "#7fbc41"
            ],
            [
             0.9,
             "#4d9221"
            ],
            [
             1,
             "#276419"
            ]
           ],
           "sequential": [
            [
             0,
             "#0d0887"
            ],
            [
             0.1111111111111111,
             "#46039f"
            ],
            [
             0.2222222222222222,
             "#7201a8"
            ],
            [
             0.3333333333333333,
             "#9c179e"
            ],
            [
             0.4444444444444444,
             "#bd3786"
            ],
            [
             0.5555555555555556,
             "#d8576b"
            ],
            [
             0.6666666666666666,
             "#ed7953"
            ],
            [
             0.7777777777777778,
             "#fb9f3a"
            ],
            [
             0.8888888888888888,
             "#fdca26"
            ],
            [
             1,
             "#f0f921"
            ]
           ],
           "sequentialminus": [
            [
             0,
             "#0d0887"
            ],
            [
             0.1111111111111111,
             "#46039f"
            ],
            [
             0.2222222222222222,
             "#7201a8"
            ],
            [
             0.3333333333333333,
             "#9c179e"
            ],
            [
             0.4444444444444444,
             "#bd3786"
            ],
            [
             0.5555555555555556,
             "#d8576b"
            ],
            [
             0.6666666666666666,
             "#ed7953"
            ],
            [
             0.7777777777777778,
             "#fb9f3a"
            ],
            [
             0.8888888888888888,
             "#fdca26"
            ],
            [
             1,
             "#f0f921"
            ]
           ]
          },
          "colorway": [
           "#636efa",
           "#EF553B",
           "#00cc96",
           "#ab63fa",
           "#FFA15A",
           "#19d3f3",
           "#FF6692",
           "#B6E880",
           "#FF97FF",
           "#FECB52"
          ],
          "font": {
           "color": "#2a3f5f"
          },
          "geo": {
           "bgcolor": "white",
           "lakecolor": "white",
           "landcolor": "#E5ECF6",
           "showlakes": true,
           "showland": true,
           "subunitcolor": "white"
          },
          "hoverlabel": {
           "align": "left"
          },
          "hovermode": "closest",
          "mapbox": {
           "style": "light"
          },
          "paper_bgcolor": "white",
          "plot_bgcolor": "#E5ECF6",
          "polar": {
           "angularaxis": {
            "gridcolor": "white",
            "linecolor": "white",
            "ticks": ""
           },
           "bgcolor": "#E5ECF6",
           "radialaxis": {
            "gridcolor": "white",
            "linecolor": "white",
            "ticks": ""
           }
          },
          "scene": {
           "xaxis": {
            "backgroundcolor": "#E5ECF6",
            "gridcolor": "white",
            "gridwidth": 2,
            "linecolor": "white",
            "showbackground": true,
            "ticks": "",
            "zerolinecolor": "white"
           },
           "yaxis": {
            "backgroundcolor": "#E5ECF6",
            "gridcolor": "white",
            "gridwidth": 2,
            "linecolor": "white",
            "showbackground": true,
            "ticks": "",
            "zerolinecolor": "white"
           },
           "zaxis": {
            "backgroundcolor": "#E5ECF6",
            "gridcolor": "white",
            "gridwidth": 2,
            "linecolor": "white",
            "showbackground": true,
            "ticks": "",
            "zerolinecolor": "white"
           }
          },
          "shapedefaults": {
           "line": {
            "color": "#2a3f5f"
           }
          },
          "ternary": {
           "aaxis": {
            "gridcolor": "white",
            "linecolor": "white",
            "ticks": ""
           },
           "baxis": {
            "gridcolor": "white",
            "linecolor": "white",
            "ticks": ""
           },
           "bgcolor": "#E5ECF6",
           "caxis": {
            "gridcolor": "white",
            "linecolor": "white",
            "ticks": ""
           }
          },
          "title": {
           "x": 0.05
          },
          "xaxis": {
           "automargin": true,
           "gridcolor": "white",
           "linecolor": "white",
           "ticks": "",
           "title": {
            "standoff": 15
           },
           "zerolinecolor": "white",
           "zerolinewidth": 2
          },
          "yaxis": {
           "automargin": true,
           "gridcolor": "white",
           "linecolor": "white",
           "ticks": "",
           "title": {
            "standoff": 15
           },
           "zerolinecolor": "white",
           "zerolinewidth": 2
          }
         }
        },
        "title": {
         "font": {
          "color": "black",
          "family": "Arial, sans-serif",
          "size": 20
         },
         "text": "<b>Évolution du nombre d'accidents de vélos</b>",
         "x": 0.4,
         "xanchor": "center",
         "y": 0.98,
         "yanchor": "top"
        },
        "width": 800,
        "xaxis": {
         "anchor": "y",
         "domain": [
          0,
          1
         ],
         "title": {
          "text": "Année"
         }
        },
        "yaxis": {
         "anchor": "x",
         "domain": [
          0,
          1
         ],
         "title": {
          "text": "Nombre d'accidents"
         }
        }
       }
      }
     },
     "metadata": {},
     "output_type": "display_data"
    }
   ],
   "source": [
    "fig.fig_seri_reg(fig.data, [200, 800], [2010, 2015])"
   ]
  },
  {
   "cell_type": "code",
   "execution_count": 6,
   "id": "e69714ff",
   "metadata": {},
   "outputs": [],
   "source": [
    "legend_groups = set()\n",
    "for trace in fig.fig_seri_reg(fig.data)['data']:\n",
    "    legend_groups.add(trace['legendgroup'])"
   ]
  },
  {
   "cell_type": "code",
   "execution_count": 7,
   "id": "2ab854b8",
   "metadata": {},
   "outputs": [
    {
     "name": "stdout",
     "output_type": "stream",
     "text": [
      "{\"Provence-Alpes-Côte d'Azur\", 'Corse', 'Grand Est', 'Pays de la Loire', 'Île-de-France', 'Guyane', 'Martinique', 'Mayotte', 'Bourgogne-Franche-Comté', 'Nouvelle-Aquitaine', 'Guadeloupe', 'Auvergne-Rhône-Alpes', 'Bretagne', 'La Réunion', 'Normandie', 'Occitanie', 'Centre-Val de Loire', 'Hauts-de-France'}\n"
     ]
    }
   ],
   "source": [
    "print(legend_groups)"
   ]
  },
  {
   "cell_type": "code",
   "execution_count": 2,
   "id": "3619fd53",
   "metadata": {},
   "outputs": [
    {
     "name": "stdout",
     "output_type": "stream",
     "text": [
      "{'Nouvelle-Aquitaine', 'Normandie', 'Mayotte', 'Guyane', 'Auvergne-Rhône-Alpes', \"Provence-Alpes-Côte d'Azur\", 'Occitanie', 'Bretagne', 'La Réunion', 'Corse', 'Guadeloupe', 'Hauts-de-France', 'Île-de-France', 'Bourgogne-Franche-Comté', 'Centre-Val de Loire', 'Pays de la Loire', 'Martinique', 'Grand Est'}\n"
     ]
    }
   ],
   "source": [
    "print(Fun.get_legend_groups(fig.fig_seri_reg(fig.data)))"
   ]
  },
  {
   "cell_type": "code",
   "execution_count": 7,
   "id": "520ff15d",
   "metadata": {},
   "outputs": [],
   "source": [
    "test = Fun.split_fig(fig.fig_seri_reg(fig.data))"
   ]
  },
  {
   "cell_type": "code",
   "execution_count": 9,
   "id": "0a0ebe9f",
   "metadata": {},
   "outputs": [],
   "source": [
    "test[1]"
   ]
  },
  {
   "cell_type": "code",
   "execution_count": 4,
   "id": "f65ce8cf",
   "metadata": {},
   "outputs": [
    {
     "data": {
      "text/plain": [
       "array([2005, 2006, 2007, 2008, 2009, 2010, 2011, 2012, 2013, 2014, 2015,\n",
       "       2016, 2017, 2018, 2019, 2020, 2021], dtype=int64)"
      ]
     },
     "execution_count": 4,
     "metadata": {},
     "output_type": "execute_result"
    }
   ],
   "source": [
    "fig.data['an'].unique()"
   ]
  },
  {
   "cell_type": "code",
   "execution_count": 6,
   "id": "faffc577",
   "metadata": {},
   "outputs": [
    {
     "data": {
      "text/plain": [
       "array(['Moins de 18 ans', 'Entre 18 et 30 ans', 'Entre 30 et 50 ans',\n",
       "       'Plus de 50 ans'], dtype=object)"
      ]
     },
     "execution_count": 6,
     "metadata": {},
     "output_type": "execute_result"
    }
   ],
   "source": [
    "fig.pie_age_grav('Blessé léger', 2005)['data'][0]['labels']"
   ]
  },
  {
   "cell_type": "code",
   "execution_count": 5,
   "id": "76a391d3",
   "metadata": {},
   "outputs": [
    {
     "data": {
      "text/plain": [
       "'Auvergne-Rhône-Alpes'"
      ]
     },
     "execution_count": 5,
     "metadata": {},
     "output_type": "execute_result"
    }
   ],
   "source": [
    "fig.fig_seri_reg(fig.data)['data'][0]['customdata'][0][1]"
   ]
  },
  {
   "cell_type": "code",
   "execution_count": 8,
   "id": "dc29c8a1",
   "metadata": {},
   "outputs": [
    {
     "data": {
      "text/plain": [
       "[]"
      ]
     },
     "execution_count": 8,
     "metadata": {},
     "output_type": "execute_result"
    }
   ],
   "source": [
    "[trace for trace in fig.pie_age_grav('Blessé léger', 2005).select_traces(selector={'visible':'legendonly'})][0]"
   ]
  },
  {
   "cell_type": "code",
   "execution_count": 15,
   "id": "f4f88eff",
   "metadata": {},
   "outputs": [
    {
     "data": {
      "text/plain": [
       "'{\"data\":[{\"labels\":[\"Moins de 18 ans\",\"Entre 18 et 30 ans\",\"Entre 30 et 50 ans\",\"Plus de 50 ans\"],\"marker\":{\"colors\":[\"#add8e6\",\"#87ceeb\",\"#6495ed\",\"#4169e1\"]},\"pull\":[0,0,0,0.2],\"values\":[881,830,1121,876],\"type\":\"pie\",\"hovertemplate\":\"Age de l\\'usager: %{label}\\\\u003cbr\\\\u003eNombre d\\'accidents: %{value}\\\\u003cbr\\\\u003ePourcentage: %{percent}\",\"name\":\"Bless\\\\u00e9 l\\\\u00e9ger\",\"visible\":\"legendonly\"}],\"layout\":{\"template\":{\"data\":{\"histogram2dcontour\":[{\"type\":\"histogram2dcontour\",\"colorbar\":{\"outlinewidth\":0,\"ticks\":\"\"},\"colorscale\":[[0.0,\"#0d0887\"],[0.1111111111111111,\"#46039f\"],[0.2222222222222222,\"#7201a8\"],[0.3333333333333333,\"#9c179e\"],[0.4444444444444444,\"#bd3786\"],[0.5555555555555556,\"#d8576b\"],[0.6666666666666666,\"#ed7953\"],[0.7777777777777778,\"#fb9f3a\"],[0.8888888888888888,\"#fdca26\"],[1.0,\"#f0f921\"]]}],\"choropleth\":[{\"type\":\"choropleth\",\"colorbar\":{\"outlinewidth\":0,\"ticks\":\"\"}}],\"histogram2d\":[{\"type\":\"histogram2d\",\"colorbar\":{\"outlinewidth\":0,\"ticks\":\"\"},\"colorscale\":[[0.0,\"#0d0887\"],[0.1111111111111111,\"#46039f\"],[0.2222222222222222,\"#7201a8\"],[0.3333333333333333,\"#9c179e\"],[0.4444444444444444,\"#bd3786\"],[0.5555555555555556,\"#d8576b\"],[0.6666666666666666,\"#ed7953\"],[0.7777777777777778,\"#fb9f3a\"],[0.8888888888888888,\"#fdca26\"],[1.0,\"#f0f921\"]]}],\"heatmap\":[{\"type\":\"heatmap\",\"colorbar\":{\"outlinewidth\":0,\"ticks\":\"\"},\"colorscale\":[[0.0,\"#0d0887\"],[0.1111111111111111,\"#46039f\"],[0.2222222222222222,\"#7201a8\"],[0.3333333333333333,\"#9c179e\"],[0.4444444444444444,\"#bd3786\"],[0.5555555555555556,\"#d8576b\"],[0.6666666666666666,\"#ed7953\"],[0.7777777777777778,\"#fb9f3a\"],[0.8888888888888888,\"#fdca26\"],[1.0,\"#f0f921\"]]}],\"heatmapgl\":[{\"type\":\"heatmapgl\",\"colorbar\":{\"outlinewidth\":0,\"ticks\":\"\"},\"colorscale\":[[0.0,\"#0d0887\"],[0.1111111111111111,\"#46039f\"],[0.2222222222222222,\"#7201a8\"],[0.3333333333333333,\"#9c179e\"],[0.4444444444444444,\"#bd3786\"],[0.5555555555555556,\"#d8576b\"],[0.6666666666666666,\"#ed7953\"],[0.7777777777777778,\"#fb9f3a\"],[0.8888888888888888,\"#fdca26\"],[1.0,\"#f0f921\"]]}],\"contourcarpet\":[{\"type\":\"contourcarpet\",\"colorbar\":{\"outlinewidth\":0,\"ticks\":\"\"}}],\"contour\":[{\"type\":\"contour\",\"colorbar\":{\"outlinewidth\":0,\"ticks\":\"\"},\"colorscale\":[[0.0,\"#0d0887\"],[0.1111111111111111,\"#46039f\"],[0.2222222222222222,\"#7201a8\"],[0.3333333333333333,\"#9c179e\"],[0.4444444444444444,\"#bd3786\"],[0.5555555555555556,\"#d8576b\"],[0.6666666666666666,\"#ed7953\"],[0.7777777777777778,\"#fb9f3a\"],[0.8888888888888888,\"#fdca26\"],[1.0,\"#f0f921\"]]}],\"surface\":[{\"type\":\"surface\",\"colorbar\":{\"outlinewidth\":0,\"ticks\":\"\"},\"colorscale\":[[0.0,\"#0d0887\"],[0.1111111111111111,\"#46039f\"],[0.2222222222222222,\"#7201a8\"],[0.3333333333333333,\"#9c179e\"],[0.4444444444444444,\"#bd3786\"],[0.5555555555555556,\"#d8576b\"],[0.6666666666666666,\"#ed7953\"],[0.7777777777777778,\"#fb9f3a\"],[0.8888888888888888,\"#fdca26\"],[1.0,\"#f0f921\"]]}],\"mesh3d\":[{\"type\":\"mesh3d\",\"colorbar\":{\"outlinewidth\":0,\"ticks\":\"\"}}],\"scatter\":[{\"fillpattern\":{\"fillmode\":\"overlay\",\"size\":10,\"solidity\":0.2},\"type\":\"scatter\"}],\"parcoords\":[{\"type\":\"parcoords\",\"line\":{\"colorbar\":{\"outlinewidth\":0,\"ticks\":\"\"}}}],\"scatterpolargl\":[{\"type\":\"scatterpolargl\",\"marker\":{\"colorbar\":{\"outlinewidth\":0,\"ticks\":\"\"}}}],\"bar\":[{\"error_x\":{\"color\":\"#2a3f5f\"},\"error_y\":{\"color\":\"#2a3f5f\"},\"marker\":{\"line\":{\"color\":\"#E5ECF6\",\"width\":0.5},\"pattern\":{\"fillmode\":\"overlay\",\"size\":10,\"solidity\":0.2}},\"type\":\"bar\"}],\"scattergeo\":[{\"type\":\"scattergeo\",\"marker\":{\"colorbar\":{\"outlinewidth\":0,\"ticks\":\"\"}}}],\"scatterpolar\":[{\"type\":\"scatterpolar\",\"marker\":{\"colorbar\":{\"outlinewidth\":0,\"ticks\":\"\"}}}],\"histogram\":[{\"marker\":{\"pattern\":{\"fillmode\":\"overlay\",\"size\":10,\"solidity\":0.2}},\"type\":\"histogram\"}],\"scattergl\":[{\"type\":\"scattergl\",\"marker\":{\"colorbar\":{\"outlinewidth\":0,\"ticks\":\"\"}}}],\"scatter3d\":[{\"type\":\"scatter3d\",\"line\":{\"colorbar\":{\"outlinewidth\":0,\"ticks\":\"\"}},\"marker\":{\"colorbar\":{\"outlinewidth\":0,\"ticks\":\"\"}}}],\"scattermapbox\":[{\"type\":\"scattermapbox\",\"marker\":{\"colorbar\":{\"outlinewidth\":0,\"ticks\":\"\"}}}],\"scatterternary\":[{\"type\":\"scatterternary\",\"marker\":{\"colorbar\":{\"outlinewidth\":0,\"ticks\":\"\"}}}],\"scattercarpet\":[{\"type\":\"scattercarpet\",\"marker\":{\"colorbar\":{\"outlinewidth\":0,\"ticks\":\"\"}}}],\"carpet\":[{\"aaxis\":{\"endlinecolor\":\"#2a3f5f\",\"gridcolor\":\"white\",\"linecolor\":\"white\",\"minorgridcolor\":\"white\",\"startlinecolor\":\"#2a3f5f\"},\"baxis\":{\"endlinecolor\":\"#2a3f5f\",\"gridcolor\":\"white\",\"linecolor\":\"white\",\"minorgridcolor\":\"white\",\"startlinecolor\":\"#2a3f5f\"},\"type\":\"carpet\"}],\"table\":[{\"cells\":{\"fill\":{\"color\":\"#EBF0F8\"},\"line\":{\"color\":\"white\"}},\"header\":{\"fill\":{\"color\":\"#C8D4E3\"},\"line\":{\"color\":\"white\"}},\"type\":\"table\"}],\"barpolar\":[{\"marker\":{\"line\":{\"color\":\"#E5ECF6\",\"width\":0.5},\"pattern\":{\"fillmode\":\"overlay\",\"size\":10,\"solidity\":0.2}},\"type\":\"barpolar\"}],\"pie\":[{\"automargin\":true,\"type\":\"pie\"}]},\"layout\":{\"autotypenumbers\":\"strict\",\"colorway\":[\"#636efa\",\"#EF553B\",\"#00cc96\",\"#ab63fa\",\"#FFA15A\",\"#19d3f3\",\"#FF6692\",\"#B6E880\",\"#FF97FF\",\"#FECB52\"],\"font\":{\"color\":\"#2a3f5f\"},\"hovermode\":\"closest\",\"hoverlabel\":{\"align\":\"left\"},\"paper_bgcolor\":\"white\",\"plot_bgcolor\":\"#E5ECF6\",\"polar\":{\"bgcolor\":\"#E5ECF6\",\"angularaxis\":{\"gridcolor\":\"white\",\"linecolor\":\"white\",\"ticks\":\"\"},\"radialaxis\":{\"gridcolor\":\"white\",\"linecolor\":\"white\",\"ticks\":\"\"}},\"ternary\":{\"bgcolor\":\"#E5ECF6\",\"aaxis\":{\"gridcolor\":\"white\",\"linecolor\":\"white\",\"ticks\":\"\"},\"baxis\":{\"gridcolor\":\"white\",\"linecolor\":\"white\",\"ticks\":\"\"},\"caxis\":{\"gridcolor\":\"white\",\"linecolor\":\"white\",\"ticks\":\"\"}},\"coloraxis\":{\"colorbar\":{\"outlinewidth\":0,\"ticks\":\"\"}},\"colorscale\":{\"sequential\":[[0.0,\"#0d0887\"],[0.1111111111111111,\"#46039f\"],[0.2222222222222222,\"#7201a8\"],[0.3333333333333333,\"#9c179e\"],[0.4444444444444444,\"#bd3786\"],[0.5555555555555556,\"#d8576b\"],[0.6666666666666666,\"#ed7953\"],[0.7777777777777778,\"#fb9f3a\"],[0.8888888888888888,\"#fdca26\"],[1.0,\"#f0f921\"]],\"sequentialminus\":[[0.0,\"#0d0887\"],[0.1111111111111111,\"#46039f\"],[0.2222222222222222,\"#7201a8\"],[0.3333333333333333,\"#9c179e\"],[0.4444444444444444,\"#bd3786\"],[0.5555555555555556,\"#d8576b\"],[0.6666666666666666,\"#ed7953\"],[0.7777777777777778,\"#fb9f3a\"],[0.8888888888888888,\"#fdca26\"],[1.0,\"#f0f921\"]],\"diverging\":[[0,\"#8e0152\"],[0.1,\"#c51b7d\"],[0.2,\"#de77ae\"],[0.3,\"#f1b6da\"],[0.4,\"#fde0ef\"],[0.5,\"#f7f7f7\"],[0.6,\"#e6f5d0\"],[0.7,\"#b8e186\"],[0.8,\"#7fbc41\"],[0.9,\"#4d9221\"],[1,\"#276419\"]]},\"xaxis\":{\"gridcolor\":\"white\",\"linecolor\":\"white\",\"ticks\":\"\",\"title\":{\"standoff\":15},\"zerolinecolor\":\"white\",\"automargin\":true,\"zerolinewidth\":2},\"yaxis\":{\"gridcolor\":\"white\",\"linecolor\":\"white\",\"ticks\":\"\",\"title\":{\"standoff\":15},\"zerolinecolor\":\"white\",\"automargin\":true,\"zerolinewidth\":2},\"scene\":{\"xaxis\":{\"backgroundcolor\":\"#E5ECF6\",\"gridcolor\":\"white\",\"linecolor\":\"white\",\"showbackground\":true,\"ticks\":\"\",\"zerolinecolor\":\"white\",\"gridwidth\":2},\"yaxis\":{\"backgroundcolor\":\"#E5ECF6\",\"gridcolor\":\"white\",\"linecolor\":\"white\",\"showbackground\":true,\"ticks\":\"\",\"zerolinecolor\":\"white\",\"gridwidth\":2},\"zaxis\":{\"backgroundcolor\":\"#E5ECF6\",\"gridcolor\":\"white\",\"linecolor\":\"white\",\"showbackground\":true,\"ticks\":\"\",\"zerolinecolor\":\"white\",\"gridwidth\":2}},\"shapedefaults\":{\"line\":{\"color\":\"#2a3f5f\"}},\"annotationdefaults\":{\"arrowcolor\":\"#2a3f5f\",\"arrowhead\":0,\"arrowwidth\":1},\"geo\":{\"bgcolor\":\"white\",\"landcolor\":\"#E5ECF6\",\"subunitcolor\":\"white\",\"showland\":true,\"showlakes\":true,\"lakecolor\":\"white\"},\"title\":{\"x\":0.05},\"mapbox\":{\"style\":\"light\"}}},\"title\":{\"text\":\"Proportion d\\'accidents cycliste en fonction de l\\'\\\\u00e2ge de l\\'usager\",\"x\":0.5,\"y\":0.98,\"font\":{\"size\":20}},\"legend\":{\"title\":{\"text\":\"Age de l\\'usager:\"}},\"height\":600,\"clickmode\":\"event+select\",\"hovermode\":\"closest\"}}'"
      ]
     },
     "execution_count": 15,
     "metadata": {},
     "output_type": "execute_result"
    }
   ],
   "source": [
    "fig.pie_age_grav('Blessé léger', 2005).to_json()"
   ]
  },
  {
   "cell_type": "code",
   "execution_count": 5,
   "id": "c120274b",
   "metadata": {},
   "outputs": [
    {
     "data": {
      "text/plain": [
       "Scatter({\n",
       "    'customdata': array([[2005, 'Bourgogne-Franche-Comté', 528],\n",
       "                         [2006, 'Bourgogne-Franche-Comté', 339],\n",
       "                         [2007, 'Bourgogne-Franche-Comté', 434],\n",
       "                         [2008, 'Bourgogne-Franche-Comté', 284],\n",
       "                         [2009, 'Bourgogne-Franche-Comté', 291],\n",
       "                         [2010, 'Bourgogne-Franche-Comté', 217],\n",
       "                         [2011, 'Bourgogne-Franche-Comté', 228],\n",
       "                         [2012, 'Bourgogne-Franche-Comté', 158],\n",
       "                         [2013, 'Bourgogne-Franche-Comté', 159],\n",
       "                         [2014, 'Bourgogne-Franche-Comté', 208],\n",
       "                         [2015, 'Bourgogne-Franche-Comté', 241],\n",
       "                         [2016, 'Bourgogne-Franche-Comté', 176],\n",
       "                         [2017, 'Bourgogne-Franche-Comté', 172],\n",
       "                         [2018, 'Bourgogne-Franche-Comté', 156],\n",
       "                         [2019, 'Bourgogne-Franche-Comté', 253],\n",
       "                         [2020, 'Bourgogne-Franche-Comté', 170],\n",
       "                         [2021, 'Bourgogne-Franche-Comté', 196]], dtype=object),\n",
       "    'hovertemplate': ('Année : %{customdata[0]}<br>Ré' ... \"d'accidents : %{customdata[2]}\"),\n",
       "    'legendgroup': 'Bourgogne-Franche-Comté',\n",
       "    'line': {'color': '#EF553B', 'dash': 'dot'},\n",
       "    'marker': {'symbol': 'circle'},\n",
       "    'mode': 'markers+lines',\n",
       "    'name': 'Bourgogne-Franche-Comté',\n",
       "    'orientation': 'v',\n",
       "    'showlegend': True,\n",
       "    'x': array([2005, 2006, 2007, 2008, 2009, 2010, 2011, 2012, 2013, 2014, 2015, 2016,\n",
       "                2017, 2018, 2019, 2020, 2021], dtype=int64),\n",
       "    'xaxis': 'x',\n",
       "    'y': array([528, 339, 434, 284, 291, 217, 228, 158, 159, 208, 241, 176, 172, 156,\n",
       "                253, 170, 196], dtype=int64),\n",
       "    'yaxis': 'y'\n",
       "})"
      ]
     },
     "execution_count": 5,
     "metadata": {},
     "output_type": "execute_result"
    }
   ],
   "source": [
    "fig.fig_seri_reg(fig.data)['data'][1]"
   ]
  },
  {
   "cell_type": "code",
   "execution_count": 5,
   "id": "dd40e4ef",
   "metadata": {},
   "outputs": [
    {
     "data": {
      "text/plain": [
       "array([[2005, 'Auvergne-Rhône-Alpes', 768],\n",
       "       [2006, 'Auvergne-Rhône-Alpes', 762],\n",
       "       [2007, 'Auvergne-Rhône-Alpes', 610],\n",
       "       [2008, 'Auvergne-Rhône-Alpes', 594],\n",
       "       [2009, 'Auvergne-Rhône-Alpes', 542],\n",
       "       [2010, 'Auvergne-Rhône-Alpes', 521],\n",
       "       [2011, 'Auvergne-Rhône-Alpes', 559],\n",
       "       [2012, 'Auvergne-Rhône-Alpes', 568],\n",
       "       [2013, 'Auvergne-Rhône-Alpes', 551],\n",
       "       [2014, 'Auvergne-Rhône-Alpes', 583],\n",
       "       [2015, 'Auvergne-Rhône-Alpes', 593],\n",
       "       [2016, 'Auvergne-Rhône-Alpes', 568],\n",
       "       [2017, 'Auvergne-Rhône-Alpes', 735],\n",
       "       [2018, 'Auvergne-Rhône-Alpes', 538],\n",
       "       [2019, 'Auvergne-Rhône-Alpes', 339],\n",
       "       [2020, 'Auvergne-Rhône-Alpes', 332],\n",
       "       [2021, 'Auvergne-Rhône-Alpes', 504]], dtype=object)"
      ]
     },
     "execution_count": 5,
     "metadata": {},
     "output_type": "execute_result"
    }
   ],
   "source": [
    "fig.fig_seri_reg(fig.data)['data'][0]['customdata']"
   ]
  },
  {
   "cell_type": "code",
   "execution_count": 17,
   "id": "3dd2ef80",
   "metadata": {},
   "outputs": [],
   "source": [
    "test = {\n",
    "  \"xaxis.autorange\": \"true\",\n",
    "  \"xaxis.showspikes\": \"false\",\n",
    "  \"yaxis.autorange\": \"true\",\n",
    "  \"yaxis.showspikes\": \"false\"\n",
    "}"
   ]
  },
  {
   "cell_type": "code",
   "execution_count": 13,
   "id": "edd2dfe2",
   "metadata": {},
   "outputs": [],
   "source": [
    "def relayoutData_transform(relayoutData):\n",
    "    y_range = None\n",
    "    x_range = None\n",
    "        \n",
    "    if 'autosize' in relayoutData:\n",
    "        return None, None\n",
    "        \n",
    "    if 'xaxis.range[0]' in relayoutData or 'xaxis.range[1]' in relayoutData:\n",
    "        x_range = [relayoutData['xaxis.range[0]'], relayoutData['xaxis.range[1]']]\n",
    "\n",
    "    if 'yaxis.range[0]' in relayoutData or 'yaxis.range[1]' in relayoutData:\n",
    "        y_range = [relayoutData['yaxis.range[0]'], relayoutData['yaxis.range[1]']]\n",
    "\n",
    "    if \"xaxis.autorange\" in relayoutData:\n",
    "         x_range = None\n",
    "\n",
    "    if \"yaxis.autorange\" in relayoutData:\n",
    "        y_range = None\n",
    "        \n",
    "    return x_range, y_range"
   ]
  },
  {
   "cell_type": "code",
   "execution_count": 18,
   "id": "26e033ac",
   "metadata": {},
   "outputs": [
    {
     "data": {
      "text/plain": [
       "(None, None)"
      ]
     },
     "execution_count": 18,
     "metadata": {},
     "output_type": "execute_result"
    }
   ],
   "source": [
    "relayoutData_transform(test)"
   ]
  },
  {
   "cell_type": "code",
   "execution_count": 24,
   "id": "684d4a7e",
   "metadata": {},
   "outputs": [
    {
     "data": {
      "text/html": [
       "<div>\n",
       "<style scoped>\n",
       "    .dataframe tbody tr th:only-of-type {\n",
       "        vertical-align: middle;\n",
       "    }\n",
       "\n",
       "    .dataframe tbody tr th {\n",
       "        vertical-align: top;\n",
       "    }\n",
       "\n",
       "    .dataframe thead th {\n",
       "        text-align: right;\n",
       "    }\n",
       "</style>\n",
       "<table border=\"1\" class=\"dataframe\">\n",
       "  <thead>\n",
       "    <tr style=\"text-align: right;\">\n",
       "      <th></th>\n",
       "      <th>Unnamed: 0.1</th>\n",
       "      <th>Unnamed: 0</th>\n",
       "      <th>Num_Acc</th>\n",
       "      <th>date</th>\n",
       "      <th>an</th>\n",
       "      <th>mois</th>\n",
       "      <th>jour</th>\n",
       "      <th>hrmn</th>\n",
       "      <th>dep</th>\n",
       "      <th>com</th>\n",
       "      <th>...</th>\n",
       "      <th>_infos_commune.code_epci</th>\n",
       "      <th>code_postal</th>\n",
       "      <th>nom_commune_postal</th>\n",
       "      <th>latitude</th>\n",
       "      <th>longitude</th>\n",
       "      <th>nom_commune</th>\n",
       "      <th>nom_commune_complet</th>\n",
       "      <th>num_dep</th>\n",
       "      <th>dep_name</th>\n",
       "      <th>region_name</th>\n",
       "    </tr>\n",
       "  </thead>\n",
       "  <tbody>\n",
       "    <tr>\n",
       "      <th>0</th>\n",
       "      <td>0</td>\n",
       "      <td>0</td>\n",
       "      <td>200500000030</td>\n",
       "      <td>2005-01-13</td>\n",
       "      <td>2005</td>\n",
       "      <td>janvier</td>\n",
       "      <td>jeudi</td>\n",
       "      <td>19:45</td>\n",
       "      <td>62</td>\n",
       "      <td>62331</td>\n",
       "      <td>...</td>\n",
       "      <td>200033579.0</td>\n",
       "      <td>NaN</td>\n",
       "      <td>NaN</td>\n",
       "      <td>NaN</td>\n",
       "      <td>NaN</td>\n",
       "      <td>non renseigné</td>\n",
       "      <td>NaN</td>\n",
       "      <td>62</td>\n",
       "      <td>Pas-de-Calais</td>\n",
       "      <td>Hauts-de-France</td>\n",
       "    </tr>\n",
       "    <tr>\n",
       "      <th>3</th>\n",
       "      <td>3</td>\n",
       "      <td>3</td>\n",
       "      <td>200500000093</td>\n",
       "      <td>2005-01-03</td>\n",
       "      <td>2005</td>\n",
       "      <td>janvier</td>\n",
       "      <td>lundi</td>\n",
       "      <td>13:30</td>\n",
       "      <td>02</td>\n",
       "      <td>02810</td>\n",
       "      <td>...</td>\n",
       "      <td>200071991.0</td>\n",
       "      <td>NaN</td>\n",
       "      <td>NaN</td>\n",
       "      <td>NaN</td>\n",
       "      <td>NaN</td>\n",
       "      <td>non renseigné</td>\n",
       "      <td>NaN</td>\n",
       "      <td>02</td>\n",
       "      <td>Aisne</td>\n",
       "      <td>Hauts-de-France</td>\n",
       "    </tr>\n",
       "    <tr>\n",
       "      <th>6</th>\n",
       "      <td>6</td>\n",
       "      <td>6</td>\n",
       "      <td>200500000260</td>\n",
       "      <td>2005-01-04</td>\n",
       "      <td>2005</td>\n",
       "      <td>janvier</td>\n",
       "      <td>mardi</td>\n",
       "      <td>16:45</td>\n",
       "      <td>22</td>\n",
       "      <td>22143</td>\n",
       "      <td>...</td>\n",
       "      <td>200068989.0</td>\n",
       "      <td>NaN</td>\n",
       "      <td>NaN</td>\n",
       "      <td>NaN</td>\n",
       "      <td>NaN</td>\n",
       "      <td>non renseigné</td>\n",
       "      <td>NaN</td>\n",
       "      <td>22</td>\n",
       "      <td>Côtes-d'Armor</td>\n",
       "      <td>Bretagne</td>\n",
       "    </tr>\n",
       "    <tr>\n",
       "      <th>10</th>\n",
       "      <td>10</td>\n",
       "      <td>10</td>\n",
       "      <td>200500000291</td>\n",
       "      <td>2005-01-24</td>\n",
       "      <td>2005</td>\n",
       "      <td>janvier</td>\n",
       "      <td>lundi</td>\n",
       "      <td>17:30</td>\n",
       "      <td>56</td>\n",
       "      <td>56155</td>\n",
       "      <td>...</td>\n",
       "      <td>244400610.0</td>\n",
       "      <td>NaN</td>\n",
       "      <td>NaN</td>\n",
       "      <td>NaN</td>\n",
       "      <td>NaN</td>\n",
       "      <td>non renseigné</td>\n",
       "      <td>NaN</td>\n",
       "      <td>56</td>\n",
       "      <td>Morbihan</td>\n",
       "      <td>Bretagne</td>\n",
       "    </tr>\n",
       "    <tr>\n",
       "      <th>14</th>\n",
       "      <td>14</td>\n",
       "      <td>14</td>\n",
       "      <td>200500000329</td>\n",
       "      <td>2005-01-04</td>\n",
       "      <td>2005</td>\n",
       "      <td>janvier</td>\n",
       "      <td>mardi</td>\n",
       "      <td>19:00</td>\n",
       "      <td>50</td>\n",
       "      <td>50213</td>\n",
       "      <td>...</td>\n",
       "      <td>NaN</td>\n",
       "      <td>NaN</td>\n",
       "      <td>NaN</td>\n",
       "      <td>NaN</td>\n",
       "      <td>NaN</td>\n",
       "      <td>non renseigné</td>\n",
       "      <td>NaN</td>\n",
       "      <td>50</td>\n",
       "      <td>Manche</td>\n",
       "      <td>Normandie</td>\n",
       "    </tr>\n",
       "    <tr>\n",
       "      <th>...</th>\n",
       "      <td>...</td>\n",
       "      <td>...</td>\n",
       "      <td>...</td>\n",
       "      <td>...</td>\n",
       "      <td>...</td>\n",
       "      <td>...</td>\n",
       "      <td>...</td>\n",
       "      <td>...</td>\n",
       "      <td>...</td>\n",
       "      <td>...</td>\n",
       "      <td>...</td>\n",
       "      <td>...</td>\n",
       "      <td>...</td>\n",
       "      <td>...</td>\n",
       "      <td>...</td>\n",
       "      <td>...</td>\n",
       "      <td>...</td>\n",
       "      <td>...</td>\n",
       "      <td>...</td>\n",
       "      <td>...</td>\n",
       "      <td>...</td>\n",
       "    </tr>\n",
       "    <tr>\n",
       "      <th>94044</th>\n",
       "      <td>94044</td>\n",
       "      <td>94044</td>\n",
       "      <td>202100056508</td>\n",
       "      <td>2021-01-01</td>\n",
       "      <td>2021</td>\n",
       "      <td>janvier</td>\n",
       "      <td>vendredi</td>\n",
       "      <td>12:20</td>\n",
       "      <td>64</td>\n",
       "      <td>64400</td>\n",
       "      <td>...</td>\n",
       "      <td>246401756.0</td>\n",
       "      <td>64400.0</td>\n",
       "      <td>POEY D OLORON</td>\n",
       "      <td>43.246755</td>\n",
       "      <td>-0.663214</td>\n",
       "      <td>Poey-d'Oloron</td>\n",
       "      <td>Poey-d'Oloron</td>\n",
       "      <td>64</td>\n",
       "      <td>Pyrénées-Atlantiques</td>\n",
       "      <td>Nouvelle-Aquitaine</td>\n",
       "    </tr>\n",
       "    <tr>\n",
       "      <th>94045</th>\n",
       "      <td>94045</td>\n",
       "      <td>94045</td>\n",
       "      <td>202100056508</td>\n",
       "      <td>2021-01-01</td>\n",
       "      <td>2021</td>\n",
       "      <td>janvier</td>\n",
       "      <td>vendredi</td>\n",
       "      <td>12:20</td>\n",
       "      <td>64</td>\n",
       "      <td>64400</td>\n",
       "      <td>...</td>\n",
       "      <td>246401756.0</td>\n",
       "      <td>64400.0</td>\n",
       "      <td>PRECILHON</td>\n",
       "      <td>43.195778</td>\n",
       "      <td>-0.572974</td>\n",
       "      <td>Précilhon</td>\n",
       "      <td>Précilhon</td>\n",
       "      <td>64</td>\n",
       "      <td>Pyrénées-Atlantiques</td>\n",
       "      <td>Nouvelle-Aquitaine</td>\n",
       "    </tr>\n",
       "    <tr>\n",
       "      <th>94046</th>\n",
       "      <td>94046</td>\n",
       "      <td>94046</td>\n",
       "      <td>202100056508</td>\n",
       "      <td>2021-01-01</td>\n",
       "      <td>2021</td>\n",
       "      <td>janvier</td>\n",
       "      <td>vendredi</td>\n",
       "      <td>12:20</td>\n",
       "      <td>64</td>\n",
       "      <td>64400</td>\n",
       "      <td>...</td>\n",
       "      <td>246401756.0</td>\n",
       "      <td>64400.0</td>\n",
       "      <td>ST GOIN</td>\n",
       "      <td>43.231201</td>\n",
       "      <td>-0.725099</td>\n",
       "      <td>Saint-Goin</td>\n",
       "      <td>Saint-Goin</td>\n",
       "      <td>64</td>\n",
       "      <td>Pyrénées-Atlantiques</td>\n",
       "      <td>Nouvelle-Aquitaine</td>\n",
       "    </tr>\n",
       "    <tr>\n",
       "      <th>94047</th>\n",
       "      <td>94047</td>\n",
       "      <td>94047</td>\n",
       "      <td>202100056508</td>\n",
       "      <td>2021-01-01</td>\n",
       "      <td>2021</td>\n",
       "      <td>janvier</td>\n",
       "      <td>vendredi</td>\n",
       "      <td>12:20</td>\n",
       "      <td>64</td>\n",
       "      <td>64400</td>\n",
       "      <td>...</td>\n",
       "      <td>246401756.0</td>\n",
       "      <td>64400.0</td>\n",
       "      <td>SAUCEDE</td>\n",
       "      <td>43.265674</td>\n",
       "      <td>-0.669442</td>\n",
       "      <td>Saucède</td>\n",
       "      <td>Saucède</td>\n",
       "      <td>64</td>\n",
       "      <td>Pyrénées-Atlantiques</td>\n",
       "      <td>Nouvelle-Aquitaine</td>\n",
       "    </tr>\n",
       "    <tr>\n",
       "      <th>94048</th>\n",
       "      <td>94048</td>\n",
       "      <td>94048</td>\n",
       "      <td>202100056508</td>\n",
       "      <td>2021-01-01</td>\n",
       "      <td>2021</td>\n",
       "      <td>janvier</td>\n",
       "      <td>vendredi</td>\n",
       "      <td>12:20</td>\n",
       "      <td>64</td>\n",
       "      <td>64400</td>\n",
       "      <td>...</td>\n",
       "      <td>246401756.0</td>\n",
       "      <td>64400.0</td>\n",
       "      <td>VERDETS</td>\n",
       "      <td>43.232186</td>\n",
       "      <td>-0.642308</td>\n",
       "      <td>Verdets</td>\n",
       "      <td>Verdets</td>\n",
       "      <td>64</td>\n",
       "      <td>Pyrénées-Atlantiques</td>\n",
       "      <td>Nouvelle-Aquitaine</td>\n",
       "    </tr>\n",
       "  </tbody>\n",
       "</table>\n",
       "<p>42787 rows × 51 columns</p>\n",
       "</div>"
      ],
      "text/plain": [
       "       Unnamed: 0.1  Unnamed: 0       Num_Acc        date    an     mois  \\\n",
       "0                 0           0  200500000030  2005-01-13  2005  janvier   \n",
       "3                 3           3  200500000093  2005-01-03  2005  janvier   \n",
       "6                 6           6  200500000260  2005-01-04  2005  janvier   \n",
       "10               10          10  200500000291  2005-01-24  2005  janvier   \n",
       "14               14          14  200500000329  2005-01-04  2005  janvier   \n",
       "...             ...         ...           ...         ...   ...      ...   \n",
       "94044         94044       94044  202100056508  2021-01-01  2021  janvier   \n",
       "94045         94045       94045  202100056508  2021-01-01  2021  janvier   \n",
       "94046         94046       94046  202100056508  2021-01-01  2021  janvier   \n",
       "94047         94047       94047  202100056508  2021-01-01  2021  janvier   \n",
       "94048         94048       94048  202100056508  2021-01-01  2021  janvier   \n",
       "\n",
       "           jour   hrmn dep    com  ...  _infos_commune.code_epci  code_postal  \\\n",
       "0         jeudi  19:45  62  62331  ...               200033579.0          NaN   \n",
       "3         lundi  13:30  02  02810  ...               200071991.0          NaN   \n",
       "6         mardi  16:45  22  22143  ...               200068989.0          NaN   \n",
       "10        lundi  17:30  56  56155  ...               244400610.0          NaN   \n",
       "14        mardi  19:00  50  50213  ...                       NaN          NaN   \n",
       "...         ...    ...  ..    ...  ...                       ...          ...   \n",
       "94044  vendredi  12:20  64  64400  ...               246401756.0      64400.0   \n",
       "94045  vendredi  12:20  64  64400  ...               246401756.0      64400.0   \n",
       "94046  vendredi  12:20  64  64400  ...               246401756.0      64400.0   \n",
       "94047  vendredi  12:20  64  64400  ...               246401756.0      64400.0   \n",
       "94048  vendredi  12:20  64  64400  ...               246401756.0      64400.0   \n",
       "\n",
       "      nom_commune_postal   latitude longitude    nom_commune  \\\n",
       "0                    NaN        NaN       NaN  non renseigné   \n",
       "3                    NaN        NaN       NaN  non renseigné   \n",
       "6                    NaN        NaN       NaN  non renseigné   \n",
       "10                   NaN        NaN       NaN  non renseigné   \n",
       "14                   NaN        NaN       NaN  non renseigné   \n",
       "...                  ...        ...       ...            ...   \n",
       "94044      POEY D OLORON  43.246755 -0.663214  Poey-d'Oloron   \n",
       "94045          PRECILHON  43.195778 -0.572974      Précilhon   \n",
       "94046            ST GOIN  43.231201 -0.725099     Saint-Goin   \n",
       "94047            SAUCEDE  43.265674 -0.669442        Saucède   \n",
       "94048            VERDETS  43.232186 -0.642308        Verdets   \n",
       "\n",
       "      nom_commune_complet num_dep              dep_name         region_name  \n",
       "0                     NaN      62         Pas-de-Calais     Hauts-de-France  \n",
       "3                     NaN      02                 Aisne     Hauts-de-France  \n",
       "6                     NaN      22         Côtes-d'Armor            Bretagne  \n",
       "10                    NaN      56              Morbihan            Bretagne  \n",
       "14                    NaN      50                Manche           Normandie  \n",
       "...                   ...     ...                   ...                 ...  \n",
       "94044       Poey-d'Oloron      64  Pyrénées-Atlantiques  Nouvelle-Aquitaine  \n",
       "94045           Précilhon      64  Pyrénées-Atlantiques  Nouvelle-Aquitaine  \n",
       "94046          Saint-Goin      64  Pyrénées-Atlantiques  Nouvelle-Aquitaine  \n",
       "94047             Saucède      64  Pyrénées-Atlantiques  Nouvelle-Aquitaine  \n",
       "94048             Verdets      64  Pyrénées-Atlantiques  Nouvelle-Aquitaine  \n",
       "\n",
       "[42787 rows x 51 columns]"
      ]
     },
     "execution_count": 24,
     "metadata": {},
     "output_type": "execute_result"
    }
   ],
   "source": [
    "fig.data[(fig.data['lat'] < -20) | (fig.data['lat'] > 0)]"
   ]
  },
  {
   "cell_type": "code",
   "execution_count": 19,
   "id": "66934846",
   "metadata": {},
   "outputs": [
    {
     "data": {
      "text/plain": [
       "array(['Unnamed: 0.1', 'Unnamed: 0', 'Num_Acc', 'date', 'an', 'mois',\n",
       "       'jour', 'hrmn', 'dep', 'com', 'lat', 'long', 'agg', 'int', 'col',\n",
       "       'lum', 'atm', 'catr', 'circ', 'nbv', 'prof', 'plan', 'lartpc',\n",
       "       'larrout', 'surf', 'infra', 'situ', 'grav', 'sexe', 'age',\n",
       "       'trajet', 'secuexist', 'equipement', 'obs', 'obsm', 'choc', 'manv',\n",
       "       'vehiculeid', 'typevehicules', 'manoeuvehicules', 'numVehicules',\n",
       "       '_infos_commune.code_epci', 'code_postal', 'nom_commune_postal',\n",
       "       'latitude', 'longitude', 'nom_commune', 'nom_commune_complet',\n",
       "       'num_dep', 'dep_name', 'region_name'], dtype=object)"
      ]
     },
     "execution_count": 19,
     "metadata": {},
     "output_type": "execute_result"
    }
   ],
   "source": [
    "fig.data.columns.values"
   ]
  },
  {
   "cell_type": "markdown",
   "id": "ff4bc996",
   "metadata": {},
   "source": [
    "## Temp storage\n",
    "### Number bar children"
   ]
  },
  {
   "cell_type": "code",
   "execution_count": null,
   "id": "055d015f",
   "metadata": {},
   "outputs": [],
   "source": [
    "dbc.Row(\n",
    "                        [\n",
    "                            dbc.Col(fig.nb_total, width=3),\n",
    "                            dbc.Col(fig.nb_mort, width=3),\n",
    "                            dbc.Col(fig.nb_hospital, width=3),\n",
    "                            dbc.Col(\"Info 4\", width=3),\n",
    "                        ],\n",
    "                    ),"
   ]
  },
  {
   "cell_type": "code",
   "execution_count": 6,
   "id": "2243ce35",
   "metadata": {},
   "outputs": [
    {
     "data": {
      "text/html": [
       "<div>\n",
       "<style scoped>\n",
       "    .dataframe tbody tr th:only-of-type {\n",
       "        vertical-align: middle;\n",
       "    }\n",
       "\n",
       "    .dataframe tbody tr th {\n",
       "        vertical-align: top;\n",
       "    }\n",
       "\n",
       "    .dataframe thead th {\n",
       "        text-align: right;\n",
       "    }\n",
       "</style>\n",
       "<table border=\"1\" class=\"dataframe\">\n",
       "  <thead>\n",
       "    <tr style=\"text-align: right;\">\n",
       "      <th></th>\n",
       "      <th>Country Name</th>\n",
       "      <th>Indicator Name</th>\n",
       "      <th>Year</th>\n",
       "      <th>Value</th>\n",
       "    </tr>\n",
       "  </thead>\n",
       "  <tbody>\n",
       "    <tr>\n",
       "      <th>0</th>\n",
       "      <td>Arab World</td>\n",
       "      <td>Agriculture, value added (% of GDP)</td>\n",
       "      <td>1962</td>\n",
       "      <td>NaN</td>\n",
       "    </tr>\n",
       "    <tr>\n",
       "      <th>1</th>\n",
       "      <td>Arab World</td>\n",
       "      <td>CO2 emissions (metric tons per capita)</td>\n",
       "      <td>1962</td>\n",
       "      <td>0.760996</td>\n",
       "    </tr>\n",
       "    <tr>\n",
       "      <th>2</th>\n",
       "      <td>Arab World</td>\n",
       "      <td>Domestic credit provided by financial sector (...</td>\n",
       "      <td>1962</td>\n",
       "      <td>18.168690</td>\n",
       "    </tr>\n",
       "    <tr>\n",
       "      <th>3</th>\n",
       "      <td>Arab World</td>\n",
       "      <td>Electric power consumption (kWh per capita)</td>\n",
       "      <td>1962</td>\n",
       "      <td>NaN</td>\n",
       "    </tr>\n",
       "    <tr>\n",
       "      <th>4</th>\n",
       "      <td>Arab World</td>\n",
       "      <td>Energy use (kg of oil equivalent per capita)</td>\n",
       "      <td>1962</td>\n",
       "      <td>NaN</td>\n",
       "    </tr>\n",
       "    <tr>\n",
       "      <th>...</th>\n",
       "      <td>...</td>\n",
       "      <td>...</td>\n",
       "      <td>...</td>\n",
       "      <td>...</td>\n",
       "    </tr>\n",
       "    <tr>\n",
       "      <th>36955</th>\n",
       "      <td>Zimbabwe</td>\n",
       "      <td>Industry, value added (% of GDP)</td>\n",
       "      <td>2007</td>\n",
       "      <td>33.074953</td>\n",
       "    </tr>\n",
       "    <tr>\n",
       "      <th>36956</th>\n",
       "      <td>Zimbabwe</td>\n",
       "      <td>Inflation, GDP deflator (annual %)</td>\n",
       "      <td>2007</td>\n",
       "      <td>0.894887</td>\n",
       "    </tr>\n",
       "    <tr>\n",
       "      <th>36957</th>\n",
       "      <td>Zimbabwe</td>\n",
       "      <td>Life expectancy at birth, total (years)</td>\n",
       "      <td>2007</td>\n",
       "      <td>44.177756</td>\n",
       "    </tr>\n",
       "    <tr>\n",
       "      <th>36958</th>\n",
       "      <td>Zimbabwe</td>\n",
       "      <td>Population density (people per sq. km of land ...</td>\n",
       "      <td>2007</td>\n",
       "      <td>34.374559</td>\n",
       "    </tr>\n",
       "    <tr>\n",
       "      <th>36959</th>\n",
       "      <td>Zimbabwe</td>\n",
       "      <td>Services, etc., value added (% of GDP)</td>\n",
       "      <td>2007</td>\n",
       "      <td>45.327139</td>\n",
       "    </tr>\n",
       "  </tbody>\n",
       "</table>\n",
       "<p>36960 rows × 4 columns</p>\n",
       "</div>"
      ],
      "text/plain": [
       "      Country Name                                     Indicator Name  Year  \\\n",
       "0       Arab World                Agriculture, value added (% of GDP)  1962   \n",
       "1       Arab World             CO2 emissions (metric tons per capita)  1962   \n",
       "2       Arab World  Domestic credit provided by financial sector (...  1962   \n",
       "3       Arab World        Electric power consumption (kWh per capita)  1962   \n",
       "4       Arab World       Energy use (kg of oil equivalent per capita)  1962   \n",
       "...            ...                                                ...   ...   \n",
       "36955     Zimbabwe                   Industry, value added (% of GDP)  2007   \n",
       "36956     Zimbabwe                 Inflation, GDP deflator (annual %)  2007   \n",
       "36957     Zimbabwe            Life expectancy at birth, total (years)  2007   \n",
       "36958     Zimbabwe  Population density (people per sq. km of land ...  2007   \n",
       "36959     Zimbabwe             Services, etc., value added (% of GDP)  2007   \n",
       "\n",
       "           Value  \n",
       "0            NaN  \n",
       "1       0.760996  \n",
       "2      18.168690  \n",
       "3            NaN  \n",
       "4            NaN  \n",
       "...          ...  \n",
       "36955  33.074953  \n",
       "36956   0.894887  \n",
       "36957  44.177756  \n",
       "36958  34.374559  \n",
       "36959  45.327139  \n",
       "\n",
       "[36960 rows x 4 columns]"
      ]
     },
     "execution_count": 6,
     "metadata": {},
     "output_type": "execute_result"
    }
   ],
   "source": [
    "fig.data[data]"
   ]
  },
  {
   "cell_type": "code",
   "execution_count": 3,
   "id": "d4484ca8",
   "metadata": {},
   "outputs": [
    {
     "data": {
      "text/html": [
       "<div>\n",
       "<style scoped>\n",
       "    .dataframe tbody tr th:only-of-type {\n",
       "        vertical-align: middle;\n",
       "    }\n",
       "\n",
       "    .dataframe tbody tr th {\n",
       "        vertical-align: top;\n",
       "    }\n",
       "\n",
       "    .dataframe thead th {\n",
       "        text-align: right;\n",
       "    }\n",
       "</style>\n",
       "<table border=\"1\" class=\"dataframe\">\n",
       "  <thead>\n",
       "    <tr style=\"text-align: right;\">\n",
       "      <th></th>\n",
       "      <th>Num_Acc</th>\n",
       "      <th>date</th>\n",
       "      <th>an</th>\n",
       "      <th>mois</th>\n",
       "      <th>jour</th>\n",
       "      <th>hrmn</th>\n",
       "      <th>dep</th>\n",
       "      <th>com</th>\n",
       "      <th>lat</th>\n",
       "      <th>long</th>\n",
       "      <th>...</th>\n",
       "      <th>choc</th>\n",
       "      <th>manv</th>\n",
       "      <th>vehiculeid</th>\n",
       "      <th>typevehicules</th>\n",
       "      <th>manoeuvehicules</th>\n",
       "      <th>numVehicules</th>\n",
       "      <th>_infos_commune.code_epci</th>\n",
       "      <th>region_name</th>\n",
       "      <th>age_group</th>\n",
       "      <th>com_name</th>\n",
       "    </tr>\n",
       "  </thead>\n",
       "  <tbody>\n",
       "  </tbody>\n",
       "</table>\n",
       "<p>0 rows × 43 columns</p>\n",
       "</div>"
      ],
      "text/plain": [
       "Empty DataFrame\n",
       "Columns: [Num_Acc, date, an, mois, jour, hrmn, dep, com, lat, long, agg, int, col, lum, atm, catr, circ, nbv, prof, plan, lartpc, larrout, surf, infra, situ, grav, sexe, age, trajet, secuexist, equipement, obs, obsm, choc, manv, vehiculeid, typevehicules, manoeuvehicules, numVehicules, _infos_commune.code_epci, region_name, age_group, com_name]\n",
       "Index: []\n",
       "\n",
       "[0 rows x 43 columns]"
      ]
     },
     "execution_count": 3,
     "metadata": {},
     "output_type": "execute_result"
    }
   ],
   "source": [
    "fig.select_data(fig.data, {'dep':['1']})"
   ]
  },
  {
   "cell_type": "code",
   "execution_count": 4,
   "id": "ce02b2ed",
   "metadata": {},
   "outputs": [
    {
     "data": {
      "text/html": [
       "\n",
       "        <iframe\n",
       "            width=\"100%\"\n",
       "            height=\"650\"\n",
       "            src=\"http://127.0.0.1:8050/\"\n",
       "            frameborder=\"0\"\n",
       "            allowfullscreen\n",
       "            \n",
       "        ></iframe>\n",
       "        "
      ],
      "text/plain": [
       "<IPython.lib.display.IFrame at 0x1a81a22e750>"
      ]
     },
     "metadata": {},
     "output_type": "display_data"
    }
   ],
   "source": [
    "from dash import Dash, dcc, html, Input, Output, callback\n",
    "from plotly.express import data\n",
    "import pandas as pd\n",
    "\n",
    "df =  data.medals_long()\n",
    "\n",
    "all_options = {\n",
    "                'all': [],\n",
    "                'reg': [{'label': '84 Auvergne-Rhône-Alpes','value': 84},\n",
    "                        {'label': '32 Hauts-de-France','value': 32},\n",
    "                        {'label': '93 Provence-Alpes-Côte d\\'Azur','value': 93},\n",
    "                        {'label': '75 Nouvelle-Aquitaine','value': 75},\n",
    "                        {'label': '24 Centre-Val de Loire','value': 24},\n",
    "                        {'label': '27 Bourgogne-Franche-Comté','value': 27},\n",
    "                        {'label': '28 Normandie','value': 28},\n",
    "                        {'label': '53 Bretagne','value': 53},\n",
    "                        {'label': '76 Occitanie','value': 76},\n",
    "                        {'label': '52 Pays de la Loire','value': 52},\n",
    "                        {'label': '44 Grand Est','value': 44},\n",
    "                        {'label': '11 Île-de-France','value': 11},\n",
    "                        {'label': '94 Corse','value': 94}\n",
    "                        ],\n",
    "                'dep': dict((nb, f\"{nb} {nom}\") for nom, nb in zip(fig.data['dep_name'].unique(), fig.data['dep'].unique()))\n",
    "            }\n",
    "\n",
    "app = Dash(__name__)\n",
    "app.layout = html.Div([\n",
    "    dcc.Dropdown(options=all_options['dep'], id='pandas-dropdown-2'),\n",
    "    html.Div(id='pandas-output-container-2',style={'color':'white'})\n",
    "])\n",
    "\n",
    "\n",
    "@callback(\n",
    "    Output('pandas-output-container-2', 'children'),\n",
    "    Input('pandas-dropdown-2', 'value')\n",
    ")\n",
    "def update_output(value):\n",
    "    return f'You have selected {value}'\n",
    "\n",
    "\n",
    "if __name__ == '__main__':\n",
    "    app.run(debug=True)"
   ]
  },
  {
   "cell_type": "code",
   "execution_count": 8,
   "id": "ec00e079",
   "metadata": {},
   "outputs": [
    {
     "name": "stdout",
     "output_type": "stream",
     "text": [
      "01\n"
     ]
    }
   ],
   "source": [
    "code = '1'\n",
    "code = '0' + code\n",
    "print(code)"
   ]
  },
  {
   "cell_type": "code",
   "execution_count": 10,
   "id": "0abb9d7f",
   "metadata": {},
   "outputs": [
    {
     "data": {
      "text/plain": [
       "Graph(figure=Figure({\n",
       "    'data': [{'customdata': array([[2005, 'Auvergne-Rhône-Alpes', 768],\n",
       "                                   [2006, 'Auvergne-Rhône-Alpes', 762],\n",
       "                                   [2007, 'Auvergne-Rhône-Alpes', 610],\n",
       "                                   [2008, 'Auvergne-Rhône-Alpes', 594],\n",
       "                                   [2009, 'Auvergne-Rhône-Alpes', 542],\n",
       "                                   [2010, 'Auvergne-Rhône-Alpes', 521],\n",
       "                                   [2011, 'Auvergne-Rhône-Alpes', 559],\n",
       "                                   [2012, 'Auvergne-Rhône-Alpes', 568],\n",
       "                                   [2013, 'Auvergne-Rhône-Alpes', 551],\n",
       "                                   [2014, 'Auvergne-Rhône-Alpes', 583],\n",
       "                                   [2015, 'Auvergne-Rhône-Alpes', 593],\n",
       "                                   [2016, 'Auvergne-Rhône-Alpes', 568],\n",
       "                                   [2017, 'Auvergne-Rhône-Alpes', 735],\n",
       "                                   [2018, 'Auvergne-Rhône-Alpes', 538],\n",
       "                                   [2019, 'Auvergne-Rhône-Alpes', 339],\n",
       "                                   [2020, 'Auvergne-Rhône-Alpes', 332],\n",
       "                                   [2021, 'Auvergne-Rhône-Alpes', 504]], dtype=object),\n",
       "              'hovertemplate': ('Année : %{customdata[0]}<br>Ré' ... \"d'accidents : %{customdata[2]}\"),\n",
       "              'legendgroup': 'Auvergne-Rhône-Alpes',\n",
       "              'line': {'color': '#636efa', 'dash': 'solid'},\n",
       "              'marker': {'symbol': 'circle'},\n",
       "              'mode': 'lines+markers',\n",
       "              'name': 'Auvergne-Rhône-Alpes',\n",
       "              'orientation': 'v',\n",
       "              'showlegend': True,\n",
       "              'type': 'scatter',\n",
       "              'x': array([2005, 2006, 2007, 2008, 2009, 2010, 2011, 2012, 2013, 2014, 2015, 2016,\n",
       "                          2017, 2018, 2019, 2020, 2021], dtype=int64),\n",
       "              'xaxis': 'x',\n",
       "              'y': array([768, 762, 610, 594, 542, 521, 559, 568, 551, 583, 593, 568, 735, 538,\n",
       "                          339, 332, 504], dtype=int64),\n",
       "              'yaxis': 'y'},\n",
       "             {'customdata': array([[2005, 'Bourgogne-Franche-Comté', 528],\n",
       "                                   [2006, 'Bourgogne-Franche-Comté', 339],\n",
       "                                   [2007, 'Bourgogne-Franche-Comté', 434],\n",
       "                                   [2008, 'Bourgogne-Franche-Comté', 284],\n",
       "                                   [2009, 'Bourgogne-Franche-Comté', 291],\n",
       "                                   [2010, 'Bourgogne-Franche-Comté', 217],\n",
       "                                   [2011, 'Bourgogne-Franche-Comté', 228],\n",
       "                                   [2012, 'Bourgogne-Franche-Comté', 158],\n",
       "                                   [2013, 'Bourgogne-Franche-Comté', 159],\n",
       "                                   [2014, 'Bourgogne-Franche-Comté', 208],\n",
       "                                   [2015, 'Bourgogne-Franche-Comté', 241],\n",
       "                                   [2016, 'Bourgogne-Franche-Comté', 176],\n",
       "                                   [2017, 'Bourgogne-Franche-Comté', 172],\n",
       "                                   [2018, 'Bourgogne-Franche-Comté', 156],\n",
       "                                   [2019, 'Bourgogne-Franche-Comté', 253],\n",
       "                                   [2020, 'Bourgogne-Franche-Comté', 170],\n",
       "                                   [2021, 'Bourgogne-Franche-Comté', 196]], dtype=object),\n",
       "              'hovertemplate': ('Année : %{customdata[0]}<br>Ré' ... \"d'accidents : %{customdata[2]}\"),\n",
       "              'legendgroup': 'Bourgogne-Franche-Comté',\n",
       "              'line': {'color': '#EF553B', 'dash': 'dot'},\n",
       "              'marker': {'symbol': 'circle'},\n",
       "              'mode': 'lines+markers',\n",
       "              'name': 'Bourgogne-Franche-Comté',\n",
       "              'orientation': 'v',\n",
       "              'showlegend': True,\n",
       "              'type': 'scatter',\n",
       "              'x': array([2005, 2006, 2007, 2008, 2009, 2010, 2011, 2012, 2013, 2014, 2015, 2016,\n",
       "                          2017, 2018, 2019, 2020, 2021], dtype=int64),\n",
       "              'xaxis': 'x',\n",
       "              'y': array([528, 339, 434, 284, 291, 217, 228, 158, 159, 208, 241, 176, 172, 156,\n",
       "                          253, 170, 196], dtype=int64),\n",
       "              'yaxis': 'y'},\n",
       "             {'customdata': array([[2005, 'Bretagne', 231],\n",
       "                                   [2006, 'Bretagne', 272],\n",
       "                                   [2007, 'Bretagne', 247],\n",
       "                                   [2008, 'Bretagne', 326],\n",
       "                                   [2009, 'Bretagne', 189],\n",
       "                                   [2010, 'Bretagne', 270],\n",
       "                                   [2011, 'Bretagne', 316],\n",
       "                                   [2012, 'Bretagne', 305],\n",
       "                                   [2013, 'Bretagne', 227],\n",
       "                                   [2014, 'Bretagne', 241],\n",
       "                                   [2015, 'Bretagne', 298],\n",
       "                                   [2016, 'Bretagne', 324],\n",
       "                                   [2017, 'Bretagne', 366],\n",
       "                                   [2018, 'Bretagne', 202],\n",
       "                                   [2019, 'Bretagne', 256],\n",
       "                                   [2020, 'Bretagne', 239],\n",
       "                                   [2021, 'Bretagne', 248]], dtype=object),\n",
       "              'hovertemplate': ('Année : %{customdata[0]}<br>Ré' ... \"d'accidents : %{customdata[2]}\"),\n",
       "              'legendgroup': 'Bretagne',\n",
       "              'line': {'color': '#00cc96', 'dash': 'dash'},\n",
       "              'marker': {'symbol': 'circle'},\n",
       "              'mode': 'lines+markers',\n",
       "              'name': 'Bretagne',\n",
       "              'orientation': 'v',\n",
       "              'showlegend': True,\n",
       "              'type': 'scatter',\n",
       "              'x': array([2005, 2006, 2007, 2008, 2009, 2010, 2011, 2012, 2013, 2014, 2015, 2016,\n",
       "                          2017, 2018, 2019, 2020, 2021], dtype=int64),\n",
       "              'xaxis': 'x',\n",
       "              'y': array([231, 272, 247, 326, 189, 270, 316, 305, 227, 241, 298, 324, 366, 202,\n",
       "                          256, 239, 248], dtype=int64),\n",
       "              'yaxis': 'y'},\n",
       "             {'customdata': array([[2005, 'Centre-Val de Loire', 171],\n",
       "                                   [2006, 'Centre-Val de Loire', 211],\n",
       "                                   [2007, 'Centre-Val de Loire', 196],\n",
       "                                   [2008, 'Centre-Val de Loire', 142],\n",
       "                                   [2009, 'Centre-Val de Loire', 290],\n",
       "                                   [2010, 'Centre-Val de Loire', 216],\n",
       "                                   [2011, 'Centre-Val de Loire', 230],\n",
       "                                   [2012, 'Centre-Val de Loire', 216],\n",
       "                                   [2013, 'Centre-Val de Loire', 267],\n",
       "                                   [2014, 'Centre-Val de Loire', 207],\n",
       "                                   [2015, 'Centre-Val de Loire', 223],\n",
       "                                   [2016, 'Centre-Val de Loire', 185],\n",
       "                                   [2017, 'Centre-Val de Loire', 238],\n",
       "                                   [2018, 'Centre-Val de Loire', 203],\n",
       "                                   [2019, 'Centre-Val de Loire', 143],\n",
       "                                   [2020, 'Centre-Val de Loire', 146],\n",
       "                                   [2021, 'Centre-Val de Loire', 97]], dtype=object),\n",
       "              'hovertemplate': ('Année : %{customdata[0]}<br>Ré' ... \"d'accidents : %{customdata[2]}\"),\n",
       "              'legendgroup': 'Centre-Val de Loire',\n",
       "              'line': {'color': '#ab63fa', 'dash': 'longdash'},\n",
       "              'marker': {'symbol': 'circle'},\n",
       "              'mode': 'lines+markers',\n",
       "              'name': 'Centre-Val de Loire',\n",
       "              'orientation': 'v',\n",
       "              'showlegend': True,\n",
       "              'type': 'scatter',\n",
       "              'x': array([2005, 2006, 2007, 2008, 2009, 2010, 2011, 2012, 2013, 2014, 2015, 2016,\n",
       "                          2017, 2018, 2019, 2020, 2021], dtype=int64),\n",
       "              'xaxis': 'x',\n",
       "              'y': array([171, 211, 196, 142, 290, 216, 230, 216, 267, 207, 223, 185, 238, 203,\n",
       "                          143, 146,  97], dtype=int64),\n",
       "              'yaxis': 'y'},\n",
       "             {'customdata': array([[2005, 'Corse', 18],\n",
       "                                   [2006, 'Corse', 10],\n",
       "                                   [2007, 'Corse', 17],\n",
       "                                   [2008, 'Corse', 6],\n",
       "                                   [2009, 'Corse', 9],\n",
       "                                   [2010, 'Corse', 5],\n",
       "                                   [2011, 'Corse', 7],\n",
       "                                   [2012, 'Corse', 15],\n",
       "                                   [2013, 'Corse', 11],\n",
       "                                   [2014, 'Corse', 12],\n",
       "                                   [2015, 'Corse', 10],\n",
       "                                   [2016, 'Corse', 17],\n",
       "                                   [2017, 'Corse', 23],\n",
       "                                   [2018, 'Corse', 8],\n",
       "                                   [2019, 'Corse', 11],\n",
       "                                   [2020, 'Corse', 12],\n",
       "                                   [2021, 'Corse', 11]], dtype=object),\n",
       "              'hovertemplate': ('Année : %{customdata[0]}<br>Ré' ... \"d'accidents : %{customdata[2]}\"),\n",
       "              'legendgroup': 'Corse',\n",
       "              'line': {'color': '#FFA15A', 'dash': 'dashdot'},\n",
       "              'marker': {'symbol': 'circle'},\n",
       "              'mode': 'lines+markers',\n",
       "              'name': 'Corse',\n",
       "              'orientation': 'v',\n",
       "              'showlegend': True,\n",
       "              'type': 'scatter',\n",
       "              'x': array([2005, 2006, 2007, 2008, 2009, 2010, 2011, 2012, 2013, 2014, 2015, 2016,\n",
       "                          2017, 2018, 2019, 2020, 2021], dtype=int64),\n",
       "              'xaxis': 'x',\n",
       "              'y': array([18, 10, 17,  6,  9,  5,  7, 15, 11, 12, 10, 17, 23,  8, 11, 12, 11],\n",
       "                         dtype=int64),\n",
       "              'yaxis': 'y'},\n",
       "             {'customdata': array([[2005, 'Grand Est', 664],\n",
       "                                   [2006, 'Grand Est', 636],\n",
       "                                   [2007, 'Grand Est', 603],\n",
       "                                   [2008, 'Grand Est', 688],\n",
       "                                   [2009, 'Grand Est', 600],\n",
       "                                   [2010, 'Grand Est', 506],\n",
       "                                   [2011, 'Grand Est', 501],\n",
       "                                   [2012, 'Grand Est', 422],\n",
       "                                   [2013, 'Grand Est', 450],\n",
       "                                   [2014, 'Grand Est', 492],\n",
       "                                   [2015, 'Grand Est', 578],\n",
       "                                   [2016, 'Grand Est', 571],\n",
       "                                   [2017, 'Grand Est', 575],\n",
       "                                   [2018, 'Grand Est', 374],\n",
       "                                   [2019, 'Grand Est', 353],\n",
       "                                   [2020, 'Grand Est', 232],\n",
       "                                   [2021, 'Grand Est', 343]], dtype=object),\n",
       "              'hovertemplate': ('Année : %{customdata[0]}<br>Ré' ... \"d'accidents : %{customdata[2]}\"),\n",
       "              'legendgroup': 'Grand Est',\n",
       "              'line': {'color': '#19d3f3', 'dash': 'longdashdot'},\n",
       "              'marker': {'symbol': 'circle'},\n",
       "              'mode': 'lines+markers',\n",
       "              'name': 'Grand Est',\n",
       "              'orientation': 'v',\n",
       "              'showlegend': True,\n",
       "              'type': 'scatter',\n",
       "              'x': array([2005, 2006, 2007, 2008, 2009, 2010, 2011, 2012, 2013, 2014, 2015, 2016,\n",
       "                          2017, 2018, 2019, 2020, 2021], dtype=int64),\n",
       "              'xaxis': 'x',\n",
       "              'y': array([664, 636, 603, 688, 600, 506, 501, 422, 450, 492, 578, 571, 575, 374,\n",
       "                          353, 232, 343], dtype=int64),\n",
       "              'yaxis': 'y'},\n",
       "             {'customdata': array([[2005, 'Guadeloupe', 35],\n",
       "                                   [2006, 'Guadeloupe', 29],\n",
       "                                   [2007, 'Guadeloupe', 32],\n",
       "                                   [2008, 'Guadeloupe', 37],\n",
       "                                   [2009, 'Guadeloupe', 42],\n",
       "                                   [2010, 'Guadeloupe', 37],\n",
       "                                   [2011, 'Guadeloupe', 30],\n",
       "                                   [2012, 'Guadeloupe', 32],\n",
       "                                   [2013, 'Guadeloupe', 24],\n",
       "                                   [2014, 'Guadeloupe', 19],\n",
       "                                   [2015, 'Guadeloupe', 33],\n",
       "                                   [2016, 'Guadeloupe', 20],\n",
       "                                   [2017, 'Guadeloupe', 18],\n",
       "                                   [2018, 'Guadeloupe', 23],\n",
       "                                   [2019, 'Guadeloupe', 19],\n",
       "                                   [2020, 'Guadeloupe', 19],\n",
       "                                   [2021, 'Guadeloupe', 12]], dtype=object),\n",
       "              'hovertemplate': ('Année : %{customdata[0]}<br>Ré' ... \"d'accidents : %{customdata[2]}\"),\n",
       "              'legendgroup': 'Guadeloupe',\n",
       "              'line': {'color': '#FF6692', 'dash': 'solid'},\n",
       "              'marker': {'symbol': 'circle'},\n",
       "              'mode': 'lines+markers',\n",
       "              'name': 'Guadeloupe',\n",
       "              'orientation': 'v',\n",
       "              'showlegend': True,\n",
       "              'type': 'scatter',\n",
       "              'x': array([2005, 2006, 2007, 2008, 2009, 2010, 2011, 2012, 2013, 2014, 2015, 2016,\n",
       "                          2017, 2018, 2019, 2020, 2021], dtype=int64),\n",
       "              'xaxis': 'x',\n",
       "              'y': array([35, 29, 32, 37, 42, 37, 30, 32, 24, 19, 33, 20, 18, 23, 19, 19, 12],\n",
       "                         dtype=int64),\n",
       "              'yaxis': 'y'},\n",
       "             {'customdata': array([[2005, 'Guyane', 65],\n",
       "                                   [2006, 'Guyane', 75],\n",
       "                                   [2007, 'Guyane', 84],\n",
       "                                   [2008, 'Guyane', 61],\n",
       "                                   [2009, 'Guyane', 65],\n",
       "                                   [2010, 'Guyane', 38],\n",
       "                                   [2011, 'Guyane', 34],\n",
       "                                   [2012, 'Guyane', 52],\n",
       "                                   [2013, 'Guyane', 31],\n",
       "                                   [2014, 'Guyane', 35],\n",
       "                                   [2015, 'Guyane', 52],\n",
       "                                   [2016, 'Guyane', 69],\n",
       "                                   [2017, 'Guyane', 54],\n",
       "                                   [2018, 'Guyane', 27],\n",
       "                                   [2019, 'Guyane', 32],\n",
       "                                   [2020, 'Guyane', 17],\n",
       "                                   [2021, 'Guyane', 14]], dtype=object),\n",
       "              'hovertemplate': ('Année : %{customdata[0]}<br>Ré' ... \"d'accidents : %{customdata[2]}\"),\n",
       "              'legendgroup': 'Guyane',\n",
       "              'line': {'color': '#B6E880', 'dash': 'dot'},\n",
       "              'marker': {'symbol': 'circle'},\n",
       "              'mode': 'lines+markers',\n",
       "              'name': 'Guyane',\n",
       "              'orientation': 'v',\n",
       "              'showlegend': True,\n",
       "              'type': 'scatter',\n",
       "              'x': array([2005, 2006, 2007, 2008, 2009, 2010, 2011, 2012, 2013, 2014, 2015, 2016,\n",
       "                          2017, 2018, 2019, 2020, 2021], dtype=int64),\n",
       "              'xaxis': 'x',\n",
       "              'y': array([65, 75, 84, 61, 65, 38, 34, 52, 31, 35, 52, 69, 54, 27, 32, 17, 14],\n",
       "                         dtype=int64),\n",
       "              'yaxis': 'y'},\n",
       "             {'customdata': array([[2005, 'Hauts-de-France', 605],\n",
       "                                   [2006, 'Hauts-de-France', 577],\n",
       "                                   [2007, 'Hauts-de-France', 556],\n",
       "                                   [2008, 'Hauts-de-France', 462],\n",
       "                                   [2009, 'Hauts-de-France', 445],\n",
       "                                   [2010, 'Hauts-de-France', 413],\n",
       "                                   [2011, 'Hauts-de-France', 502],\n",
       "                                   [2012, 'Hauts-de-France', 449],\n",
       "                                   [2013, 'Hauts-de-France', 418],\n",
       "                                   [2014, 'Hauts-de-France', 316],\n",
       "                                   [2015, 'Hauts-de-France', 370],\n",
       "                                   [2016, 'Hauts-de-France', 306],\n",
       "                                   [2017, 'Hauts-de-France', 245],\n",
       "                                   [2018, 'Hauts-de-France', 135],\n",
       "                                   [2019, 'Hauts-de-France', 232],\n",
       "                                   [2020, 'Hauts-de-France', 221],\n",
       "                                   [2021, 'Hauts-de-France', 145]], dtype=object),\n",
       "              'hovertemplate': ('Année : %{customdata[0]}<br>Ré' ... \"d'accidents : %{customdata[2]}\"),\n",
       "              'legendgroup': 'Hauts-de-France',\n",
       "              'line': {'color': '#FF97FF', 'dash': 'dash'},\n",
       "              'marker': {'symbol': 'circle'},\n",
       "              'mode': 'lines+markers',\n",
       "              'name': 'Hauts-de-France',\n",
       "              'orientation': 'v',\n",
       "              'showlegend': True,\n",
       "              'type': 'scatter',\n",
       "              'x': array([2005, 2006, 2007, 2008, 2009, 2010, 2011, 2012, 2013, 2014, 2015, 2016,\n",
       "                          2017, 2018, 2019, 2020, 2021], dtype=int64),\n",
       "              'xaxis': 'x',\n",
       "              'y': array([605, 577, 556, 462, 445, 413, 502, 449, 418, 316, 370, 306, 245, 135,\n",
       "                          232, 221, 145], dtype=int64),\n",
       "              'yaxis': 'y'},\n",
       "             {'customdata': array([[2005, 'La Réunion', 82],\n",
       "                                   [2006, 'La Réunion', 90],\n",
       "                                   [2007, 'La Réunion', 94],\n",
       "                                   [2008, 'La Réunion', 83],\n",
       "                                   [2009, 'La Réunion', 87],\n",
       "                                   [2010, 'La Réunion', 77],\n",
       "                                   [2011, 'La Réunion', 107],\n",
       "                                   [2012, 'La Réunion', 105],\n",
       "                                   [2013, 'La Réunion', 77],\n",
       "                                   [2014, 'La Réunion', 79],\n",
       "                                   [2015, 'La Réunion', 69],\n",
       "                                   [2016, 'La Réunion', 47],\n",
       "                                   [2017, 'La Réunion', 49],\n",
       "                                   [2018, 'La Réunion', 52],\n",
       "                                   [2019, 'La Réunion', 45],\n",
       "                                   [2020, 'La Réunion', 31],\n",
       "                                   [2021, 'La Réunion', 34]], dtype=object),\n",
       "              'hovertemplate': ('Année : %{customdata[0]}<br>Ré' ... \"d'accidents : %{customdata[2]}\"),\n",
       "              'legendgroup': 'La Réunion',\n",
       "              'line': {'color': '#FECB52', 'dash': 'longdash'},\n",
       "              'marker': {'symbol': 'circle'},\n",
       "              'mode': 'lines+markers',\n",
       "              'name': 'La Réunion',\n",
       "              'orientation': 'v',\n",
       "              'showlegend': True,\n",
       "              'type': 'scatter',\n",
       "              'x': array([2005, 2006, 2007, 2008, 2009, 2010, 2011, 2012, 2013, 2014, 2015, 2016,\n",
       "                          2017, 2018, 2019, 2020, 2021], dtype=int64),\n",
       "              'xaxis': 'x',\n",
       "              'y': array([ 82,  90,  94,  83,  87,  77, 107, 105,  77,  79,  69,  47,  49,  52,\n",
       "                           45,  31,  34], dtype=int64),\n",
       "              'yaxis': 'y'},\n",
       "             {'customdata': array([[2005, 'Martinique', 30],\n",
       "                                   [2006, 'Martinique', 27],\n",
       "                                   [2007, 'Martinique', 39],\n",
       "                                   [2008, 'Martinique', 25],\n",
       "                                   [2009, 'Martinique', 29],\n",
       "                                   [2010, 'Martinique', 7],\n",
       "                                   [2011, 'Martinique', 18],\n",
       "                                   [2012, 'Martinique', 15],\n",
       "                                   [2013, 'Martinique', 6],\n",
       "                                   [2014, 'Martinique', 11],\n",
       "                                   [2015, 'Martinique', 23],\n",
       "                                   [2016, 'Martinique', 25],\n",
       "                                   [2017, 'Martinique', 17],\n",
       "                                   [2018, 'Martinique', 10],\n",
       "                                   [2019, 'Martinique', 5],\n",
       "                                   [2020, 'Martinique', 8],\n",
       "                                   [2021, 'Martinique', 6]], dtype=object),\n",
       "              'hovertemplate': ('Année : %{customdata[0]}<br>Ré' ... \"d'accidents : %{customdata[2]}\"),\n",
       "              'legendgroup': 'Martinique',\n",
       "              'line': {'color': '#636efa', 'dash': 'dashdot'},\n",
       "              'marker': {'symbol': 'circle'},\n",
       "              'mode': 'lines+markers',\n",
       "              'name': 'Martinique',\n",
       "              'orientation': 'v',\n",
       "              'showlegend': True,\n",
       "              'type': 'scatter',\n",
       "              'x': array([2005, 2006, 2007, 2008, 2009, 2010, 2011, 2012, 2013, 2014, 2015, 2016,\n",
       "                          2017, 2018, 2019, 2020, 2021], dtype=int64),\n",
       "              'xaxis': 'x',\n",
       "              'y': array([30, 27, 39, 25, 29,  7, 18, 15,  6, 11, 23, 25, 17, 10,  5,  8,  6],\n",
       "                         dtype=int64),\n",
       "              'yaxis': 'y'},\n",
       "             {'customdata': array([[2005, 'Normandie', 452],\n",
       "                                   [2006, 'Normandie', 475],\n",
       "                                   [2007, 'Normandie', 310],\n",
       "                                   [2008, 'Normandie', 330],\n",
       "                                   [2009, 'Normandie', 408],\n",
       "                                   [2010, 'Normandie', 376],\n",
       "                                   [2011, 'Normandie', 233],\n",
       "                                   [2012, 'Normandie', 262],\n",
       "                                   [2013, 'Normandie', 322],\n",
       "                                   [2014, 'Normandie', 441],\n",
       "                                   [2015, 'Normandie', 316],\n",
       "                                   [2016, 'Normandie', 456],\n",
       "                                   [2017, 'Normandie', 403],\n",
       "                                   [2018, 'Normandie', 108],\n",
       "                                   [2019, 'Normandie', 255],\n",
       "                                   [2020, 'Normandie', 152],\n",
       "                                   [2021, 'Normandie', 234]], dtype=object),\n",
       "              'hovertemplate': ('Année : %{customdata[0]}<br>Ré' ... \"d'accidents : %{customdata[2]}\"),\n",
       "              'legendgroup': 'Normandie',\n",
       "              'line': {'color': '#EF553B', 'dash': 'longdashdot'},\n",
       "              'marker': {'symbol': 'circle'},\n",
       "              'mode': 'lines+markers',\n",
       "              'name': 'Normandie',\n",
       "              'orientation': 'v',\n",
       "              'showlegend': True,\n",
       "              'type': 'scatter',\n",
       "              'x': array([2005, 2006, 2007, 2008, 2009, 2010, 2011, 2012, 2013, 2014, 2015, 2016,\n",
       "                          2017, 2018, 2019, 2020, 2021], dtype=int64),\n",
       "              'xaxis': 'x',\n",
       "              'y': array([452, 475, 310, 330, 408, 376, 233, 262, 322, 441, 316, 456, 403, 108,\n",
       "                          255, 152, 234], dtype=int64),\n",
       "              'yaxis': 'y'},\n",
       "             {'customdata': array([[2005, 'Nouvelle-Aquitaine', 718],\n",
       "                                   [2006, 'Nouvelle-Aquitaine', 674],\n",
       "                                   [2007, 'Nouvelle-Aquitaine', 755],\n",
       "                                   [2008, 'Nouvelle-Aquitaine', 765],\n",
       "                                   [2009, 'Nouvelle-Aquitaine', 641],\n",
       "                                   [2010, 'Nouvelle-Aquitaine', 655],\n",
       "                                   [2011, 'Nouvelle-Aquitaine', 657],\n",
       "                                   [2012, 'Nouvelle-Aquitaine', 633],\n",
       "                                   [2013, 'Nouvelle-Aquitaine', 581],\n",
       "                                   [2014, 'Nouvelle-Aquitaine', 572],\n",
       "                                   [2015, 'Nouvelle-Aquitaine', 679],\n",
       "                                   [2016, 'Nouvelle-Aquitaine', 657],\n",
       "                                   [2017, 'Nouvelle-Aquitaine', 734],\n",
       "                                   [2018, 'Nouvelle-Aquitaine', 407],\n",
       "                                   [2019, 'Nouvelle-Aquitaine', 383],\n",
       "                                   [2020, 'Nouvelle-Aquitaine', 141],\n",
       "                                   [2021, 'Nouvelle-Aquitaine', 280]], dtype=object),\n",
       "              'hovertemplate': ('Année : %{customdata[0]}<br>Ré' ... \"d'accidents : %{customdata[2]}\"),\n",
       "              'legendgroup': 'Nouvelle-Aquitaine',\n",
       "              'line': {'color': '#00cc96', 'dash': 'solid'},\n",
       "              'marker': {'symbol': 'circle'},\n",
       "              'mode': 'lines+markers',\n",
       "              'name': 'Nouvelle-Aquitaine',\n",
       "              'orientation': 'v',\n",
       "              'showlegend': True,\n",
       "              'type': 'scatter',\n",
       "              'x': array([2005, 2006, 2007, 2008, 2009, 2010, 2011, 2012, 2013, 2014, 2015, 2016,\n",
       "                          2017, 2018, 2019, 2020, 2021], dtype=int64),\n",
       "              'xaxis': 'x',\n",
       "              'y': array([718, 674, 755, 765, 641, 655, 657, 633, 581, 572, 679, 657, 734, 407,\n",
       "                          383, 141, 280], dtype=int64),\n",
       "              'yaxis': 'y'},\n",
       "             {'customdata': array([[2005, 'Occitanie', 426],\n",
       "                                   [2006, 'Occitanie', 712],\n",
       "                                   [2007, 'Occitanie', 483],\n",
       "                                   [2008, 'Occitanie', 433],\n",
       "                                   [2009, 'Occitanie', 434],\n",
       "                                   [2010, 'Occitanie', 400],\n",
       "                                   [2011, 'Occitanie', 443],\n",
       "                                   [2012, 'Occitanie', 389],\n",
       "                                   [2013, 'Occitanie', 358],\n",
       "                                   [2014, 'Occitanie', 451],\n",
       "                                   [2015, 'Occitanie', 311],\n",
       "                                   [2016, 'Occitanie', 358],\n",
       "                                   [2017, 'Occitanie', 347],\n",
       "                                   [2018, 'Occitanie', 291],\n",
       "                                   [2019, 'Occitanie', 278],\n",
       "                                   [2020, 'Occitanie', 216],\n",
       "                                   [2021, 'Occitanie', 299]], dtype=object),\n",
       "              'hovertemplate': ('Année : %{customdata[0]}<br>Ré' ... \"d'accidents : %{customdata[2]}\"),\n",
       "              'legendgroup': 'Occitanie',\n",
       "              'line': {'color': '#ab63fa', 'dash': 'dot'},\n",
       "              'marker': {'symbol': 'circle'},\n",
       "              'mode': 'lines+markers',\n",
       "              'name': 'Occitanie',\n",
       "              'orientation': 'v',\n",
       "              'showlegend': True,\n",
       "              'type': 'scatter',\n",
       "              'x': array([2005, 2006, 2007, 2008, 2009, 2010, 2011, 2012, 2013, 2014, 2015, 2016,\n",
       "                          2017, 2018, 2019, 2020, 2021], dtype=int64),\n",
       "              'xaxis': 'x',\n",
       "              'y': array([426, 712, 483, 433, 434, 400, 443, 389, 358, 451, 311, 358, 347, 291,\n",
       "                          278, 216, 299], dtype=int64),\n",
       "              'yaxis': 'y'},\n",
       "             {'customdata': array([[2005, 'Pays de la Loire', 352],\n",
       "                                   [2006, 'Pays de la Loire', 356],\n",
       "                                   [2007, 'Pays de la Loire', 381],\n",
       "                                   [2008, 'Pays de la Loire', 330],\n",
       "                                   [2009, 'Pays de la Loire', 298],\n",
       "                                   [2010, 'Pays de la Loire', 323],\n",
       "                                   [2011, 'Pays de la Loire', 406],\n",
       "                                   [2012, 'Pays de la Loire', 243],\n",
       "                                   [2013, 'Pays de la Loire', 266],\n",
       "                                   [2014, 'Pays de la Loire', 284],\n",
       "                                   [2015, 'Pays de la Loire', 277],\n",
       "                                   [2016, 'Pays de la Loire', 322],\n",
       "                                   [2017, 'Pays de la Loire', 345],\n",
       "                                   [2018, 'Pays de la Loire', 186],\n",
       "                                   [2019, 'Pays de la Loire', 181],\n",
       "                                   [2020, 'Pays de la Loire', 105],\n",
       "                                   [2021, 'Pays de la Loire', 125]], dtype=object),\n",
       "              'hovertemplate': ('Année : %{customdata[0]}<br>Ré' ... \"d'accidents : %{customdata[2]}\"),\n",
       "              'legendgroup': 'Pays de la Loire',\n",
       "              'line': {'color': '#FFA15A', 'dash': 'dash'},\n",
       "              'marker': {'symbol': 'circle'},\n",
       "              'mode': 'lines+markers',\n",
       "              'name': 'Pays de la Loire',\n",
       "              'orientation': 'v',\n",
       "              'showlegend': True,\n",
       "              'type': 'scatter',\n",
       "              'x': array([2005, 2006, 2007, 2008, 2009, 2010, 2011, 2012, 2013, 2014, 2015, 2016,\n",
       "                          2017, 2018, 2019, 2020, 2021], dtype=int64),\n",
       "              'xaxis': 'x',\n",
       "              'y': array([352, 356, 381, 330, 298, 323, 406, 243, 266, 284, 277, 322, 345, 186,\n",
       "                          181, 105, 125], dtype=int64),\n",
       "              'yaxis': 'y'},\n",
       "             {'customdata': array([[2005, \"Provence-Alpes-Côte d'Azur\", 439],\n",
       "                                   [2006, \"Provence-Alpes-Côte d'Azur\", 392],\n",
       "                                   [2007, \"Provence-Alpes-Côte d'Azur\", 376],\n",
       "                                   [2008, \"Provence-Alpes-Côte d'Azur\", 329],\n",
       "                                   [2009, \"Provence-Alpes-Côte d'Azur\", 297],\n",
       "                                   [2010, \"Provence-Alpes-Côte d'Azur\", 308],\n",
       "                                   [2011, \"Provence-Alpes-Côte d'Azur\", 285],\n",
       "                                   [2012, \"Provence-Alpes-Côte d'Azur\", 246],\n",
       "                                   [2013, \"Provence-Alpes-Côte d'Azur\", 296],\n",
       "                                   [2014, \"Provence-Alpes-Côte d'Azur\", 287],\n",
       "                                   [2015, \"Provence-Alpes-Côte d'Azur\", 293],\n",
       "                                   [2016, \"Provence-Alpes-Côte d'Azur\", 286],\n",
       "                                   [2017, \"Provence-Alpes-Côte d'Azur\", 288],\n",
       "                                   [2018, \"Provence-Alpes-Côte d'Azur\", 148],\n",
       "                                   [2019, \"Provence-Alpes-Côte d'Azur\", 87],\n",
       "                                   [2020, \"Provence-Alpes-Côte d'Azur\", 128],\n",
       "                                   [2021, \"Provence-Alpes-Côte d'Azur\", 182]], dtype=object),\n",
       "              'hovertemplate': ('Année : %{customdata[0]}<br>Ré' ... \"d'accidents : %{customdata[2]}\"),\n",
       "              'legendgroup': \"Provence-Alpes-Côte d'Azur\",\n",
       "              'line': {'color': '#19d3f3', 'dash': 'longdash'},\n",
       "              'marker': {'symbol': 'circle'},\n",
       "              'mode': 'lines+markers',\n",
       "              'name': \"Provence-Alpes-Côte d'Azur\",\n",
       "              'orientation': 'v',\n",
       "              'showlegend': True,\n",
       "              'type': 'scatter',\n",
       "              'x': array([2005, 2006, 2007, 2008, 2009, 2010, 2011, 2012, 2013, 2014, 2015, 2016,\n",
       "                          2017, 2018, 2019, 2020, 2021], dtype=int64),\n",
       "              'xaxis': 'x',\n",
       "              'y': array([439, 392, 376, 329, 297, 308, 285, 246, 296, 287, 293, 286, 288, 148,\n",
       "                           87, 128, 182], dtype=int64),\n",
       "              'yaxis': 'y'},\n",
       "             {'customdata': array([[2005, 'Île-de-France', 1188],\n",
       "                                   [2006, 'Île-de-France', 1367],\n",
       "                                   [2007, 'Île-de-France', 1654],\n",
       "                                   [2008, 'Île-de-France', 1462],\n",
       "                                   [2009, 'Île-de-France', 1465],\n",
       "                                   [2010, 'Île-de-France', 1296],\n",
       "                                   [2011, 'Île-de-France', 1423],\n",
       "                                   [2012, 'Île-de-France', 1328],\n",
       "                                   [2013, 'Île-de-France', 1380],\n",
       "                                   [2014, 'Île-de-France', 1529],\n",
       "                                   [2015, 'Île-de-France', 1418],\n",
       "                                   [2016, 'Île-de-France', 1445],\n",
       "                                   [2017, 'Île-de-France', 1386],\n",
       "                                   [2018, 'Île-de-France', 697],\n",
       "                                   [2019, 'Île-de-France', 980],\n",
       "                                   [2020, 'Île-de-France', 1186],\n",
       "                                   [2021, 'Île-de-France', 1159]], dtype=object),\n",
       "              'hovertemplate': ('Année : %{customdata[0]}<br>Ré' ... \"d'accidents : %{customdata[2]}\"),\n",
       "              'legendgroup': 'Île-de-France',\n",
       "              'line': {'color': '#FF6692', 'dash': 'dashdot'},\n",
       "              'marker': {'symbol': 'circle'},\n",
       "              'mode': 'lines+markers',\n",
       "              'name': 'Île-de-France',\n",
       "              'orientation': 'v',\n",
       "              'showlegend': True,\n",
       "              'type': 'scatter',\n",
       "              'x': array([2005, 2006, 2007, 2008, 2009, 2010, 2011, 2012, 2013, 2014, 2015, 2016,\n",
       "                          2017, 2018, 2019, 2020, 2021], dtype=int64),\n",
       "              'xaxis': 'x',\n",
       "              'y': array([1188, 1367, 1654, 1462, 1465, 1296, 1423, 1328, 1380, 1529, 1418, 1445,\n",
       "                          1386,  697,  980, 1186, 1159], dtype=int64),\n",
       "              'yaxis': 'y'},\n",
       "             {'customdata': array([[2012, 'Mayotte', 3],\n",
       "                                   [2014, 'Mayotte', 2],\n",
       "                                   [2015, 'Mayotte', 10],\n",
       "                                   [2016, 'Mayotte', 16],\n",
       "                                   [2017, 'Mayotte', 7],\n",
       "                                   [2018, 'Mayotte', 7],\n",
       "                                   [2019, 'Mayotte', 1],\n",
       "                                   [2020, 'Mayotte', 5],\n",
       "                                   [2021, 'Mayotte', 1]], dtype=object),\n",
       "              'hovertemplate': ('Année : %{customdata[0]}<br>Ré' ... \"d'accidents : %{customdata[2]}\"),\n",
       "              'legendgroup': 'Mayotte',\n",
       "              'line': {'color': '#B6E880', 'dash': 'longdashdot'},\n",
       "              'marker': {'symbol': 'circle'},\n",
       "              'mode': 'lines+markers',\n",
       "              'name': 'Mayotte',\n",
       "              'orientation': 'v',\n",
       "              'showlegend': True,\n",
       "              'type': 'scatter',\n",
       "              'x': array([2012, 2014, 2015, 2016, 2017, 2018, 2019, 2020, 2021], dtype=int64),\n",
       "              'xaxis': 'x',\n",
       "              'y': array([ 3,  2, 10, 16,  7,  7,  1,  5,  1], dtype=int64),\n",
       "              'yaxis': 'y'}],\n",
       "    'layout': {'height': 500,\n",
       "               'legend': {'title': {'text': 'region_name'}, 'tracegroupgap': 0},\n",
       "               'margin': {'b': 0, 'l': 0, 'r': 0, 't': 30},\n",
       "               'template': '...',\n",
       "               'title': {'font': {'color': 'black', 'family': 'Arial, sans-serif', 'size': 20},\n",
       "                         'text': \"<b>Évolution du nombre d'accidents de vélos</b>\",\n",
       "                         'x': 0.4,\n",
       "                         'xanchor': 'center',\n",
       "                         'y': 0.98,\n",
       "                         'yanchor': 'top'},\n",
       "               'width': 800,\n",
       "               'xaxis': {'anchor': 'y', 'domain': [0.0, 1.0], 'title': {'text': 'Année'}},\n",
       "               'yaxis': {'anchor': 'x', 'domain': [0.0, 1.0], 'title': {'text': \"Nombre d'accidents\"}}}\n",
       "}))"
      ]
     },
     "execution_count": 10,
     "metadata": {},
     "output_type": "execute_result"
    }
   ],
   "source": [
    "\n",
    "dcc.Graph(figure=fig.fig_seri_reg(fig.data))[0]"
   ]
  },
  {
   "cell_type": "code",
   "execution_count": 11,
   "id": "fe9d0744",
   "metadata": {},
   "outputs": [
    {
     "data": {
      "text/html": [
       "<div>\n",
       "<style scoped>\n",
       "    .dataframe tbody tr th:only-of-type {\n",
       "        vertical-align: middle;\n",
       "    }\n",
       "\n",
       "    .dataframe tbody tr th {\n",
       "        vertical-align: top;\n",
       "    }\n",
       "\n",
       "    .dataframe thead th {\n",
       "        text-align: right;\n",
       "    }\n",
       "</style>\n",
       "<table border=\"1\" class=\"dataframe\">\n",
       "  <thead>\n",
       "    <tr style=\"text-align: right;\">\n",
       "      <th></th>\n",
       "      <th>Unnamed: 0.1</th>\n",
       "      <th>Unnamed: 0</th>\n",
       "      <th>Num_Acc</th>\n",
       "      <th>date</th>\n",
       "      <th>an</th>\n",
       "      <th>mois</th>\n",
       "      <th>jour</th>\n",
       "      <th>hrmn</th>\n",
       "      <th>dep</th>\n",
       "      <th>com</th>\n",
       "      <th>...</th>\n",
       "      <th>_infos_commune.code_epci</th>\n",
       "      <th>code_postal</th>\n",
       "      <th>nom_commune_postal</th>\n",
       "      <th>latitude</th>\n",
       "      <th>longitude</th>\n",
       "      <th>nom_commune</th>\n",
       "      <th>nom_commune_complet</th>\n",
       "      <th>num_dep</th>\n",
       "      <th>dep_name</th>\n",
       "      <th>region_name</th>\n",
       "    </tr>\n",
       "  </thead>\n",
       "  <tbody>\n",
       "    <tr>\n",
       "      <th>0</th>\n",
       "      <td>0</td>\n",
       "      <td>0</td>\n",
       "      <td>200500000030</td>\n",
       "      <td>2005-01-13</td>\n",
       "      <td>2005</td>\n",
       "      <td>janvier</td>\n",
       "      <td>jeudi</td>\n",
       "      <td>19:45</td>\n",
       "      <td>62</td>\n",
       "      <td>62331</td>\n",
       "      <td>...</td>\n",
       "      <td>200033579.0</td>\n",
       "      <td>NaN</td>\n",
       "      <td>NaN</td>\n",
       "      <td>NaN</td>\n",
       "      <td>NaN</td>\n",
       "      <td>non renseigné</td>\n",
       "      <td>NaN</td>\n",
       "      <td>62</td>\n",
       "      <td>Pas-de-Calais</td>\n",
       "      <td>Hauts-de-France</td>\n",
       "    </tr>\n",
       "    <tr>\n",
       "      <th>1</th>\n",
       "      <td>1</td>\n",
       "      <td>1</td>\n",
       "      <td>200500000034</td>\n",
       "      <td>2005-01-19</td>\n",
       "      <td>2005</td>\n",
       "      <td>janvier</td>\n",
       "      <td>mercredi</td>\n",
       "      <td>10:45</td>\n",
       "      <td>62</td>\n",
       "      <td>62022</td>\n",
       "      <td>...</td>\n",
       "      <td>200018083.0</td>\n",
       "      <td>NaN</td>\n",
       "      <td>NaN</td>\n",
       "      <td>NaN</td>\n",
       "      <td>NaN</td>\n",
       "      <td>non renseigné</td>\n",
       "      <td>NaN</td>\n",
       "      <td>62</td>\n",
       "      <td>Pas-de-Calais</td>\n",
       "      <td>Hauts-de-France</td>\n",
       "    </tr>\n",
       "    <tr>\n",
       "      <th>2</th>\n",
       "      <td>2</td>\n",
       "      <td>2</td>\n",
       "      <td>200500000078</td>\n",
       "      <td>2005-01-26</td>\n",
       "      <td>2005</td>\n",
       "      <td>janvier</td>\n",
       "      <td>mercredi</td>\n",
       "      <td>13:15</td>\n",
       "      <td>02</td>\n",
       "      <td>02173</td>\n",
       "      <td>...</td>\n",
       "      <td>200071785.0</td>\n",
       "      <td>NaN</td>\n",
       "      <td>NaN</td>\n",
       "      <td>NaN</td>\n",
       "      <td>NaN</td>\n",
       "      <td>non renseigné</td>\n",
       "      <td>NaN</td>\n",
       "      <td>02</td>\n",
       "      <td>Aisne</td>\n",
       "      <td>Hauts-de-France</td>\n",
       "    </tr>\n",
       "    <tr>\n",
       "      <th>3</th>\n",
       "      <td>3</td>\n",
       "      <td>3</td>\n",
       "      <td>200500000093</td>\n",
       "      <td>2005-01-03</td>\n",
       "      <td>2005</td>\n",
       "      <td>janvier</td>\n",
       "      <td>lundi</td>\n",
       "      <td>13:30</td>\n",
       "      <td>02</td>\n",
       "      <td>02810</td>\n",
       "      <td>...</td>\n",
       "      <td>200071991.0</td>\n",
       "      <td>NaN</td>\n",
       "      <td>NaN</td>\n",
       "      <td>NaN</td>\n",
       "      <td>NaN</td>\n",
       "      <td>non renseigné</td>\n",
       "      <td>NaN</td>\n",
       "      <td>02</td>\n",
       "      <td>Aisne</td>\n",
       "      <td>Hauts-de-France</td>\n",
       "    </tr>\n",
       "    <tr>\n",
       "      <th>4</th>\n",
       "      <td>4</td>\n",
       "      <td>4</td>\n",
       "      <td>200500000170</td>\n",
       "      <td>2005-01-29</td>\n",
       "      <td>2005</td>\n",
       "      <td>janvier</td>\n",
       "      <td>samedi</td>\n",
       "      <td>18:30</td>\n",
       "      <td>76</td>\n",
       "      <td>76196</td>\n",
       "      <td>...</td>\n",
       "      <td>200084952.0</td>\n",
       "      <td>NaN</td>\n",
       "      <td>NaN</td>\n",
       "      <td>NaN</td>\n",
       "      <td>NaN</td>\n",
       "      <td>non renseigné</td>\n",
       "      <td>NaN</td>\n",
       "      <td>76</td>\n",
       "      <td>Seine-Maritime</td>\n",
       "      <td>Normandie</td>\n",
       "    </tr>\n",
       "    <tr>\n",
       "      <th>...</th>\n",
       "      <td>...</td>\n",
       "      <td>...</td>\n",
       "      <td>...</td>\n",
       "      <td>...</td>\n",
       "      <td>...</td>\n",
       "      <td>...</td>\n",
       "      <td>...</td>\n",
       "      <td>...</td>\n",
       "      <td>...</td>\n",
       "      <td>...</td>\n",
       "      <td>...</td>\n",
       "      <td>...</td>\n",
       "      <td>...</td>\n",
       "      <td>...</td>\n",
       "      <td>...</td>\n",
       "      <td>...</td>\n",
       "      <td>...</td>\n",
       "      <td>...</td>\n",
       "      <td>...</td>\n",
       "      <td>...</td>\n",
       "      <td>...</td>\n",
       "    </tr>\n",
       "    <tr>\n",
       "      <th>94044</th>\n",
       "      <td>94044</td>\n",
       "      <td>94044</td>\n",
       "      <td>202100056508</td>\n",
       "      <td>2021-01-01</td>\n",
       "      <td>2021</td>\n",
       "      <td>janvier</td>\n",
       "      <td>vendredi</td>\n",
       "      <td>12:20</td>\n",
       "      <td>64</td>\n",
       "      <td>64400</td>\n",
       "      <td>...</td>\n",
       "      <td>246401756.0</td>\n",
       "      <td>64400.0</td>\n",
       "      <td>POEY D OLORON</td>\n",
       "      <td>43.246755</td>\n",
       "      <td>-0.663214</td>\n",
       "      <td>Poey-d'Oloron</td>\n",
       "      <td>Poey-d'Oloron</td>\n",
       "      <td>64</td>\n",
       "      <td>Pyrénées-Atlantiques</td>\n",
       "      <td>Nouvelle-Aquitaine</td>\n",
       "    </tr>\n",
       "    <tr>\n",
       "      <th>94045</th>\n",
       "      <td>94045</td>\n",
       "      <td>94045</td>\n",
       "      <td>202100056508</td>\n",
       "      <td>2021-01-01</td>\n",
       "      <td>2021</td>\n",
       "      <td>janvier</td>\n",
       "      <td>vendredi</td>\n",
       "      <td>12:20</td>\n",
       "      <td>64</td>\n",
       "      <td>64400</td>\n",
       "      <td>...</td>\n",
       "      <td>246401756.0</td>\n",
       "      <td>64400.0</td>\n",
       "      <td>PRECILHON</td>\n",
       "      <td>43.195778</td>\n",
       "      <td>-0.572974</td>\n",
       "      <td>Précilhon</td>\n",
       "      <td>Précilhon</td>\n",
       "      <td>64</td>\n",
       "      <td>Pyrénées-Atlantiques</td>\n",
       "      <td>Nouvelle-Aquitaine</td>\n",
       "    </tr>\n",
       "    <tr>\n",
       "      <th>94046</th>\n",
       "      <td>94046</td>\n",
       "      <td>94046</td>\n",
       "      <td>202100056508</td>\n",
       "      <td>2021-01-01</td>\n",
       "      <td>2021</td>\n",
       "      <td>janvier</td>\n",
       "      <td>vendredi</td>\n",
       "      <td>12:20</td>\n",
       "      <td>64</td>\n",
       "      <td>64400</td>\n",
       "      <td>...</td>\n",
       "      <td>246401756.0</td>\n",
       "      <td>64400.0</td>\n",
       "      <td>ST GOIN</td>\n",
       "      <td>43.231201</td>\n",
       "      <td>-0.725099</td>\n",
       "      <td>Saint-Goin</td>\n",
       "      <td>Saint-Goin</td>\n",
       "      <td>64</td>\n",
       "      <td>Pyrénées-Atlantiques</td>\n",
       "      <td>Nouvelle-Aquitaine</td>\n",
       "    </tr>\n",
       "    <tr>\n",
       "      <th>94047</th>\n",
       "      <td>94047</td>\n",
       "      <td>94047</td>\n",
       "      <td>202100056508</td>\n",
       "      <td>2021-01-01</td>\n",
       "      <td>2021</td>\n",
       "      <td>janvier</td>\n",
       "      <td>vendredi</td>\n",
       "      <td>12:20</td>\n",
       "      <td>64</td>\n",
       "      <td>64400</td>\n",
       "      <td>...</td>\n",
       "      <td>246401756.0</td>\n",
       "      <td>64400.0</td>\n",
       "      <td>SAUCEDE</td>\n",
       "      <td>43.265674</td>\n",
       "      <td>-0.669442</td>\n",
       "      <td>Saucède</td>\n",
       "      <td>Saucède</td>\n",
       "      <td>64</td>\n",
       "      <td>Pyrénées-Atlantiques</td>\n",
       "      <td>Nouvelle-Aquitaine</td>\n",
       "    </tr>\n",
       "    <tr>\n",
       "      <th>94048</th>\n",
       "      <td>94048</td>\n",
       "      <td>94048</td>\n",
       "      <td>202100056508</td>\n",
       "      <td>2021-01-01</td>\n",
       "      <td>2021</td>\n",
       "      <td>janvier</td>\n",
       "      <td>vendredi</td>\n",
       "      <td>12:20</td>\n",
       "      <td>64</td>\n",
       "      <td>64400</td>\n",
       "      <td>...</td>\n",
       "      <td>246401756.0</td>\n",
       "      <td>64400.0</td>\n",
       "      <td>VERDETS</td>\n",
       "      <td>43.232186</td>\n",
       "      <td>-0.642308</td>\n",
       "      <td>Verdets</td>\n",
       "      <td>Verdets</td>\n",
       "      <td>64</td>\n",
       "      <td>Pyrénées-Atlantiques</td>\n",
       "      <td>Nouvelle-Aquitaine</td>\n",
       "    </tr>\n",
       "  </tbody>\n",
       "</table>\n",
       "<p>94049 rows × 51 columns</p>\n",
       "</div>"
      ],
      "text/plain": [
       "       Unnamed: 0.1  Unnamed: 0       Num_Acc        date    an     mois  \\\n",
       "0                 0           0  200500000030  2005-01-13  2005  janvier   \n",
       "1                 1           1  200500000034  2005-01-19  2005  janvier   \n",
       "2                 2           2  200500000078  2005-01-26  2005  janvier   \n",
       "3                 3           3  200500000093  2005-01-03  2005  janvier   \n",
       "4                 4           4  200500000170  2005-01-29  2005  janvier   \n",
       "...             ...         ...           ...         ...   ...      ...   \n",
       "94044         94044       94044  202100056508  2021-01-01  2021  janvier   \n",
       "94045         94045       94045  202100056508  2021-01-01  2021  janvier   \n",
       "94046         94046       94046  202100056508  2021-01-01  2021  janvier   \n",
       "94047         94047       94047  202100056508  2021-01-01  2021  janvier   \n",
       "94048         94048       94048  202100056508  2021-01-01  2021  janvier   \n",
       "\n",
       "           jour   hrmn dep    com  ...  _infos_commune.code_epci  code_postal  \\\n",
       "0         jeudi  19:45  62  62331  ...               200033579.0          NaN   \n",
       "1      mercredi  10:45  62  62022  ...               200018083.0          NaN   \n",
       "2      mercredi  13:15  02  02173  ...               200071785.0          NaN   \n",
       "3         lundi  13:30  02  02810  ...               200071991.0          NaN   \n",
       "4        samedi  18:30  76  76196  ...               200084952.0          NaN   \n",
       "...         ...    ...  ..    ...  ...                       ...          ...   \n",
       "94044  vendredi  12:20  64  64400  ...               246401756.0      64400.0   \n",
       "94045  vendredi  12:20  64  64400  ...               246401756.0      64400.0   \n",
       "94046  vendredi  12:20  64  64400  ...               246401756.0      64400.0   \n",
       "94047  vendredi  12:20  64  64400  ...               246401756.0      64400.0   \n",
       "94048  vendredi  12:20  64  64400  ...               246401756.0      64400.0   \n",
       "\n",
       "      nom_commune_postal   latitude longitude    nom_commune  \\\n",
       "0                    NaN        NaN       NaN  non renseigné   \n",
       "1                    NaN        NaN       NaN  non renseigné   \n",
       "2                    NaN        NaN       NaN  non renseigné   \n",
       "3                    NaN        NaN       NaN  non renseigné   \n",
       "4                    NaN        NaN       NaN  non renseigné   \n",
       "...                  ...        ...       ...            ...   \n",
       "94044      POEY D OLORON  43.246755 -0.663214  Poey-d'Oloron   \n",
       "94045          PRECILHON  43.195778 -0.572974      Précilhon   \n",
       "94046            ST GOIN  43.231201 -0.725099     Saint-Goin   \n",
       "94047            SAUCEDE  43.265674 -0.669442        Saucède   \n",
       "94048            VERDETS  43.232186 -0.642308        Verdets   \n",
       "\n",
       "      nom_commune_complet num_dep              dep_name         region_name  \n",
       "0                     NaN      62         Pas-de-Calais     Hauts-de-France  \n",
       "1                     NaN      62         Pas-de-Calais     Hauts-de-France  \n",
       "2                     NaN      02                 Aisne     Hauts-de-France  \n",
       "3                     NaN      02                 Aisne     Hauts-de-France  \n",
       "4                     NaN      76        Seine-Maritime           Normandie  \n",
       "...                   ...     ...                   ...                 ...  \n",
       "94044       Poey-d'Oloron      64  Pyrénées-Atlantiques  Nouvelle-Aquitaine  \n",
       "94045           Précilhon      64  Pyrénées-Atlantiques  Nouvelle-Aquitaine  \n",
       "94046          Saint-Goin      64  Pyrénées-Atlantiques  Nouvelle-Aquitaine  \n",
       "94047             Saucède      64  Pyrénées-Atlantiques  Nouvelle-Aquitaine  \n",
       "94048             Verdets      64  Pyrénées-Atlantiques  Nouvelle-Aquitaine  \n",
       "\n",
       "[94049 rows x 51 columns]"
      ]
     },
     "execution_count": 11,
     "metadata": {},
     "output_type": "execute_result"
    }
   ],
   "source": [
    "fig.data"
   ]
  }
 ],
 "metadata": {
  "kernelspec": {
   "display_name": "Python 3 (ipykernel)",
   "language": "python",
   "name": "python3"
  },
  "language_info": {
   "codemirror_mode": {
    "name": "ipython",
    "version": 3
   },
   "file_extension": ".py",
   "mimetype": "text/x-python",
   "name": "python",
   "nbconvert_exporter": "python",
   "pygments_lexer": "ipython3",
   "version": "3.12.0"
  }
 },
 "nbformat": 4,
 "nbformat_minor": 5
}
