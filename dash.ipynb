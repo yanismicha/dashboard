{
 "cells": [
  {
   "cell_type": "markdown",
   "id": "af552854-3f7c-4f62-8939-f4aac9d1de35",
   "metadata": {},
   "source": [
    "# notre appli"
   ]
  },
  {
   "cell_type": "code",
   "execution_count": 2,
   "id": "7cfc7d04",
   "metadata": {},
   "outputs": [],
   "source": [
    "import dash\n",
    "import dash_bootstrap_components as dbc\n",
    "from dash import Input, Output, State, dcc, html, Dash,dcc,html,callback\n",
    "import pandas as pd \n",
    "import plotly.express as px\n",
    "import Functions_dash as Fun\n",
    "import content as cont\n",
    "import pages as pag"
   ]
  },
  {
   "cell_type": "code",
   "execution_count": 4,
   "id": "3223d9f1",
   "metadata": {},
   "outputs": [
    {
     "name": "stdout",
     "output_type": "stream",
     "text": [
      "Dash app running on http://127.0.0.1:8050/\n"
     ]
    }
   ],
   "source": [
    "# link fontawesome to get the chevron icons\n",
    "app = dash.Dash(\n",
    "    external_stylesheets=[dbc.themes.BOOTSTRAP, dbc.icons.FONT_AWESOME],\n",
    "    suppress_callback_exceptions=True # If components are constructed by callbacks\n",
    ")\n",
    "\n",
    "# Bar noir en haut de page\n",
    "navbar = dbc.NavbarSimple(\n",
    "    children=[\n",
    "        dbc.Button(\"Menu\", outline=True, color=\"secondary\", className=\"mr-1\", id=\"btn_sidebar\"), # Bouton pour le menu\n",
    "    ],\n",
    "    brand=\"\",\n",
    "    brand_href=\"#\",\n",
    "    color=\"dark\",\n",
    "    dark=True,\n",
    "    fluid=True,\n",
    "    links_left= True,\n",
    ")\n",
    "\n",
    "# Menus déplient 1\n",
    "submenu_1 = [\n",
    "    html.Li(\n",
    "        # use Row and Col components to position the chevrons\n",
    "        dbc.Row(\n",
    "            [\n",
    "                dbc.Col(\"Menu 1\"),\n",
    "                dbc.Col(\n",
    "                    html.I(className=\"fas fa-chevron-right me-3\"),\n",
    "                    width=\"auto\",\n",
    "                ),\n",
    "            ],\n",
    "            className=\"my-1\",\n",
    "        ),\n",
    "        style={\"cursor\": \"pointer\"},\n",
    "        id=\"submenu-1\",\n",
    "    ),\n",
    "    # we use the Collapse component to hide and reveal the navigation links\n",
    "    dbc.Collapse(\n",
    "        [\n",
    "            dbc.NavLink(\"Page principle\", href=\"/page-main\"), # Page d'acceuil\n",
    "            dbc.NavLink(\"Carte des accidents en France\", href=\"/page-map\"), # Map page\n",
    "        ],\n",
    "        id=\"submenu-1-collapse\",\n",
    "    ),\n",
    "]\n",
    "\n",
    "# Menu déplient 2\n",
    "submenu_2 = [\n",
    "    html.Li(\n",
    "        dbc.Row(\n",
    "            [\n",
    "                dbc.Col(\"Menu 2\"),\n",
    "                dbc.Col(\n",
    "                    html.I(className=\"fas fa-chevron-right me-3\"),\n",
    "                    width=\"auto\",\n",
    "                ),\n",
    "            ],\n",
    "            className=\"my-1\",\n",
    "        ),\n",
    "        style={\"cursor\": \"pointer\"},\n",
    "        id=\"submenu-2\",\n",
    "    ),\n",
    "    dbc.Collapse(\n",
    "        [\n",
    "            dbc.NavLink(\"Page 2.1\", href=\"/page-2/1\"),\n",
    "            dbc.NavLink(\"Page 2.2\", href=\"/page-2/2\"),\n",
    "        ],\n",
    "        id=\"submenu-2-collapse\",\n",
    "    ),\n",
    "]\n",
    "\n",
    "# Div contenent le menu déplient\n",
    "sidebar = html.Div(\n",
    "    [\n",
    "        html.H2(\"Sidebar\", className=\"display-4\"),\n",
    "        html.Hr(),\n",
    "        html.P(\n",
    "            \"A sidebar with collapsible navigation links\", className=\"lead\"\n",
    "        ),\n",
    "        dbc.Nav(submenu_1 + submenu_2, vertical=True),\n",
    "    ],\n",
    "    style=cont.SIDEBAR_STYLE,\n",
    "    id=\"sidebar\",\n",
    ")\n",
    "\n",
    "# Div racine de la page\n",
    "app.layout = html.Div(\n",
    "    [\n",
    "        dcc.Store(id='side_click'),\n",
    "        dcc.Location(id=\"url\"),\n",
    "        navbar,\n",
    "        sidebar,\n",
    "        html.Div(id=\"page-content\", style=cont.CONTENT_STYLE), # Elément qui contien la page principale\n",
    "    ],\n",
    ")\n",
    "\n",
    "# Fonction qui appel toute les fonction callback qui sont dans le fichier Fonction_dash.py\n",
    "Fun.get_callbacks(app)\n",
    "\n",
    "\n",
    "\n",
    "if __name__ == \"__main__\":\n",
    "    app.run_server(debug=True,jupyter_mode=\"external\")"
   ]
  },
  {
   "cell_type": "markdown",
   "id": "ff4bc996",
   "metadata": {},
   "source": [
    "## Temp storage\n",
    "### Number bar children"
   ]
  },
  {
   "cell_type": "code",
   "execution_count": null,
   "id": "055d015f",
   "metadata": {},
   "outputs": [],
   "source": [
    "dbc.Row(\n",
    "                        [\n",
    "                            dbc.Col(cont.nb_total, width=3),\n",
    "                            dbc.Col(cont.nb_mort, width=3),\n",
    "                            dbc.Col(cont.nb_hospital, width=3),\n",
    "                            dbc.Col(\"Info 4\", width=3),\n",
    "                        ],\n",
    "                    ),"
   ]
  }
 ],
 "metadata": {
  "kernelspec": {
   "display_name": "Python 3 (ipykernel)",
   "language": "python",
   "name": "python3"
  },
  "language_info": {
   "codemirror_mode": {
    "name": "ipython",
    "version": 3
   },
   "file_extension": ".py",
   "mimetype": "text/x-python",
   "name": "python",
   "nbconvert_exporter": "python",
   "pygments_lexer": "ipython3",
   "version": "3.12.0"
  }
 },
 "nbformat": 4,
 "nbformat_minor": 5
}
